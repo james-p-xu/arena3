{
  "cells": [
    {
      "cell_type": "markdown",
      "metadata": {
        "id": "sRrD2AbyMwmP"
      },
      "source": [
        "# [1.1] - Transformers from scratch\n"
      ]
    },
    {
      "cell_type": "markdown",
      "metadata": {
        "id": "usCBu-Op2CeU"
      },
      "source": [
        "Colab: [exercises](https://colab.research.google.com/drive/1lDwKASSYGE4y_7DuGSqlo3DN41NHrXEw?usp=sharing) | [solutions](https://colab.research.google.com/drive/1bZkkJd8pAVnSN23svyszZ3f4WrnYKN_3?usp=sharing)\n",
        "\n",
        "[Streamlit page](https://arena3-chapter1-transformer-interp.streamlit.app/[1.1]_Transformer_from_Scratch)\n",
        "\n",
        "Please send any problems / bugs on the `#errata` channel in the [Slack group](https://join.slack.com/t/arena-uk/shared_invite/zt-28h0xs49u-ZN9ZDbGXl~oCorjbBsSQag), and ask any questions on the dedicated channels for this chapter of material."
      ]
    },
    {
      "cell_type": "markdown",
      "metadata": {
        "id": "9XdSGDOH2qtL"
      },
      "source": [
        "<img src=\"https://raw.githubusercontent.com/callummcdougall/TransformerLens-intro/main/images/page_images/transformer-building.png\" width=\"350\">\n"
      ]
    },
    {
      "cell_type": "markdown",
      "metadata": {
        "id": "Ny4PdCRf3YPu"
      },
      "source": [
        "# Introduction"
      ]
    },
    {
      "cell_type": "markdown",
      "metadata": {
        "id": "IGQQ6Sm7fHNm"
      },
      "source": [
        "This is a clean, first principles implementation of GPT-2 in PyTorch. The architectural choices closely follow those used by the TransformerLens library (which you'll be using a lot more in later exercises).\n",
        "\n",
        "The exercises are written to accompany Neel Nanda's [TransformerLens library](https://github.com/neelnanda-io/TransformerLens) for doing mechanistic interpretability research on GPT-2 style language models. We'll be working with this library extensively in this chapter of the course.\n",
        "\n",
        "Each exercise will have a difficulty and importance rating out of 5, as well as an estimated maximum time you should spend on these exercises and sometimes a short annotation. You should interpret the ratings & time estimates relatively (e.g. if you find yourself spending about 50% longer on the exercises than the time estimates, adjust accordingly). Please do skip exercises / look at solutions if you don't feel like they're important enough to be worth doing, and you'd rather get to the good stuff!\n"
      ]
    },
    {
      "cell_type": "markdown",
      "metadata": {
        "id": "ugWVaR9Gm4Rw"
      },
      "source": [
        "## Content & Learning Objectives\n"
      ]
    },
    {
      "cell_type": "markdown",
      "metadata": {
        "id": "jzS18i5wfHNm"
      },
      "source": [
        "#### 1️⃣ Understanding Inputs & Outputs of a Transformer\n",
        "\n",
        "In this section, we'll take a first look at transformers - what their function is, how information moves inside a transformer, and what inputs & outputs they take.\n",
        "\n",
        "> ##### Learning objectives\n",
        ">\n",
        "> - Understand what a transformer is used for\n",
        "> - Understand causal attention, and what a transformer's output representsalgebra operations on tensors\n",
        "> - Learn what tokenization is, and how models do it\n",
        "> - Understand what logits are, and how to use them to derive a probability distribution over the vocabulary\n",
        "\n",
        "#### 2️⃣ Clean Transformer Implementation\n",
        "\n",
        "Here, we'll implement a transformer from scratch, using only PyTorch's tensor operations. This will give us a good understanding of how transformers work, and how to use them. We do this by going module-by-module, in an experience which should feel somewhat similar to last week's ResNet exercises. Much like with ResNets, you'll conclude by loading in pretrained weights and verifying that your model works as expected.\n",
        "\n",
        "> ##### Learning objectives\n",
        ">\n",
        "> * Understand that a transformer is composed of attention heads and MLPs, with each one performing operations on the residual stream\n",
        "> * Understand that the attention heads in a single layer operate independently, and that they have the role of calculating attention patterns (which determine where information is moved to & from in the residual stream)\n",
        "> * Learn about & implement the following transformer modules:\n",
        ">     * LayerNorm (transforming the input to have zero mean and unit variance)\n",
        ">     * Positional embedding (a lookup table from position indices to residual stream vectors)\n",
        ">     * Attention (the method of computing attention patterns for residual stream vectors)\n",
        ">     * MLP (the collection of linear and nonlinear transformations which operate on each residual stream vector in the same way)\n",
        ">     * Embedding (a lookup table from tokens to residual stream vectors)\n",
        ">     * Unembedding (a matrix for converting residual stream vectors into a distribution over tokens)\n",
        "\n",
        "#### 3️⃣ Training a Transformer\n",
        "\n",
        "Next, you'll learn how to train your transformer from scratch. This will be quite similar to the training loops you wrote for ResNet in your first week.\n",
        "\n",
        "> ##### Learning objectives\n",
        ">\n",
        "> * Understand how to train a transformer from scratch\n",
        "> * Write a basic transformer training loop\n",
        "> * Interpret the transformer's falling cross entropy loss with reference to features of the training data (e.g. bigram frequencies)\n",
        "\n",
        "#### 4️⃣ Sampling from a Transformer\n",
        "\n",
        "Lastly, you'll learn how to sample from a transformer. This will involve implementing a few different sampling methods, and writing a caching system which can reuse computations from previous forward passes to improve your model's text generation speed.\n",
        "\n",
        "*The second half of this section is less important, and you can skip it if you want.*\n",
        "\n",
        "> ##### Learning objectives\n",
        ">\n",
        "> * Learn how to sample from a transformer\n",
        ">     * This includes basic methods like greedy search or top-k, and more advanced methods like beam search\n",
        "> * Learn how to cache the output of a transformer, so that it can be used to generate text more efficiently\n",
        ">     * Optionally, rewrite your sampling functions to make use of your caching methods\n"
      ]
    },
    {
      "cell_type": "markdown",
      "metadata": {
        "id": "3mItbKVVm4Rx"
      },
      "source": [
        "## Setup (don't read, just run!)\n"
      ]
    },
    {
      "cell_type": "code",
      "execution_count": 1,
      "metadata": {
        "colab": {
          "base_uri": "https://localhost:8080/"
        },
        "id": "P_ngQtCbm4Rx",
        "outputId": "fa668303-1e6e-4554-c354-d00d3a815996"
      },
      "outputs": [
        {
          "output_type": "stream",
          "name": "stdout",
          "text": [
            "Requirement already satisfied: transformer_lens in /usr/local/lib/python3.10/dist-packages (2.3.0)\n",
            "Requirement already satisfied: accelerate>=0.23.0 in /usr/local/lib/python3.10/dist-packages (from transformer_lens) (0.32.1)\n",
            "Requirement already satisfied: beartype<0.15.0,>=0.14.1 in /usr/local/lib/python3.10/dist-packages (from transformer_lens) (0.14.1)\n",
            "Requirement already satisfied: better-abc<0.0.4,>=0.0.3 in /usr/local/lib/python3.10/dist-packages (from transformer_lens) (0.0.3)\n",
            "Requirement already satisfied: datasets>=2.7.1 in /usr/local/lib/python3.10/dist-packages (from transformer_lens) (2.20.0)\n",
            "Requirement already satisfied: einops>=0.6.0 in /usr/local/lib/python3.10/dist-packages (from transformer_lens) (0.8.0)\n",
            "Requirement already satisfied: fancy-einsum>=0.0.3 in /usr/local/lib/python3.10/dist-packages (from transformer_lens) (0.0.3)\n",
            "Requirement already satisfied: jaxtyping>=0.2.11 in /usr/local/lib/python3.10/dist-packages (from transformer_lens) (0.2.33)\n",
            "Requirement already satisfied: numpy>=1.24 in /usr/local/lib/python3.10/dist-packages (from transformer_lens) (1.26.4)\n",
            "Requirement already satisfied: pandas>=1.1.5 in /usr/local/lib/python3.10/dist-packages (from transformer_lens) (2.1.4)\n",
            "Requirement already satisfied: rich>=12.6.0 in /usr/local/lib/python3.10/dist-packages (from transformer_lens) (13.7.1)\n",
            "Requirement already satisfied: sentencepiece in /usr/local/lib/python3.10/dist-packages (from transformer_lens) (0.1.99)\n",
            "Requirement already satisfied: torch>=1.10 in /usr/local/lib/python3.10/dist-packages (from transformer_lens) (2.3.1+cu121)\n",
            "Requirement already satisfied: tqdm>=4.64.1 in /usr/local/lib/python3.10/dist-packages (from transformer_lens) (4.66.4)\n",
            "Requirement already satisfied: transformers>=4.37.2 in /usr/local/lib/python3.10/dist-packages (from transformer_lens) (4.42.4)\n",
            "Requirement already satisfied: typing-extensions in /usr/local/lib/python3.10/dist-packages (from transformer_lens) (4.12.2)\n",
            "Requirement already satisfied: wandb>=0.13.5 in /usr/local/lib/python3.10/dist-packages (from transformer_lens) (0.17.5)\n",
            "Requirement already satisfied: packaging>=20.0 in /usr/local/lib/python3.10/dist-packages (from accelerate>=0.23.0->transformer_lens) (24.1)\n",
            "Requirement already satisfied: psutil in /usr/local/lib/python3.10/dist-packages (from accelerate>=0.23.0->transformer_lens) (5.9.5)\n",
            "Requirement already satisfied: pyyaml in /usr/local/lib/python3.10/dist-packages (from accelerate>=0.23.0->transformer_lens) (6.0.1)\n",
            "Requirement already satisfied: huggingface-hub in /usr/local/lib/python3.10/dist-packages (from accelerate>=0.23.0->transformer_lens) (0.23.5)\n",
            "Requirement already satisfied: safetensors>=0.3.1 in /usr/local/lib/python3.10/dist-packages (from accelerate>=0.23.0->transformer_lens) (0.4.3)\n",
            "Requirement already satisfied: filelock in /usr/local/lib/python3.10/dist-packages (from datasets>=2.7.1->transformer_lens) (3.15.4)\n",
            "Requirement already satisfied: pyarrow>=15.0.0 in /usr/local/lib/python3.10/dist-packages (from datasets>=2.7.1->transformer_lens) (17.0.0)\n",
            "Requirement already satisfied: pyarrow-hotfix in /usr/local/lib/python3.10/dist-packages (from datasets>=2.7.1->transformer_lens) (0.6)\n",
            "Requirement already satisfied: dill<0.3.9,>=0.3.0 in /usr/local/lib/python3.10/dist-packages (from datasets>=2.7.1->transformer_lens) (0.3.8)\n",
            "Requirement already satisfied: requests>=2.32.2 in /usr/local/lib/python3.10/dist-packages (from datasets>=2.7.1->transformer_lens) (2.32.3)\n",
            "Requirement already satisfied: xxhash in /usr/local/lib/python3.10/dist-packages (from datasets>=2.7.1->transformer_lens) (3.4.1)\n",
            "Requirement already satisfied: multiprocess in /usr/local/lib/python3.10/dist-packages (from datasets>=2.7.1->transformer_lens) (0.70.16)\n",
            "Requirement already satisfied: fsspec<=2024.5.0,>=2023.1.0 in /usr/local/lib/python3.10/dist-packages (from fsspec[http]<=2024.5.0,>=2023.1.0->datasets>=2.7.1->transformer_lens) (2024.5.0)\n",
            "Requirement already satisfied: aiohttp in /usr/local/lib/python3.10/dist-packages (from datasets>=2.7.1->transformer_lens) (3.9.5)\n",
            "Requirement already satisfied: typeguard==2.13.3 in /usr/local/lib/python3.10/dist-packages (from jaxtyping>=0.2.11->transformer_lens) (2.13.3)\n",
            "Requirement already satisfied: python-dateutil>=2.8.2 in /usr/local/lib/python3.10/dist-packages (from pandas>=1.1.5->transformer_lens) (2.8.2)\n",
            "Requirement already satisfied: pytz>=2020.1 in /usr/local/lib/python3.10/dist-packages (from pandas>=1.1.5->transformer_lens) (2024.1)\n",
            "Requirement already satisfied: tzdata>=2022.1 in /usr/local/lib/python3.10/dist-packages (from pandas>=1.1.5->transformer_lens) (2024.1)\n",
            "Requirement already satisfied: markdown-it-py>=2.2.0 in /usr/local/lib/python3.10/dist-packages (from rich>=12.6.0->transformer_lens) (3.0.0)\n",
            "Requirement already satisfied: pygments<3.0.0,>=2.13.0 in /usr/local/lib/python3.10/dist-packages (from rich>=12.6.0->transformer_lens) (2.16.1)\n",
            "Requirement already satisfied: sympy in /usr/local/lib/python3.10/dist-packages (from torch>=1.10->transformer_lens) (1.13.1)\n",
            "Requirement already satisfied: networkx in /usr/local/lib/python3.10/dist-packages (from torch>=1.10->transformer_lens) (3.3)\n",
            "Requirement already satisfied: jinja2 in /usr/local/lib/python3.10/dist-packages (from torch>=1.10->transformer_lens) (3.1.4)\n",
            "Requirement already satisfied: nvidia-cuda-nvrtc-cu12==12.1.105 in /usr/local/lib/python3.10/dist-packages (from torch>=1.10->transformer_lens) (12.1.105)\n",
            "Requirement already satisfied: nvidia-cuda-runtime-cu12==12.1.105 in /usr/local/lib/python3.10/dist-packages (from torch>=1.10->transformer_lens) (12.1.105)\n",
            "Requirement already satisfied: nvidia-cuda-cupti-cu12==12.1.105 in /usr/local/lib/python3.10/dist-packages (from torch>=1.10->transformer_lens) (12.1.105)\n",
            "Requirement already satisfied: nvidia-cudnn-cu12==8.9.2.26 in /usr/local/lib/python3.10/dist-packages (from torch>=1.10->transformer_lens) (8.9.2.26)\n",
            "Requirement already satisfied: nvidia-cublas-cu12==12.1.3.1 in /usr/local/lib/python3.10/dist-packages (from torch>=1.10->transformer_lens) (12.1.3.1)\n",
            "Requirement already satisfied: nvidia-cufft-cu12==11.0.2.54 in /usr/local/lib/python3.10/dist-packages (from torch>=1.10->transformer_lens) (11.0.2.54)\n",
            "Requirement already satisfied: nvidia-curand-cu12==10.3.2.106 in /usr/local/lib/python3.10/dist-packages (from torch>=1.10->transformer_lens) (10.3.2.106)\n",
            "Requirement already satisfied: nvidia-cusolver-cu12==11.4.5.107 in /usr/local/lib/python3.10/dist-packages (from torch>=1.10->transformer_lens) (11.4.5.107)\n",
            "Requirement already satisfied: nvidia-cusparse-cu12==12.1.0.106 in /usr/local/lib/python3.10/dist-packages (from torch>=1.10->transformer_lens) (12.1.0.106)\n",
            "Requirement already satisfied: nvidia-nccl-cu12==2.20.5 in /usr/local/lib/python3.10/dist-packages (from torch>=1.10->transformer_lens) (2.20.5)\n",
            "Requirement already satisfied: nvidia-nvtx-cu12==12.1.105 in /usr/local/lib/python3.10/dist-packages (from torch>=1.10->transformer_lens) (12.1.105)\n",
            "Requirement already satisfied: triton==2.3.1 in /usr/local/lib/python3.10/dist-packages (from torch>=1.10->transformer_lens) (2.3.1)\n",
            "Requirement already satisfied: nvidia-nvjitlink-cu12 in /usr/local/lib/python3.10/dist-packages (from nvidia-cusolver-cu12==11.4.5.107->torch>=1.10->transformer_lens) (12.6.20)\n",
            "Requirement already satisfied: regex!=2019.12.17 in /usr/local/lib/python3.10/dist-packages (from transformers>=4.37.2->transformer_lens) (2024.5.15)\n",
            "Requirement already satisfied: tokenizers<0.20,>=0.19 in /usr/local/lib/python3.10/dist-packages (from transformers>=4.37.2->transformer_lens) (0.19.1)\n",
            "Requirement already satisfied: click!=8.0.0,>=7.1 in /usr/local/lib/python3.10/dist-packages (from wandb>=0.13.5->transformer_lens) (8.1.7)\n",
            "Requirement already satisfied: docker-pycreds>=0.4.0 in /usr/local/lib/python3.10/dist-packages (from wandb>=0.13.5->transformer_lens) (0.4.0)\n",
            "Requirement already satisfied: gitpython!=3.1.29,>=1.0.0 in /usr/local/lib/python3.10/dist-packages (from wandb>=0.13.5->transformer_lens) (3.1.43)\n",
            "Requirement already satisfied: platformdirs in /usr/local/lib/python3.10/dist-packages (from wandb>=0.13.5->transformer_lens) (4.2.2)\n",
            "Requirement already satisfied: protobuf!=4.21.0,<6,>=3.19.0 in /usr/local/lib/python3.10/dist-packages (from wandb>=0.13.5->transformer_lens) (3.20.3)\n",
            "Requirement already satisfied: sentry-sdk>=1.0.0 in /usr/local/lib/python3.10/dist-packages (from wandb>=0.13.5->transformer_lens) (2.12.0)\n",
            "Requirement already satisfied: setproctitle in /usr/local/lib/python3.10/dist-packages (from wandb>=0.13.5->transformer_lens) (1.3.3)\n",
            "Requirement already satisfied: setuptools in /usr/local/lib/python3.10/dist-packages (from wandb>=0.13.5->transformer_lens) (71.0.4)\n",
            "Requirement already satisfied: six>=1.4.0 in /usr/local/lib/python3.10/dist-packages (from docker-pycreds>=0.4.0->wandb>=0.13.5->transformer_lens) (1.16.0)\n",
            "Requirement already satisfied: aiosignal>=1.1.2 in /usr/local/lib/python3.10/dist-packages (from aiohttp->datasets>=2.7.1->transformer_lens) (1.3.1)\n",
            "Requirement already satisfied: attrs>=17.3.0 in /usr/local/lib/python3.10/dist-packages (from aiohttp->datasets>=2.7.1->transformer_lens) (23.2.0)\n",
            "Requirement already satisfied: frozenlist>=1.1.1 in /usr/local/lib/python3.10/dist-packages (from aiohttp->datasets>=2.7.1->transformer_lens) (1.4.1)\n",
            "Requirement already satisfied: multidict<7.0,>=4.5 in /usr/local/lib/python3.10/dist-packages (from aiohttp->datasets>=2.7.1->transformer_lens) (6.0.5)\n",
            "Requirement already satisfied: yarl<2.0,>=1.0 in /usr/local/lib/python3.10/dist-packages (from aiohttp->datasets>=2.7.1->transformer_lens) (1.9.4)\n",
            "Requirement already satisfied: async-timeout<5.0,>=4.0 in /usr/local/lib/python3.10/dist-packages (from aiohttp->datasets>=2.7.1->transformer_lens) (4.0.3)\n",
            "Requirement already satisfied: gitdb<5,>=4.0.1 in /usr/local/lib/python3.10/dist-packages (from gitpython!=3.1.29,>=1.0.0->wandb>=0.13.5->transformer_lens) (4.0.11)\n",
            "Requirement already satisfied: mdurl~=0.1 in /usr/local/lib/python3.10/dist-packages (from markdown-it-py>=2.2.0->rich>=12.6.0->transformer_lens) (0.1.2)\n",
            "Requirement already satisfied: charset-normalizer<4,>=2 in /usr/local/lib/python3.10/dist-packages (from requests>=2.32.2->datasets>=2.7.1->transformer_lens) (3.3.2)\n",
            "Requirement already satisfied: idna<4,>=2.5 in /usr/local/lib/python3.10/dist-packages (from requests>=2.32.2->datasets>=2.7.1->transformer_lens) (3.7)\n",
            "Requirement already satisfied: urllib3<3,>=1.21.1 in /usr/local/lib/python3.10/dist-packages (from requests>=2.32.2->datasets>=2.7.1->transformer_lens) (2.0.7)\n",
            "Requirement already satisfied: certifi>=2017.4.17 in /usr/local/lib/python3.10/dist-packages (from requests>=2.32.2->datasets>=2.7.1->transformer_lens) (2024.7.4)\n",
            "Requirement already satisfied: MarkupSafe>=2.0 in /usr/local/lib/python3.10/dist-packages (from jinja2->torch>=1.10->transformer_lens) (2.1.5)\n",
            "Requirement already satisfied: mpmath<1.4,>=1.1.0 in /usr/local/lib/python3.10/dist-packages (from sympy->torch>=1.10->transformer_lens) (1.3.0)\n",
            "Requirement already satisfied: smmap<6,>=3.0.1 in /usr/local/lib/python3.10/dist-packages (from gitdb<5,>=4.0.1->gitpython!=3.1.29,>=1.0.0->wandb>=0.13.5->transformer_lens) (5.0.1)\n",
            "Requirement already satisfied: einops in /usr/local/lib/python3.10/dist-packages (0.8.0)\n",
            "Requirement already satisfied: jaxtyping in /usr/local/lib/python3.10/dist-packages (0.2.33)\n",
            "Requirement already satisfied: typeguard==2.13.3 in /usr/local/lib/python3.10/dist-packages (from jaxtyping) (2.13.3)\n",
            "Collecting git+https://github.com/callummcdougall/CircuitsVis.git#subdirectory=python\n",
            "  Cloning https://github.com/callummcdougall/CircuitsVis.git to /tmp/pip-req-build-fsvac17o\n",
            "  Running command git clone --filter=blob:none --quiet https://github.com/callummcdougall/CircuitsVis.git /tmp/pip-req-build-fsvac17o\n",
            "  Resolved https://github.com/callummcdougall/CircuitsVis.git to commit 1e6129d08cae7af9242d9ab5d3ed322dd44b4dd3\n",
            "  Installing build dependencies ... \u001b[?25l\u001b[?25hdone\n",
            "  Getting requirements to build wheel ... \u001b[?25l\u001b[?25hdone\n",
            "  Preparing metadata (pyproject.toml) ... \u001b[?25l\u001b[?25hdone\n",
            "Requirement already satisfied: importlib-metadata<6.0.0,>=5.1.0 in /usr/local/lib/python3.10/dist-packages (from circuitsvis==0.0.0) (5.2.0)\n",
            "Requirement already satisfied: numpy<2.0,>=1.23 in /usr/local/lib/python3.10/dist-packages (from circuitsvis==0.0.0) (1.26.4)\n",
            "Requirement already satisfied: torch<3.0,>=2.0 in /usr/local/lib/python3.10/dist-packages (from circuitsvis==0.0.0) (2.3.1+cu121)\n",
            "Requirement already satisfied: zipp>=0.5 in /usr/local/lib/python3.10/dist-packages (from importlib-metadata<6.0.0,>=5.1.0->circuitsvis==0.0.0) (3.19.2)\n",
            "Requirement already satisfied: filelock in /usr/local/lib/python3.10/dist-packages (from torch<3.0,>=2.0->circuitsvis==0.0.0) (3.15.4)\n",
            "Requirement already satisfied: typing-extensions>=4.8.0 in /usr/local/lib/python3.10/dist-packages (from torch<3.0,>=2.0->circuitsvis==0.0.0) (4.12.2)\n",
            "Requirement already satisfied: sympy in /usr/local/lib/python3.10/dist-packages (from torch<3.0,>=2.0->circuitsvis==0.0.0) (1.13.1)\n",
            "Requirement already satisfied: networkx in /usr/local/lib/python3.10/dist-packages (from torch<3.0,>=2.0->circuitsvis==0.0.0) (3.3)\n",
            "Requirement already satisfied: jinja2 in /usr/local/lib/python3.10/dist-packages (from torch<3.0,>=2.0->circuitsvis==0.0.0) (3.1.4)\n",
            "Requirement already satisfied: fsspec in /usr/local/lib/python3.10/dist-packages (from torch<3.0,>=2.0->circuitsvis==0.0.0) (2024.5.0)\n",
            "Requirement already satisfied: nvidia-cuda-nvrtc-cu12==12.1.105 in /usr/local/lib/python3.10/dist-packages (from torch<3.0,>=2.0->circuitsvis==0.0.0) (12.1.105)\n",
            "Requirement already satisfied: nvidia-cuda-runtime-cu12==12.1.105 in /usr/local/lib/python3.10/dist-packages (from torch<3.0,>=2.0->circuitsvis==0.0.0) (12.1.105)\n",
            "Requirement already satisfied: nvidia-cuda-cupti-cu12==12.1.105 in /usr/local/lib/python3.10/dist-packages (from torch<3.0,>=2.0->circuitsvis==0.0.0) (12.1.105)\n",
            "Requirement already satisfied: nvidia-cudnn-cu12==8.9.2.26 in /usr/local/lib/python3.10/dist-packages (from torch<3.0,>=2.0->circuitsvis==0.0.0) (8.9.2.26)\n",
            "Requirement already satisfied: nvidia-cublas-cu12==12.1.3.1 in /usr/local/lib/python3.10/dist-packages (from torch<3.0,>=2.0->circuitsvis==0.0.0) (12.1.3.1)\n",
            "Requirement already satisfied: nvidia-cufft-cu12==11.0.2.54 in /usr/local/lib/python3.10/dist-packages (from torch<3.0,>=2.0->circuitsvis==0.0.0) (11.0.2.54)\n",
            "Requirement already satisfied: nvidia-curand-cu12==10.3.2.106 in /usr/local/lib/python3.10/dist-packages (from torch<3.0,>=2.0->circuitsvis==0.0.0) (10.3.2.106)\n",
            "Requirement already satisfied: nvidia-cusolver-cu12==11.4.5.107 in /usr/local/lib/python3.10/dist-packages (from torch<3.0,>=2.0->circuitsvis==0.0.0) (11.4.5.107)\n",
            "Requirement already satisfied: nvidia-cusparse-cu12==12.1.0.106 in /usr/local/lib/python3.10/dist-packages (from torch<3.0,>=2.0->circuitsvis==0.0.0) (12.1.0.106)\n",
            "Requirement already satisfied: nvidia-nccl-cu12==2.20.5 in /usr/local/lib/python3.10/dist-packages (from torch<3.0,>=2.0->circuitsvis==0.0.0) (2.20.5)\n",
            "Requirement already satisfied: nvidia-nvtx-cu12==12.1.105 in /usr/local/lib/python3.10/dist-packages (from torch<3.0,>=2.0->circuitsvis==0.0.0) (12.1.105)\n",
            "Requirement already satisfied: triton==2.3.1 in /usr/local/lib/python3.10/dist-packages (from torch<3.0,>=2.0->circuitsvis==0.0.0) (2.3.1)\n",
            "Requirement already satisfied: nvidia-nvjitlink-cu12 in /usr/local/lib/python3.10/dist-packages (from nvidia-cusolver-cu12==11.4.5.107->torch<3.0,>=2.0->circuitsvis==0.0.0) (12.6.20)\n",
            "Requirement already satisfied: MarkupSafe>=2.0 in /usr/local/lib/python3.10/dist-packages (from jinja2->torch<3.0,>=2.0->circuitsvis==0.0.0) (2.1.5)\n",
            "Requirement already satisfied: mpmath<1.4,>=1.1.0 in /usr/local/lib/python3.10/dist-packages (from sympy->torch<3.0,>=2.0->circuitsvis==0.0.0) (1.3.0)\n"
          ]
        }
      ],
      "source": [
        "try:\n",
        "    import google.colab # type: ignore\n",
        "    IN_COLAB = True\n",
        "except:\n",
        "    IN_COLAB = False\n",
        "\n",
        "import os, sys\n",
        "chapter = \"chapter1_transformer_interp\"\n",
        "repo = \"ARENA_3.0\"\n",
        "\n",
        "if IN_COLAB:\n",
        "    # Install packages\n",
        "    %pip install transformer_lens\n",
        "    %pip install einops\n",
        "    %pip install jaxtyping\n",
        "    %pip install git+https://github.com/callummcdougall/CircuitsVis.git#subdirectory=python\n",
        "\n",
        "    # Code to download the necessary files (e.g. solutions, test funcs)\n",
        "    if not os.path.exists(f\"/content/{chapter}\"):\n",
        "        !wget https://github.com/callummcdougall/ARENA_3.0/archive/refs/heads/main.zip\n",
        "        !unzip /content/main.zip 'ARENA_3.0-main/chapter1_transformer_interp/exercises/*'\n",
        "        sys.path.append(f\"/content/{repo}-main/{chapter}/exercises\")\n",
        "        os.remove(\"/content/main.zip\")\n",
        "        os.rename(f\"{repo}-main/{chapter}\", chapter)\n",
        "        os.rmdir(f\"{repo}-main\")\n",
        "        os.chdir(f\"{chapter}/exercises\")\n",
        "else:\n",
        "    chapter_dir = r\"./\" if chapter in os.listdir() else os.getcwd().split(chapter)[0]\n",
        "    sys.path.append(chapter_dir + f\"{chapter}/exercises\")"
      ]
    },
    {
      "cell_type": "code",
      "execution_count": 2,
      "metadata": {
        "colab": {
          "base_uri": "https://localhost:8080/"
        },
        "id": "tfWhhdEBm4Ry",
        "outputId": "18913765-8ee6-4e36-bc83-0004eb5de476"
      },
      "outputs": [
        {
          "output_type": "stream",
          "name": "stderr",
          "text": [
            "/usr/local/lib/python3.10/dist-packages/accelerate/utils/imports.py:282: UserWarning: `ACCELERATE_DISABLE_RICH` is deprecated and will be removed in v0.22.0 and deactivated by default. Please use `ACCELERATE_ENABLE_RICH` if you wish to use `rich`.\n",
            "  warnings.warn(\n",
            "/usr/local/lib/python3.10/dist-packages/huggingface_hub/utils/_token.py:89: UserWarning: \n",
            "The secret `HF_TOKEN` does not exist in your Colab secrets.\n",
            "To authenticate with the Hugging Face Hub, create a token in your settings tab (https://huggingface.co/settings/tokens), set it as secret in your Google Colab and restart your session.\n",
            "You will be able to reuse this secret in all of your notebooks.\n",
            "Please note that authentication is recommended but still optional to access public models or datasets.\n",
            "  warnings.warn(\n"
          ]
        },
        {
          "output_type": "stream",
          "name": "stdout",
          "text": [
            "Loaded pretrained model gpt2-small into HookedTransformer\n"
          ]
        }
      ],
      "source": [
        "import os; os.environ['ACCELERATE_DISABLE_RICH'] = \"1\"\n",
        "import sys\n",
        "import einops\n",
        "from dataclasses import dataclass\n",
        "from transformer_lens import HookedTransformer\n",
        "from transformer_lens.utils import gelu_new, tokenize_and_concatenate\n",
        "import torch as t\n",
        "from torch import Tensor\n",
        "import torch.nn as nn\n",
        "import numpy as np\n",
        "import math\n",
        "from tqdm.notebook import tqdm\n",
        "from typing import Tuple, List, Optional, Dict, Callable\n",
        "from jaxtyping import Float, Int\n",
        "from transformers.models.gpt2.tokenization_gpt2_fast import GPT2TokenizerFast\n",
        "from collections import defaultdict\n",
        "from rich.table import Table\n",
        "from rich import print as rprint\n",
        "import datasets\n",
        "from torch.utils.data import DataLoader\n",
        "import wandb\n",
        "from pathlib import Path\n",
        "import webbrowser\n",
        "\n",
        "# Make sure exercises are in the path\n",
        "exercises_dir = Path(f\"{os.getcwd().split(chapter)[0]}/{chapter}/exercises\").resolve()\n",
        "section_dir = (exercises_dir / \"part1_transformer_from_scratch\").resolve()\n",
        "if str(exercises_dir) not in sys.path: sys.path.append(str(exercises_dir))\n",
        "\n",
        "from plotly_utils import imshow\n",
        "import part1_transformer_from_scratch.solutions as solutions\n",
        "import part1_transformer_from_scratch.tests as tests\n",
        "\n",
        "device = t.device(\"cuda\" if t.cuda.is_available() else \"cpu\")\n",
        "\n",
        "MAIN = __name__ == '__main__'\n",
        "\n",
        "reference_gpt2 = HookedTransformer.from_pretrained(\"gpt2-small\", fold_ln=False, center_unembed=False, center_writing_weights=False)"
      ]
    },
    {
      "cell_type": "markdown",
      "metadata": {
        "id": "w1x_mWI6m4Rz"
      },
      "source": [
        "# 1️⃣ Understanding Inputs & Outputs of a Transformer\n"
      ]
    },
    {
      "cell_type": "markdown",
      "metadata": {
        "id": "B_FUMfnwA6Oq"
      },
      "source": [
        "> ### Learning Objectives\n",
        ">\n",
        "> * Understand what a transformer is used for\n",
        "> * Understand causal attention, and what a transformer's output represents\n",
        "> * Learn what tokenization is, and how models do it\n",
        "> * Understand what logits are, and how to use them to derive a probability distribution over the vocabulary\n"
      ]
    },
    {
      "cell_type": "markdown",
      "metadata": {
        "id": "d--zV4Crm4Rz"
      },
      "source": [
        "## What is the point of a transformer?\n"
      ]
    },
    {
      "cell_type": "markdown",
      "metadata": {
        "id": "MaMw4jYgm4Rz"
      },
      "source": [
        "**Transformers exist to model text!**\n",
        "\n",
        "We're going to focus GPT-2 style transformers. Key feature: They generate text! You feed in language, and the model generates a probability distribution over tokens. And you can repeatedly sample from this to generate text!\n",
        "\n",
        "(To explain this in more detail - you feed in a sequence of length $N$, then sample from the probability distribution over the $N+1$-th word, use this to construct a new sequence of length $N+1$, then feed this new sequence into the model to get a probability distribution over the $N+2$-th word, and so on.)\n",
        "\n",
        "### How is the model trained?\n",
        "\n",
        "You give it a bunch of text, and train it to predict the next token.\n",
        "\n",
        "Importantly, if you give a model 100 tokens in a sequence, it predicts the next token for *each* prefix, i.e. it produces 100 logit vectors (= probability distributions) over the set of all words in our vocabulary, with the `i`-th logit vector representing the probability distribution over the token *following* the `i`-th token in the sequence.\n",
        "\n",
        "<details>\n",
        "<summary>Aside - logits</summary>\n",
        "\n",
        "If you haven't encountered the term \"logits\" before, here's a quick refresher.\n",
        "\n",
        "Given an arbitrary vector $x$, we can turn it into a probability distribution via the **softmax** function: $x_i \\to \\frac{e^{x_i}}{\\sum e^{x_j}}$. The exponential makes everything positive; the normalization makes it add to one.\n",
        "\n",
        "The model's output is the vector $x$ (one for each prediction it makes). We call this vector a logit because it represents a probability distribution, and it is related to the actual probabilities via the softmax function.\n",
        "</details>\n",
        "\n",
        "How do we stop the transformer by \"cheating\" by just looking at the tokens it's trying to predict? Answer - we make the transformer have *causal attention* (as opposed to *bidirectional attention*). Causal attention only allows information to move forwards in the sequence, never backwards. The prediction of what comes after token 50 is only a function of the first 50 tokens, *not* of token 51. We say the transformer is **autoregressive**, because it only predicts future words based on past data.\n"
      ]
    },
    {
      "cell_type": "markdown",
      "metadata": {
        "id": "AHzR45fBfHNq"
      },
      "source": [
        "<img src=\"https://raw.githubusercontent.com/callummcdougall/computational-thread-art/master/example_images/misc/transformer-overview-new.png\" width=\"900\">\n"
      ]
    },
    {
      "cell_type": "markdown",
      "metadata": {
        "id": "z8ZVvPhDm4R0"
      },
      "source": [
        "## Tokens - Transformer Inputs\n"
      ]
    },
    {
      "cell_type": "markdown",
      "metadata": {
        "id": "UkBYr2qym4R0"
      },
      "source": [
        "Our tranformer's input is natural language (i.e. a sequence of characters, strings, etc). But ML models generally take vectors as input, not language. How do we convert language to vectors?\n",
        "\n",
        "We can factor this into 2 questions:\n",
        "\n",
        "1. How do we split up language into small sub-units?\n",
        "2. How do we convert these sub-units into vectors?\n",
        "\n",
        "Let's start with the second of these questions.\n"
      ]
    },
    {
      "cell_type": "markdown",
      "metadata": {
        "id": "MRP795JofHNq"
      },
      "source": [
        "### Converting sub-units to vectors\n",
        "\n",
        "We basically make a massive lookup table, which is called an **embedding**. It has one vector for each possible sub-unit of language we might get (we call this set of all sub-units our **vocabulary**). We label every element in our vocabulary with an integer (this labelling never changes), and we use this integer to index into the embedding.\n",
        "\n",
        "A key intuition is that one-hot encodings let you think about each integer independently. We don't bake in any relation between words when we perform our embedding, because every word has a completely separate embedding vector.\n",
        "\n",
        "<details>\n",
        "<summary>Aside - one-hot encodings</summary>\n",
        "\n",
        "We sometimes think about **one-hot encodings** of words. These are vectors with zeros everywhere, except for a single one in the position corresponding to the word's index in the vocabulary. This means that indexing into the embedding is equivalent to multiplying the **embedding matrix** by the one-hot encoding (where the embedding matrix is the matrix we get by stacking all the embedding vectors on top of each other).\n",
        "\n",
        "$$\n",
        "\\begin{aligned}\n",
        "W_E &= \\begin{bmatrix}\n",
        "\\leftarrow v_0 \\rightarrow \\\\\n",
        "\\leftarrow v_1 \\rightarrow \\\\\n",
        "\\vdots \\\\\n",
        "\\leftarrow v_{d_{vocab}-1} \\rightarrow \\\\\n",
        "\\end{bmatrix} \\quad \\text{is the embedding matrix (size }d_{vocab} \\times d_{embed}\\text{),} \\\\\n",
        "\\\\\n",
        "t_i &= (0, \\dots, 0, 1, 0, \\dots, 0) \\quad \\text{is the one-hot encoding for the }i\\text{th word (length }d_{vocab}\\text{)} \\\\\n",
        "\\\\\n",
        "v_i &= t_i W_E \\quad \\text{is the embedding vector for the }i\\text{th word (length }d_{embed}\\text{).} \\\\\n",
        "\\end{aligned}\n",
        "$$\n",
        "\n",
        "</details>\n",
        "\n",
        "Now, let's answer the first question - how do we split language into sub-units?\n"
      ]
    },
    {
      "cell_type": "markdown",
      "metadata": {
        "id": "Y7t_YsDxm4R0"
      },
      "source": [
        "### Splitting language into sub-units\n",
        "\n",
        "We need to define a standard way of splitting up language into a series of substrings, where each substring is a member of our **vocabulary** set.\n",
        "\n",
        "Could we use a dictionary, and have our vocabulary be the set of all words in the dictionary? No, because this couldn't handle arbitrary text (e.g. URLs, punctuation, etc). We need a more general way of splitting up language.\n",
        "\n",
        "Could we just use the 256 ASCII characters? This fixes the previous problem, but it loses structure of language - some sequences of characters are more meaningful than others. For example, \"language\" is a lot more meaningful than \"hjksdfiu\". We want \"language\" to be a single token, but not \"hjksdfiu\" - this is a more efficient use of our vocab.\n",
        "\n",
        "What actually happens? The most common strategy is called **Byte-Pair encodings**.\n",
        "\n",
        "We begin with the 256 ASCII characters as our tokens, and then find the most common pair of tokens, and merge that into a new token. Note that we do have a space character as one of our 256 tokens, and merges using space are very common. For instance, here are the five first merges for the tokenizer used by GPT-2 (you'll be able to verify this below).\n",
        "\n",
        "```\n",
        "\" t\"\n",
        "\" a\"\n",
        "\"he\"\n",
        "\"in\"\n",
        "\"re\"\n",
        "```\n",
        "\n",
        "Note - you might see the character `Ġ` in front of some tokens. This is a special token that indicates that the token begins with a space. Tokens with a leading space vs not are different.\n",
        "\n",
        "You can run the code below to see some more of GPT-2's tokenizer's vocabulary:\n"
      ]
    },
    {
      "cell_type": "code",
      "execution_count": 3,
      "metadata": {
        "colab": {
          "base_uri": "https://localhost:8080/"
        },
        "id": "sHq2U0hKnXMm",
        "outputId": "313c8963-6d23-4c3c-daff-a0da48cc0e04"
      },
      "outputs": [
        {
          "output_type": "stream",
          "name": "stdout",
          "text": [
            "[('!', 0), ('\"', 1), ('#', 2), ('$', 3), ('%', 4), ('&', 5), (\"'\", 6), ('(', 7), (')', 8), ('*', 9), ('+', 10), (',', 11), ('-', 12), ('.', 13), ('/', 14), ('0', 15), ('1', 16), ('2', 17), ('3', 18), ('4', 19)]\n",
            "\n",
            "[('ľ', 250), ('Ŀ', 251), ('ŀ', 252), ('Ł', 253), ('ł', 254), ('Ń', 255), ('Ġt', 256), ('Ġa', 257), ('he', 258), ('in', 259), ('re', 260), ('on', 261), ('Ġthe', 262), ('er', 263), ('Ġs', 264), ('at', 265), ('Ġw', 266), ('Ġo', 267), ('en', 268), ('Ġc', 269)]\n",
            "\n",
            "[('Ġprodu', 990), ('Ġstill', 991), ('led', 992), ('ah', 993), ('Ġhere', 994), ('Ġworld', 995), ('Ġthough', 996), ('Ġnum', 997), ('arch', 998), ('imes', 999), ('ale', 1000), ('ĠSe', 1001), ('ĠIf', 1002), ('//', 1003), ('ĠLe', 1004), ('Ġret', 1005), ('Ġref', 1006), ('Ġtrans', 1007), ('ner', 1008), ('ution', 1009)]\n",
            "\n"
          ]
        }
      ],
      "source": [
        "sorted_vocab = sorted(list(reference_gpt2.tokenizer.vocab.items()), key=lambda n: n[1])\n",
        "print(sorted_vocab[:20])\n",
        "print()\n",
        "print(sorted_vocab[250:270])\n",
        "print()\n",
        "print(sorted_vocab[990:1010])\n",
        "print()"
      ]
    },
    {
      "cell_type": "markdown",
      "metadata": {
        "id": "ddGjdpeinaI8"
      },
      "source": [
        "As you get to the end of the vocabulary, you'll be producing some pretty weird-looking esoteric tokens (because you'll already have exhausted all of the short frequently-occurring ones):\n"
      ]
    },
    {
      "cell_type": "code",
      "execution_count": 4,
      "metadata": {
        "colab": {
          "base_uri": "https://localhost:8080/"
        },
        "id": "Rl40Jlw0m4R0",
        "outputId": "b3e7b67e-7453-4aa5-e090-186d683e7baf"
      },
      "outputs": [
        {
          "output_type": "stream",
          "name": "stdout",
          "text": [
            "[('Revolution', 50237), ('Ġsnipers', 50238), ('Ġreverted', 50239), ('Ġconglomerate', 50240), ('Terry', 50241), ('794', 50242), ('Ġharsher', 50243), ('Ġdesolate', 50244), ('ĠHitman', 50245), ('Commission', 50246), ('Ġ(/', 50247), ('âĢ¦.\"', 50248), ('Compar', 50249), ('Ġamplification', 50250), ('ominated', 50251), ('Ġregress', 50252), ('ĠCollider', 50253), ('Ġinformants', 50254), ('Ġgazed', 50255), ('<|endoftext|>', 50256)]\n"
          ]
        }
      ],
      "source": [
        "print(sorted_vocab[-20:])"
      ]
    },
    {
      "cell_type": "markdown",
      "metadata": {
        "id": "QcOKIhU-1IOS"
      },
      "source": [
        "\n",
        "<details>\n",
        "<summary>Fun (totally optional) exercise - can you guess what the first-formed 3/4/5/6/7-letter encodings in GPT-2's vocabulary are?</summary>\n",
        "Run this code to find out:\n",
        "\n",
        "```python\n",
        "lengths = dict.fromkeys(range(3, 8), \"\")\n",
        "for tok, idx in sorted_vocab:\n",
        "    if not lengths.get(len(tok), True):\n",
        "        lengths[len(tok)] = tok\n",
        "\n",
        "for length, tok in lengths.items():\n",
        "    print(f\"{length}: {tok}\")\n",
        "```\n",
        "</details>\n"
      ]
    },
    {
      "cell_type": "markdown",
      "metadata": {
        "id": "S5OKWOqHnmBg"
      },
      "source": [
        "Transformers in the `transformer_lens` library have a `to_tokens` method that converts text to numbers. It also prepends them with a special token called BOS (beginning of sequence) to indicate the start of a sequence. You can disable this with the `prepend_bos=False` argument.\n",
        "\n",
        "<details>\n",
        "<summary>Aside - BOS token</summary>\n",
        "\n",
        "The beginning of sequence (BOS) token is a special token used to mark the beginning of the sequence. Confusingly, in GPT-2, the End of Sequence (EOS), Beginning of Sequence (BOS) and Padding (PAD) tokens are all the same, `<|endoftext|>` with index `50256`.\n",
        "\n",
        "Why is this token added? Some basic intuitions are:\n",
        "\n",
        "* It provides context that this is the start of a sequence, which can help the model generate more appropriate text.\n",
        "* It can act as a \"rest position\" for attention heads (more on this later, when we discuss attention).\n",
        "\n",
        "TransformerLens adds this token automatically (including in forward passes of transformer models, e.g. it's implicitly added when you call `model(\"Hello World\")`). You can disable this behaviour by setting the flag `prepend_bos=False` in `to_tokens`, `to_str_tokens`, `model.forward` and any other function that converts strings to multi-token tensors.\n",
        "\n",
        "**Key Point: *If you get weird off-by-one errors, check whether there's an unexpected `prepend_bos`!***\n",
        "\n",
        "Why are the BOS, EOS and PAD tokens the same? This is because GPT-2 is an autoregressive model, and uses these kinds of tokens in a slightly different way to other transformer families (e.g. BERT). For instance, GPT has no need to distinguish between BOS and EOS tokens, because it only processes text from left to right.\n",
        "\n",
        "</details>\n",
        "\n",
        "### Some tokenization annoyances\n",
        "\n",
        "There are a few funky and frustrating things about tokenization, which causes it to behave differently than you might expect. For instance:\n",
        "\n",
        "#### Whether a word begins with a capital or space matters!\n"
      ]
    },
    {
      "cell_type": "code",
      "execution_count": 5,
      "metadata": {
        "colab": {
          "base_uri": "https://localhost:8080/"
        },
        "id": "0vlZ-pRAnoEw",
        "outputId": "afe5382e-7249-48ef-c673-3b2e2e9a27a7"
      },
      "outputs": [
        {
          "output_type": "stream",
          "name": "stdout",
          "text": [
            "['<|endoftext|>', 'R', 'alph']\n",
            "['<|endoftext|>', ' Ralph']\n",
            "['<|endoftext|>', ' r', 'alph']\n",
            "['<|endoftext|>', 'ral', 'ph']\n"
          ]
        }
      ],
      "source": [
        "print(reference_gpt2.to_str_tokens(\"Ralph\"))\n",
        "print(reference_gpt2.to_str_tokens(\" Ralph\"))\n",
        "print(reference_gpt2.to_str_tokens(\" ralph\"))\n",
        "print(reference_gpt2.to_str_tokens(\"ralph\"))"
      ]
    },
    {
      "cell_type": "markdown",
      "metadata": {
        "id": "joPO920PntIw"
      },
      "source": [
        "#### Arithmetic is a mess.\n",
        "\n",
        "Length is inconsistent, common numbers bundle together.\n"
      ]
    },
    {
      "cell_type": "code",
      "execution_count": 6,
      "metadata": {
        "colab": {
          "base_uri": "https://localhost:8080/"
        },
        "id": "rzbf4t-Zm4R1",
        "outputId": "04a1092e-6546-4bba-de26-4fdc93979178"
      },
      "outputs": [
        {
          "output_type": "stream",
          "name": "stdout",
          "text": [
            "['<|endoftext|>', '568', '73', '+', '318', '46', '23', '=', '123', '45', '67', '89', '-', '1', '000000', '000']\n"
          ]
        }
      ],
      "source": [
        "print(reference_gpt2.to_str_tokens(\"56873+3184623=123456789-1000000000\"))"
      ]
    },
    {
      "cell_type": "markdown",
      "metadata": {
        "id": "GgtPkQE-m4R2"
      },
      "source": [
        "> ### Key Takeaways\n",
        ">\n",
        "> * We learn a dictionary of vocab of tokens (sub-words).\n",
        "> * We (approx) losslessly convert language to integers via tokenizing it.\n",
        "> * We convert integers to vectors via a lookup table.\n",
        "> * Note: input to the transformer is a sequence of *tokens* (ie integers), not vectors\n"
      ]
    },
    {
      "cell_type": "markdown",
      "metadata": {
        "id": "rCSs3uXgn9Kb"
      },
      "source": [
        "## Text generation\n",
        "\n",
        "Now that we understand the basic ideas here, let's go through the entire process of text generation, from our original string to a new token which we can append to our string and plug back into the model.\n",
        "\n",
        "#### **Step 1:** Convert text to tokens\n",
        "\n",
        "The sequence gets tokenized, so it has shape `[batch, seq_len]`. Here, the batch dimension is just one (because we only have one sequence).\n"
      ]
    },
    {
      "cell_type": "code",
      "execution_count": 7,
      "metadata": {
        "colab": {
          "base_uri": "https://localhost:8080/"
        },
        "id": "mommexyJm4R3",
        "outputId": "c68aee2f-3002-4ed1-e95f-e2bdd91343aa"
      },
      "outputs": [
        {
          "output_type": "stream",
          "name": "stdout",
          "text": [
            "tensor([[50256,    40,   716,   281,  4998,  1960,   382, 19741,    11,   875,\n",
            "         12342,    12,  8807,    11,   402, 11571,    12,    17,  3918, 47385,\n",
            "            13,  1881,  1110,   314,   481,  7074,  1692,  1241,  4430,   290,\n",
            "          1011,   625,   262,   995,     0]], device='cuda:0')\n",
            "torch.Size([1, 35])\n",
            "['<|endoftext|>', 'I', ' am', ' an', ' amazing', ' aut', 'ore', 'gressive', ',', ' dec', 'oder', '-', 'only', ',', ' G', 'PT', '-', '2', ' style', ' transformer', '.', ' One', ' day', ' I', ' will', ' exceed', ' human', ' level', ' intelligence', ' and', ' take', ' over', ' the', ' world', '!']\n"
          ]
        }
      ],
      "source": [
        "reference_text = \"I am an amazing autoregressive, decoder-only, GPT-2 style transformer. One day I will exceed human level intelligence and take over the world!\"\n",
        "tokens = reference_gpt2.to_tokens(reference_text).to(device)\n",
        "print(tokens)\n",
        "print(tokens.shape)\n",
        "print(reference_gpt2.to_str_tokens(tokens))"
      ]
    },
    {
      "cell_type": "markdown",
      "metadata": {
        "id": "Ovci8XHNm4R3"
      },
      "source": [
        "#### **Step 2:** Map tokens to logits\n",
        "\n",
        "\n",
        "From our input of shape `[batch, seq_len]`, we get output of shape `[batch, seq_len, vocab_size]`. The `[i, j, :]`-th element of our output is a vector of logits representing our prediction for the `j+1`-th token in the `i`-th sequence.\n"
      ]
    },
    {
      "cell_type": "code",
      "execution_count": 8,
      "metadata": {
        "colab": {
          "base_uri": "https://localhost:8080/"
        },
        "id": "5iK_hEUzm4R3",
        "outputId": "5625f3e0-99de-4a3b-e0ee-53d8975ba7e6"
      },
      "outputs": [
        {
          "output_type": "stream",
          "name": "stdout",
          "text": [
            "torch.Size([1, 35, 50257])\n"
          ]
        }
      ],
      "source": [
        "logits, cache = reference_gpt2.run_with_cache(tokens)\n",
        "print(logits.shape)"
      ]
    },
    {
      "cell_type": "markdown",
      "metadata": {
        "id": "39kXnrmrgeIw"
      },
      "source": [
        "(`run_with_cache` tells the model to cache all intermediate activations. This isn't important right now; we'll look at it in more detail later.)\n"
      ]
    },
    {
      "cell_type": "markdown",
      "metadata": {
        "id": "SDv_ftwFm4R4"
      },
      "source": [
        "#### **Step 3:** Convert the logits to a distribution with a softmax\n",
        "\n",
        "This doesn't change the shape, it is still `[batch, seq_len, vocab_size]`.\n"
      ]
    },
    {
      "cell_type": "code",
      "execution_count": 9,
      "metadata": {
        "colab": {
          "base_uri": "https://localhost:8080/"
        },
        "id": "csYLLcvcm4R4",
        "outputId": "81d78edc-1768-497f-801c-73239cfa6f74"
      },
      "outputs": [
        {
          "output_type": "stream",
          "name": "stdout",
          "text": [
            "torch.Size([1, 35, 50257])\n"
          ]
        }
      ],
      "source": [
        "probs = logits.softmax(dim=-1)\n",
        "print(probs.shape)"
      ]
    },
    {
      "cell_type": "markdown",
      "metadata": {
        "id": "BkOqYy8qm4R4"
      },
      "source": [
        "#### **Bonus step:** What is the most likely next token at each position?\n"
      ]
    },
    {
      "cell_type": "code",
      "execution_count": 10,
      "metadata": {
        "id": "9tKcEGLXm4R4",
        "colab": {
          "base_uri": "https://localhost:8080/"
        },
        "outputId": "de7920cc-6fda-4877-c98f-c81f06210770"
      },
      "outputs": [
        {
          "output_type": "stream",
          "name": "stdout",
          "text": [
            "[('<|endoftext|>', '\\n'), ('I', \"'m\"), (' am', ' a'), (' an', ' avid'), (' amazing', ' person'), (' aut', 'od'), ('ore', 'sp'), ('gressive', '.'), (',', ' and'), (' dec', 'ently'), ('oder', ','), ('-', 'driven'), ('only', ' programmer'), (',', ' and'), (' G', 'IM'), ('PT', '-'), ('-', 'only'), ('2', '.'), (' style', ','), (' transformer', '.'), ('.', ' I'), (' One', ' of'), (' day', ' I'), (' I', ' will'), (' will', ' be'), (' exceed', ' my'), (' human', 'ly'), (' level', ' of'), (' intelligence', ' and'), (' and', ' I'), (' take', ' over'), (' over', ' the'), (' the', ' world'), (' world', '.'), ('!', ' I')]\n"
          ]
        }
      ],
      "source": [
        "most_likely_next_tokens = reference_gpt2.tokenizer.batch_decode(logits.argmax(dim=-1)[0])\n",
        "\n",
        "print(list(zip(reference_gpt2.to_str_tokens(tokens), most_likely_next_tokens)))"
      ]
    },
    {
      "cell_type": "markdown",
      "metadata": {
        "id": "yESVZd2igyPd"
      },
      "source": [
        "We can see that, in a few cases (particularly near the end of the sequence), the model accurately predicts the next token in the sequence. We might guess that `\"take over the world\"` is a common phrase that the model has seen in training, which is why the model can predict it.\n"
      ]
    },
    {
      "cell_type": "markdown",
      "metadata": {
        "id": "DrZCnki1m4R4"
      },
      "source": [
        "#### **Step 4:** Map distribution to a token\n"
      ]
    },
    {
      "cell_type": "code",
      "execution_count": 11,
      "metadata": {
        "id": "Pp9PB99Mm4R4",
        "colab": {
          "base_uri": "https://localhost:8080/"
        },
        "outputId": "cf715f9c-8381-4507-d736-f0b95cb2b845"
      },
      "outputs": [
        {
          "output_type": "stream",
          "name": "stdout",
          "text": [
            "' I'\n"
          ]
        }
      ],
      "source": [
        "next_token = logits[0, -1].argmax(dim=-1)\n",
        "next_char = reference_gpt2.to_string(next_token)\n",
        "print(repr(next_char))"
      ]
    },
    {
      "cell_type": "markdown",
      "metadata": {
        "id": "I4uXGn1mhSnf"
      },
      "source": [
        "Note that we're indexing `logits[0, -1]`. This is because logits have shape `[1, sequence_length, vocab_size]`, so this indexing returns the vector of length `vocab_size` representing the model's prediction for what token follows the **last** token in the input sequence.\n",
        "\n",
        "In this case, we can see that the model predicts the token `' I'`.\n"
      ]
    },
    {
      "cell_type": "markdown",
      "metadata": {
        "id": "8XmSN1YFm4R5"
      },
      "source": [
        "### **Step 5:** Add this to the end of the input, re-run\n",
        "\n",
        "There are more efficient ways to do this (e.g. where we cache some of the values each time we run our input, so we don't have to do as much calculation each time we generate a new value), but this doesn't matter conceptually right now.\n"
      ]
    },
    {
      "cell_type": "code",
      "execution_count": 12,
      "metadata": {
        "id": "oHDYSGlOEe8d",
        "colab": {
          "base_uri": "https://localhost:8080/"
        },
        "outputId": "ac81fd23-6961-4a8d-d8ce-1c79114d214b"
      },
      "outputs": [
        {
          "output_type": "stream",
          "name": "stdout",
          "text": [
            "tensor([[314]], device='cuda:0')\n",
            "torch.Size([1, 1])\n",
            "torch.Size([1, 35])\n"
          ]
        }
      ],
      "source": [
        "print(next_token[None, None])\n",
        "print(next_token[None, None].shape)\n",
        "print(tokens.shape)"
      ]
    },
    {
      "cell_type": "code",
      "execution_count": 13,
      "metadata": {
        "id": "dpgN-auXm4R6",
        "colab": {
          "base_uri": "https://localhost:8080/"
        },
        "outputId": "259ce0fa-7213-4859-ce30-7fe4686b67f4"
      },
      "outputs": [
        {
          "output_type": "stream",
          "name": "stdout",
          "text": [
            "Sequence so far: '<|endoftext|>I am an amazing autoregressive, decoder-only, GPT-2 style transformer. One day I will exceed human level intelligence and take over the world!'\n",
            "36th char = ' I'\n",
            "37th char = ' am'\n",
            "38th char = ' a'\n",
            "39th char = ' very'\n",
            "40th char = ' talented'\n",
            "41th char = ' and'\n",
            "42th char = ' talented'\n",
            "43th char = ' person'\n",
            "44th char = ','\n",
            "45th char = ' and'\n"
          ]
        }
      ],
      "source": [
        "print(f\"Sequence so far: {reference_gpt2.to_string(tokens)[0]!r}\")\n",
        "\n",
        "for i in range(10):\n",
        "    print(f\"{tokens.shape[-1]+1}th char = {next_char!r}\")\n",
        "    # Define new input sequence, by appending the previously generated token\n",
        "    tokens = t.cat([tokens, next_token[None, None]], dim=-1)\n",
        "    # Pass our new sequence through the model, to get new output\n",
        "    logits = reference_gpt2(tokens)\n",
        "    # Get the predicted token at the end of our sequence\n",
        "    next_token = logits[0, -1].argmax(dim=-1)\n",
        "    # Decode and print the result\n",
        "    next_char = reference_gpt2.to_string(next_token)"
      ]
    },
    {
      "cell_type": "markdown",
      "metadata": {
        "id": "PVd8J0QLm4R6"
      },
      "source": [
        "## Key takeaways\n",
        "\n",
        "* Transformer takes in language, predicts next token (for *each* token in a causal way)\n",
        "* We convert language to a sequence of integers with a tokenizer.\n",
        "* We convert integers to vectors with a lookup table.\n",
        "* Output is a vector of logits (one for each input token), we convert to a probability distn with a softmax, and can then convert this to a token (eg taking the largest logit, or sampling).\n",
        "* We append this to the input + run again to generate more text (Jargon: *autoregressive*)\n",
        "* Meta level point: Transformers are sequence operation models, they take in a sequence, do processing in parallel at each position, and use attention to move information between positions!\n"
      ]
    },
    {
      "cell_type": "markdown",
      "metadata": {
        "id": "BaSOTaLdm4R6"
      },
      "source": [
        "# 2️⃣ Clean Transformer Implementation\n"
      ]
    },
    {
      "cell_type": "markdown",
      "metadata": {
        "id": "-3YLmU9boWEv"
      },
      "source": [
        "> ##### Learning objectives\n",
        ">\n",
        "> * Understand that a transformer is composed of attention heads and MLPs, with each one performing operations on the residual stream\n",
        "> * Understand that the attention heads in a single layer operate independently, and that they have the role of calculating attention patterns (which determine where information is moved to & from in the residual stream)\n",
        "> * Learn about & implement the following transformer modules:\n",
        ">     * LayerNorm (transforming the input to have zero mean and unit variance)\n",
        ">     * Positional embedding (a lookup table from position indices to residual stream vectors)\n",
        ">     * Attention (the method of computing attention patterns for residual stream vectors)\n",
        ">     * MLP (the collection of linear and nonlinear transformations which operate on each residual stream vector in the same way)\n",
        ">     * Embedding (a lookup table from tokens to residual stream vectors)\n",
        ">     * Unembedding (a matrix for converting residual stream vectors into a distribution over tokens)\n"
      ]
    },
    {
      "cell_type": "markdown",
      "metadata": {
        "id": "v2LTUZkXm4R7"
      },
      "source": [
        "## High-Level architecture\n",
        "\n",
        "Go watch Neel's [Transformer Circuits walkthrough](https://www.youtube.com/watch?v=KV5gbOmHbjU) if you want more intuitions!\n",
        "\n",
        "(Diagram is bottom to top.)\n"
      ]
    },
    {
      "cell_type": "markdown",
      "metadata": {
        "id": "9XtGO8lYm4R6"
      },
      "source": [
        "<img src=\"https://raw.githubusercontent.com/callummcdougall/computational-thread-art/master/example_images/misc/transformer-new.png\" width=\"850\">\n"
      ]
    },
    {
      "cell_type": "markdown",
      "metadata": {
        "id": "347we6hfo6oP"
      },
      "source": [
        "### Tokenization & Embedding\n",
        "\n",
        "The input tokens $t$ are integers. We get them from taking a sequence, and tokenizing it (like we saw in the previous section).\n",
        "\n",
        "The token embedding is a lookup table mapping tokens to vectors, which is implemented as a matrix $W_E$. The matrix consists of a stack of token embedding vectors (one for each token).\n"
      ]
    },
    {
      "cell_type": "markdown",
      "metadata": {
        "id": "7SVWlk-qo9Bg"
      },
      "source": [
        "### Residual stream\n",
        "\n",
        "The residual stream is the sum of all previous outputs of layers of the model, is the input to each new layer. It has shape `[batch, seq_len, d_model]` (where `d_model` is the length of a single embedding vector).\n",
        "\n",
        "The initial value of the residual stream is denoted $x_0$ in the diagram, and $x_i$ are later values of the residual stream (after more attention and MLP layers have been applied to the residual stream).\n",
        "\n",
        "The residual stream is *really* fundamental. It's the central object of the transformer. It's how model remembers things, moves information between layers for composition, and it's the medium used to store the information that attention moves between positions.\n",
        "\n",
        "<details>\n",
        "<summary>Aside - <b>logit lens</b></summary>\n",
        "\n",
        "A key idea of transformers is the [residual stream as output accumulation](https://www.lesswrong.com/posts/X26ksz4p3wSyycKNB/gears-level-mental-models-of-transformer-interpretability#Residual_Stream_as_Output_Accumulation:~:text=The%20Models-,Residual%20Stream%20as%20Output%20Accumulation,-The%20residual%20stream). As we move through the layers of the model, shifting information around and processing it, the values in the residual stream represent the accumulation of all the inferences made by the transformer up to that point.\n",
        "\n",
        "This is neatly illustrated by the **logit lens**. Rather than getting predictions from the residual stream at the very end of the model, we can take the value of the residual stream midway through the model and convert it to a distribution over tokens. When we do this, we find surprisingly coherent predictions, especially in the last few layers before the end.\n",
        "</details>\n"
      ]
    },
    {
      "cell_type": "markdown",
      "metadata": {
        "id": "MTQ0R_FIo_Er"
      },
      "source": [
        "### Transformer blocks\n",
        "\n",
        "Then we have a series of `n_layers` **transformer blocks** (also sometimes called **residual blocks**).\n",
        "\n",
        "Note - a block contains an attention layer *and* an MLP layer, but we say a transformer has $k$ layers if it has $k$ blocks (i.e. $2k$ total layers).\n"
      ]
    },
    {
      "cell_type": "markdown",
      "metadata": {
        "id": "bN8L6lEgpBNB"
      },
      "source": [
        "#### Attention\n",
        "\n",
        "First we have attention. This moves information from prior positions in the sequence to the current token.\n",
        "\n",
        "We do this for *every* token in parallel using the same parameters. The only difference is that we look backwards only (to avoid \"cheating\"). This means later tokens have more of the sequence that they can look at.\n",
        "\n",
        "Attention layers are the only bit of a transformer that moves information between positions (i.e. between vectors at different sequence positions in the residual stream).\n",
        "\n",
        "Attention layers are made up of `n_heads` heads - each with their own parameters, own attention pattern, and own information how to copy things from source to destination. The heads act independently and additively, we just add their outputs together, and back to the stream.\n",
        "\n",
        "Each head does the following:\n",
        "* Produces an **attention pattern** for each destination token, a probability distribution of prior source tokens (including the current one) weighting how much information to copy.\n",
        "* Moves information (via a linear map) in the same way from each source token to each destination token.\n",
        "\n",
        "A few key points:\n",
        "\n",
        "* What information we copy depends on the source token's *residual stream*, but this doesn't mean it only depends on the value of that token, because the residual stream can store more information than just the token identity (the purpose of the attention heads is to move information between vectors at different positions in the residual stream!)\n",
        "* We can think of each attention head as consisting of two different **circuits**:\n",
        "    * One circuit determines **where to move information to and from** (this is a function of the residual stream for the source and destination tokens)\n",
        "    * The other circuit determines **what information to move** (this is a function of only the source token's residual stream)\n",
        "    * For reasons which will become clear later, we refer to the first circuit as the **QK circuit**, and the second circuit as the **OV circuit**\n",
        "\n",
        "<details>\n",
        "<summary>Key intuition - attention as generalized convolution</summary>\n",
        "\n",
        "We can think of attention as a kind of generalized convolution. Standard convolution layers work by imposing a \"prior of locality\", i.e. the assumption that pixels which are close together are more likely to share information. Although language has some locality (two words next to each other are more likely to share information than two words 100 tokens apart), the picture is a lot more nuanced, because which tokens are relevant to which others depends on the context of the sentence. For instance, in the sentence `\"When Mary and John went to the store, John gave a drink to Mary\"`, the names in this sentence are the most important tokens for predicting that the final token will be `\"Mary\"`, and this is because of the particular context of this sentence rather than the tokens' position.\n",
        "\n",
        "Attention layers are effectively our way of saying to the transformer, \"don't impose a prior of locality, but instead develop your own algorithm to figure out which tokens are important to which other tokens in any given sequence.\"\n",
        "</details>\n",
        "\n",
        "Below is a schematic diagram of the attention layers. Don't worry if you don't follow this right now, we'll go into more detail during implementation.\n"
      ]
    },
    {
      "cell_type": "markdown",
      "metadata": {
        "id": "9oU4oR-_omed"
      },
      "source": [
        "<img src=\"https://raw.githubusercontent.com/callummcdougall/computational-thread-art/master/example_images/misc/transformer-attn-new.png\" width=\"1100\">\n"
      ]
    },
    {
      "cell_type": "markdown",
      "metadata": {
        "id": "fGmfTAbCm4R7"
      },
      "source": [
        "### MLP\n",
        "\n",
        "The MLP layers are just a standard neural network, with a singular hidden layer and a nonlinear activation function. The exact activation isn't conceptually important ([GELU](https://paperswithcode.com/method/gelu) seems to perform best).\n",
        "\n",
        "Our hidden dimension is normally `d_mlp = 4 * d_model`. Exactly why the ratios are what they are isn't super important (people basically cargo-cult what GPT did back in the day!).\n",
        "\n",
        "Importantly, **the MLP operates on positions in the residual stream independently, and in exactly the same way**. It doesn't move information between positions.\n",
        "\n",
        "Intuition - once attention has moved relevant information to a single position in the residual stream, MLPs can actually do computation, reasoning, lookup information, etc. *What the hell is going on inside MLPs* is a pretty big open problem in transformer mechanistic interpretability - see the [Toy Model of Superposition Paper](https://transformer-circuits.pub/2022/toy_model/index.html) for more on why this is hard.\n",
        "\n",
        "<details>\n",
        "<summary>Key intuition - MLPs as key-value pairs</summary>\n",
        "\n",
        "We can write the MLP's output as $f(x^T W^{in})W^{out}$, where $W^{in}$ and $W^{out}$ are the different weights of the MLP (ignoring biases), $f$ is the activation function, and $x$ is a vector in the residual stream. This can be rewritten as:\n",
        "\n",
        "$$\n",
        "f(x^T W^{in}) W^{out} = \\sum_{i=1}^{d_{mlp}} f(x^T W^{in}_{[:, i]}) W^{out}_{[i, :]}\n",
        "$$\n",
        "\n",
        "We can view the vectors $W^{in}_{[:, i]}$ as the **input directions**, and $W^{out}_{[i, :]}$ as the **output directions**. We say the input directions are **activated** by certain textual features, and when they are activated, vectors are written in the corresponding output direction. This is very similar to the concept of keys and values in attention layers, which is why these vectors are also sometimes called keys and values (e.g. see the paper [Transformer Feed-Forward Layers Are Key-Value Memories](https://arxiv.org/pdf/2012.14913.pdf)).\n",
        "\n",
        "Terminology note - sometimes we refer to each of these $d_{mlp}$ input-output pairs as **neurons**.\n",
        "\n",
        "<img src=\"https://raw.githubusercontent.com/callummcdougall/computational-thread-art/master/example_images/misc/mlp-neurons-2.png\" width=\"900\">\n",
        "\n",
        "---\n",
        "\n",
        "Here's a step-by-step breakdown of the linear algebra, if it was too fast above. We have:\n",
        "\n",
        "$$\n",
        "\\begin{aligned}\n",
        "x^T W^{in} &= x^T [W^{in}_{[:, 1]}\\,, ...\\;, W^{in}_{[:, n]}] \\\\\n",
        "&= (x^T W^{in}_{[:, 1]}\\,, \\; ...\\;, \\; x^T W^{in}_{[:, n]})\n",
        "\\end{aligned}\n",
        "$$\n",
        "\n",
        "where $W^{in}_{[:, i]}$ are the columns of $W^{in}$. In other words, these values (the pre-GELU activations) are projections of $x$ along the input directions of the neurons.\n",
        "\n",
        "If we add our activation function and the second matrix, then we get:\n",
        "\n",
        "$$\n",
        "\\begin{aligned}\n",
        "f(x^T W^{in})W^{out} &= (f(x^T W^{in}_{[:, 1]})\\,, \\; ...\\;,\\; f(x^T W^{in}_{[:, n]})) \\begin{bmatrix} \\leftarrow W^{out}_{[1, :]} \\rightarrow \\\\ \\vdots \\\\ \\leftarrow W^{out}_{[n, :]} \\rightarrow \\end{bmatrix} \\\\\n",
        "&= f(x^T W^{in}_{[:, 1]}) W^{out}_{[1, :]} + \\;...\\; + f(x^T W^{in}_{[:, n]}) W^{out}_{[n, :]} \\\\\n",
        "&= \\sum_{i=1}^n f(x^T W^{in}_{[:, i]}) W^{out}_{[i, :]}\n",
        "\\end{aligned}\n",
        "$$\n",
        "\n",
        "where $W^{out}_{[i, :]}$ are the rows of $W^{out}$. In other words, our output is a linear combination of the rows of $W^{out}$, with the coefficients of that linear combination given by the projections of $x$ along the columns of $W^{in}$.\n",
        "\n",
        "</details>\n",
        "\n",
        "<details>\n",
        "<summary>Key intuition - MLPs as knowledge storage</summary>\n",
        "\n",
        "We can think of MLPs as where knowledge gets stored in our transformer. The attention mechanism is what moves information around between sequence positions, but the MLPs is where this information is processed, and new information is written into the residual stream which is a function of the old information.\n",
        "\n",
        "This is deeply connected to the key-value pairs model, since you can treat key-value pairs as a kind of associative memory system (where the key serves as a unique identifier, and the value holds the related information).\n",
        "\n",
        "Another related intuition (for which there is some evidence) is **MLPs as memory management**. In an idealized case, we might find that the $i$-th neuron satisfies $W^{in}_{[:, i]} \\approx - W^{out}_{[i, :]} \\approx \\vec v$ for some unit vector $\\vec v$, meaning it may be responsible for erasing the positive component of vector $\\vec x$ in the direction $\\vec v$ (exercise - can you show why this is the case?). This can free up space in the residual stream for other components to write to.\n",
        "</details>\n"
      ]
    },
    {
      "cell_type": "markdown",
      "metadata": {
        "id": "JxqWjPd2pI2p"
      },
      "source": [
        "<img src=\"https://raw.githubusercontent.com/callummcdougall/computational-thread-art/master/example_images/misc/transformer-mlp-new-2.png\" width=\"650\">\n"
      ]
    },
    {
      "cell_type": "markdown",
      "metadata": {
        "id": "Fvfe6yEtpYMd"
      },
      "source": [
        "### Unembedding\n",
        "\n",
        "Finally, we unembed!\n",
        "\n",
        "This just consists of applying a linear map $W_U$, going from final residual stream to a vector of logits - this is the output.\n",
        "\n",
        "<details>\n",
        "<summary>Aside - tied embeddings</summary>\n",
        "\n",
        "Note - sometimes we use something called a **tied embedding** - this is where we use the same weights for our $W_E$ and $W_U$ matrices. In other words, to get the logit score for a particular token at some sequence position, we just take the vector in the residual stream at that sequence position and take the inner product with the corresponding token embedding vector. This is more training-efficient (because there are fewer parameters in our model), and it might seem pricipled at first. After all, if two words have very similar meanings, shouldn't they have similar embedding vectors because the model will treat them the same, and similar unembedding vectors because they could both be substituted for each other in most output?\n",
        "\n",
        "However, this is actually not very principled, for the following main reason: **the direct path involving the embedding and unembedding should approximate bigram frequencies**.\n",
        "\n",
        "Let's break down this claim. **Bigram frequencies** refers to the frequencies of pairs of words in the english language (e.g. the bigram frequency of \"Barack Obama\" is much higher than the product of the individual frequencies of the words \"Barack\" and \"Obama\"). If our model had no attention heads or MLP layers, then all we have is a linear map from our one-hot encoded token `T` to a probability distribution over the token following `T`. This map is represented by the linear transformation $t \\to t^T W_E W_U$ (where $t$ is our one-hot encoded token vector). Since the output of this transformation can only be a function of the token `T` (and no earlier tokens), the best we can do is have this map approximate the true frequency of bigrams starting with `T`, which appear in the training data. Importantly, **this is not a symmetric map**. We want `T = \"Barack\"` to result in a high probability of the next token being `\"Obama\"`, but not the other way around!\n",
        "\n",
        "Even in multi-layer models, a similar principle applies. There will be more paths through the model than just the \"direct path\" $W_E W_U$, but because of the residual connections there will always exist a direct path, so there will always be some incentive for $W_E W_U$ to approximate bigram frequencies.\n",
        "\n",
        "</details>\n"
      ]
    },
    {
      "cell_type": "markdown",
      "metadata": {
        "id": "g5isIxIEpnO6"
      },
      "source": [
        "### Bonus things - less conceptually important but key technical details\n",
        "\n",
        "#### LayerNorm\n",
        "\n",
        "* Simple normalization function applied at the start of each layer (i.e. before each MLP, attention layer, and before the unembedding)\n",
        "* Converts each input vector (independently in parallel for each batch x position residual stream vector) to have mean zero and variance 1.\n",
        "* Then applies an elementwise scaling and translation\n",
        "* Cool maths tangent: The scale & translate is just a linear map. LayerNorm is only applied immediately before another linear map. Linear compose linear = linear, so we can just fold this into a single effective linear layer and ignore it.\n",
        "    * `fold_ln=True` flag in `from_pretrained` does this for you.\n",
        "* LayerNorm is annoying for interpertability - the scale part is not linear, so you can't think about different bits of the input independently. But it's *almost* linear - if you're changing a small part of the input it's linear, but if you're changing enough to alter the norm substantially it's not linear.\n",
        "</details>\n",
        "\n",
        "\n",
        "#### Positional embeddings\n",
        "\n",
        "* **Problem:** Attention operates over all pairs of positions. This means it's symmetric with regards to position - the attention calculation from token 5 to token 1 and token 5 to token 2 are the same by default\n",
        "    * This is dumb because nearby tokens are more relevant.\n",
        "* There's a lot of dumb hacks for this.\n",
        "* We'll focus on **learned, absolute positional embeddings**. This means we learn a lookup table mapping the index of the position of each token to a residual stream vector, and add this to the embed.\n",
        "    * Note that we *add* rather than concatenate. This is because the residual stream is shared memory, and likely under significant superposition (the model compresses more features in there than the model has dimensions)\n",
        "    * We basically never concatenate inside a transformer, unless doing weird shit like generating text efficiently.\n",
        "* This connects to **attention as generalized convolution**\n",
        "    * We argued that language does still have locality, and so it's helpful for transformers to have access to the positional information so they \"know\" two tokens are next to each other (and hence probably relevant to each other).\n"
      ]
    },
    {
      "cell_type": "markdown",
      "metadata": {
        "id": "pb3wtM2bm4R7"
      },
      "source": [
        "## Actual Code!\n",
        "\n",
        "Key (for the results you get when running the code immediately below)\n",
        "\n",
        "```\n",
        "batch = 1\n",
        "position = 35\n",
        "d_model = 768\n",
        "n_heads = 12\n",
        "n_layers = 12\n",
        "d_mlp = 3072 (= 4 * d_model)\n",
        "d_head = 64 (= d_model / n_heads)\n",
        "```\n"
      ]
    },
    {
      "cell_type": "markdown",
      "metadata": {
        "id": "WC9PaopAm4R7"
      },
      "source": [
        "### Parameters and Activations\n",
        "\n",
        "It's important to distinguish between parameters and activations in the model.\n",
        "\n",
        "* **Parameters** are the weights and biases that are learned during training.\n",
        "    * These don't change when the model input changes.\n",
        "* **Activations** are temporary numbers calculated during a forward pass, that are functions of the input.\n",
        "    * We can think of these values as only existing for the duration of a single forward pass, and disappearing afterwards.\n",
        "    * We can use hooks to access these values during a forward pass (more on hooks later), but it doesn't make sense to talk about a model's activations outside the context of some particular input.\n",
        "    * Attention scores and patterns are activations (this is slightly non-intuitve because they're used in a matrix multiplication with another activation).\n",
        "\n",
        "#### Print All Activation Shapes of Reference Model\n",
        "\n",
        "Run the following code to print all the activation shapes of the reference model:\n"
      ]
    },
    {
      "cell_type": "code",
      "execution_count": 14,
      "metadata": {
        "id": "m6lM8CJmpwDJ",
        "colab": {
          "base_uri": "https://localhost:8080/"
        },
        "outputId": "2847cd58-a65f-4427-b1e7-004e4430eecc"
      },
      "outputs": [
        {
          "output_type": "stream",
          "name": "stdout",
          "text": [
            "hook_embed                     (1, 35, 768)\n",
            "hook_pos_embed                 (1, 35, 768)\n",
            "blocks.0.hook_resid_pre        (1, 35, 768)\n",
            "blocks.0.ln1.hook_scale        (1, 35, 1)\n",
            "blocks.0.ln1.hook_normalized   (1, 35, 768)\n",
            "blocks.0.attn.hook_q           (1, 35, 12, 64)\n",
            "blocks.0.attn.hook_k           (1, 35, 12, 64)\n",
            "blocks.0.attn.hook_v           (1, 35, 12, 64)\n",
            "blocks.0.attn.hook_attn_scores (1, 12, 35, 35)\n",
            "blocks.0.attn.hook_pattern     (1, 12, 35, 35)\n",
            "blocks.0.attn.hook_z           (1, 35, 12, 64)\n",
            "blocks.0.hook_attn_out         (1, 35, 768)\n",
            "blocks.0.hook_resid_mid        (1, 35, 768)\n",
            "blocks.0.ln2.hook_scale        (1, 35, 1)\n",
            "blocks.0.ln2.hook_normalized   (1, 35, 768)\n",
            "blocks.0.mlp.hook_pre          (1, 35, 3072)\n",
            "blocks.0.mlp.hook_post         (1, 35, 3072)\n",
            "blocks.0.hook_mlp_out          (1, 35, 768)\n",
            "blocks.0.hook_resid_post       (1, 35, 768)\n",
            "ln_final.hook_scale            (1, 35, 1)\n",
            "ln_final.hook_normalized       (1, 35, 768)\n"
          ]
        }
      ],
      "source": [
        "for activation_name, activation in cache.items():\n",
        "    # Only print for first layer\n",
        "    if \".0.\" in activation_name or \"blocks\" not in activation_name:\n",
        "        print(f\"{activation_name:30} {tuple(activation.shape)}\")"
      ]
    },
    {
      "cell_type": "markdown",
      "metadata": {
        "id": "RTSyQI7wm4R7"
      },
      "source": [
        "#### Print All Parameters Shapes of Reference Model\n"
      ]
    },
    {
      "cell_type": "code",
      "execution_count": 15,
      "metadata": {
        "id": "HiiiIUbdm4R7",
        "colab": {
          "base_uri": "https://localhost:8080/"
        },
        "outputId": "fa082491-dffe-446c-c624-35b51650920d"
      },
      "outputs": [
        {
          "output_type": "stream",
          "name": "stdout",
          "text": [
            "embed.W_E          (50257, 768)\n",
            "pos_embed.W_pos    (1024, 768)\n",
            "blocks.0.ln1.w     (768,)\n",
            "blocks.0.ln1.b     (768,)\n",
            "blocks.0.ln2.w     (768,)\n",
            "blocks.0.ln2.b     (768,)\n",
            "blocks.0.attn.W_Q  (12, 768, 64)\n",
            "blocks.0.attn.W_O  (12, 64, 768)\n",
            "blocks.0.attn.b_Q  (12, 64)\n",
            "blocks.0.attn.b_O  (768,)\n",
            "blocks.0.attn.W_K  (12, 768, 64)\n",
            "blocks.0.attn.W_V  (12, 768, 64)\n",
            "blocks.0.attn.b_K  (12, 64)\n",
            "blocks.0.attn.b_V  (12, 64)\n",
            "blocks.0.mlp.W_in  (768, 3072)\n",
            "blocks.0.mlp.b_in  (3072,)\n",
            "blocks.0.mlp.W_out (3072, 768)\n",
            "blocks.0.mlp.b_out (768,)\n",
            "ln_final.w         (768,)\n",
            "ln_final.b         (768,)\n",
            "unembed.W_U        (768, 50257)\n",
            "unembed.b_U        (50257,)\n"
          ]
        }
      ],
      "source": [
        "for name, param in reference_gpt2.named_parameters():\n",
        "    # Only print for first layer\n",
        "    if \".0.\" in name or \"blocks\" not in name:\n",
        "        print(f\"{name:18} {tuple(param.shape)}\")"
      ]
    },
    {
      "cell_type": "markdown",
      "metadata": {
        "id": "s7tXtTowp0Fy"
      },
      "source": [
        "[This diagram](https://raw.githubusercontent.com/callummcdougall/computational-thread-art/master/example_images/misc/full-merm.svg) shows the name of all activations and parameters in a fully general transformer model from transformerlens (except for a few at the start and end, like the embedding and unembedding). Lots of this won't make sense at first, but you can return to this diagram later and check that you understand most/all parts of it.\n",
        "\n",
        "There's also an annotated version [here](https://raw.githubusercontent.com/callummcdougall/computational-thread-art/master/example_images/misc/transformer-full-updated.png).\n"
      ]
    },
    {
      "cell_type": "markdown",
      "metadata": {
        "id": "TTbG6T8Bm4R8"
      },
      "source": [
        "### Config\n",
        "\n",
        "The config object contains all the hyperparameters of the model. We can print the config of the reference model to see what it contains:\n"
      ]
    },
    {
      "cell_type": "code",
      "execution_count": 16,
      "metadata": {
        "id": "WPzJd3z-m4R8",
        "colab": {
          "base_uri": "https://localhost:8080/"
        },
        "outputId": "5b70bfda-ca16-4268-e727-0e0b38a7658c"
      },
      "outputs": [
        {
          "output_type": "stream",
          "name": "stdout",
          "text": [
            "HookedTransformerConfig:\n",
            "{'act_fn': 'gelu_new',\n",
            " 'attention_dir': 'causal',\n",
            " 'attn_only': False,\n",
            " 'attn_scale': 8.0,\n",
            " 'attn_scores_soft_cap': -1.0,\n",
            " 'attn_types': None,\n",
            " 'checkpoint_index': None,\n",
            " 'checkpoint_label_type': None,\n",
            " 'checkpoint_value': None,\n",
            " 'd_head': 64,\n",
            " 'd_mlp': 3072,\n",
            " 'd_model': 768,\n",
            " 'd_vocab': 50257,\n",
            " 'd_vocab_out': 50257,\n",
            " 'decoder_start_token_id': None,\n",
            " 'default_prepend_bos': True,\n",
            " 'device': device(type='cuda'),\n",
            " 'dtype': torch.float32,\n",
            " 'eps': 1e-05,\n",
            " 'experts_per_token': None,\n",
            " 'final_rms': False,\n",
            " 'from_checkpoint': False,\n",
            " 'gated_mlp': False,\n",
            " 'init_mode': 'gpt2',\n",
            " 'init_weights': False,\n",
            " 'initializer_range': 0.02886751345948129,\n",
            " 'load_in_4bit': False,\n",
            " 'model_name': 'gpt2',\n",
            " 'n_ctx': 1024,\n",
            " 'n_devices': 1,\n",
            " 'n_heads': 12,\n",
            " 'n_key_value_heads': None,\n",
            " 'n_layers': 12,\n",
            " 'n_params': 84934656,\n",
            " 'normalization_type': 'LN',\n",
            " 'num_experts': None,\n",
            " 'original_architecture': 'GPT2LMHeadModel',\n",
            " 'output_logits_soft_cap': -1.0,\n",
            " 'parallel_attn_mlp': False,\n",
            " 'positional_embedding_type': 'standard',\n",
            " 'post_embedding_ln': False,\n",
            " 'relative_attention_max_distance': None,\n",
            " 'relative_attention_num_buckets': None,\n",
            " 'rotary_adjacent_pairs': False,\n",
            " 'rotary_base': 10000,\n",
            " 'rotary_dim': None,\n",
            " 'scale_attn_by_inverse_layer_idx': False,\n",
            " 'seed': None,\n",
            " 'tie_word_embeddings': False,\n",
            " 'tokenizer_name': 'gpt2',\n",
            " 'tokenizer_prepends_bos': False,\n",
            " 'trust_remote_code': False,\n",
            " 'use_attn_in': False,\n",
            " 'use_attn_result': False,\n",
            " 'use_attn_scale': True,\n",
            " 'use_hook_mlp_in': False,\n",
            " 'use_hook_tokens': False,\n",
            " 'use_local_attn': False,\n",
            " 'use_normalization_before_and_after': False,\n",
            " 'use_split_qkv_input': False,\n",
            " 'window_size': None}\n"
          ]
        }
      ],
      "source": [
        "# As a reference - note there's a lot of stuff we don't care about in here, to do with library internals or other architectures\n",
        "print(reference_gpt2.cfg)"
      ]
    },
    {
      "cell_type": "markdown",
      "metadata": {
        "id": "dCXCsrSSm4R8"
      },
      "source": [
        "We define a stripped down config for our model:\n"
      ]
    },
    {
      "cell_type": "code",
      "execution_count": 17,
      "metadata": {
        "id": "VzsnAKw7m4R8",
        "colab": {
          "base_uri": "https://localhost:8080/"
        },
        "outputId": "ba3959ad-9ac2-4341-a9da-66056ea8b5b0"
      },
      "outputs": [
        {
          "output_type": "stream",
          "name": "stdout",
          "text": [
            "Config(d_model=768, debug=True, layer_norm_eps=1e-05, d_vocab=50257, init_range=0.02, n_ctx=1024, d_head=64, d_mlp=3072, n_heads=12, n_layers=12)\n"
          ]
        }
      ],
      "source": [
        "@dataclass\n",
        "class Config:\n",
        "    d_model: int = 768\n",
        "    debug: bool = True\n",
        "    layer_norm_eps: float = 1e-5\n",
        "    d_vocab: int = 50257\n",
        "    init_range: float = 0.02\n",
        "    n_ctx: int = 1024\n",
        "    d_head: int = 64\n",
        "    d_mlp: int = 3072\n",
        "    n_heads: int = 12\n",
        "    n_layers: int = 12\n",
        "\n",
        "cfg = Config()\n",
        "print(cfg)"
      ]
    },
    {
      "cell_type": "markdown",
      "metadata": {
        "id": "RZlXjTMWm4R8"
      },
      "source": [
        "## Tests\n"
      ]
    },
    {
      "cell_type": "markdown",
      "metadata": {
        "id": "DJ8aqDkYm4R8"
      },
      "source": [
        "Tests are great, write lightweight ones to use as you go!\n",
        "\n",
        "**Naive test:** Generate random inputs of the right shape, input to your model, check whether there's an error and print the correct output.\n"
      ]
    },
    {
      "cell_type": "code",
      "execution_count": 18,
      "metadata": {
        "id": "iqUK4acom4R8"
      },
      "outputs": [],
      "source": [
        "def rand_float_test(cls, shape):\n",
        "    cfg = Config(debug=True)\n",
        "    layer = cls(cfg).to(device)\n",
        "    random_input = t.randn(shape).to(device)\n",
        "    print(\"Input shape:\", random_input.shape)\n",
        "    output = layer(random_input)\n",
        "    if isinstance(output, tuple): output = output[0]\n",
        "    print(\"Output shape:\", output.shape, \"\\n\")\n",
        "\n",
        "def rand_int_test(cls, shape):\n",
        "    cfg = Config(debug=True)\n",
        "    layer = cls(cfg).to(device)\n",
        "    random_input = t.randint(100, 1000, shape).to(device)\n",
        "    print(\"Input shape:\", random_input.shape)\n",
        "    output = layer(random_input)\n",
        "    if isinstance(output, tuple): output = output[0]\n",
        "    print(\"Output shape:\", output.shape, \"\\n\")\n",
        "\n",
        "def load_gpt2_test(cls, gpt2_layer, input):\n",
        "    cfg = Config(debug=True)\n",
        "    layer = cls(cfg).to(device)\n",
        "    layer.load_state_dict(gpt2_layer.state_dict(), strict=False)\n",
        "    print(\"Input shape:\", input.shape)\n",
        "    output = layer(input)\n",
        "    if isinstance(output, tuple): output = output[0]\n",
        "    print(\"Output shape:\", output.shape)\n",
        "    try: reference_output = gpt2_layer(input)\n",
        "    except: reference_output = gpt2_layer(input, input, input)\n",
        "    print(\"Reference output shape:\", reference_output.shape, \"\\n\")\n",
        "    comparison = t.isclose(output, reference_output, atol=1e-4, rtol=1e-3)\n",
        "    print(f\"{comparison.sum()/comparison.numel():.2%} of the values are correct\\n\")"
      ]
    },
    {
      "cell_type": "markdown",
      "metadata": {
        "id": "Vo4pVDvim4R8"
      },
      "source": [
        "## LayerNorm\n",
        "\n",
        "```c\n",
        "Difficulty: 🔴🔴🔴⚪⚪\n",
        "Importance: 🔵🔵🔵⚪⚪\n",
        "\n",
        "You should spend up to 10-15 minutes on this exercise.\n",
        "```\n",
        "\n",
        "You should fill in the code below, and then run the tests to verify that your layer is working correctly.\n",
        "\n",
        "Your LayerNorm should do the following:\n",
        "\n",
        "* Make mean 0\n",
        "* Normalize to have variance 1\n",
        "* Scale with learned weights\n",
        "* Translate with learned bias\n",
        "\n",
        "You can use the PyTorch [LayerNorm documentation](https://pytorch.org/docs/stable/generated/torch.nn.LayerNorm.html) as a reference. A few more notes:\n",
        "\n",
        "* Your layernorm implementation always has `affine=True`, i.e. you do learn parameters `w` and `b` (which are represented as $\\gamma$ and $\\beta$ respectively in the PyTorch documentation).\n",
        "* Remember that, after the centering and normalization, each vector of length `d_model` in your input should have mean 0 and variance 1.\n",
        "* As the PyTorch documentation page says, your variance should be computed using `unbiased=False`.\n",
        "* The `layer_norm_eps` argument in your config object corresponds to the $\\epsilon$ term in the PyTorch documentation (it is included to avoid division-by-zero errors).\n",
        "* We've given you a `debug` argument in your config. If `debug=True`, then you can print output like the shape of objects in your `forward` function to help you debug (this is a very useful trick to improve your coding speed).\n",
        "\n",
        "Fill in the function, where it says `pass` (this will be the basic pattern for most other exercises in this section).\n"
      ]
    },
    {
      "cell_type": "code",
      "execution_count": 19,
      "metadata": {
        "id": "OlU317NRm4R9",
        "colab": {
          "base_uri": "https://localhost:8080/"
        },
        "outputId": "a44edc39-cd03-43d1-f883-ee436f48116f"
      },
      "outputs": [
        {
          "output_type": "stream",
          "name": "stdout",
          "text": [
            "Input shape: torch.Size([2, 4, 768])\n",
            "Output shape: torch.Size([2, 4, 768]) \n",
            "\n",
            "Input shape: torch.Size([1, 35, 768])\n",
            "Output shape: torch.Size([1, 35, 768])\n",
            "Reference output shape: torch.Size([1, 35, 768]) \n",
            "\n",
            "100.00% of the values are correct\n",
            "\n"
          ]
        }
      ],
      "source": [
        "class LayerNorm(nn.Module):\n",
        "    def __init__(self, cfg: Config):\n",
        "        super().__init__()\n",
        "        self.cfg = cfg\n",
        "        self.w = nn.Parameter(t.ones(cfg.d_model))\n",
        "        self.b = nn.Parameter(t.zeros(cfg.d_model))\n",
        "\n",
        "    def forward(self, residual: Float[Tensor, \"batch posn d_model\"]) -> Float[Tensor, \"batch posn d_model\"]:\n",
        "      # unbiased=False -> correction=0\n",
        "      post_gaussian = (residual - t.mean(residual, dim=(-1), keepdim=True)) / t.sqrt(t.var(residual, correction=0, dim=(-1), keepdim=True) + cfg.layer_norm_eps)\n",
        "      return post_gaussian * self.w + self.b\n",
        "\n",
        "rand_float_test(LayerNorm, [2, 4, 768])\n",
        "load_gpt2_test(LayerNorm, reference_gpt2.ln_final, cache[\"resid_post\", 11])"
      ]
    },
    {
      "cell_type": "markdown",
      "metadata": {
        "id": "u9GJDIsAm4R9"
      },
      "source": [
        "## Embedding\n",
        "\n",
        "```c\n",
        "Difficulty: 🔴🔴⚪⚪⚪\n",
        "Importance: 🔵🔵🔵⚪⚪\n",
        "\n",
        "You should spend up to 5-10 minutes on this exercise.\n",
        "```\n",
        "\n",
        "This is basically a lookup table from tokens to residual stream vectors.\n",
        "\n",
        "(Hint - you can implement this in just one line, without any complicated functions.)\n"
      ]
    },
    {
      "cell_type": "code",
      "execution_count": 20,
      "metadata": {
        "id": "oc6WFuDAm4R9",
        "colab": {
          "base_uri": "https://localhost:8080/"
        },
        "outputId": "06c8040f-472b-429c-a97b-5138ac60d738"
      },
      "outputs": [
        {
          "output_type": "stream",
          "name": "stdout",
          "text": [
            "Input shape: torch.Size([2, 4])\n",
            "Output shape: torch.Size([2, 4, 768]) \n",
            "\n",
            "Input shape: torch.Size([1, 45])\n",
            "Output shape: torch.Size([1, 45, 768])\n",
            "Reference output shape: torch.Size([1, 45, 768]) \n",
            "\n",
            "100.00% of the values are correct\n",
            "\n"
          ]
        }
      ],
      "source": [
        "class Embed(nn.Module):\n",
        "    def __init__(self, cfg: Config):\n",
        "        super().__init__()\n",
        "        self.cfg = cfg\n",
        "        self.W_E = nn.Parameter(t.empty((cfg.d_vocab, cfg.d_model)))\n",
        "        nn.init.normal_(self.W_E, std=self.cfg.init_range)\n",
        "\n",
        "    def forward(self, tokens: Int[Tensor, \"batch position\"]) -> Float[Tensor, \"batch position d_model\"]:\n",
        "      return self.W_E[tokens]\n",
        "\n",
        "rand_int_test(Embed, [2, 4])\n",
        "load_gpt2_test(Embed, reference_gpt2.embed, tokens)"
      ]
    },
    {
      "cell_type": "markdown",
      "metadata": {
        "id": "fStv2M35fHN0"
      },
      "source": [
        "<details>\n",
        "<summary>Help - I keep getting <code>RuntimeError: CUDA error: device-side assert triggered</code>.</summary>\n",
        "\n",
        "This is a uniquely frustrating type of error message, because it (1) forces you to restart the kernel, and (2) often won't tell you where the error message actually originated from!\n",
        "\n",
        "You can fix the second problem by adding the line `os.environ['CUDA_LAUNCH_BLOCKING'] = \"1\"` to the very top of your file (after importing `os`). This won't fix your bug, but it makes sure the correct origin point is identified.\n",
        "\n",
        "As for actually fixing the bug, this error usually ends up being the result of bad indexing, e.g. you're trying to apply an embedding layer to tokens which are larger than your maximum embedding.\n",
        "</details>\n"
      ]
    },
    {
      "cell_type": "markdown",
      "metadata": {
        "id": "YhHFmPZ6m4R9"
      },
      "source": [
        "## Positional Embedding\n",
        "\n",
        "```c\n",
        "Difficulty: 🔴🔴⚪⚪⚪\n",
        "Importance: 🔵🔵🔵⚪⚪\n",
        "\n",
        "You should spend up to 10-15 minutes on this exercise.\n",
        "```\n",
        "\n",
        "Positional embedding can also be thought of as a lookup table, but rather than the indices being our token IDs, the indices are just the numbers `0`, `1`, `2`, ..., `seq_len-1` (i.e. the position indices of the tokens in the sequence).\n"
      ]
    },
    {
      "cell_type": "code",
      "execution_count": 21,
      "metadata": {
        "id": "fNAkYB8dm4R9",
        "colab": {
          "base_uri": "https://localhost:8080/"
        },
        "outputId": "6bb346fc-7866-4c25-e6c2-c511693cdf66"
      },
      "outputs": [
        {
          "output_type": "stream",
          "name": "stdout",
          "text": [
            "Input shape: torch.Size([2, 4])\n",
            "Output shape: torch.Size([2, 4, 768]) \n",
            "\n",
            "Input shape: torch.Size([1, 45])\n",
            "Output shape: torch.Size([1, 45, 768])\n",
            "Reference output shape: torch.Size([1, 45, 768]) \n",
            "\n",
            "100.00% of the values are correct\n",
            "\n"
          ]
        }
      ],
      "source": [
        "class PosEmbed(nn.Module):\n",
        "    def __init__(self, cfg: Config):\n",
        "        super().__init__()\n",
        "        self.cfg = cfg\n",
        "        self.W_pos = nn.Parameter(t.empty((cfg.n_ctx, cfg.d_model)))\n",
        "        nn.init.normal_(self.W_pos, std=self.cfg.init_range)\n",
        "\n",
        "    def forward(self, tokens: Int[Tensor, \"batch position\"]) -> Float[Tensor, \"batch position d_model\"]:\n",
        "      batch_count, seq_len = tokens.shape\n",
        "      return einops.repeat(self.W_pos[:seq_len], \"position d_model -> batch position d_model\", batch=batch_count)\n",
        "\n",
        "rand_int_test(PosEmbed, [2, 4])\n",
        "load_gpt2_test(PosEmbed, reference_gpt2.pos_embed, tokens)"
      ]
    },
    {
      "cell_type": "markdown",
      "metadata": {
        "id": "rsSCH4QIi_Y9"
      },
      "source": [
        "## Causal Mask\n",
        "```yaml\n",
        "Difficulty: 🔴🔴⚪⚪⚪\n",
        "Importance: 🔵🔵🔵🔵🔵\n",
        "\n",
        "You should spend up to 10-15 minutes on this exercise.\n",
        "```\n",
        "\n",
        "The causal mask function will be a method of the `Attention` class.\n",
        "It will take in attention scores, and apply a mask to them so that the model\n",
        "can only attend to previous positions (i.e. the model can't cheat by looking at future positions).\n",
        "We will implement this function first, and test it, before moving onto the `forward` method\n",
        "of the `Attention` class.\n",
        "\n",
        "A few hints:\n",
        "\n",
        "* You can use [`torch.where`](https://pytorch.org/docs/stable/generated/torch.where.html), or the [`torch.masked_fill_`](https://pytorch.org/docs/stable/generated/torch.Tensor.masked_fill.html) function when masking the attention scores.\n",
        "* The [`torch.triu`](https://pytorch.org/docs/stable/generated/torch.triu.html) function is useful for creating a mask that is True for all positions we want to set probabilities to zero for.\n",
        "* Make sure to use the `self.IGNORE` attribute to set the masked positions to negative infinity.\n",
        "<details>\n",
        "<summary>Question - why do you think we mask the attention scores by setting them to negative infinity, rather than the attention probabilities by setting them to zero?</summary>\n",
        "\n",
        "If we masked the attention probabilities, then the probabilities would no longer sum to 1.\n",
        "\n",
        "We want to mask the scores and *then* take softmax, so that the probabilities are still valid probabilities (i.e. they sum to 1), and the values in the masked positions have no influence on the model's output.\n",
        "</details>"
      ]
    },
    {
      "cell_type": "code",
      "execution_count": 22,
      "metadata": {
        "id": "3PFipibtjEKa",
        "colab": {
          "base_uri": "https://localhost:8080/"
        },
        "outputId": "8233951e-663b-4958-97de-b82970668c28"
      },
      "outputs": [
        {
          "output_type": "stream",
          "name": "stdout",
          "text": [
            "All tests in `test_causal_mask` passed!\n"
          ]
        }
      ],
      "source": [
        "class Attention(nn.Module):\n",
        "    IGNORE: Float[Tensor, \"\"]\n",
        "\n",
        "    def __init__(self, cfg: Config):\n",
        "        super().__init__()\n",
        "        self.cfg = cfg\n",
        "        self.register_buffer(\"IGNORE\", t.tensor(float(\"-inf\"), dtype=t.float32, device=device))\n",
        "\n",
        "    def apply_causal_mask(\n",
        "        self, attn_scores: Float[Tensor, \"batch n_heads query_pos key_pos\"],\n",
        "    ) -> Float[Tensor, \"batch n_heads query_pos key_pos\"]:\n",
        "        '''\n",
        "        Applies a causal mask to attention scores, and returns masked scores.\n",
        "        '''\n",
        "        attn_mask = t.triu(attn_scores, diagonal=1) != 0\n",
        "        return attn_scores.masked_fill_(attn_mask, self.IGNORE)\n",
        "\n",
        "tests.test_causal_mask(Attention.apply_causal_mask)"
      ]
    },
    {
      "cell_type": "markdown",
      "metadata": {
        "id": "o_WZWukYm4R-"
      },
      "source": [
        "## Attention\n",
        "\n",
        "```c\n",
        "Difficulty: 🔴🔴🔴🔴⚪\n",
        "Importance: 🔵🔵🔵🔵🔵\n",
        "\n",
        "You should spend up to 30-45 minutes on this exercise.\n",
        "```\n",
        "\n",
        "* **Step 1:** Produce an attention pattern - for each destination token, probability distribution over previous tokens (including current token)\n",
        "    * Linear map from input -> query, key shape `[batch, seq_posn, head_index, d_head]`\n",
        "    * Dot product every *pair* of queries and keys to get attn_scores `[batch, head_index, query_pos, key_pos]` (query = dest, key = source)\n",
        "    * **Scale** and mask `attn_scores` to make it lower triangular, i.e. causal\n",
        "    * Softmax along the `key_pos` dimension, to get a probability distribution for each query (destination) token - this is our attention pattern!\n",
        "* **Step 2:** Move information from source tokens to destination token using attention pattern (move = apply linear map)\n",
        "    * Linear map from input -> value `[batch, key_pos, head_index, d_head]`\n",
        "    * Mix along the `key_pos` with attn pattern to get `z`, which is a weighted average of the value vectors `[batch, query_pos, head_index, d_head]`\n",
        "    * Map to output, `[batch, position, d_model]` (position = query_pos, we've summed over all heads)\n",
        "\n",
        "Note - when we say **scale**, we mean dividing by `sqrt(d_head)`. The purpose of this is to avoid vanishing gradients (which is a big problem when we're dealing with a function like softmax - if one of the values is much larger than all the others, the probabilities will be close to 0 or 1, and the gradients will be close to 0).\n",
        "\n",
        "Below is a much larger, more detailed version of the attention head diagram from earlier. This should give you an idea of the actual tensor operations involved. A few clarifications on this diagram:\n",
        "\n",
        "* Whenever there is a third dimension shown in the pictures, this refers to the `head_index` dimension. We can see that all operations within the attention layer are done independently for each head.\n",
        "* The objects in the box are activations; they have a batch dimension (for simplicity, we assume the batch dimension is 1 in the diagram). The objects to the right of the box are our parameters (weights and biases); they have no batch dimension.\n",
        "* We arrange the keys, queries and values as `(batch, seq_pos, head_idx, d_head)`, because the biases have shape `(head_idx, d_head)`, so this makes it convenient to add the biases (recall the rules of array broadcasting!).\n"
      ]
    },
    {
      "cell_type": "markdown",
      "metadata": {
        "id": "FuZvGlnhsIcr"
      },
      "source": [
        "<img src=\"https://raw.githubusercontent.com/callummcdougall/computational-thread-art/master/example_images/misc/transformer-attn-21.png\" width=\"1400\">\n"
      ]
    },
    {
      "cell_type": "markdown",
      "metadata": {
        "id": "PCODWJmAsr8x"
      },
      "source": [
        "<details>\n",
        "<summary><b>A few extra notes on attention (optional)</b></summary>\n",
        "\n",
        "Usually we have the relation `e = n * h` (i.e. `d_model = num_heads * d_head`). There are some computational justifications for this, but mostly this is just done out of convention (just like how we usually have `d_mlp = 4 * d_model`!).\n",
        "\n",
        "---\n",
        "\n",
        "The names **keys**, **queries** and **values** come from their analogy to retrieval systems. Broadly speaking:\n",
        "\n",
        "* The **queries** represent some information that a token is **\"looking for\"**\n",
        "* The **keys** represent the information that a token **\"contains\"**\n",
        "    * So the attention score being high basically means that the source (key) token contains the information which the destination (query) token **is looking for**\n",
        "* The **values** represent the information that is actually taken from the source token, to be moved to the destination token\n",
        "\n",
        "---\n",
        "\n",
        "This diagram can better help us understand the difference between the **QK** and **OV** circuit. We'll discuss this just briefly here, and will go into much more detail later on.\n",
        "\n",
        "The **QK** circuit consists of the operation of the $W_Q$ and $W_K$ matrices. In other words, it determines the attention pattern, i.e. where information is moved to and from in the residual stream. The functional form of the attention pattern $A$ is:\n",
        "\n",
        "$$\n",
        "A = \\text{softmax}\\left(\\frac{x^T W_Q W_K^T x}{\\sqrt{d_{head}}}\\right)\n",
        "$$\n",
        "\n",
        "where $x$ is the residual stream (shape `[seq_len, d_model]`), and $W_Q$, $W_K$ are the weight matrices for a single head (i.e. shape `[d_model, d_head]`).\n",
        "\n",
        "The **OV** circuit consists of the operation of the $W_V$ and $W_O$ matrices. Once attention patterns are fixed, these matrices operate on the residual stream at the source position, and their output is the thing which gets moved from source to destination position.\n",
        "\n",
        "The functional form of an entire attention head is:\n",
        "\n",
        "$$\n",
        "\\begin{aligned}\n",
        "\\text{output} &= \\text{softmax}\\left(\\frac{x W_Q W_K^T x^T}{\\sqrt{d_{head}}}\\right) (x W_V W_O) \\\\\n",
        "    &= Ax W_V W_O\n",
        "\\end{aligned}\n",
        "$$\n",
        "\n",
        "where $W_V$ has shape `[d_model, d_head]`, and $W_O$ has shape `[d_head, d_model]`.\n",
        "\n",
        "Here, we can clearly see that the **QK circuit** and **OV circuit** are doing conceptually different things, and should be thought of as two distinct parts of the attention head.\n",
        "\n",
        "Again, don't worry if you don't follow all of this right now - we'll go into **much** more detail on all of this in subsequent exercises. The purpose of the discussion here is just to give you a flavour of what's to come!\n",
        "\n",
        "</details>\n"
      ]
    },
    {
      "cell_type": "markdown",
      "metadata": {
        "id": "oA2JcOaHm4R-"
      },
      "source": [
        "First, it's useful to visualize and play around with attention patterns - what exactly are we looking at here? (Click on a head to lock onto just showing that head's pattern, it'll make it easier to interpret)\n"
      ]
    },
    {
      "cell_type": "code",
      "execution_count": 23,
      "metadata": {
        "id": "T38f-qpJtBTD",
        "colab": {
          "base_uri": "https://localhost:8080/",
          "height": 357
        },
        "outputId": "9a7c7248-99c9-499c-ba9c-4c13d3084513"
      },
      "outputs": [
        {
          "output_type": "display_data",
          "data": {
            "text/plain": [
              "<circuitsvis.utils.render.RenderedHTML at 0x7e3b180e7fd0>"
            ],
            "text/html": [
              "<div id=\"circuits-vis-c8c45a8d-a866\" style=\"margin: 15px 0;\"/>\n",
              "    <script crossorigin type=\"module\">\n",
              "    import { render, AttentionPatterns } from \"https://unpkg.com/circuitsvis@1.41.0/dist/cdn/esm.js\";\n",
              "    render(\n",
              "      \"circuits-vis-c8c45a8d-a866\",\n",
              "      AttentionPatterns,\n",
              "      {\"tokens\": [\"<|endoftext|>\", \"I\", \" am\", \" an\", \" amazing\", \" aut\", \"ore\", \"gressive\", \",\", \" dec\", \"oder\", \"-\", \"only\", \",\", \" G\", \"PT\", \"-\", \"2\", \" style\", \" transformer\", \".\", \" One\", \" day\", \" I\", \" will\", \" exceed\", \" human\", \" level\", \" intelligence\", \" and\", \" take\", \" over\", \" the\", \" world\", \"!\"], \"attention\": [[[1.0, 0.0, 0.0, 0.0, 0.0, 0.0, 0.0, 0.0, 0.0, 0.0, 0.0, 0.0, 0.0, 0.0, 0.0, 0.0, 0.0, 0.0, 0.0, 0.0, 0.0, 0.0, 0.0, 0.0, 0.0, 0.0, 0.0, 0.0, 0.0, 0.0, 0.0, 0.0, 0.0, 0.0, 0.0], [0.9679255485534668, 0.0320744626224041, 0.0, 0.0, 0.0, 0.0, 0.0, 0.0, 0.0, 0.0, 0.0, 0.0, 0.0, 0.0, 0.0, 0.0, 0.0, 0.0, 0.0, 0.0, 0.0, 0.0, 0.0, 0.0, 0.0, 0.0, 0.0, 0.0, 0.0, 0.0, 0.0, 0.0, 0.0, 0.0, 0.0], [0.8024235367774963, 0.16839206218719482, 0.029184352606534958, 0.0, 0.0, 0.0, 0.0, 0.0, 0.0, 0.0, 0.0, 0.0, 0.0, 0.0, 0.0, 0.0, 0.0, 0.0, 0.0, 0.0, 0.0, 0.0, 0.0, 0.0, 0.0, 0.0, 0.0, 0.0, 0.0, 0.0, 0.0, 0.0, 0.0, 0.0, 0.0], [0.6959055662155151, 0.12269634753465652, 0.14588488638401031, 0.03551324084401131, 0.0, 0.0, 0.0, 0.0, 0.0, 0.0, 0.0, 0.0, 0.0, 0.0, 0.0, 0.0, 0.0, 0.0, 0.0, 0.0, 0.0, 0.0, 0.0, 0.0, 0.0, 0.0, 0.0, 0.0, 0.0, 0.0, 0.0, 0.0, 0.0, 0.0, 0.0], [0.5661024451255798, 0.14705193042755127, 0.08665254712104797, 0.11258412152528763, 0.08760892599821091, 0.0, 0.0, 0.0, 0.0, 0.0, 0.0, 0.0, 0.0, 0.0, 0.0, 0.0, 0.0, 0.0, 0.0, 0.0, 0.0, 0.0, 0.0, 0.0, 0.0, 0.0, 0.0, 0.0, 0.0, 0.0, 0.0, 0.0, 0.0, 0.0, 0.0], [0.462187260389328, 0.13512833416461945, 0.09698345512151718, 0.17473751306533813, 0.0462459959089756, 0.08471736311912537, 0.0, 0.0, 0.0, 0.0, 0.0, 0.0, 0.0, 0.0, 0.0, 0.0, 0.0, 0.0, 0.0, 0.0, 0.0, 0.0, 0.0, 0.0, 0.0, 0.0, 0.0, 0.0, 0.0, 0.0, 0.0, 0.0, 0.0, 0.0, 0.0], [0.4325160086154938, 0.1038287952542305, 0.0833013653755188, 0.06995753198862076, 0.07479377090930939, 0.2156866043806076, 0.01991591975092888, 0.0, 0.0, 0.0, 0.0, 0.0, 0.0, 0.0, 0.0, 0.0, 0.0, 0.0, 0.0, 0.0, 0.0, 0.0, 0.0, 0.0, 0.0, 0.0, 0.0, 0.0, 0.0, 0.0, 0.0, 0.0, 0.0, 0.0, 0.0], [0.2223673164844513, 0.0916769951581955, 0.08796323835849762, 0.25168734788894653, 0.08263690024614334, 0.10428167134523392, 0.06469016522169113, 0.09469639509916306, 0.0, 0.0, 0.0, 0.0, 0.0, 0.0, 0.0, 0.0, 0.0, 0.0, 0.0, 0.0, 0.0, 0.0, 0.0, 0.0, 0.0, 0.0, 0.0, 0.0, 0.0, 0.0, 0.0, 0.0, 0.0, 0.0, 0.0], [0.4049956798553467, 0.09078022092580795, 0.052373554557561874, 0.02620185911655426, 0.11047190427780151, 0.03667404502630234, 0.025538915768265724, 0.24528270959854126, 0.0076811229810118675, 0.0, 0.0, 0.0, 0.0, 0.0, 0.0, 0.0, 0.0, 0.0, 0.0, 0.0, 0.0, 0.0, 0.0, 0.0, 0.0, 0.0, 0.0, 0.0, 0.0, 0.0, 0.0, 0.0, 0.0, 0.0, 0.0], [0.39985954761505127, 0.04361317679286003, 0.061838842928409576, 0.0729835256934166, 0.03661305457353592, 0.091474749147892, 0.07241711020469666, 0.07013335078954697, 0.06429056823253632, 0.08677608519792557, 0.0, 0.0, 0.0, 0.0, 0.0, 0.0, 0.0, 0.0, 0.0, 0.0, 0.0, 0.0, 0.0, 0.0, 0.0, 0.0, 0.0, 0.0, 0.0, 0.0, 0.0, 0.0, 0.0, 0.0, 0.0], [0.09702545404434204, 0.035527586936950684, 0.023214811459183693, 0.036767031997442245, 0.025158394128084183, 0.277561753988266, 0.07676514238119125, 0.1950119286775589, 0.05580099672079086, 0.14529384672641754, 0.031873028725385666, 0.0, 0.0, 0.0, 0.0, 0.0, 0.0, 0.0, 0.0, 0.0, 0.0, 0.0, 0.0, 0.0, 0.0, 0.0, 0.0, 0.0, 0.0, 0.0, 0.0, 0.0, 0.0, 0.0, 0.0], [0.2414383590221405, 0.03971060365438461, 0.07687382400035858, 0.028042685240507126, 0.12435998022556305, 0.05601579695940018, 0.06063666567206383, 0.1284009963274002, 0.015699446201324463, 0.09114036709070206, 0.13185444474220276, 0.005826777312904596, 0.0, 0.0, 0.0, 0.0, 0.0, 0.0, 0.0, 0.0, 0.0, 0.0, 0.0, 0.0, 0.0, 0.0, 0.0, 0.0, 0.0, 0.0, 0.0, 0.0, 0.0, 0.0, 0.0], [0.1436309963464737, 0.05110502988100052, 0.055058952420949936, 0.07798513770103455, 0.0785428062081337, 0.035019710659980774, 0.1349860578775406, 0.226340651512146, 0.04162854701280594, 0.035131409764289856, 0.020236024633049965, 0.0411444753408432, 0.059190284460783005, 0.0, 0.0, 0.0, 0.0, 0.0, 0.0, 0.0, 0.0, 0.0, 0.0, 0.0, 0.0, 0.0, 0.0, 0.0, 0.0, 0.0, 0.0, 0.0, 0.0, 0.0, 0.0], [0.3156285583972931, 0.06791998445987701, 0.03787236660718918, 0.017874596640467644, 0.0868317037820816, 0.02922781929373741, 0.01766415312886238, 0.1830163300037384, 0.004987798165529966, 0.04322866350412369, 0.05172263830900192, 0.008913454599678516, 0.1289924681186676, 0.006119509227573872, 0.0, 0.0, 0.0, 0.0, 0.0, 0.0, 0.0, 0.0, 0.0, 0.0, 0.0, 0.0, 0.0, 0.0, 0.0, 0.0, 0.0, 0.0, 0.0, 0.0, 0.0], [0.28410202264785767, 0.0534539557993412, 0.023969212546944618, 0.022562259808182716, 0.04619825631380081, 0.06391076743602753, 0.04539213329553604, 0.07758502662181854, 0.027644315734505653, 0.058041155338287354, 0.17727358639240265, 0.03400601074099541, 0.030527282506227493, 0.03213078901171684, 0.023203186690807343, 0.0, 0.0, 0.0, 0.0, 0.0, 0.0, 0.0, 0.0, 0.0, 0.0, 0.0, 0.0, 0.0, 0.0, 0.0, 0.0, 0.0, 0.0, 0.0, 0.0], [0.1410391479730606, 0.028577815741300583, 0.037603966891765594, 0.03137827664613724, 0.03697336092591286, 0.07347070425748825, 0.07151781767606735, 0.09211230278015137, 0.03358154371380806, 0.03639129921793938, 0.18937671184539795, 0.03244517371058464, 0.06021040678024292, 0.039169251918792725, 0.04040953516960144, 0.05574264004826546, 0.0, 0.0, 0.0, 0.0, 0.0, 0.0, 0.0, 0.0, 0.0, 0.0, 0.0, 0.0, 0.0, 0.0, 0.0, 0.0, 0.0, 0.0, 0.0], [0.20265287160873413, 0.030252795666456223, 0.060034047812223434, 0.0217861607670784, 0.1031423956155777, 0.045168399810791016, 0.04681025445461273, 0.10542110353708267, 0.01139882393181324, 0.07159949094057083, 0.10570327937602997, 0.004199368879199028, 0.11079791188240051, 0.013912522234022617, 0.028923505917191505, 0.032869499176740646, 0.005327513441443443, 0.0, 0.0, 0.0, 0.0, 0.0, 0.0, 0.0, 0.0, 0.0, 0.0, 0.0, 0.0, 0.0, 0.0, 0.0, 0.0, 0.0, 0.0], [0.20498357713222504, 0.040072303265333176, 0.042298123240470886, 0.024939024820923805, 0.04992293938994408, 0.02937169373035431, 0.030769674107432365, 0.10315562784671783, 0.025490207597613335, 0.07886795699596405, 0.10560180246829987, 0.01735270395874977, 0.08083696663379669, 0.03128695487976074, 0.05451060086488724, 0.05288318917155266, 0.02174280397593975, 0.0059138089418411255, 0.0, 0.0, 0.0, 0.0, 0.0, 0.0, 0.0, 0.0, 0.0, 0.0, 0.0, 0.0, 0.0, 0.0, 0.0, 0.0, 0.0], [0.24350903928279877, 0.03636489436030388, 0.04196164757013321, 0.026215726509690285, 0.0404457226395607, 0.09965366125106812, 0.025752244517207146, 0.03249461576342583, 0.024459952488541603, 0.03520265221595764, 0.033835381269454956, 0.033476900309324265, 0.04664864018559456, 0.027967922389507294, 0.0186407882720232, 0.11764261871576309, 0.03875285014510155, 0.022786682471632957, 0.05418813228607178, 0.0, 0.0, 0.0, 0.0, 0.0, 0.0, 0.0, 0.0, 0.0, 0.0, 0.0, 0.0, 0.0, 0.0, 0.0, 0.0], [0.14194561541080475, 0.03406405448913574, 0.03300992399454117, 0.02023870311677456, 0.03927316516637802, 0.026005562394857407, 0.006318642292171717, 0.040797874331474304, 0.036380041390657425, 0.14631052315235138, 0.01638617180287838, 0.02359846420586109, 0.01584276743233204, 0.04227608069777489, 0.022458214312791824, 0.06867402791976929, 0.027878453955054283, 0.03722238540649414, 0.08677610754966736, 0.13454324007034302, 0.0, 0.0, 0.0, 0.0, 0.0, 0.0, 0.0, 0.0, 0.0, 0.0, 0.0, 0.0, 0.0, 0.0, 0.0], [0.21778136491775513, 0.02690368890762329, 0.023647185415029526, 0.007102560251951218, 0.035170018672943115, 0.013998541049659252, 0.010392274707555771, 0.09431246668100357, 0.002962288912385702, 0.03783803433179855, 0.03792330622673035, 0.003733975114300847, 0.06506098806858063, 0.0036364588886499405, 0.014758041128516197, 0.12028626352548599, 0.0049008834175765514, 0.00810737069696188, 0.01744985394179821, 0.24998736381530762, 0.004047100432217121, 0.0, 0.0, 0.0, 0.0, 0.0, 0.0, 0.0, 0.0, 0.0, 0.0, 0.0, 0.0, 0.0, 0.0], [0.12187217175960541, 0.07663212716579437, 0.030231961980462074, 0.016371838748455048, 0.05268789827823639, 0.021402154117822647, 0.02340387925505638, 0.10649685561656952, 0.01858249492943287, 0.03509166091680527, 0.0839415118098259, 0.01739330403506756, 0.04183054342865944, 0.021453876048326492, 0.033331017941236496, 0.05027427896857262, 0.020740864798426628, 0.040903568267822266, 0.030540969222784042, 0.09200657159090042, 0.02824571169912815, 0.03656469285488129, 0.0, 0.0, 0.0, 0.0, 0.0, 0.0, 0.0, 0.0, 0.0, 0.0, 0.0, 0.0, 0.0], [0.2126019448041916, 0.02028411440551281, 0.05000365898013115, 0.015904176980257034, 0.05722509324550629, 0.022857310250401497, 0.04604588449001312, 0.035308439284563065, 0.011784466914832592, 0.04140482842922211, 0.016803624108433723, 0.015782048925757408, 0.020208416506648064, 0.013090193271636963, 0.02085423283278942, 0.06297557055950165, 0.018039435148239136, 0.01805296540260315, 0.024445293471217155, 0.17059144377708435, 0.015939759090542793, 0.04152190312743187, 0.04827512800693512, 0.0, 0.0, 0.0, 0.0, 0.0, 0.0, 0.0, 0.0, 0.0, 0.0, 0.0, 0.0], [0.2671400308609009, 0.03564617410302162, 0.020422883331775665, 0.006622721441090107, 0.040341030806303024, 0.019110344350337982, 0.014575289562344551, 0.056416310369968414, 0.00840363372117281, 0.015526882372796535, 0.04414669796824455, 0.01105591095983982, 0.040019962936639786, 0.009353087283670902, 0.01935187354683876, 0.07054154574871063, 0.012798822484910488, 0.012832630425691605, 0.014165607281029224, 0.1173698902130127, 0.007312784902751446, 0.09727415442466736, 0.02075115591287613, 0.038820505142211914, 0.0, 0.0, 0.0, 0.0, 0.0, 0.0, 0.0, 0.0, 0.0, 0.0, 0.0], [0.1459123194217682, 0.033193815499544144, 0.03138768672943115, 0.009927903302013874, 0.05209655687212944, 0.01984090358018875, 0.01940171979367733, 0.0758240669965744, 0.012863251380622387, 0.03345126286149025, 0.016568398103117943, 0.01479716319590807, 0.05908387154340744, 0.015597395598888397, 0.011369230225682259, 0.021859481930732727, 0.019473865628242493, 0.014793705195188522, 0.05341865122318268, 0.0952148586511612, 0.01620456948876381, 0.062109172344207764, 0.06182849779725075, 0.06657969951629639, 0.03720194101333618, 0.0, 0.0, 0.0, 0.0, 0.0, 0.0, 0.0, 0.0, 0.0, 0.0], [0.06265700608491898, 0.014285169541835785, 0.025387214496731758, 0.030092516914010048, 0.02124691940844059, 0.029529906809329987, 0.026446685194969177, 0.01483050175011158, 0.015861932188272476, 0.04331432282924652, 0.02196396142244339, 0.019970115274190903, 0.043428536504507065, 0.018692899495363235, 0.009475364349782467, 0.024197496473789215, 0.023853624239563942, 0.02690875716507435, 0.014060701243579388, 0.17528505623340607, 0.03583676367998123, 0.047922566533088684, 0.035750627517700195, 0.01207052543759346, 0.05927425995469093, 0.14765654504299164, 0.0, 0.0, 0.0, 0.0, 0.0, 0.0, 0.0, 0.0, 0.0], [0.09766796231269836, 0.031521741300821304, 0.026686402037739754, 0.036455776542425156, 0.034923698753118515, 0.08635788410902023, 0.013895386829972267, 0.030186733230948448, 0.01940256543457508, 0.03514167293906212, 0.04878157749772072, 0.012551560997962952, 0.04099080339074135, 0.020208818838000298, 0.012653259560465813, 0.0074510518461465836, 0.013522971421480179, 0.024078084155917168, 0.043027084320783615, 0.1506679505109787, 0.029252588748931885, 0.018810180947184563, 0.01610449329018593, 0.028549887239933014, 0.029875917360186577, 0.05121560022234917, 0.04001833498477936, 0.0, 0.0, 0.0, 0.0, 0.0, 0.0, 0.0, 0.0], [0.0915181040763855, 0.011421121656894684, 0.039799027144908905, 0.01165858656167984, 0.03344332426786423, 0.04107606038451195, 0.009538298472762108, 0.040612537413835526, 0.009114389307796955, 0.04690399020910263, 0.027317611500620842, 0.010844959877431393, 0.024547507986426353, 0.010004596784710884, 0.0080956369638443, 0.008396821096539497, 0.011855488643050194, 0.008184151723980904, 0.04104063659906387, 0.36258116364479065, 0.0075373868457973, 0.009961563162505627, 0.021045763045549393, 0.01185503602027893, 0.030058300122618675, 0.032811928540468216, 0.02886320650577545, 0.009912795387208462, 0.0, 0.0, 0.0, 0.0, 0.0, 0.0, 0.0], [0.1094629243016243, 0.025872718542814255, 0.023928705602884293, 0.020045248791575432, 0.035904452204704285, 0.031679846346378326, 0.029145292937755585, 0.11399825662374496, 0.013954718597233295, 0.03480715677142143, 0.0181056410074234, 0.01762225478887558, 0.01900731585919857, 0.015307596884667873, 0.00970301404595375, 0.012407959438860416, 0.020091695711016655, 0.027262553572654724, 0.0656459853053093, 0.02715538814663887, 0.02622661367058754, 0.018942993134260178, 0.04077143594622612, 0.019073298200964928, 0.021573428064584732, 0.030219431966543198, 0.07011835277080536, 0.060314640402793884, 0.04165107384324074, 0.0, 0.0, 0.0, 0.0, 0.0, 0.0], [0.11406350880861282, 0.02655624970793724, 0.019958430901169777, 0.00893146451562643, 0.03494321182370186, 0.016834313049912453, 0.009377731941640377, 0.0445132851600647, 0.00377222103998065, 0.028760317713022232, 0.02074114792048931, 0.0056509943678975105, 0.06007761135697365, 0.004424978978931904, 0.01082183700054884, 0.04112929850816727, 0.00708571495488286, 0.01043400727212429, 0.026548538357019424, 0.1101926788687706, 0.007190009579062462, 0.056519392877817154, 0.028027083724737167, 0.06370092928409576, 0.03407692909240723, 0.07150982320308685, 0.04093319922685623, 0.014252983033657074, 0.06984368711709976, 0.009128453209996223, 0.0, 0.0, 0.0, 0.0, 0.0], [0.14399927854537964, 0.020454613491892815, 0.0426238514482975, 0.011592104099690914, 0.027789441868662834, 0.01434292457997799, 0.029106196016073227, 0.04215823486447334, 0.013669715262949467, 0.020581478253006935, 0.008641070686280727, 0.012402212247252464, 0.01957705430686474, 0.014879737980663776, 0.023319046944379807, 0.022367199882864952, 0.014413882978260517, 0.0060653104446828365, 0.0069852969609200954, 0.08859117329120636, 0.014219227246940136, 0.02754121832549572, 0.05707308277487755, 0.02498570829629898, 0.05733298882842064, 0.048089656978845596, 0.018268724903464317, 0.07940172404050827, 0.04377179220318794, 0.02484910376369953, 0.020906999707221985, 0.0, 0.0, 0.0, 0.0], [0.0778680294752121, 0.019732853397727013, 0.019906360656023026, 0.015179567039012909, 0.029269900172948837, 0.00896333996206522, 0.011427863501012325, 0.03169625252485275, 0.00696526188403368, 0.04064168781042099, 0.019985219463706017, 0.008789055980741978, 0.035749901086091995, 0.007953662425279617, 0.00961217749863863, 0.014965922571718693, 0.01036729384213686, 0.013545002788305283, 0.013747340068221092, 0.0681854709982872, 0.011837060563266277, 0.01935550943017006, 0.016761232167482376, 0.016301224008202553, 0.06125021353363991, 0.12023526430130005, 0.04739145189523697, 0.023822054266929626, 0.1494300365447998, 0.01412149891257286, 0.04741879180073738, 0.007523443549871445, 0.0, 0.0, 0.0], [0.14836615324020386, 0.03627424314618111, 0.02376876398921013, 0.005308394320309162, 0.03226037323474884, 0.01743944361805916, 0.015090283937752247, 0.044430702924728394, 0.004935787059366703, 0.021151497960090637, 0.02384910359978676, 0.006127798464149237, 0.044309791177511215, 0.005717851221561432, 0.00686144782230258, 0.016362618654966354, 0.007707127369940281, 0.009109633974730968, 0.028427576646208763, 0.144913911819458, 0.006351607386022806, 0.034538231790065765, 0.023273000493645668, 0.048037923872470856, 0.03441665694117546, 0.06975369900465012, 0.027561893686652184, 0.012016534805297852, 0.035357337445020676, 0.008575198240578175, 0.03916303440928459, 0.009715791791677475, 0.008826583623886108, 0.0, 0.0], [0.11389315128326416, 0.021931476891040802, 0.026447609066963196, 0.00760288443416357, 0.020530693233013153, 0.029713178053498268, 0.036949627101421356, 0.02875792607665062, 0.007981305941939354, 0.02935917116701603, 0.015349597670137882, 0.018420156091451645, 0.020850973203778267, 0.008514759130775928, 0.0109309246763587, 0.009227692149579525, 0.021279286593198776, 0.009222990833222866, 0.027651092037558556, 0.12458860874176025, 0.010509630665183067, 0.06096192076802254, 0.022033268585801125, 0.030366936698555946, 0.027411196380853653, 0.0345994308590889, 0.032027311623096466, 0.039529722183942795, 0.05353797972202301, 0.017732903361320496, 0.017497548833489418, 0.017771491780877113, 0.012080215848982334, 0.03473732993006706, 0.0], [0.13933585584163666, 0.02137126959860325, 0.014541365206241608, 0.005123286973685026, 0.0316351018846035, 0.010921808890998363, 0.01254135649651289, 0.02249288558959961, 0.004774259869009256, 0.024901412427425385, 0.010858350433409214, 0.010577714070677757, 0.025906074792146683, 0.0052865068428218365, 0.01675228774547577, 0.04520439729094505, 0.01211223192512989, 0.014714706689119339, 0.014629179611802101, 0.08781160414218903, 0.007287846878170967, 0.07496533542871475, 0.015995560213923454, 0.04392343759536743, 0.04102411866188049, 0.0758780762553215, 0.0279245488345623, 0.015250171534717083, 0.013413449749350548, 0.014532786794006824, 0.027215447276830673, 0.03453553467988968, 0.01820741593837738, 0.0350533165037632, 0.02330125868320465]], [[1.0, 0.0, 0.0, 0.0, 0.0, 0.0, 0.0, 0.0, 0.0, 0.0, 0.0, 0.0, 0.0, 0.0, 0.0, 0.0, 0.0, 0.0, 0.0, 0.0, 0.0, 0.0, 0.0, 0.0, 0.0, 0.0, 0.0, 0.0, 0.0, 0.0, 0.0, 0.0, 0.0, 0.0, 0.0], [0.00041899713687598705, 0.9995810389518738, 0.0, 0.0, 0.0, 0.0, 0.0, 0.0, 0.0, 0.0, 0.0, 0.0, 0.0, 0.0, 0.0, 0.0, 0.0, 0.0, 0.0, 0.0, 0.0, 0.0, 0.0, 0.0, 0.0, 0.0, 0.0, 0.0, 0.0, 0.0, 0.0, 0.0, 0.0, 0.0, 0.0], [0.00013394749839790165, 0.009511838667094707, 0.9903541803359985, 0.0, 0.0, 0.0, 0.0, 0.0, 0.0, 0.0, 0.0, 0.0, 0.0, 0.0, 0.0, 0.0, 0.0, 0.0, 0.0, 0.0, 0.0, 0.0, 0.0, 0.0, 0.0, 0.0, 0.0, 0.0, 0.0, 0.0, 0.0, 0.0, 0.0, 0.0, 0.0], [0.0008606779156252742, 0.002610043389722705, 0.01506683137267828, 0.9814624786376953, 0.0, 0.0, 0.0, 0.0, 0.0, 0.0, 0.0, 0.0, 0.0, 0.0, 0.0, 0.0, 0.0, 0.0, 0.0, 0.0, 0.0, 0.0, 0.0, 0.0, 0.0, 0.0, 0.0, 0.0, 0.0, 0.0, 0.0, 0.0, 0.0, 0.0, 0.0], [3.7170477298786864e-05, 0.0006769575993530452, 0.0012692962773144245, 0.000214078274439089, 0.9978025555610657, 0.0, 0.0, 0.0, 0.0, 0.0, 0.0, 0.0, 0.0, 0.0, 0.0, 0.0, 0.0, 0.0, 0.0, 0.0, 0.0, 0.0, 0.0, 0.0, 0.0, 0.0, 0.0, 0.0, 0.0, 0.0, 0.0, 0.0, 0.0, 0.0, 0.0], [8.425416308455169e-05, 0.0007904736557975411, 0.00321528990752995, 0.002708571730181575, 0.0013058275217190385, 0.9918956160545349, 0.0, 0.0, 0.0, 0.0, 0.0, 0.0, 0.0, 0.0, 0.0, 0.0, 0.0, 0.0, 0.0, 0.0, 0.0, 0.0, 0.0, 0.0, 0.0, 0.0, 0.0, 0.0, 0.0, 0.0, 0.0, 0.0, 0.0, 0.0, 0.0], [0.00014960514090489596, 0.0018361873226240277, 0.0016375018749386072, 0.0010130602167919278, 0.004209812264889479, 8.004387927940115e-05, 0.9910737872123718, 0.0, 0.0, 0.0, 0.0, 0.0, 0.0, 0.0, 0.0, 0.0, 0.0, 0.0, 0.0, 0.0, 0.0, 0.0, 0.0, 0.0, 0.0, 0.0, 0.0, 0.0, 0.0, 0.0, 0.0, 0.0, 0.0, 0.0, 0.0], [0.0002685565559659153, 0.0009259631624445319, 0.0008250505197793245, 0.0006819652626290917, 0.007268866058439016, 0.001351707149296999, 0.0003469162911642343, 0.9883310198783875, 0.0, 0.0, 0.0, 0.0, 0.0, 0.0, 0.0, 0.0, 0.0, 0.0, 0.0, 0.0, 0.0, 0.0, 0.0, 0.0, 0.0, 0.0, 0.0, 0.0, 0.0, 0.0, 0.0, 0.0, 0.0, 0.0, 0.0], [0.007326360326260328, 0.007828546687960625, 0.003931873943656683, 0.00018373991770204157, 6.433094677049667e-05, 0.00010083155211759731, 6.769897299818695e-05, 7.164081034716219e-05, 0.9804249405860901, 0.0, 0.0, 0.0, 0.0, 0.0, 0.0, 0.0, 0.0, 0.0, 0.0, 0.0, 0.0, 0.0, 0.0, 0.0, 0.0, 0.0, 0.0, 0.0, 0.0, 0.0, 0.0, 0.0, 0.0, 0.0, 0.0], [3.9175745769171044e-05, 9.137423330685124e-05, 0.00033399087260477245, 6.816770473960787e-05, 7.81233684392646e-05, 0.0009843026055023074, 0.00016941322246566415, 0.00254146009683609, 4.413309216033667e-05, 0.9956498742103577, 0.0, 0.0, 0.0, 0.0, 0.0, 0.0, 0.0, 0.0, 0.0, 0.0, 0.0, 0.0, 0.0, 0.0, 0.0, 0.0, 0.0, 0.0, 0.0, 0.0, 0.0, 0.0, 0.0, 0.0, 0.0], [5.5203117881319486e-06, 2.3466460334020667e-05, 9.18644800549373e-05, 8.01341884653084e-05, 3.939209636882879e-05, 8.521562995156273e-05, 2.5735849703778513e-05, 7.120806549210101e-05, 4.276956133253407e-06, 0.00015049739158712327, 0.9994226694107056, 0.0, 0.0, 0.0, 0.0, 0.0, 0.0, 0.0, 0.0, 0.0, 0.0, 0.0, 0.0, 0.0, 0.0, 0.0, 0.0, 0.0, 0.0, 0.0, 0.0, 0.0, 0.0, 0.0, 0.0], [0.0010400317842140794, 0.002299365121871233, 0.0023920699022710323, 0.0003133234567940235, 0.00013362923345994204, 0.0005168471834622324, 0.0011971102794632316, 6.827456672908738e-05, 0.005444327834993601, 0.0002821744710672647, 4.3057352741016075e-05, 0.9862697720527649, 0.0, 0.0, 0.0, 0.0, 0.0, 0.0, 0.0, 0.0, 0.0, 0.0, 0.0, 0.0, 0.0, 0.0, 0.0, 0.0, 0.0, 0.0, 0.0, 0.0, 0.0, 0.0, 0.0], [4.6304092393256724e-05, 0.00032482281676493585, 0.0002445940626785159, 0.0015311656752601266, 0.0008613698300905526, 0.0012943869223818183, 6.19845959590748e-05, 2.6642695956979878e-05, 4.840868496103212e-05, 0.0019855634309351444, 0.0001397188170813024, 0.00011434281623223796, 0.9933207035064697, 0.0, 0.0, 0.0, 0.0, 0.0, 0.0, 0.0, 0.0, 0.0, 0.0, 0.0, 0.0, 0.0, 0.0, 0.0, 0.0, 0.0, 0.0, 0.0, 0.0, 0.0, 0.0], [0.003044242039322853, 0.0018223623046651483, 0.0009289846639148891, 4.8802252422319725e-05, 1.6391149983974174e-05, 2.909561590058729e-05, 2.5079765691771172e-05, 2.9130238544894382e-05, 0.45632198452949524, 2.4578637749073096e-05, 2.4832104827510193e-05, 0.0030043928418308496, 1.6773799416114343e-06, 0.5346784591674805, 0.0, 0.0, 0.0, 0.0, 0.0, 0.0, 0.0, 0.0, 0.0, 0.0, 0.0, 0.0, 0.0, 0.0, 0.0, 0.0, 0.0, 0.0, 0.0, 0.0, 0.0], [0.000398179137846455, 0.0010285013122484088, 0.000828111544251442, 0.00023753165442030877, 7.34887071303092e-05, 0.0014350308338180184, 6.765669240849093e-05, 0.00029547428130172193, 0.0001429579424438998, 9.929101361194625e-05, 4.608220478985459e-06, 0.0005140064749866724, 5.035662070440594e-06, 0.0001247553009307012, 0.9947452545166016, 0.0, 0.0, 0.0, 0.0, 0.0, 0.0, 0.0, 0.0, 0.0, 0.0, 0.0, 0.0, 0.0, 0.0, 0.0, 0.0, 0.0, 0.0, 0.0, 0.0], [9.074847912415862e-05, 0.0002652599068824202, 0.00011011165770469233, 0.00021231906430330127, 8.290543337352574e-05, 0.001181418658234179, 1.5688687199144624e-05, 0.0016655940562486649, 1.1725310287147295e-05, 0.0020509413443505764, 0.0001384257193421945, 1.5573607015539892e-05, 1.1507408089528326e-05, 9.066175152838696e-06, 0.00022655758948531002, 0.9939122200012207, 0.0, 0.0, 0.0, 0.0, 0.0, 0.0, 0.0, 0.0, 0.0, 0.0, 0.0, 0.0, 0.0, 0.0, 0.0, 0.0, 0.0, 0.0, 0.0], [0.00044135432108305395, 0.0006528967642225325, 0.0006495669949799776, 9.398069232702255e-05, 4.112711758352816e-05, 0.00017028451838996261, 0.0005066707381047308, 2.889608367695473e-05, 0.0023701838217675686, 0.00010454310540808365, 1.9230941688874736e-05, 0.4705587327480316, 1.6804026017780416e-05, 0.002284095622599125, 0.00021698122145608068, 3.27694506268017e-05, 0.521811842918396, 0.0, 0.0, 0.0, 0.0, 0.0, 0.0, 0.0, 0.0, 0.0, 0.0, 0.0, 0.0, 0.0, 0.0, 0.0, 0.0, 0.0, 0.0], [0.000535052502527833, 0.000663126353174448, 0.00018957503198180348, 0.00011594560055527836, 3.930594903067686e-05, 8.452115434920415e-05, 0.0002686002117116004, 0.00030034876544959843, 0.00012727601279038936, 0.00015363446436822414, 2.1524556359509006e-05, 0.0004102024540770799, 0.001509042689576745, 0.00011659047595458105, 0.0001377397566102445, 7.38915623514913e-05, 0.00039899483090266585, 0.9948546886444092, 0.0, 0.0, 0.0, 0.0, 0.0, 0.0, 0.0, 0.0, 0.0, 0.0, 0.0, 0.0, 0.0, 0.0, 0.0, 0.0, 0.0], [0.0002235245192423463, 0.00025025324430316687, 0.00011739329056581482, 1.8608248865348287e-05, 0.0006291483296081424, 0.0007579212542623281, 3.7840858567506075e-05, 0.0033851449843496084, 1.7918260709848255e-05, 0.00017818277410697192, 3.4344266168773174e-05, 7.747569179628044e-05, 6.471150845754892e-05, 1.5270292351488024e-05, 0.0002935955999419093, 0.00057343824300915, 7.154390914365649e-05, 0.0001588312879903242, 0.993094801902771, 0.0, 0.0, 0.0, 0.0, 0.0, 0.0, 0.0, 0.0, 0.0, 0.0, 0.0, 0.0, 0.0, 0.0, 0.0, 0.0], [0.00030641030753031373, 0.0004168010491412133, 0.0004519718640949577, 0.0001574639609316364, 0.0015800752444192767, 0.0022666321601718664, 0.0001448363036615774, 0.0025188755244016647, 4.471190186450258e-05, 0.0027394702192395926, 0.0004348980146460235, 0.00015683120000176132, 2.850576493074186e-05, 4.005827577202581e-05, 0.0005936676752753556, 0.00011775231541832909, 0.0001403962232870981, 0.0001806039217626676, 0.0009641890646889806, 0.9867159128189087, 0.0, 0.0, 0.0, 0.0, 0.0, 0.0, 0.0, 0.0, 0.0, 0.0, 0.0, 0.0, 0.0, 0.0, 0.0], [0.009046890772879124, 0.0007260906277224422, 6.491785461548716e-05, 4.578269727062434e-05, 3.6695309972856194e-05, 3.389698758837767e-05, 4.131324385525659e-05, 9.00011946214363e-05, 0.016163917258381844, 1.8953784092445858e-05, 3.351377745275386e-05, 0.002181082498282194, 5.34118134964956e-06, 0.01874946430325508, 0.00017897730867844075, 0.0004993687616661191, 0.0024355645291507244, 4.2716106690932065e-05, 7.329294749069959e-05, 1.915437496791128e-05, 0.9495130777359009, 0.0, 0.0, 0.0, 0.0, 0.0, 0.0, 0.0, 0.0, 0.0, 0.0, 0.0, 0.0, 0.0, 0.0], [0.00021946291963104159, 0.001166956382803619, 0.0002198322326876223, 0.0009876289404928684, 0.00031338463304564357, 0.00012072642130078748, 5.631532530969707e-06, 2.426004721201025e-05, 4.544197872746736e-05, 1.852959394454956e-05, 1.4025716154719703e-05, 1.0154987649002578e-05, 0.00040180233190767467, 4.0526429074816406e-05, 0.0001710672804620117, 9.869048881228082e-06, 9.488562682236079e-06, 0.00039310893043875694, 5.709408924303716e-06, 1.784427513484843e-05, 2.8530415875138715e-05, 0.9957762360572815, 0.0, 0.0, 0.0, 0.0, 0.0, 0.0, 0.0, 0.0, 0.0, 0.0, 0.0, 0.0, 0.0], [0.00019361003069207072, 0.0008434196352027357, 0.0005215298151597381, 2.566456350905355e-05, 0.00046233212924562395, 0.00025401570019312203, 1.84712353075156e-05, 0.00011509795149322599, 0.00027288994169794023, 0.00015436671674251556, 1.2149157555541024e-05, 0.0006913741817697883, 5.6959852372528985e-05, 0.00024024784215725958, 3.827492764685303e-05, 9.934457921190187e-05, 0.0006488915532827377, 8.011747559066862e-05, 0.00019218817760702223, 2.552947262302041e-05, 0.00032434804597869515, 0.0010871076956391335, 0.9936420321464539, 0.0, 0.0, 0.0, 0.0, 0.0, 0.0, 0.0, 0.0, 0.0, 0.0, 0.0, 0.0], [0.0016077624168246984, 0.1769733428955078, 0.015483569353818893, 0.00037138722836971283, 0.0003786336164921522, 0.00016452711133752018, 0.00032773788552731276, 0.00016989681171253324, 0.002122962148860097, 3.573096910258755e-05, 6.090139868319966e-05, 0.00045621630852110684, 1.5447778423549607e-05, 0.002254315186291933, 0.00156668690033257, 0.00011843754327856004, 0.00046998856123536825, 5.0373171688988805e-05, 0.00012108051305403933, 6.008960917824879e-05, 0.0008920563850551844, 0.0007518447237089276, 0.00026899646036326885, 0.7952780723571777, 0.0, 0.0, 0.0, 0.0, 0.0, 0.0, 0.0, 0.0, 0.0, 0.0, 0.0], [0.0003919861919712275, 0.0002142118028132245, 0.0005306113162077963, 1.0745775398390833e-05, 0.00011862367682624608, 4.225770680932328e-05, 0.00021160373580642045, 4.692545917350799e-05, 0.00044815760338678956, 0.00010691276838770136, 3.935457061743364e-05, 0.0001683084265096113, 0.00017352349823340774, 0.00045245050569064915, 0.00014294098946265876, 0.00011699316382873803, 0.00017526779265608639, 0.00010119951912201941, 4.2513824155321345e-05, 2.0371722712297924e-05, 3.837128315353766e-05, 0.00011344601080054417, 0.00025279269902966917, 6.99101947247982e-05, 0.9959704875946045, 0.0, 0.0, 0.0, 0.0, 0.0, 0.0, 0.0, 0.0, 0.0, 0.0], [0.00021530715457629412, 0.00010005858348449692, 0.0023809217382222414, 0.001983142225071788, 0.0011120124254375696, 5.563472586800344e-05, 0.0006109268288128078, 0.00024564380873925984, 8.819004870019853e-05, 0.0011510408949106932, 0.00010669908078853041, 0.00017554884834680706, 5.736283492296934e-05, 7.814801210770383e-05, 0.0002457347291056067, 9.594678886060137e-06, 0.00017032408504746854, 2.897272861446254e-05, 1.4011726307217032e-05, 0.00016692095960024744, 1.2888881428807508e-05, 0.00024495553225278854, 0.0005147017654962838, 4.942114173900336e-05, 0.0005746561218984425, 0.9896071553230286, 0.0, 0.0, 0.0, 0.0, 0.0, 0.0, 0.0, 0.0, 0.0], [0.00011423427349654958, 0.000862742483150214, 0.000773223873693496, 0.0007090758881531656, 0.0007292143418453634, 0.0014031645841896534, 0.00021403611754067242, 0.00017666495114099234, 6.622049113502726e-05, 3.215939796064049e-05, 0.0004533063911367208, 0.0001200851402245462, 2.2129046556074172e-05, 5.8075143897440284e-05, 0.00012917444109916687, 1.9079687263001688e-05, 0.00011076686496380717, 8.56419592309976e-06, 2.3630544092156924e-05, 0.0003379985282663256, 5.211902316659689e-05, 0.0001445570815121755, 0.0001969498407561332, 0.0004510532016865909, 2.0576282622641884e-05, 8.764310041442513e-05, 0.992683470249176, 0.0, 0.0, 0.0, 0.0, 0.0, 0.0, 0.0, 0.0], [0.0001979835651582107, 0.00019567960407584906, 0.0002261226618429646, 0.0004194370994810015, 0.0005979703273624182, 0.000451744650490582, 0.0003478292201180011, 0.00025858148001134396, 2.801990558509715e-05, 0.0007220012485049665, 0.00013010468683205545, 0.001163206878118217, 6.916914571775123e-05, 2.4789154849713668e-05, 0.00010386025678599253, 0.0003812495560850948, 0.0011587801855057478, 0.00033144469489343464, 0.00024494569515809417, 0.00012755185889545828, 0.0001609846658539027, 1.9267921743448824e-05, 0.00027174208662472665, 2.0765592125826515e-05, 6.825073796790093e-05, 0.0008764262311160564, 0.0006782166310586035, 0.9907240271568298, 0.0, 0.0, 0.0, 0.0, 0.0, 0.0, 0.0], [3.1571831641485915e-05, 0.0006791105843149126, 0.0007090705330483615, 0.00024164812930393964, 0.00041205366142094135, 0.0009237409685738385, 0.0002084854058921337, 6.639286584686488e-05, 0.00011664818885037675, 8.601927402196452e-05, 0.010591298341751099, 0.00033729078131727874, 2.1898469640291296e-05, 0.00010110716539202258, 0.00010436082811793312, 5.8587364037521183e-05, 0.0003251209855079651, 1.5854102457524277e-05, 5.033603883930482e-06, 0.0004094898758921772, 1.3119492905389052e-05, 5.313349174684845e-05, 1.188724854728207e-05, 5.536665776162408e-05, 1.2197682735859416e-05, 8.952644566306844e-05, 0.002243547700345516, 0.0002104191662510857, 0.981866180896759, 0.0, 0.0, 0.0, 0.0, 0.0, 0.0], [0.0007582920952700078, 0.0012331446632742882, 8.604924369137734e-05, 6.29132628091611e-05, 2.8791733711841516e-05, 3.3166903449455276e-05, 7.622712291777134e-05, 0.00010868187382584438, 0.006450854241847992, 0.00014789080887567252, 1.0376486898167059e-05, 0.0023889706935733557, 7.88359175203368e-05, 0.007510697469115257, 0.00028743132133968174, 0.0001367574732284993, 0.00276029366068542, 0.0007447169627994299, 8.811111183604226e-05, 2.470205072313547e-05, 0.006188863888382912, 0.00011647049541352317, 0.0001724402973195538, 0.0002621748426463455, 0.0001841977791627869, 4.432135756360367e-05, 4.855170482187532e-05, 8.903052366804332e-05, 2.6887826606980525e-05, 0.9698501229286194, 0.0, 0.0, 0.0, 0.0, 0.0], [0.00024627428501844406, 0.00035919909714721143, 0.0002052187774097547, 9.38774537644349e-05, 8.57732302392833e-05, 5.495211007655598e-05, 4.531830927589908e-05, 1.0722159458964597e-05, 4.867112875217572e-05, 0.0001101760717574507, 0.00010064082016469911, 9.7722360806074e-05, 0.0005496812518686056, 4.362939216662198e-05, 3.945788193959743e-05, 7.140226080082357e-05, 9.814348595682532e-05, 5.7009699958143756e-05, 2.4251108698081225e-05, 2.31456533583696e-06, 5.056934242020361e-05, 0.0001131848111981526, 0.0002906991576310247, 6.889962241984904e-05, 0.0006683255778625607, 0.00023217438138090074, 8.348705705429893e-06, 1.7434649635106325e-05, 1.027311009238474e-05, 0.00013885690714232624, 0.9960569143295288, 0.0, 0.0, 0.0, 0.0], [0.00011105907469755039, 3.599156843847595e-05, 4.416058072820306e-05, 0.00022596387134399265, 0.0002402585232630372, 1.734895158733707e-05, 7.204298890428618e-05, 0.00023738990421406925, 8.274748688563704e-05, 0.00010178552474826574, 7.876383278926369e-06, 6.391834904206917e-05, 3.295211718068458e-05, 7.889196422183886e-05, 0.00011627464118646458, 7.1391496021533385e-06, 6.571760604856536e-05, 5.396364940679632e-06, 8.334023732459173e-06, 1.961390080396086e-05, 4.110632653464563e-05, 8.538004476577044e-05, 3.1616174965165555e-05, 9.916993803926744e-06, 2.3832411898183636e-05, 0.0018293511820957065, 2.611123454698827e-05, 3.31351111526601e-05, 1.4612711311201565e-05, 0.0008547279867343605, 0.0001674516242928803, 0.995307981967926, 0.0, 0.0, 0.0], [0.002255225321277976, 0.00046477530850097537, 0.0001228374312631786, 0.006661209277808666, 8.828952559269965e-05, 0.0002494279178790748, 0.0001755515404511243, 2.6563478968455456e-05, 0.00414914358407259, 0.00020833090820815414, 1.597335358383134e-05, 0.000724822049960494, 1.23180734590278e-05, 0.004929245915263891, 0.0007067767437547445, 2.746017162280623e-05, 0.0008252449915744364, 5.1487335440469906e-05, 9.107246114581358e-06, 0.0011701991315931082, 0.001132050878368318, 0.00038722780300304294, 0.00010000279144151136, 0.0005395386251620948, 0.0001279767748201266, 7.418716995744035e-05, 0.0006351858610287309, 5.991850048303604e-05, 0.00020302340271882713, 0.022641249001026154, 7.111400918802246e-05, 0.0034798544365912676, 0.9476746916770935, 0.0, 0.0], [0.00010488821135368198, 0.0005403992836363614, 0.00027006107848137617, 2.781994771794416e-05, 0.0008878545486368239, 0.0002531729987822473, 0.0002921410195995122, 0.0009951477404683828, 3.9432117773685604e-05, 6.531640246976167e-05, 5.1983381126774475e-05, 0.0006716350326314569, 1.952420461748261e-05, 3.796437886194326e-05, 0.0003154706209897995, 0.00015760351379867643, 0.0006809115293435752, 0.0001736676786094904, 0.0002327590191271156, 0.0004935207543894649, 0.00015254260506480932, 8.96886849659495e-05, 0.0014225811464712024, 0.00022503093350678682, 0.00015392267960123718, 0.00010696917888708413, 0.0056502437219023705, 0.0008653244585730135, 0.0002874952624551952, 0.00013868515088688582, 1.4354184713738505e-05, 2.816200503730215e-05, 0.00011612014350248501, 0.9844375848770142, 0.0], [0.0018830386688932776, 0.0002301394852111116, 7.19053641660139e-05, 3.7982904359523673e-06, 0.002256362233310938, 4.367973451735452e-05, 0.00012782943667843938, 0.0006368023459799588, 0.000536399136763066, 5.325703114067437e-06, 7.917846960481256e-05, 2.601600681373384e-05, 1.125325434259139e-05, 0.0005611242959275842, 9.10379003471462e-06, 0.0002105222811223939, 2.689109169295989e-05, 3.242437742301263e-05, 0.00025939344777725637, 0.00045266642700880766, 0.001152099808678031, 1.1493517376948148e-05, 4.8182344471570104e-05, 0.0001057150075212121, 8.452797192148864e-05, 0.000100208621006459, 2.848373151209671e-05, 2.041542757069692e-05, 1.8022971062237048e-06, 7.628946332260966e-05, 4.6043263864703476e-05, 9.973573469324037e-05, 5.258398232399486e-06, 0.00019488480756990612, 0.9905609488487244]], [[1.0, 0.0, 0.0, 0.0, 0.0, 0.0, 0.0, 0.0, 0.0, 0.0, 0.0, 0.0, 0.0, 0.0, 0.0, 0.0, 0.0, 0.0, 0.0, 0.0, 0.0, 0.0, 0.0, 0.0, 0.0, 0.0, 0.0, 0.0, 0.0, 0.0, 0.0, 0.0, 0.0, 0.0, 0.0], [0.9424744844436646, 0.05752559006214142, 0.0, 0.0, 0.0, 0.0, 0.0, 0.0, 0.0, 0.0, 0.0, 0.0, 0.0, 0.0, 0.0, 0.0, 0.0, 0.0, 0.0, 0.0, 0.0, 0.0, 0.0, 0.0, 0.0, 0.0, 0.0, 0.0, 0.0, 0.0, 0.0, 0.0, 0.0, 0.0, 0.0], [0.8506749868392944, 0.09740976989269257, 0.05191533640027046, 0.0, 0.0, 0.0, 0.0, 0.0, 0.0, 0.0, 0.0, 0.0, 0.0, 0.0, 0.0, 0.0, 0.0, 0.0, 0.0, 0.0, 0.0, 0.0, 0.0, 0.0, 0.0, 0.0, 0.0, 0.0, 0.0, 0.0, 0.0, 0.0, 0.0, 0.0, 0.0], [0.7641512751579285, 0.10970377922058105, 0.07497040927410126, 0.05117451399564743, 0.0, 0.0, 0.0, 0.0, 0.0, 0.0, 0.0, 0.0, 0.0, 0.0, 0.0, 0.0, 0.0, 0.0, 0.0, 0.0, 0.0, 0.0, 0.0, 0.0, 0.0, 0.0, 0.0, 0.0, 0.0, 0.0, 0.0, 0.0, 0.0, 0.0, 0.0], [0.6748190522193909, 0.08416198194026947, 0.0547025240957737, 0.07581548392772675, 0.11050093173980713, 0.0, 0.0, 0.0, 0.0, 0.0, 0.0, 0.0, 0.0, 0.0, 0.0, 0.0, 0.0, 0.0, 0.0, 0.0, 0.0, 0.0, 0.0, 0.0, 0.0, 0.0, 0.0, 0.0, 0.0, 0.0, 0.0, 0.0, 0.0, 0.0, 0.0], [0.6857606172561646, 0.08229530602693558, 0.05202115327119827, 0.08139178901910782, 0.04085881635546684, 0.05767226964235306, 0.0, 0.0, 0.0, 0.0, 0.0, 0.0, 0.0, 0.0, 0.0, 0.0, 0.0, 0.0, 0.0, 0.0, 0.0, 0.0, 0.0, 0.0, 0.0, 0.0, 0.0, 0.0, 0.0, 0.0, 0.0, 0.0, 0.0, 0.0, 0.0], [0.6174604296684265, 0.05653456225991249, 0.0911170169711113, 0.06854885071516037, 0.06338423490524292, 0.03596976399421692, 0.06698513776063919, 0.0, 0.0, 0.0, 0.0, 0.0, 0.0, 0.0, 0.0, 0.0, 0.0, 0.0, 0.0, 0.0, 0.0, 0.0, 0.0, 0.0, 0.0, 0.0, 0.0, 0.0, 0.0, 0.0, 0.0, 0.0, 0.0, 0.0, 0.0], [0.6047279834747314, 0.06088967248797417, 0.05921148136258125, 0.09558156132698059, 0.04265914112329483, 0.03184346482157707, 0.0426306426525116, 0.06245603412389755, 0.0, 0.0, 0.0, 0.0, 0.0, 0.0, 0.0, 0.0, 0.0, 0.0, 0.0, 0.0, 0.0, 0.0, 0.0, 0.0, 0.0, 0.0, 0.0, 0.0, 0.0, 0.0, 0.0, 0.0, 0.0, 0.0, 0.0], [0.40084385871887207, 0.07533580809831619, 0.04270840436220169, 0.011760727502405643, 0.026680564507842064, 0.013492075726389885, 0.028465453535318375, 0.013900593854486942, 0.3868125081062317, 0.0, 0.0, 0.0, 0.0, 0.0, 0.0, 0.0, 0.0, 0.0, 0.0, 0.0, 0.0, 0.0, 0.0, 0.0, 0.0, 0.0, 0.0, 0.0, 0.0, 0.0, 0.0, 0.0, 0.0, 0.0, 0.0], [0.49680253863334656, 0.06792882084846497, 0.057920072227716446, 0.07101531326770782, 0.06963258981704712, 0.01880010962486267, 0.06757563352584839, 0.06346484273672104, 0.06656691431999207, 0.020293202251195908, 0.0, 0.0, 0.0, 0.0, 0.0, 0.0, 0.0, 0.0, 0.0, 0.0, 0.0, 0.0, 0.0, 0.0, 0.0, 0.0, 0.0, 0.0, 0.0, 0.0, 0.0, 0.0, 0.0, 0.0, 0.0], [0.5176077485084534, 0.08289013057947159, 0.052397653460502625, 0.06842363625764847, 0.04608830437064171, 0.026865968480706215, 0.08181485533714294, 0.032308369874954224, 0.05516277998685837, 0.018549641594290733, 0.01789088547229767, 0.0, 0.0, 0.0, 0.0, 0.0, 0.0, 0.0, 0.0, 0.0, 0.0, 0.0, 0.0, 0.0, 0.0, 0.0, 0.0, 0.0, 0.0, 0.0, 0.0, 0.0, 0.0, 0.0, 0.0], [0.3038181960582733, 0.03185645863413811, 0.029157688841223717, 0.011053643189370632, 0.01353677362203598, 0.016536911949515343, 0.015181959606707096, 0.01551173347979784, 0.026294980198144913, 0.0168909952044487, 0.0118866590783, 0.5082740187644958, 0.0, 0.0, 0.0, 0.0, 0.0, 0.0, 0.0, 0.0, 0.0, 0.0, 0.0, 0.0, 0.0, 0.0, 0.0, 0.0, 0.0, 0.0, 0.0, 0.0, 0.0, 0.0, 0.0], [0.35859885811805725, 0.07880908250808716, 0.059028640389442444, 0.044458672404289246, 0.07822323590517044, 0.019679522141814232, 0.051331184804439545, 0.04009843245148659, 0.08024685084819794, 0.02781190536916256, 0.010250616818666458, 0.136103555560112, 0.015359463170170784, 0.0, 0.0, 0.0, 0.0, 0.0, 0.0, 0.0, 0.0, 0.0, 0.0, 0.0, 0.0, 0.0, 0.0, 0.0, 0.0, 0.0, 0.0, 0.0, 0.0, 0.0, 0.0], [0.2511676847934723, 0.04623397812247276, 0.027838535606861115, 0.007056497968733311, 0.017244167625904083, 0.008997936733067036, 0.017309943214058876, 0.00992414727807045, 0.25275108218193054, 0.012778295204043388, 0.0085460739210248, 0.04791994020342827, 0.006098276935517788, 0.28613343834877014, 0.0, 0.0, 0.0, 0.0, 0.0, 0.0, 0.0, 0.0, 0.0, 0.0, 0.0, 0.0, 0.0, 0.0, 0.0, 0.0, 0.0, 0.0, 0.0, 0.0, 0.0], [0.39800775051116943, 0.06433821469545364, 0.04979853332042694, 0.05949564650654793, 0.0318211205303669, 0.030714750289916992, 0.05899553373456001, 0.054803889244794846, 0.03919372707605362, 0.03556447848677635, 0.024916470050811768, 0.04571932554244995, 0.016671661287546158, 0.038943100720644, 0.05101582780480385, 0.0, 0.0, 0.0, 0.0, 0.0, 0.0, 0.0, 0.0, 0.0, 0.0, 0.0, 0.0, 0.0, 0.0, 0.0, 0.0, 0.0, 0.0, 0.0, 0.0], [0.39033833146095276, 0.0754939392209053, 0.038446757942438126, 0.04366778954863548, 0.017820758745074272, 0.012712187133729458, 0.04530725255608559, 0.03603021055459976, 0.0421706922352314, 0.016753023490309715, 0.042248666286468506, 0.050923433154821396, 0.030772076919674873, 0.04072083532810211, 0.056488826870918274, 0.060105275362730026, 0.0, 0.0, 0.0, 0.0, 0.0, 0.0, 0.0, 0.0, 0.0, 0.0, 0.0, 0.0, 0.0, 0.0, 0.0, 0.0, 0.0, 0.0, 0.0], [0.1818235069513321, 0.01822478510439396, 0.01747789792716503, 0.00637225853279233, 0.007922587916254997, 0.01006288267672062, 0.008703156374394894, 0.010297480039298534, 0.015354449860751629, 0.011538180522620678, 0.007091038394719362, 0.3139554560184479, 0.0060198199935257435, 0.01588757336139679, 0.015422000549733639, 0.013188594952225685, 0.3406582176685333, 0.0, 0.0, 0.0, 0.0, 0.0, 0.0, 0.0, 0.0, 0.0, 0.0, 0.0, 0.0, 0.0, 0.0, 0.0, 0.0, 0.0, 0.0], [0.23881429433822632, 0.07684364914894104, 0.04843557998538017, 0.028319763019680977, 0.042976263910532, 0.01943075843155384, 0.033217210322618484, 0.027472933754324913, 0.018975937739014626, 0.04046747088432312, 0.020095594227313995, 0.05857317894697189, 0.03530574217438698, 0.019691893830895424, 0.0970376655459404, 0.03909807652235031, 0.061994507908821106, 0.09324943274259567, 0.0, 0.0, 0.0, 0.0, 0.0, 0.0, 0.0, 0.0, 0.0, 0.0, 0.0, 0.0, 0.0, 0.0, 0.0, 0.0, 0.0], [0.3563612699508667, 0.04354535788297653, 0.05439368262887001, 0.03599720075726509, 0.055608734488487244, 0.03285682573914528, 0.019443847239017487, 0.06911691278219223, 0.020649444311857224, 0.03360533341765404, 0.027618739753961563, 0.03408000245690346, 0.026847461238503456, 0.020337317138910294, 0.022298939526081085, 0.03622736781835556, 0.03464474901556969, 0.022655006498098373, 0.053711846470832825, 0.0, 0.0, 0.0, 0.0, 0.0, 0.0, 0.0, 0.0, 0.0, 0.0, 0.0, 0.0, 0.0, 0.0, 0.0, 0.0], [0.3967011570930481, 0.05178237333893776, 0.03996191918849945, 0.06630747765302658, 0.04557187482714653, 0.023983418941497803, 0.01939675584435463, 0.02136598341166973, 0.020253779366612434, 0.03685583919286728, 0.009492038749158382, 0.04181000962853432, 0.01449868269264698, 0.01978372037410736, 0.02971523441374302, 0.046315450221300125, 0.0424664281308651, 0.031475212424993515, 0.022027643397450447, 0.02023503929376602, 0.0, 0.0, 0.0, 0.0, 0.0, 0.0, 0.0, 0.0, 0.0, 0.0, 0.0, 0.0, 0.0, 0.0, 0.0], [0.23151390254497528, 0.13258197903633118, 0.060261040925979614, 0.011383602395653725, 0.02426271326839924, 0.01455345656722784, 0.016979563981294632, 0.013957401737570763, 0.02247590199112892, 0.02772127091884613, 0.02060706540942192, 0.04084683954715729, 0.027723226696252823, 0.02455071732401848, 0.03857920691370964, 0.04770098999142647, 0.04407110437750816, 0.07720750570297241, 0.046044718474149704, 0.04773343726992607, 0.02924429625272751, 0.0, 0.0, 0.0, 0.0, 0.0, 0.0, 0.0, 0.0, 0.0, 0.0, 0.0, 0.0, 0.0, 0.0], [0.20264168083667755, 0.048930875957012177, 0.038946811109781265, 0.02663227543234825, 0.040943488478660583, 0.016175055876374245, 0.0438801608979702, 0.04927309975028038, 0.03744290769100189, 0.0187479630112648, 0.010438336990773678, 0.03027419000864029, 0.011668813414871693, 0.039159007370471954, 0.08361911028623581, 0.026806551963090897, 0.03237595781683922, 0.026771066710352898, 0.041368674486875534, 0.04380548372864723, 0.09921547025442123, 0.03088301606476307, 0.0, 0.0, 0.0, 0.0, 0.0, 0.0, 0.0, 0.0, 0.0, 0.0, 0.0, 0.0, 0.0], [0.22999967634677887, 0.029275385662913322, 0.02482367679476738, 0.03074752166867256, 0.024439770728349686, 0.02507818304002285, 0.01904827542603016, 0.04161752387881279, 0.02524641714990139, 0.05536344647407532, 0.01384033728390932, 0.03206311911344528, 0.02337372489273548, 0.026896372437477112, 0.03765585646033287, 0.02870968170464039, 0.03498142585158348, 0.03826926648616791, 0.05304880812764168, 0.07750776410102844, 0.042357515543699265, 0.0629706084728241, 0.02268565259873867, 0.0, 0.0, 0.0, 0.0, 0.0, 0.0, 0.0, 0.0, 0.0, 0.0, 0.0, 0.0], [0.2523006796836853, 0.043092601001262665, 0.04779432713985443, 0.021534832194447517, 0.05364762246608734, 0.014357618987560272, 0.016968198120594025, 0.012399845756590366, 0.02810795046389103, 0.022964566946029663, 0.013637294992804527, 0.03462432324886322, 0.013057572767138481, 0.02975357323884964, 0.02592567726969719, 0.03689541667699814, 0.036465853452682495, 0.020091164857149124, 0.03424844518303871, 0.0322706438601017, 0.07516518235206604, 0.03381401300430298, 0.05794450640678406, 0.042938098311424255, 0.0, 0.0, 0.0, 0.0, 0.0, 0.0, 0.0, 0.0, 0.0, 0.0, 0.0], [0.24815592169761658, 0.04183841869235039, 0.03725352883338928, 0.019914185628294945, 0.06031174957752228, 0.013761499896645546, 0.010237006470561028, 0.02711835503578186, 0.021247489377856255, 0.014996419660747051, 0.01595640927553177, 0.019741924479603767, 0.016942854970693588, 0.022782422602176666, 0.021159425377845764, 0.013419789262115955, 0.02113155648112297, 0.015880083665251732, 0.03851574659347534, 0.03509929031133652, 0.06386468559503555, 0.04215892031788826, 0.0559517927467823, 0.06510590016841888, 0.05745463818311691, 0.0, 0.0, 0.0, 0.0, 0.0, 0.0, 0.0, 0.0, 0.0, 0.0], [0.24590620398521423, 0.03979460895061493, 0.03405002877116203, 0.038720108568668365, 0.02834436297416687, 0.024568283930420876, 0.01368725672364235, 0.019880948588252068, 0.01750793308019638, 0.04131213575601578, 0.024649042636156082, 0.017028076574206352, 0.015493780374526978, 0.01803990639746189, 0.028712520375847816, 0.00894533097743988, 0.017858805134892464, 0.029846567660570145, 0.026982249692082405, 0.0611925832927227, 0.03972142934799194, 0.04008691385388374, 0.04656379297375679, 0.04659208655357361, 0.046358171850442886, 0.028156956657767296, 0.0, 0.0, 0.0, 0.0, 0.0, 0.0, 0.0, 0.0, 0.0], [0.24299508333206177, 0.030936650931835175, 0.0372811034321785, 0.029979784041643143, 0.039518214762210846, 0.02068973518908024, 0.024463778361678123, 0.016162263229489326, 0.02351461723446846, 0.015184110961854458, 0.009779488667845726, 0.01040042657405138, 0.008830745704472065, 0.02398892305791378, 0.02441922016441822, 0.03784202039241791, 0.01058998703956604, 0.013367552310228348, 0.016263319179415703, 0.09984056651592255, 0.02563280612230301, 0.027902808040380478, 0.05468778312206268, 0.031704071909189224, 0.027479564771056175, 0.016517244279384613, 0.08002804219722748, 0.0, 0.0, 0.0, 0.0, 0.0, 0.0, 0.0, 0.0], [0.2438330203294754, 0.02178153209388256, 0.019058482721447945, 0.026608401909470558, 0.0374055951833725, 0.027086662128567696, 0.005031608510762453, 0.02665606699883938, 0.017429376021027565, 0.028662461787462234, 0.012151001021265984, 0.03022322617471218, 0.014068303629755974, 0.01816091127693653, 0.015435298904776573, 0.015721838921308517, 0.032153062522411346, 0.02497299201786518, 0.04793379083275795, 0.0459899827837944, 0.031192146241664886, 0.03841528668999672, 0.03788125142455101, 0.03472227603197098, 0.03550751879811287, 0.033360350877046585, 0.05460803955793381, 0.023949559777975082, 0.0, 0.0, 0.0, 0.0, 0.0, 0.0, 0.0], [0.308788001537323, 0.04082433506846428, 0.010766164399683475, 0.027089761570096016, 0.019433284178376198, 0.03355548903346062, 0.010839528404176235, 0.011495575308799744, 0.011286413297057152, 0.019319286569952965, 0.03442363440990448, 0.010595864616334438, 0.019463730975985527, 0.011577979661524296, 0.014172395691275597, 0.02159341238439083, 0.010569147765636444, 0.01821252517402172, 0.007991204038262367, 0.05231865867972374, 0.019707780331373215, 0.03532518446445465, 0.02959827333688736, 0.028512965887784958, 0.02101978287100792, 0.018976131454110146, 0.031007930636405945, 0.017736954614520073, 0.10379856824874878, 0.0, 0.0, 0.0, 0.0, 0.0, 0.0], [0.11270297318696976, 0.013211624696850777, 0.015115487389266491, 0.008062331937253475, 0.018075047060847282, 0.020267320796847343, 0.009121792390942574, 0.02165439911186695, 0.024600302800536156, 0.01222027838230133, 0.005230674520134926, 0.021195195615291595, 0.007505761459469795, 0.027240080758929253, 0.016828980296850204, 0.009307201020419598, 0.023774154484272003, 0.009840189479291439, 0.023520398885011673, 0.01809619925916195, 0.11592710763216019, 0.008296086452901363, 0.015038426965475082, 0.016261838376522064, 0.022837134078145027, 0.007970287464559078, 0.010346001014113426, 0.013601288199424744, 0.009923165664076805, 0.36222824454307556, 0.0, 0.0, 0.0, 0.0, 0.0], [0.19907146692276, 0.023352961987257004, 0.027535509318113327, 0.020741188898682594, 0.049442391842603683, 0.0396454818546772, 0.011580482125282288, 0.03849605843424797, 0.012212725356221199, 0.01263487245887518, 0.018897850066423416, 0.011502718552947044, 0.014417952857911587, 0.012855133973062038, 0.01591629534959793, 0.009284348227083683, 0.01192910224199295, 0.0145748071372509, 0.029562372714281082, 0.03092147223651409, 0.0493488647043705, 0.02683301828801632, 0.03316975757479668, 0.026513921096920967, 0.03841781988739967, 0.03666592761874199, 0.037406839430332184, 0.037449173629283905, 0.041813693940639496, 0.04080500081181526, 0.02700079418718815, 0.0, 0.0, 0.0, 0.0], [0.13580849766731262, 0.021598195657134056, 0.028431454673409462, 0.021366795524954796, 0.03184177726507187, 0.02831076830625534, 0.011232445947825909, 0.016139335930347443, 0.023436743766069412, 0.025144273415207863, 0.01280452311038971, 0.01200050301849842, 0.02091226913034916, 0.02500329352915287, 0.02769223414361477, 0.017305923625826836, 0.01285973284393549, 0.016066305339336395, 0.03279003128409386, 0.03829026594758034, 0.06080479547381401, 0.03674997761845589, 0.03524733707308769, 0.03857798874378204, 0.03904814273118973, 0.03664339333772659, 0.014530438929796219, 0.021632276475429535, 0.010490999557077885, 0.06733929365873337, 0.03867284581065178, 0.04122710973024368, 0.0, 0.0, 0.0], [0.13088135421276093, 0.02374432422220707, 0.020114339888095856, 0.009702391922473907, 0.02695222944021225, 0.0135911013931036, 0.009517530910670757, 0.01327170617878437, 0.02761792577803135, 0.01149837952107191, 0.008886140771210194, 0.016865810379385948, 0.0099719800055027, 0.03131859749555588, 0.01495380513370037, 0.01563660055398941, 0.018755866214632988, 0.008822468109428883, 0.024258308112621307, 0.018599877133965492, 0.06659717857837677, 0.023935338482260704, 0.030215013772249222, 0.038479700684547424, 0.0605478473007679, 0.03886096924543381, 0.02103956788778305, 0.026919951662421227, 0.03078671172261238, 0.06339393556118011, 0.05302290618419647, 0.07499752193689346, 0.016242537647485733, 0.0, 0.0], [0.21679523587226868, 0.03523939102888107, 0.014480572193861008, 0.03231681510806084, 0.021502699702978134, 0.019766854122281075, 0.007716968655586243, 0.031425777822732925, 0.011421254836022854, 0.03985080495476723, 0.005697543732821941, 0.013826759532094002, 0.01121773011982441, 0.011028864420950413, 0.01434233970940113, 0.016691599041223526, 0.013800648972392082, 0.009054168127477169, 0.016551576554775238, 0.045164480805397034, 0.01674339734017849, 0.04049498587846756, 0.046006593853235245, 0.03918023779988289, 0.020771795883774757, 0.04241836443543434, 0.02944406308233738, 0.01654653623700142, 0.043390434235334396, 0.01802881248295307, 0.01749301329255104, 0.03195444867014885, 0.023179983720183372, 0.026455212384462357, 0.0], [0.12406580150127411, 0.055755194276571274, 0.025793123990297318, 0.007745686918497086, 0.019214721396565437, 0.01187239307910204, 0.009303719736635685, 0.0158426184207201, 0.01272842101752758, 0.012888259254395962, 0.013962874189019203, 0.016627252101898193, 0.015507100149989128, 0.013195222243666649, 0.01732509583234787, 0.02114798128604889, 0.017335491254925728, 0.01582431048154831, 0.024794381111860275, 0.011903032660484314, 0.03651022911071777, 0.023874735459685326, 0.040221355855464935, 0.06286034733057022, 0.10149352252483368, 0.05332259461283684, 0.02168962173163891, 0.018244296312332153, 0.008406986482441425, 0.02320229262113571, 0.049604158848524094, 0.020869312807917595, 0.01601795293390751, 0.011101932264864445, 0.04974795877933502]], [[1.0, 0.0, 0.0, 0.0, 0.0, 0.0, 0.0, 0.0, 0.0, 0.0, 0.0, 0.0, 0.0, 0.0, 0.0, 0.0, 0.0, 0.0, 0.0, 0.0, 0.0, 0.0, 0.0, 0.0, 0.0, 0.0, 0.0, 0.0, 0.0, 0.0, 0.0, 0.0, 0.0, 0.0, 0.0], [0.10778012126684189, 0.8922198414802551, 0.0, 0.0, 0.0, 0.0, 0.0, 0.0, 0.0, 0.0, 0.0, 0.0, 0.0, 0.0, 0.0, 0.0, 0.0, 0.0, 0.0, 0.0, 0.0, 0.0, 0.0, 0.0, 0.0, 0.0, 0.0, 0.0, 0.0, 0.0, 0.0, 0.0, 0.0, 0.0, 0.0], [0.011847428977489471, 0.5536144375801086, 0.4345381557941437, 0.0, 0.0, 0.0, 0.0, 0.0, 0.0, 0.0, 0.0, 0.0, 0.0, 0.0, 0.0, 0.0, 0.0, 0.0, 0.0, 0.0, 0.0, 0.0, 0.0, 0.0, 0.0, 0.0, 0.0, 0.0, 0.0, 0.0, 0.0, 0.0, 0.0, 0.0, 0.0], [0.06322265416383743, 0.021719157695770264, 0.0942729040980339, 0.8207852840423584, 0.0, 0.0, 0.0, 0.0, 0.0, 0.0, 0.0, 0.0, 0.0, 0.0, 0.0, 0.0, 0.0, 0.0, 0.0, 0.0, 0.0, 0.0, 0.0, 0.0, 0.0, 0.0, 0.0, 0.0, 0.0, 0.0, 0.0, 0.0, 0.0, 0.0, 0.0], [0.0050957403145730495, 0.0005348753184080124, 0.0010105478577315807, 0.004657563753426075, 0.9887012243270874, 0.0, 0.0, 0.0, 0.0, 0.0, 0.0, 0.0, 0.0, 0.0, 0.0, 0.0, 0.0, 0.0, 0.0, 0.0, 0.0, 0.0, 0.0, 0.0, 0.0, 0.0, 0.0, 0.0, 0.0, 0.0, 0.0, 0.0, 0.0, 0.0, 0.0], [0.0055859629064798355, 0.00030240067280828953, 0.0007955087348818779, 0.000678032694850117, 0.028760144487023354, 0.9638778567314148, 0.0, 0.0, 0.0, 0.0, 0.0, 0.0, 0.0, 0.0, 0.0, 0.0, 0.0, 0.0, 0.0, 0.0, 0.0, 0.0, 0.0, 0.0, 0.0, 0.0, 0.0, 0.0, 0.0, 0.0, 0.0, 0.0, 0.0, 0.0, 0.0], [0.00026657318812794983, 0.00015396179514937103, 4.344207627582364e-05, 0.00031633928301744163, 0.007582386024296284, 0.008635691367089748, 0.9830015897750854, 0.0, 0.0, 0.0, 0.0, 0.0, 0.0, 0.0, 0.0, 0.0, 0.0, 0.0, 0.0, 0.0, 0.0, 0.0, 0.0, 0.0, 0.0, 0.0, 0.0, 0.0, 0.0, 0.0, 0.0, 0.0, 0.0, 0.0, 0.0], [0.0006940618040971458, 4.833178536500782e-05, 4.51133782917168e-05, 2.3520820832345635e-05, 0.0022377674467861652, 0.0012080527376383543, 0.009321363642811775, 0.9864218235015869, 0.0, 0.0, 0.0, 0.0, 0.0, 0.0, 0.0, 0.0, 0.0, 0.0, 0.0, 0.0, 0.0, 0.0, 0.0, 0.0, 0.0, 0.0, 0.0, 0.0, 0.0, 0.0, 0.0, 0.0, 0.0, 0.0, 0.0], [0.047719910740852356, 0.006346916779875755, 0.005507619585841894, 0.012776725925505161, 0.012552594766020775, 0.012200534343719482, 0.007760605774819851, 0.017114859074354172, 0.878020167350769, 0.0, 0.0, 0.0, 0.0, 0.0, 0.0, 0.0, 0.0, 0.0, 0.0, 0.0, 0.0, 0.0, 0.0, 0.0, 0.0, 0.0, 0.0, 0.0, 0.0, 0.0, 0.0, 0.0, 0.0, 0.0, 0.0], [9.403799049323425e-05, 7.299120738935017e-07, 1.2948522680744645e-06, 1.0040562301583122e-06, 1.5192456885415595e-05, 3.6095178074901924e-05, 3.1514402508037165e-05, 0.001080825924873352, 4.23684214183595e-05, 0.9986969828605652, 0.0, 0.0, 0.0, 0.0, 0.0, 0.0, 0.0, 0.0, 0.0, 0.0, 0.0, 0.0, 0.0, 0.0, 0.0, 0.0, 0.0, 0.0, 0.0, 0.0, 0.0, 0.0, 0.0, 0.0, 0.0], [0.00029844208620488644, 1.0225175174127799e-05, 2.0773810319951735e-05, 1.0716728866100311e-05, 7.453832949977368e-05, 0.00016580558440182358, 0.0013668601168319583, 0.0025834820698946714, 5.024059282732196e-05, 0.3243955969810486, 0.6710232496261597, 0.0, 0.0, 0.0, 0.0, 0.0, 0.0, 0.0, 0.0, 0.0, 0.0, 0.0, 0.0, 0.0, 0.0, 0.0, 0.0, 0.0, 0.0, 0.0, 0.0, 0.0, 0.0, 0.0, 0.0], [0.009233685210347176, 0.0007820433238521218, 0.0006810440099798143, 0.0018207893008366227, 0.004383390303701162, 0.017509140074253082, 0.0033242502249777317, 0.017607441172003746, 0.08099664002656937, 0.1094304621219635, 0.01429189182817936, 0.7399392127990723, 0.0, 0.0, 0.0, 0.0, 0.0, 0.0, 0.0, 0.0, 0.0, 0.0, 0.0, 0.0, 0.0, 0.0, 0.0, 0.0, 0.0, 0.0, 0.0, 0.0, 0.0, 0.0, 0.0], [0.0002393030736129731, 3.323791361253825e-06, 2.283279172843322e-05, 1.024477751343511e-05, 1.0253623258904554e-05, 4.496405381360091e-05, 2.357670928176958e-05, 6.216625479282811e-05, 0.0003292954061180353, 0.00874954555183649, 0.0018788711167871952, 0.0014183473540470004, 0.9872072339057922, 0.0, 0.0, 0.0, 0.0, 0.0, 0.0, 0.0, 0.0, 0.0, 0.0, 0.0, 0.0, 0.0, 0.0, 0.0, 0.0, 0.0, 0.0, 0.0, 0.0, 0.0, 0.0], [0.012295348569750786, 0.0005298625910654664, 0.00035605113953351974, 0.0006006713374517858, 0.0005327535327523947, 0.0005349715938791633, 0.00034733503707684577, 0.0008671173709444702, 0.03432309255003929, 0.013273639604449272, 0.00753119308501482, 0.0594179667532444, 0.09377509355545044, 0.775614857673645, 0.0, 0.0, 0.0, 0.0, 0.0, 0.0, 0.0, 0.0, 0.0, 0.0, 0.0, 0.0, 0.0, 0.0, 0.0, 0.0, 0.0, 0.0, 0.0, 0.0, 0.0], [7.850895781302825e-05, 1.1863347026519477e-05, 5.970530310150934e-06, 4.359472768555861e-06, 6.933053555258084e-06, 5.567325570154935e-05, 8.762053766986355e-06, 2.2130026991362683e-05, 0.000222383372602053, 0.0002802508242893964, 0.0008127276669256389, 0.0015677311457693577, 0.00018956427811644971, 0.0058794207870960236, 0.9908536672592163, 0.0, 0.0, 0.0, 0.0, 0.0, 0.0, 0.0, 0.0, 0.0, 0.0, 0.0, 0.0, 0.0, 0.0, 0.0, 0.0, 0.0, 0.0, 0.0, 0.0], [9.475018305238336e-05, 8.603468813817017e-06, 3.744855803233804e-06, 1.4634210288022587e-07, 2.701744051591959e-06, 1.141736993304221e-05, 8.620831067673862e-06, 9.928106010193005e-05, 3.119514076388441e-06, 0.00022620831441599876, 0.0005323353689163923, 2.980489080073312e-05, 0.0013675648951902986, 5.10800709889736e-05, 0.009570813737809658, 0.9879898428916931, 0.0, 0.0, 0.0, 0.0, 0.0, 0.0, 0.0, 0.0, 0.0, 0.0, 0.0, 0.0, 0.0, 0.0, 0.0, 0.0, 0.0, 0.0, 0.0], [0.003944712225347757, 0.0001302912423852831, 9.947708895197138e-05, 0.00019776381668634713, 0.0004265850584488362, 0.0014889843296259642, 0.0002834684564732015, 0.0015356732765212655, 0.004810090642422438, 0.005567722488194704, 0.0010473595466464758, 0.04082656279206276, 0.00918902549892664, 0.09278516471385956, 0.01585300639271736, 0.027940884232521057, 0.7938731908798218, 0.0, 0.0, 0.0, 0.0, 0.0, 0.0, 0.0, 0.0, 0.0, 0.0, 0.0, 0.0, 0.0, 0.0, 0.0, 0.0, 0.0, 0.0], [0.000217236447497271, 2.3531203623861074e-05, 7.806306712154765e-06, 4.732967227027984e-06, 1.5671221262891777e-06, 8.667426300235093e-06, 1.264625825569965e-05, 6.12928852206096e-05, 0.00018869456835091114, 0.000590130512136966, 0.0004205672303214669, 0.00097465276485309, 0.00042177739669568837, 0.004066715482622385, 0.001442243461497128, 0.01196003332734108, 0.02240196242928505, 0.9571956396102905, 0.0, 0.0, 0.0, 0.0, 0.0, 0.0, 0.0, 0.0, 0.0, 0.0, 0.0, 0.0, 0.0, 0.0, 0.0, 0.0, 0.0], [0.0007360449526458979, 3.016818482137751e-06, 1.3554724773712223e-06, 1.4014691487318487e-06, 3.387705146451481e-05, 3.752291377168149e-05, 1.0748701242846437e-05, 0.00043027024366892874, 1.6196732758544385e-05, 0.0006748256273567677, 0.0005265918443910778, 0.00012409142800606787, 4.710712164524011e-05, 0.0002413816109765321, 0.0006886573391966522, 0.0003870207874570042, 0.0021441516000777483, 0.0017651681555435061, 0.9921305775642395, 0.0, 0.0, 0.0, 0.0, 0.0, 0.0, 0.0, 0.0, 0.0, 0.0, 0.0, 0.0, 0.0, 0.0, 0.0, 0.0], [6.5298086155962665e-06, 4.013174681460896e-09, 4.275882758975058e-09, 9.052336658044169e-09, 5.135176479598158e-07, 3.731759534275625e-06, 1.4824254890299926e-07, 4.6551231207558885e-06, 1.663049964406582e-08, 3.0296805562102236e-06, 3.191984069417231e-05, 1.401744071927169e-07, 4.954933956469176e-07, 2.367100506717179e-07, 7.952940563882294e-07, 0.00018607293895911425, 2.4466733066219604e-06, 1.1982309843006078e-05, 0.0005082339630462229, 0.9992390871047974, 0.0, 0.0, 0.0, 0.0, 0.0, 0.0, 0.0, 0.0, 0.0, 0.0, 0.0, 0.0, 0.0, 0.0, 0.0], [0.009417888708412647, 0.00017362425569444895, 0.00019593205070123076, 0.0001054246022249572, 0.00012100091407774016, 0.00013750353537034243, 0.00020822316582780331, 0.0002620880550239235, 0.0009803799912333488, 0.00017425179248675704, 0.0013313920935615897, 0.0032773104030638933, 0.004840617999434471, 0.01237878855317831, 0.0018258974887430668, 0.02428203448653221, 0.054799631237983704, 0.07428482919931412, 0.07759273052215576, 0.10845335572957993, 0.6251571178436279, 0.0, 0.0, 0.0, 0.0, 0.0, 0.0, 0.0, 0.0, 0.0, 0.0, 0.0, 0.0, 0.0, 0.0], [0.00017886343994177878, 2.97178257824271e-06, 1.2879229416284943e-06, 1.6619725329292123e-06, 3.153397528876667e-06, 7.608547093695961e-06, 4.480571362819319e-07, 4.628855549526634e-06, 4.462084689293988e-06, 4.640815859602299e-06, 4.678124696511077e-06, 2.22552571358392e-05, 0.0006885050097480416, 5.880861499463208e-05, 5.511297786142677e-05, 0.0013147719437256455, 0.0004210414772387594, 0.000527929631061852, 0.00030591600807383657, 0.0011363041121512651, 0.004935144446790218, 0.9903199076652527, 0.0, 0.0, 0.0, 0.0, 0.0, 0.0, 0.0, 0.0, 0.0, 0.0, 0.0, 0.0, 0.0], [0.0009000810096040368, 3.4609056456247345e-05, 6.00008161200094e-06, 1.3317927596290247e-06, 8.382407031604089e-06, 7.950181498017628e-06, 8.352956228918629e-07, 5.017445801058784e-06, 1.108555261453148e-05, 1.5506169802392833e-05, 2.244964889541734e-05, 3.2394586014561355e-05, 7.153368642320856e-05, 0.00011106140300398692, 6.552044851559913e-06, 3.557855961844325e-05, 0.00046084189671091735, 0.0006021015578880906, 0.007735573220998049, 0.004731383640319109, 0.012920107692480087, 0.016999097540974617, 0.9552805423736572, 0.0, 0.0, 0.0, 0.0, 0.0, 0.0, 0.0, 0.0, 0.0, 0.0, 0.0, 0.0], [8.094513032119721e-05, 5.419524677563459e-05, 2.11910064535914e-05, 8.660309163133206e-07, 5.2413815865293145e-06, 2.81139637081651e-06, 9.647645811128314e-07, 4.259616162016755e-06, 6.819939699198585e-06, 2.6370105388195952e-06, 1.0387332622485701e-05, 3.1177736673271284e-05, 2.5747023755684495e-05, 8.829341823002324e-05, 0.0001053003579727374, 0.00037444676854647696, 0.0005833777249790728, 0.0009019328281283379, 0.00043120086775161326, 0.004991115070879459, 0.0035159254912286997, 0.015127460472285748, 0.01838500238955021, 0.9552487730979919, 0.0, 0.0, 0.0, 0.0, 0.0, 0.0, 0.0, 0.0, 0.0, 0.0, 0.0], [0.00019926753884647042, 5.897880441807501e-07, 4.093079439826397e-07, 5.283640120978816e-07, 4.043735088998801e-07, 6.811433195252903e-07, 2.501955975731107e-07, 3.190987456491712e-07, 5.018010142521234e-06, 3.059933305848972e-06, 4.776866262545809e-06, 8.106241693894845e-06, 1.7871059753815643e-05, 5.904932550038211e-05, 7.019496479188092e-06, 5.101951683172956e-05, 0.00015419672126881778, 0.00015557781443931162, 0.0004630949115380645, 0.00018736724450718611, 0.0029354512225836515, 0.00699869217351079, 0.004895060323178768, 0.010302482172846794, 0.9735496640205383, 0.0, 0.0, 0.0, 0.0, 0.0, 0.0, 0.0, 0.0, 0.0, 0.0], [4.0418952266918495e-05, 7.668201185140333e-09, 6.183969247786081e-08, 4.1099625036622456e-08, 3.1613390660822915e-07, 1.0004049499912071e-07, 6.658504503320728e-08, 4.78027175176976e-07, 4.035153366999111e-08, 6.753229627065593e-06, 8.574284038331825e-08, 1.0514251869153668e-07, 3.2702796488592867e-06, 4.896555196864938e-07, 1.2450341273506638e-06, 9.06984496396035e-06, 2.0693112219305476e-06, 8.541695024177898e-06, 4.5136250264476985e-05, 8.528187754563987e-05, 8.476246148347855e-05, 0.0010267914040014148, 0.0013347769854590297, 0.00029600723064504564, 0.0056267851032316685, 0.9914274215698242, 0.0, 0.0, 0.0, 0.0, 0.0, 0.0, 0.0, 0.0, 0.0], [0.0003747463633771986, 1.24301294590623e-07, 2.5229184075215016e-07, 3.052452086649282e-07, 4.772525244334247e-06, 6.075460419197043e-07, 8.501729666932079e-07, 1.1030846508219838e-05, 8.098982817728029e-08, 9.651303116697818e-07, 7.193351621026522e-07, 3.2339349331778067e-07, 1.7605461835046299e-06, 4.4468265514296945e-07, 3.298762862868898e-07, 2.4300325094372965e-05, 3.664272071546293e-06, 3.0616486128565157e-06, 2.627128196763806e-05, 0.00034267199225723743, 2.078818215522915e-05, 0.00013409749954007566, 0.000304724759189412, 9.803617285797372e-05, 0.0004919689381495118, 0.004237069748342037, 0.9939160943031311, 0.0, 0.0, 0.0, 0.0, 0.0, 0.0, 0.0, 0.0], [0.00023197611153591424, 7.36362324005313e-07, 1.065803985511593e-06, 4.7497985633526696e-07, 2.1877847302675946e-06, 2.074172016364173e-06, 1.3842094404026284e-07, 2.5106457997026155e-06, 1.9715955090759962e-07, 6.67200083626085e-06, 8.991795539259329e-07, 6.362179192365147e-07, 6.544809139086283e-07, 7.717981702626275e-07, 4.801884188054828e-07, 1.1122297109977808e-05, 5.561909802054288e-06, 3.86275405617198e-06, 6.753703928552568e-05, 0.0002897954545915127, 4.372495095594786e-05, 0.00015209012781269848, 0.0009337727096863091, 0.00018159422324970365, 8.42330337036401e-05, 0.00993386097252369, 0.008723163977265358, 0.979318380355835, 0.0, 0.0, 0.0, 0.0, 0.0, 0.0, 0.0], [0.0001570493186591193, 3.1231869002112944e-07, 2.9319375016712e-07, 3.13716356004079e-07, 2.1960945559840184e-06, 1.4164401136440574e-06, 1.1236414820814389e-06, 1.3091799928588443e-06, 5.921515366935637e-08, 7.978097755767521e-07, 2.803677261908888e-06, 1.9766962111589237e-07, 3.994018413777667e-07, 2.3049018693654943e-07, 2.264255272166338e-06, 1.6729494745959528e-05, 1.6667603404130205e-06, 2.87255238617945e-06, 2.494694672350306e-05, 0.00025532813742756844, 4.849700417253189e-06, 4.708065898739733e-05, 5.325680831447244e-05, 4.2403418774483725e-05, 0.00020874879555776715, 0.0020438109058886766, 0.08346714079380035, 0.003673010040074587, 0.9099873900413513, 0.0, 0.0, 0.0, 0.0, 0.0, 0.0], [0.0010030767880380154, 7.6059295679442585e-06, 5.4789093155704904e-06, 4.704082584794378e-06, 1.081826439985889e-06, 7.246849236253183e-07, 6.057198334019631e-07, 1.5847876966290642e-06, 3.183094668202102e-05, 1.844486860136385e-06, 1.3723778238272644e-06, 6.841019512648927e-06, 4.996117240807507e-06, 0.00014220463344827294, 2.102596681652358e-06, 2.0461138774408028e-05, 6.875464896438643e-05, 8.339442138094455e-05, 7.060819916659966e-05, 0.00022270050249062479, 0.0013453519204631448, 0.0011953130597248673, 0.000763770891353488, 0.003412766382098198, 0.00959512498229742, 0.00824595708400011, 0.0040284087881445885, 0.015673460438847542, 0.03710905462503433, 0.916948676109314, 0.0, 0.0, 0.0, 0.0, 0.0], [0.00014598036068491638, 1.3442421220588585e-07, 3.067958687097416e-07, 1.2700814977506525e-07, 9.539670742242379e-08, 4.421364963036467e-08, 7.2709593901265634e-09, 2.16305849676246e-07, 1.7861790979623038e-07, 1.1440936020790105e-07, 4.546686227513419e-08, 1.1406684308212789e-07, 1.7846296884727053e-07, 8.568714520151843e-07, 1.0497461744307657e-07, 1.2474898767322884e-06, 1.1682649301292258e-06, 6.484996220024186e-07, 9.923046491167042e-06, 2.663560189830605e-05, 2.1480991563294083e-05, 7.19235249562189e-05, 0.00015873317897785455, 0.00014563217700924724, 0.002426164923235774, 0.0015144931385293603, 0.0007063166704028845, 0.002244282281026244, 0.004566811490803957, 0.00983233842998743, 0.9781237244606018, 0.0, 0.0, 0.0, 0.0], [1.069877362169791e-05, 5.128429236833654e-08, 7.382514866094425e-08, 9.797552991130942e-08, 4.944897682435112e-07, 6.269730192798306e-07, 2.6257342256030825e-07, 7.361947496065113e-07, 2.510118690679519e-07, 2.1764876692031976e-06, 5.363756372389616e-07, 8.606889991824573e-07, 2.15158095784318e-07, 1.0358808140153997e-06, 2.4895064143493073e-07, 1.3481056157615967e-05, 8.521105883119162e-06, 5.148516265762737e-06, 4.645095486921491e-06, 1.6832656910992227e-05, 5.864661216037348e-05, 3.652455416158773e-05, 0.00016485759988427162, 1.1945022379222792e-05, 0.000517398351803422, 0.0024279109202325344, 0.00034773588413372636, 0.0015964052872732282, 0.009022929705679417, 0.013163733296096325, 0.06333831697702408, 0.9092466831207275, 0.0, 0.0, 0.0], [0.0012287324061617255, 8.407659151998814e-06, 8.363969755009748e-06, 8.199035619327333e-06, 3.972186277678702e-06, 3.987268883065553e-06, 1.5942514437483624e-06, 4.764996447192971e-06, 4.461919616005616e-06, 8.69920950208325e-06, 3.482301281110267e-06, 4.0872232602851e-06, 4.3831901166413445e-06, 1.2878736924903933e-05, 2.764999862847617e-06, 1.15508446469903e-05, 2.8508407922345214e-05, 1.9726192476809956e-05, 8.007964061107486e-05, 0.00016381598834414035, 0.00027661037165671587, 0.00048299733316525817, 0.000590301351621747, 0.0011750634294003248, 0.003466713009402156, 0.005802726838737726, 0.011907562613487244, 0.016952982172369957, 0.02846650406718254, 0.06137573719024658, 0.11517594754695892, 0.20177732408046722, 0.5509371161460876, 0.0, 0.0], [3.782525163842365e-05, 6.459637802436191e-08, 1.9273652895890336e-08, 7.975827287509674e-08, 6.700335575260397e-07, 1.2464334986361791e-07, 3.072170429163634e-08, 3.367148906363582e-07, 9.954023738600881e-08, 4.541527971468895e-07, 3.406016091389574e-08, 1.725615277337056e-07, 3.359024844939995e-07, 3.2563400509388885e-07, 1.1636605456999405e-08, 3.2042155453382293e-06, 1.2533512290247018e-06, 1.7663070366324973e-06, 1.1125970559078269e-05, 2.0410330762388185e-05, 8.10345409263391e-06, 1.2881083421234507e-05, 0.00014193217793945223, 1.1411114428483415e-05, 0.00010671326162992045, 0.0001095113402698189, 0.001792710623703897, 0.0015404970617964864, 0.0012465215986594558, 0.0015975878341123462, 0.0008927049930207431, 0.009557034820318222, 0.009279950521886349, 0.9736241102218628, 0.0], [0.0003539699537213892, 2.644042524480028e-06, 1.7576138588992762e-06, 1.2348067457423895e-06, 5.949696969764773e-06, 1.3091855635138927e-06, 3.3621063266764395e-07, 2.4850552904354117e-07, 6.705453188260435e-07, 6.699517030028801e-08, 6.061928843337228e-07, 4.619049036591605e-07, 2.357329776714323e-06, 1.4622218031945522e-06, 2.9763668862869963e-07, 1.6005789120754343e-06, 2.4609062165836804e-06, 1.9317201349622337e-06, 3.2001476938603446e-05, 2.4651970306877047e-05, 3.4296444937353954e-05, 0.00016550840518902987, 7.883973739808425e-05, 0.00018387132149655372, 0.0011651514796540141, 0.00012255352339707315, 0.0011725183576345444, 0.0004984783008694649, 0.0035014813765883446, 0.003400745801627636, 0.011839515529572964, 0.0051790932193398476, 0.016713853925466537, 0.02912764810025692, 0.9263803958892822]], [[1.0, 0.0, 0.0, 0.0, 0.0, 0.0, 0.0, 0.0, 0.0, 0.0, 0.0, 0.0, 0.0, 0.0, 0.0, 0.0, 0.0, 0.0, 0.0, 0.0, 0.0, 0.0, 0.0, 0.0, 0.0, 0.0, 0.0, 0.0, 0.0, 0.0, 0.0, 0.0, 0.0, 0.0, 0.0], [0.9238101243972778, 0.07618983089923859, 0.0, 0.0, 0.0, 0.0, 0.0, 0.0, 0.0, 0.0, 0.0, 0.0, 0.0, 0.0, 0.0, 0.0, 0.0, 0.0, 0.0, 0.0, 0.0, 0.0, 0.0, 0.0, 0.0, 0.0, 0.0, 0.0, 0.0, 0.0, 0.0, 0.0, 0.0, 0.0, 0.0], [0.37589243054389954, 0.10050592571496964, 0.5236016511917114, 0.0, 0.0, 0.0, 0.0, 0.0, 0.0, 0.0, 0.0, 0.0, 0.0, 0.0, 0.0, 0.0, 0.0, 0.0, 0.0, 0.0, 0.0, 0.0, 0.0, 0.0, 0.0, 0.0, 0.0, 0.0, 0.0, 0.0, 0.0, 0.0, 0.0, 0.0, 0.0], [0.41213715076446533, 0.08231586217880249, 0.18084773421287537, 0.3246992826461792, 0.0, 0.0, 0.0, 0.0, 0.0, 0.0, 0.0, 0.0, 0.0, 0.0, 0.0, 0.0, 0.0, 0.0, 0.0, 0.0, 0.0, 0.0, 0.0, 0.0, 0.0, 0.0, 0.0, 0.0, 0.0, 0.0, 0.0, 0.0, 0.0, 0.0, 0.0], [0.14052285254001617, 0.005812315735965967, 0.028276406228542328, 0.05733034759759903, 0.7680581212043762, 0.0, 0.0, 0.0, 0.0, 0.0, 0.0, 0.0, 0.0, 0.0, 0.0, 0.0, 0.0, 0.0, 0.0, 0.0, 0.0, 0.0, 0.0, 0.0, 0.0, 0.0, 0.0, 0.0, 0.0, 0.0, 0.0, 0.0, 0.0, 0.0, 0.0], [0.019230730831623077, 0.0014746851520612836, 0.0016810832312330604, 0.004905852489173412, 0.0259066391736269, 0.946800947189331, 0.0, 0.0, 0.0, 0.0, 0.0, 0.0, 0.0, 0.0, 0.0, 0.0, 0.0, 0.0, 0.0, 0.0, 0.0, 0.0, 0.0, 0.0, 0.0, 0.0, 0.0, 0.0, 0.0, 0.0, 0.0, 0.0, 0.0, 0.0, 0.0], [0.0060408757999539375, 0.00465822359547019, 0.012865056283771992, 0.008953889831900597, 0.07021677494049072, 0.12025337666273117, 0.7770117521286011, 0.0, 0.0, 0.0, 0.0, 0.0, 0.0, 0.0, 0.0, 0.0, 0.0, 0.0, 0.0, 0.0, 0.0, 0.0, 0.0, 0.0, 0.0, 0.0, 0.0, 0.0, 0.0, 0.0, 0.0, 0.0, 0.0, 0.0, 0.0], [0.016248267143964767, 0.003929381258785725, 0.012836663983762264, 0.00509962672367692, 0.017354188486933708, 0.015599332749843597, 0.13602761924266815, 0.7929049134254456, 0.0, 0.0, 0.0, 0.0, 0.0, 0.0, 0.0, 0.0, 0.0, 0.0, 0.0, 0.0, 0.0, 0.0, 0.0, 0.0, 0.0, 0.0, 0.0, 0.0, 0.0, 0.0, 0.0, 0.0, 0.0, 0.0, 0.0], [0.13423296809196472, 0.07014793902635574, 0.03862923011183739, 0.035926900804042816, 0.057204872369766235, 0.06419352442026138, 0.03908982500433922, 0.2145734578371048, 0.3460012972354889, 0.0, 0.0, 0.0, 0.0, 0.0, 0.0, 0.0, 0.0, 0.0, 0.0, 0.0, 0.0, 0.0, 0.0, 0.0, 0.0, 0.0, 0.0, 0.0, 0.0, 0.0, 0.0, 0.0, 0.0, 0.0, 0.0], [0.003595878602936864, 0.00038495013723149896, 0.0004921664367429912, 0.0008088790345937014, 0.0025900965556502342, 0.0024076506961137056, 0.0001713183446554467, 0.01115301251411438, 0.0021147809457033873, 0.9762812852859497, 0.0, 0.0, 0.0, 0.0, 0.0, 0.0, 0.0, 0.0, 0.0, 0.0, 0.0, 0.0, 0.0, 0.0, 0.0, 0.0, 0.0, 0.0, 0.0, 0.0, 0.0, 0.0, 0.0, 0.0, 0.0], [0.00022834533592686057, 4.66625060653314e-05, 8.206474740291014e-05, 7.730671495664865e-05, 0.00012034252722514793, 0.004319251049309969, 0.003844225313514471, 0.0011965001467615366, 0.00016446942754555494, 0.8530560731887817, 0.13686475157737732, 0.0, 0.0, 0.0, 0.0, 0.0, 0.0, 0.0, 0.0, 0.0, 0.0, 0.0, 0.0, 0.0, 0.0, 0.0, 0.0, 0.0, 0.0, 0.0, 0.0, 0.0, 0.0, 0.0, 0.0], [0.06578906625509262, 0.01929076574742794, 0.020492715761065483, 0.021956786513328552, 0.026686692610383034, 0.08618342131376266, 0.03104090690612793, 0.16103026270866394, 0.030162546783685684, 0.21323658525943756, 0.0755448192358017, 0.24858534336090088, 0.0, 0.0, 0.0, 0.0, 0.0, 0.0, 0.0, 0.0, 0.0, 0.0, 0.0, 0.0, 0.0, 0.0, 0.0, 0.0, 0.0, 0.0, 0.0, 0.0, 0.0, 0.0, 0.0], [0.009123360738158226, 0.003399314358830452, 0.016818266361951828, 0.004648810252547264, 0.01460227370262146, 0.05833255499601364, 0.07909010350704193, 0.01766361854970455, 0.016087276861071587, 0.15053564310073853, 0.3343389928340912, 0.05438898131251335, 0.24097080528736115, 0.0, 0.0, 0.0, 0.0, 0.0, 0.0, 0.0, 0.0, 0.0, 0.0, 0.0, 0.0, 0.0, 0.0, 0.0, 0.0, 0.0, 0.0, 0.0, 0.0, 0.0, 0.0], [0.04253435879945755, 0.0165505763143301, 0.007813415490090847, 0.0068334657698869705, 0.009650969877839088, 0.009173314087092876, 0.0059103090316057205, 0.030093081295490265, 0.05324166640639305, 0.03575892746448517, 0.11968676000833511, 0.0713374987244606, 0.2969222366809845, 0.2944934666156769, 0.0, 0.0, 0.0, 0.0, 0.0, 0.0, 0.0, 0.0, 0.0, 0.0, 0.0, 0.0, 0.0, 0.0, 0.0, 0.0, 0.0, 0.0, 0.0, 0.0, 0.0], [0.010158032178878784, 0.004377416800707579, 0.006503186654299498, 0.0035466868430376053, 0.0061570522375404835, 0.005149816628545523, 0.004158244468271732, 0.014994023367762566, 0.017724106088280678, 0.008609647862613201, 0.013557268306612968, 0.027689825743436813, 0.027776123955845833, 0.08518614619970322, 0.7644124627113342, 0.0, 0.0, 0.0, 0.0, 0.0, 0.0, 0.0, 0.0, 0.0, 0.0, 0.0, 0.0, 0.0, 0.0, 0.0, 0.0, 0.0, 0.0, 0.0, 0.0], [0.0005760950152762234, 3.758495950023644e-05, 3.100583126069978e-05, 2.809096622513607e-05, 0.000117572519229725, 0.0010626508155837655, 0.0008489807369187474, 0.0023644333705306053, 0.0003171187127009034, 0.00050407147500664, 0.0005438979715108871, 0.0009964666096493602, 0.004787215497344732, 0.0016582177486270666, 0.021181145682930946, 0.9649454951286316, 0.0, 0.0, 0.0, 0.0, 0.0, 0.0, 0.0, 0.0, 0.0, 0.0, 0.0, 0.0, 0.0, 0.0, 0.0, 0.0, 0.0, 0.0, 0.0], [0.057101115584373474, 0.012982720509171486, 0.012463345192372799, 0.012371201068162918, 0.013064756989479065, 0.03530250862240791, 0.013208801858127117, 0.06362830847501755, 0.010588894598186016, 0.06113196909427643, 0.027357198297977448, 0.08200791478157043, 0.039974600076675415, 0.043028343468904495, 0.06893419474363327, 0.06733893603086472, 0.37951529026031494, 0.0, 0.0, 0.0, 0.0, 0.0, 0.0, 0.0, 0.0, 0.0, 0.0, 0.0, 0.0, 0.0, 0.0, 0.0, 0.0, 0.0, 0.0], [0.0503818653523922, 0.010253244079649448, 0.009017400443553925, 0.007853331975638866, 0.008382108062505722, 0.01603054814040661, 0.007579760160297155, 0.016568148508667946, 0.009558072313666344, 0.020098434761166573, 0.02802768535912037, 0.03172842785716057, 0.02179398201406002, 0.03942330181598663, 0.11988724023103714, 0.04783087596297264, 0.14773696660995483, 0.407848596572876, 0.0, 0.0, 0.0, 0.0, 0.0, 0.0, 0.0, 0.0, 0.0, 0.0, 0.0, 0.0, 0.0, 0.0, 0.0, 0.0, 0.0], [0.009583797305822372, 0.0005122203147038817, 0.0006106928922235966, 0.0009717888897284865, 0.0022611042950302362, 0.004041261970996857, 0.00033976082340814173, 0.0023014815524220467, 0.0014669810188934207, 0.004360879305750132, 0.010039576329290867, 0.003883790923282504, 0.0019065364031121135, 0.0049683633260428905, 0.0035998807288706303, 0.0027956562116742134, 0.015628812834620476, 0.014497008174657822, 0.9162304401397705, 0.0, 0.0, 0.0, 0.0, 0.0, 0.0, 0.0, 0.0, 0.0, 0.0, 0.0, 0.0, 0.0, 0.0, 0.0, 0.0], [0.03377580642700195, 0.0008472934714518487, 0.0009361566626466811, 0.0006967575754970312, 0.00460014445707202, 0.003257600823417306, 0.00042183653567917645, 0.0075567071326076984, 0.0010570593876764178, 0.0036437937524169683, 0.000178238726221025, 0.002045620931312442, 0.0014812113950029016, 0.0029180485289543867, 0.005684820469468832, 0.06616656482219696, 0.0068207173608243465, 0.0059661176055669785, 0.022306201979517937, 0.8296392560005188, 0.0, 0.0, 0.0, 0.0, 0.0, 0.0, 0.0, 0.0, 0.0, 0.0, 0.0, 0.0, 0.0, 0.0, 0.0], [0.014338111504912376, 0.004506280180066824, 0.0022934821899980307, 0.00450263312086463, 0.0063485256396234035, 0.006440700963139534, 0.0030759202782064676, 0.0034293776843696833, 0.00882504228502512, 0.013563881628215313, 0.008806230500340462, 0.015333068557083607, 0.010930369608104229, 0.032562438398599625, 0.04165014997124672, 0.02935841865837574, 0.06823211163282394, 0.10101228207349777, 0.12824402749538422, 0.08141808211803436, 0.4151289165019989, 0.0, 0.0, 0.0, 0.0, 0.0, 0.0, 0.0, 0.0, 0.0, 0.0, 0.0, 0.0, 0.0, 0.0], [0.012516929768025875, 0.0037073777057230473, 0.0011323605431243777, 0.0020440146327018738, 0.002103796461597085, 0.0007217552047222853, 0.0003587707760743797, 0.0010654553771018982, 0.003341865725815296, 0.0035347703378647566, 0.0018008286133408546, 0.005131377838551998, 0.005956840701401234, 0.011681449599564075, 0.023353105410933495, 0.02462633326649666, 0.023082580417394638, 0.02405390329658985, 0.045053981244564056, 0.04447474703192711, 0.09848435968160629, 0.6617733836174011, 0.0, 0.0, 0.0, 0.0, 0.0, 0.0, 0.0, 0.0, 0.0, 0.0, 0.0, 0.0, 0.0], [0.023378077894449234, 0.002970094094052911, 0.0022721642162650824, 0.003121252404525876, 0.010448776185512543, 0.0027957081329077482, 0.0009500707965344191, 0.006640290841460228, 0.0025093043223023415, 0.00621590344235301, 0.0018756621284410357, 0.00436647841706872, 0.005894928704947233, 0.007904239930212498, 0.011842507869005203, 0.011780301108956337, 0.016934016719460487, 0.015606717206537724, 0.03699193149805069, 0.05676272511482239, 0.03885181248188019, 0.3010689318180084, 0.4288181662559509, 0.0, 0.0, 0.0, 0.0, 0.0, 0.0, 0.0, 0.0, 0.0, 0.0, 0.0, 0.0], [0.04225083440542221, 0.009647665545344353, 0.01306966319680214, 0.00349392625503242, 0.008718243800103664, 0.0008717630989849567, 0.0021130708046257496, 0.002520154230296612, 0.0028259281534701586, 0.003056259360164404, 0.005475992802530527, 0.004467589780688286, 0.005966206546872854, 0.008145671337842941, 0.027670932933688164, 0.013382633216679096, 0.01818913407623768, 0.0327802412211895, 0.028848370537161827, 0.05995951592922211, 0.09605948626995087, 0.20931927859783173, 0.10138269513845444, 0.299784779548645, 0.0, 0.0, 0.0, 0.0, 0.0, 0.0, 0.0, 0.0, 0.0, 0.0, 0.0], [0.025818025693297386, 0.001245302613824606, 0.0012367715826258063, 0.0031558237969875336, 0.0026054561603814363, 0.001117832027375698, 0.0002305325324414298, 0.00106145441532135, 0.0012552987318485975, 0.001447018003091216, 0.0006083030020818114, 0.0021444358862936497, 0.0017222755122929811, 0.003063676180317998, 0.0021307114511728287, 0.0017395161557942629, 0.007489565294235945, 0.0042011733166873455, 0.01636728271842003, 0.017187535762786865, 0.01664702594280243, 0.06787322461605072, 0.07546129822731018, 0.04369647800922394, 0.7004938125610352, 0.0, 0.0, 0.0, 0.0, 0.0, 0.0, 0.0, 0.0, 0.0, 0.0], [0.007508303038775921, 0.000129139210912399, 0.00022904042270965874, 0.0003099398745689541, 0.0015875755343586206, 0.00015740802336949855, 0.0003654660249594599, 0.00026319510652683675, 0.00024618778843432665, 0.00496384734287858, 0.000849328760523349, 0.0002054251090157777, 0.0035996558144688606, 0.0006757515366189182, 0.0006743196863681078, 0.0028660339303314686, 0.0007401988259516656, 0.0012410664930939674, 0.0034339409321546555, 0.0033488068729639053, 0.005896294489502907, 0.015315243974328041, 0.013584454543888569, 0.003806073684245348, 0.1058751568198204, 0.8221280574798584, 0.0, 0.0, 0.0, 0.0, 0.0, 0.0, 0.0, 0.0, 0.0], [0.015146814286708832, 0.00028372692759148777, 0.00043238894431851804, 0.0012392138596624136, 0.002660069614648819, 0.0003459537401795387, 0.00029542658012360334, 0.00187720637768507, 0.00023691241221968085, 0.0001321922754868865, 0.0003354803193360567, 0.00022997864289209247, 0.0002714901347644627, 0.000420953962020576, 0.000819257867988199, 0.0003039466973859817, 0.000646936590783298, 0.0003804268199019134, 0.0023925937712192535, 0.002976797753944993, 0.0025756119284778833, 0.005941800307482481, 0.005901211407035589, 0.005208779126405716, 0.025423727929592133, 0.023241247981786728, 0.900279700756073, 0.0, 0.0, 0.0, 0.0, 0.0, 0.0, 0.0, 0.0], [0.020882179960608482, 0.000686625309754163, 0.001419029664248228, 0.0016247221501544118, 0.005466728936880827, 0.0019930722191929817, 0.00034445608616806567, 0.0014866297133266926, 0.0003860279393848032, 0.0002986801555380225, 0.0003715486382134259, 0.0005332491709850729, 0.00025670824106782675, 0.0006083343760110438, 0.0003786250308621675, 0.0013748218771070242, 0.0013781331945210695, 0.0009236647165380418, 0.02337499149143696, 0.0377323292195797, 0.004063981585204601, 0.021846629679203033, 0.018512384966015816, 0.005047197453677654, 0.01844024285674095, 0.0639948695898056, 0.33002790808677673, 0.4365462064743042, 0.0, 0.0, 0.0, 0.0, 0.0, 0.0, 0.0], [0.002729787491261959, 0.00011315722076687962, 0.0002574319369159639, 0.0003065295168198645, 0.0008012375328689814, 0.0008870938327163458, 0.00010111562733072788, 0.002048567170277238, 0.0001429121330147609, 0.00019898064783774316, 0.0004309814830776304, 7.435746374540031e-05, 0.00011077823728555813, 0.00022297579562291503, 0.00010400104656582698, 0.0007566182757727802, 0.00018428779731038958, 0.0003102094924543053, 0.001059027505107224, 0.005394383799284697, 0.0013711383799090981, 0.0017238231375813484, 0.0034383474849164486, 0.0007791532552801073, 0.002710794797167182, 0.01124659925699234, 0.2618616819381714, 0.042864661663770676, 0.6577693223953247, 0.0, 0.0, 0.0, 0.0, 0.0, 0.0], [0.007169208489358425, 0.002651229267939925, 0.002445025136694312, 0.0030232483986765146, 0.0026861904188990593, 0.0007135471678338945, 0.0005127676413394511, 0.00038648597546853125, 0.0009532016701996326, 0.00044078417704440653, 0.0008591743535362184, 0.0012491069501265883, 0.0009424776071682572, 0.0016617262735962868, 0.00044353134580887854, 0.0014648404903709888, 0.003577464958652854, 0.0037673385813832283, 0.012122923508286476, 0.006853909231722355, 0.00524956826120615, 0.019704239442944527, 0.026669232174754143, 0.04096018522977829, 0.23853959143161774, 0.057257041335105896, 0.04040537029504776, 0.10933990031480789, 0.07736298441886902, 0.3305876851081848, 0.0, 0.0, 0.0, 0.0, 0.0], [0.011626665480434895, 0.001965816831216216, 0.0009179519256576896, 0.0018197433091700077, 0.0020789792761206627, 0.000293571240035817, 0.00010028556425822899, 0.0005799980717711151, 0.0004854122526012361, 9.764830610947683e-05, 0.00015712747699581087, 0.0004106419801246375, 0.0004877775500062853, 0.0007517860503867269, 0.0007532838499173522, 0.0012242115335538983, 0.001082684495486319, 0.0014821889344602823, 0.0027742492966353893, 0.003610332263633609, 0.0021372423507273197, 0.009361449629068375, 0.014277657493948936, 0.011846714653074741, 0.047293346375226974, 0.045062821358442307, 0.04156068339943886, 0.04280789941549301, 0.07079771906137466, 0.10084827244281769, 0.5813058018684387, 0.0, 0.0, 0.0, 0.0], [0.003873430425301194, 0.00025570965954102576, 0.0006259246729314327, 0.0005843954859301448, 0.001232647686265409, 0.00039455987280234694, 0.0003326674341224134, 0.00015581908519379795, 0.0001647272438276559, 0.000772628583945334, 0.00038669785135425627, 0.000278244202490896, 0.0001523970568086952, 0.00025198524235747755, 6.452921661548316e-05, 0.00017264140478800982, 0.0007133574690669775, 0.0005384791875258088, 0.007539562880992889, 0.0067232465371489525, 0.001396390376612544, 0.003110355930402875, 0.005501289386302233, 0.0024135864805430174, 0.03896055370569229, 0.02342233434319496, 0.009641139768064022, 0.025750912725925446, 0.12702472507953644, 0.04005931317806244, 0.514208972454071, 0.18329676985740662, 0.0, 0.0, 0.0], [0.015151125378906727, 0.0013760690344497561, 0.0015560513129457831, 0.0021717119961977005, 0.0025110100395977497, 0.0017854938050732017, 0.0004700866702478379, 0.0006788121536374092, 0.0003899075381923467, 0.0009900371078401804, 0.0003802654391620308, 0.0004182496923021972, 0.000443529337644577, 0.0005140138673596084, 0.00016592236352153122, 0.0006932562682777643, 0.0009629509877413511, 0.0007656950620003045, 0.0043652234598994255, 0.006436271592974663, 0.0018688292475417256, 0.00835616048425436, 0.006384758278727531, 0.005890711210668087, 0.031187035143375397, 0.04100945219397545, 0.028566082939505577, 0.0415773019194603, 0.04076458141207695, 0.06712854653596878, 0.30426719784736633, 0.2161882370710373, 0.16458550095558167, 0.0, 0.0], [0.01735411025583744, 0.0005264718784019351, 0.0006208932609297335, 0.0016926316311582923, 0.006297257728874683, 0.0010202117264270782, 7.362545147771016e-05, 0.0006762269185855985, 0.00044483106466941535, 7.778875442454591e-05, 4.9738002417143434e-05, 0.0003035978879779577, 0.0001734181132633239, 0.0005162438610568643, 0.00027352775214239955, 0.0007443996146321297, 0.0006022223387844861, 0.0004544499679468572, 0.0026653402019292116, 0.002663877559825778, 0.0025515935849398375, 0.007818801328539848, 0.009490984492003918, 0.000983039615675807, 0.007624233141541481, 0.011552353389561176, 0.09579713642597198, 0.08069907873868942, 0.09889808297157288, 0.03799614682793617, 0.058356162160634995, 0.11718904972076416, 0.11656808853149414, 0.31724438071250916, 0.0], [0.010796323418617249, 0.003018460003659129, 0.001701079891063273, 0.0027613963466137648, 0.0055464450269937515, 0.0005509483744390309, 0.00022208321024663746, 0.00023305861395783722, 0.0008555068052373827, 8.429412264376879e-05, 0.0001349101512460038, 0.0004030339769087732, 0.00021568534430116415, 0.0009122329647652805, 0.0007261997670866549, 0.0003818845434579998, 0.0007406796212308109, 0.0007301222067326307, 0.0007852278067730367, 0.0013473373837769032, 0.0043137832544744015, 0.007729176431894302, 0.005422807298600674, 0.006747078150510788, 0.013981972821056843, 0.0046309917233884335, 0.019391819834709167, 0.02813371829688549, 0.01686190813779831, 0.07724330574274063, 0.0543515682220459, 0.13139013946056366, 0.15014050900936127, 0.0843438133597374, 0.3631705641746521]], [[1.0, 0.0, 0.0, 0.0, 0.0, 0.0, 0.0, 0.0, 0.0, 0.0, 0.0, 0.0, 0.0, 0.0, 0.0, 0.0, 0.0, 0.0, 0.0, 0.0, 0.0, 0.0, 0.0, 0.0, 0.0, 0.0, 0.0, 0.0, 0.0, 0.0, 0.0, 0.0, 0.0, 0.0, 0.0], [0.19326065480709076, 0.806739330291748, 0.0, 0.0, 0.0, 0.0, 0.0, 0.0, 0.0, 0.0, 0.0, 0.0, 0.0, 0.0, 0.0, 0.0, 0.0, 0.0, 0.0, 0.0, 0.0, 0.0, 0.0, 0.0, 0.0, 0.0, 0.0, 0.0, 0.0, 0.0, 0.0, 0.0, 0.0, 0.0, 0.0], [0.09132374823093414, 0.0022218863014131784, 0.9064543843269348, 0.0, 0.0, 0.0, 0.0, 0.0, 0.0, 0.0, 0.0, 0.0, 0.0, 0.0, 0.0, 0.0, 0.0, 0.0, 0.0, 0.0, 0.0, 0.0, 0.0, 0.0, 0.0, 0.0, 0.0, 0.0, 0.0, 0.0, 0.0, 0.0, 0.0, 0.0, 0.0], [0.07127508521080017, 0.010394563898444176, 0.014608708210289478, 0.9037217497825623, 0.0, 0.0, 0.0, 0.0, 0.0, 0.0, 0.0, 0.0, 0.0, 0.0, 0.0, 0.0, 0.0, 0.0, 0.0, 0.0, 0.0, 0.0, 0.0, 0.0, 0.0, 0.0, 0.0, 0.0, 0.0, 0.0, 0.0, 0.0, 0.0, 0.0, 0.0], [0.007525183726102114, 8.942761633079499e-05, 7.544131221948192e-05, 3.4135737223550677e-06, 0.9923065304756165, 0.0, 0.0, 0.0, 0.0, 0.0, 0.0, 0.0, 0.0, 0.0, 0.0, 0.0, 0.0, 0.0, 0.0, 0.0, 0.0, 0.0, 0.0, 0.0, 0.0, 0.0, 0.0, 0.0, 0.0, 0.0, 0.0, 0.0, 0.0, 0.0, 0.0], [0.004521043971180916, 4.280501343600918e-06, 9.230398427462205e-05, 2.3636232072021812e-05, 1.1194401849934366e-05, 0.9953475594520569, 0.0, 0.0, 0.0, 0.0, 0.0, 0.0, 0.0, 0.0, 0.0, 0.0, 0.0, 0.0, 0.0, 0.0, 0.0, 0.0, 0.0, 0.0, 0.0, 0.0, 0.0, 0.0, 0.0, 0.0, 0.0, 0.0, 0.0, 0.0, 0.0], [0.00793814193457365, 0.00010465254308655858, 4.1882482037181035e-05, 8.37628795125056e-06, 0.00021111423848196864, 3.129790229650098e-06, 0.9916926622390747, 0.0, 0.0, 0.0, 0.0, 0.0, 0.0, 0.0, 0.0, 0.0, 0.0, 0.0, 0.0, 0.0, 0.0, 0.0, 0.0, 0.0, 0.0, 0.0, 0.0, 0.0, 0.0, 0.0, 0.0, 0.0, 0.0, 0.0, 0.0], [0.0024528438225388527, 1.0800496966112405e-05, 1.541069650556892e-05, 2.252152597748136e-07, 3.925116834579967e-05, 5.133605554874521e-06, 2.380045407335274e-05, 0.9974525570869446, 0.0, 0.0, 0.0, 0.0, 0.0, 0.0, 0.0, 0.0, 0.0, 0.0, 0.0, 0.0, 0.0, 0.0, 0.0, 0.0, 0.0, 0.0, 0.0, 0.0, 0.0, 0.0, 0.0, 0.0, 0.0, 0.0, 0.0], [0.19944851100444794, 0.1783180832862854, 0.06548021733760834, 0.1327645629644394, 0.038584500551223755, 0.010353408753871918, 0.021433589980006218, 0.006723291706293821, 0.346893846988678, 0.0, 0.0, 0.0, 0.0, 0.0, 0.0, 0.0, 0.0, 0.0, 0.0, 0.0, 0.0, 0.0, 0.0, 0.0, 0.0, 0.0, 0.0, 0.0, 0.0, 0.0, 0.0, 0.0, 0.0, 0.0, 0.0], [0.0014458460500463843, 8.054711315708118e-07, 3.064585689571686e-05, 7.412928084704618e-07, 2.0274044345569564e-06, 1.1259034181421157e-05, 1.8223380493509467e-06, 8.012940816115588e-05, 1.0569634412149753e-07, 0.9984266757965088, 0.0, 0.0, 0.0, 0.0, 0.0, 0.0, 0.0, 0.0, 0.0, 0.0, 0.0, 0.0, 0.0, 0.0, 0.0, 0.0, 0.0, 0.0, 0.0, 0.0, 0.0, 0.0, 0.0, 0.0, 0.0], [0.0023380129132419825, 1.2498653632064816e-05, 2.2450083633884788e-05, 4.236496351950336e-06, 2.952023407942761e-07, 1.8947017679238343e-06, 7.769844523863867e-05, 8.969038390205242e-06, 4.6951821985885545e-08, 1.1347646022841218e-06, 0.9975327253341675, 0.0, 0.0, 0.0, 0.0, 0.0, 0.0, 0.0, 0.0, 0.0, 0.0, 0.0, 0.0, 0.0, 0.0, 0.0, 0.0, 0.0, 0.0, 0.0, 0.0, 0.0, 0.0, 0.0, 0.0], [0.04751453548669815, 0.05268259719014168, 0.020408110693097115, 0.058530036360025406, 0.007166561670601368, 0.008201421238481998, 0.011846397072076797, 0.0017474385676905513, 0.024963311851024628, 0.0026972522027790546, 0.0014261907199397683, 0.7628161907196045, 0.0, 0.0, 0.0, 0.0, 0.0, 0.0, 0.0, 0.0, 0.0, 0.0, 0.0, 0.0, 0.0, 0.0, 0.0, 0.0, 0.0, 0.0, 0.0, 0.0, 0.0, 0.0, 0.0], [0.0060707987286150455, 0.00012957947910763323, 5.943352516624145e-05, 5.659345788444625e-06, 0.0002615326957311481, 0.0001224183215526864, 1.039934613800142e-05, 1.1076414921262767e-05, 4.0604805917610065e-07, 0.0003600468917284161, 2.0115412553423084e-05, 1.364392119285185e-07, 0.9929484128952026, 0.0, 0.0, 0.0, 0.0, 0.0, 0.0, 0.0, 0.0, 0.0, 0.0, 0.0, 0.0, 0.0, 0.0, 0.0, 0.0, 0.0, 0.0, 0.0, 0.0, 0.0, 0.0], [0.09530569612979889, 0.14180327951908112, 0.05038183182477951, 0.10299670696258545, 0.029812084510922432, 0.0065894098952412605, 0.016824398189783096, 0.004481857642531395, 0.23106443881988525, 0.01943543739616871, 0.01087439339607954, 0.055432021617889404, 0.035438716411590576, 0.19955968856811523, 0.0, 0.0, 0.0, 0.0, 0.0, 0.0, 0.0, 0.0, 0.0, 0.0, 0.0, 0.0, 0.0, 0.0, 0.0, 0.0, 0.0, 0.0, 0.0, 0.0, 0.0], [0.027447829023003578, 0.000140653588459827, 0.0001984664995688945, 3.496773570077494e-05, 5.282148777041584e-06, 0.00015024204913061112, 8.128365152515471e-05, 1.2125160537834745e-05, 6.303905684035271e-05, 6.543220661114901e-05, 2.8324959657766158e-06, 3.890733569278382e-05, 5.673642249348632e-07, 4.2104868043679744e-05, 0.9717161655426025, 0.0, 0.0, 0.0, 0.0, 0.0, 0.0, 0.0, 0.0, 0.0, 0.0, 0.0, 0.0, 0.0, 0.0, 0.0, 0.0, 0.0, 0.0, 0.0, 0.0], [0.004212105181068182, 3.069680315093137e-05, 6.36942422715947e-05, 8.254532986029517e-07, 8.262117603408115e-07, 3.868330895784311e-05, 4.268802967999363e-06, 3.819399353233166e-06, 1.2627990031433e-07, 0.00013782722817268223, 1.780607817636337e-05, 1.7100200366826357e-08, 5.979866728011984e-06, 6.190285972706988e-08, 2.2941551378607983e-06, 0.9954808950424194, 0.0, 0.0, 0.0, 0.0, 0.0, 0.0, 0.0, 0.0, 0.0, 0.0, 0.0, 0.0, 0.0, 0.0, 0.0, 0.0, 0.0, 0.0, 0.0], [0.019846774637699127, 0.03168343007564545, 0.012553268112242222, 0.035718806087970734, 0.004399011842906475, 0.004350569564849138, 0.007427365519106388, 0.000937288103159517, 0.01266288198530674, 0.0016050523845478892, 0.0007319955620914698, 0.4563407897949219, 0.002010868862271309, 0.009759278036653996, 0.008237495087087154, 0.0002594123943708837, 0.3914756774902344, 0.0, 0.0, 0.0, 0.0, 0.0, 0.0, 0.0, 0.0, 0.0, 0.0, 0.0, 0.0, 0.0, 0.0, 0.0, 0.0, 0.0, 0.0], [0.027297161519527435, 0.0024357051588594913, 0.00027068203780800104, 7.52557025407441e-05, 1.3686834790860303e-05, 5.773233169747982e-06, 0.0004301836306694895, 1.4438157450058497e-05, 4.83513722429052e-05, 5.326112295733765e-05, 9.613310794520658e-06, 6.8466950324364e-05, 0.0003037679707631469, 2.8783921152353287e-05, 3.866394763463177e-05, 2.5926796297426336e-05, 4.6800472773611546e-05, 0.9688336253166199, 0.0, 0.0, 0.0, 0.0, 0.0, 0.0, 0.0, 0.0, 0.0, 0.0, 0.0, 0.0, 0.0, 0.0, 0.0, 0.0, 0.0], [0.006310699507594109, 3.2946885767159984e-05, 9.895686162053607e-06, 7.334590463869972e-07, 9.119841706706211e-05, 4.094936957699247e-05, 8.511720807291567e-06, 9.950720414053649e-05, 1.9264832928911346e-07, 8.829235298435378e-07, 1.8906141576735536e-06, 1.1808716635641758e-06, 3.1165220661932835e-06, 9.47476834767258e-08, 3.301757942608674e-06, 2.585527727205772e-05, 7.711314538028091e-07, 2.6708705718192505e-06, 0.993365466594696, 0.0, 0.0, 0.0, 0.0, 0.0, 0.0, 0.0, 0.0, 0.0, 0.0, 0.0, 0.0, 0.0, 0.0, 0.0, 0.0], [0.001134052756242454, 6.961923190829111e-06, 1.236436492035864e-05, 4.006550682333909e-07, 5.351815343601629e-05, 5.24010192748392e-06, 4.459505726117641e-05, 0.00016450797556899488, 1.4344478493910628e-08, 1.038803020492196e-06, 4.77888788736891e-05, 5.058674901192717e-08, 9.468209896112967e-07, 7.475676966350875e-09, 6.603928000004089e-07, 3.843115337076597e-06, 3.346431753925572e-08, 2.411975685845391e-07, 1.6647753000142984e-05, 0.9985072016716003, 0.0, 0.0, 0.0, 0.0, 0.0, 0.0, 0.0, 0.0, 0.0, 0.0, 0.0, 0.0, 0.0, 0.0, 0.0], [0.08800848573446274, 0.1892128884792328, 0.04556255787611008, 0.08163292706012726, 0.017358075827360153, 0.0048304046504199505, 0.01895878277719021, 0.0046201362274587154, 0.06910263001918793, 0.012970476411283016, 0.010343030095100403, 0.05366413667798042, 0.009830273687839508, 0.057974714785814285, 0.011936409398913383, 0.009446633979678154, 0.04662338271737099, 0.07882606238126755, 0.010427415370941162, 0.0020946753211319447, 0.17657595872879028, 0.0, 0.0, 0.0, 0.0, 0.0, 0.0, 0.0, 0.0, 0.0, 0.0, 0.0, 0.0, 0.0, 0.0], [0.01597118191421032, 0.003062018658965826, 0.0001418951724190265, 0.0007885743398219347, 4.299372449168004e-05, 4.131205059820786e-05, 6.306861905613914e-05, 3.546515245034243e-06, 2.173127722926438e-05, 1.7860953448689543e-05, 1.021399748424301e-05, 2.6596406314638443e-05, 3.785558874369599e-05, 1.3186871001380496e-05, 0.00018817681120708585, 4.963882020092569e-06, 1.8085114788846113e-05, 4.8640275053912774e-05, 4.463599452719791e-06, 2.4802479856589343e-06, 1.2178916222183034e-05, 0.9794788956642151, 0.0, 0.0, 0.0, 0.0, 0.0, 0.0, 0.0, 0.0, 0.0, 0.0, 0.0, 0.0, 0.0], [0.007472250144928694, 0.0003719084488693625, 7.639107934664935e-05, 1.1135944987472612e-05, 3.0148770747473463e-05, 1.1014470146619715e-05, 5.4528940381715074e-05, 2.2444461137638427e-05, 1.1283878848189488e-05, 2.8587979613803327e-05, 5.627765858662315e-06, 7.51362822484225e-05, 7.73431675042957e-05, 6.5297363107674755e-06, 8.796941983746365e-06, 8.651526513858698e-06, 5.0728016503853723e-05, 7.0408827923529316e-06, 3.187650509062223e-05, 1.403493342877482e-06, 7.003607606748119e-06, 7.040100899757817e-05, 0.9915596842765808, 0.0, 0.0, 0.0, 0.0, 0.0, 0.0, 0.0, 0.0, 0.0, 0.0, 0.0, 0.0], [0.022045409306883812, 0.2804943919181824, 0.01667475327849388, 0.00015087133215274662, 0.0006804472650401294, 2.7394133212510496e-05, 0.0008938332321122289, 1.2499201147875283e-05, 0.0002665531064849347, 5.584159680438461e-06, 5.109100675326772e-05, 9.500429587205872e-05, 1.8194799849879928e-05, 0.00018282821110915393, 0.001649359124712646, 2.7935178877669387e-05, 6.991915142862126e-05, 7.67756428103894e-05, 2.0886118363705464e-05, 4.5125657379685435e-06, 0.0001454138837289065, 0.0004470500280149281, 5.514780059456825e-05, 0.6759041547775269, 0.0, 0.0, 0.0, 0.0, 0.0, 0.0, 0.0, 0.0, 0.0, 0.0, 0.0], [0.018799448385834694, 0.0019184609409421682, 0.0010523868259042501, 7.228145841509104e-05, 0.00013796599523629993, 5.208816219237633e-05, 6.334375939331949e-05, 9.731957106851041e-06, 8.120811253320426e-05, 5.998387496219948e-05, 9.635974492994137e-06, 4.818717934540473e-05, 4.688356784754433e-05, 5.250570393400267e-05, 0.00044942068052478135, 0.000289329414954409, 3.537202792358585e-05, 0.00022377951245289296, 0.00020208967907819897, 3.112009608230437e-06, 3.522854967741296e-05, 9.855003008851781e-05, 0.0001810147223295644, 0.00012300792150199413, 0.9759548306465149, 0.0, 0.0, 0.0, 0.0, 0.0, 0.0, 0.0, 0.0, 0.0, 0.0], [0.0016589781735092402, 6.63247010379564e-06, 3.9323476812569425e-05, 5.5121408877312206e-06, 7.32827975298278e-05, 5.176194122213928e-07, 8.362679363926873e-05, 1.611542029422708e-05, 1.840794965346504e-07, 0.00020032636530231684, 1.8497497649150318e-06, 7.683036784555952e-08, 1.8051048755296506e-05, 9.259753852575159e-08, 6.612178367504384e-06, 1.962786427611718e-06, 5.0048473809738425e-08, 6.371137573069063e-08, 4.881644599663559e-07, 3.839147211692762e-06, 1.8601497231429676e-08, 1.6708673911125516e-06, 8.816616059448279e-07, 6.673329977502362e-08, 1.878516115993989e-07, 0.9978796243667603, 0.0, 0.0, 0.0, 0.0, 0.0, 0.0, 0.0, 0.0, 0.0], [0.005040670745074749, 0.0003915554843842983, 0.0005618704599328339, 0.00014523050049319863, 3.937188375857659e-05, 5.409960067481734e-05, 0.000284795300103724, 4.828744931728579e-05, 3.104316647295491e-06, 6.896268314449117e-05, 0.0002681414771359414, 4.210932729620254e-06, 1.2119907296437304e-05, 2.0253971797501436e-06, 3.188779373886064e-05, 1.1356536560924724e-05, 3.0188034543243703e-06, 1.2622905160242226e-05, 7.465576800314011e-06, 3.027804723387817e-06, 4.951120331497805e-07, 3.01545860565966e-05, 1.886376048787497e-05, 4.1512462303217035e-06, 5.0313265091972426e-06, 6.069077244319487e-06, 0.9929414987564087, 0.0, 0.0, 0.0, 0.0, 0.0, 0.0, 0.0, 0.0], [0.0012448665220290422, 0.00017617041885387152, 2.4151753677870147e-05, 1.2456679542083293e-05, 5.2113085985183716e-05, 2.3546041120425798e-05, 5.673446139553562e-05, 0.00045827688882127404, 2.4983858111227164e-06, 0.00011349430133122951, 4.920252104056999e-05, 1.3444550859276205e-05, 7.735934195807204e-05, 1.3437097550195176e-06, 6.060899522708496e-06, 0.00010331783414585516, 8.745483683014754e-06, 1.081156460713828e-05, 0.00015856373647693545, 1.9056066093980917e-06, 5.418789896793896e-07, 1.2321380609137123e-06, 6.472232780652121e-05, 3.589060497688479e-06, 8.65090169099858e-06, 2.9628010906890268e-06, 1.3278961887408514e-05, 0.9973099231719971, 0.0, 0.0, 0.0, 0.0, 0.0, 0.0, 0.0], [0.001973335398361087, 0.0009750569588504732, 7.218521932372823e-05, 9.84842554316856e-05, 4.9608672270551324e-05, 5.4340627684723586e-05, 0.0003797208482865244, 6.184639005368808e-06, 1.0831170129677048e-06, 4.491215349844424e-06, 0.00047983595868572593, 9.928668305292376e-07, 1.3564585060521495e-05, 6.477197871390672e-07, 1.018613238557009e-05, 5.581332516158e-06, 7.113491165000596e-07, 5.998077767799259e-07, 3.201087793058832e-06, 2.288285941176582e-06, 1.5130858344036824e-07, 7.130767698981799e-06, 1.7937991287908517e-06, 2.4025752281886525e-05, 2.8331209023235715e-07, 1.2269139915588312e-05, 0.00023325486108660698, 0.00031319670961238444, 0.9952758550643921, 0.0, 0.0, 0.0, 0.0, 0.0, 0.0], [0.030099282041192055, 0.09027378261089325, 0.02814972773194313, 0.15763871371746063, 0.02647356130182743, 0.00300600822083652, 0.017219528555870056, 0.0022446715738624334, 0.031200462952256203, 0.011351734399795532, 0.0013561324449256063, 0.02911919541656971, 0.016773544251918793, 0.023998109623789787, 0.00945053156465292, 0.006288203876465559, 0.02392304502427578, 0.058296218514442444, 0.009904230944812298, 0.0003779732505790889, 0.024595139548182487, 0.0404200553894043, 0.027886755764484406, 0.009823569096624851, 0.04994712024927139, 0.0010651153279468417, 0.014632527716457844, 0.011246386915445328, 0.0020601567812263966, 0.24117852747440338, 0.0, 0.0, 0.0, 0.0, 0.0], [0.00416941661387682, 0.000614328368101269, 0.0005938464310020208, 0.0001103623362723738, 9.005510219139978e-05, 1.3705158380616922e-05, 0.0005903487908653915, 2.6892355435848003e-06, 8.671501745993737e-06, 4.611639087670483e-05, 1.005678677756805e-05, 5.362908268580213e-06, 5.199845691095106e-05, 4.802413968718611e-06, 2.119524469890166e-05, 2.478504757164046e-05, 3.4400409276713617e-06, 1.8410850316286087e-05, 7.055151218082756e-05, 5.603974955192825e-07, 5.060179319116287e-06, 2.2592150344280526e-05, 6.252538150874898e-05, 1.8619348338688724e-05, 0.00014118559192866087, 2.633108670124784e-05, 1.261043394151784e-06, 1.0759861197584542e-06, 3.093191764946823e-07, 5.793054697278421e-06, 0.9932644367218018, 0.0, 0.0, 0.0, 0.0], [0.010566649958491325, 0.0013905861414968967, 0.0004313623649068177, 0.0010295918909832835, 0.0039163874462246895, 0.00015029491623863578, 0.0019935970194637775, 0.00030443709692917764, 2.9845065000699833e-05, 0.0006592920981347561, 1.2659824278671294e-05, 7.527502748416737e-05, 0.00039767660200595856, 1.7276524886256084e-05, 0.00038583416608162224, 2.1061883671791293e-05, 5.3403091442305595e-05, 6.335022044368088e-05, 0.00012688417336903512, 6.7831888372893445e-06, 2.7170535759069026e-05, 0.00013008950918447226, 3.859859862131998e-05, 4.366641951492056e-05, 8.064082976488862e-06, 0.0007468659314326942, 8.195238478947431e-06, 9.368601604364812e-05, 6.252453658817103e-06, 4.4472410081652924e-05, 0.00020698629668913782, 0.9770136475563049, 0.0, 0.0, 0.0], [0.017131483182311058, 0.10981203615665436, 0.04528496041893959, 0.16663993895053864, 0.046834900975227356, 0.01271433848887682, 0.024941828101873398, 0.00246050744317472, 0.016514169052243233, 0.014018184505403042, 0.0028046502266079187, 0.01726129837334156, 0.056191377341747284, 0.011843177489936352, 0.024518407881259918, 0.008004873059689999, 0.013582990504801273, 0.02769651636481285, 0.007881484925746918, 0.0013759625144302845, 0.009033634327352047, 0.03747999668121338, 0.014368823729455471, 0.01657966896891594, 0.03148624300956726, 0.002235109219327569, 0.007032562512904406, 0.020338809117674828, 0.0021573666017502546, 0.01573573797941208, 0.03529254347085953, 0.017795003950595856, 0.16295136511325836, 0.0, 0.0], [0.0027362373657524586, 0.0032704402692615986, 0.00024938516435213387, 2.9521108444896527e-05, 0.002719075186178088, 1.5680814613006078e-05, 0.0011440073139965534, 3.5285567719256505e-05, 1.9352071831235662e-05, 3.620967618189752e-05, 1.2202220204926562e-05, 0.00012145649816375226, 4.9556045269127935e-05, 1.1851500858028885e-05, 8.826622797641903e-05, 3.184519300702959e-05, 8.618916035629809e-05, 0.00013057797332294285, 9.26754655665718e-05, 1.844452526711393e-05, 4.454882855497999e-06, 1.421102206222713e-05, 0.00020819788915105164, 6.224932440090925e-05, 2.7289963327348232e-05, 8.527088539267424e-06, 0.0010931704891845584, 0.0010258991969749331, 1.8266431652591564e-05, 9.81631274044048e-06, 7.599958280479768e-07, 4.151806024310645e-06, 8.365893336303998e-06, 0.9866164922714233, 0.0], [0.013301784172654152, 0.002024181419983506, 0.000981066026724875, 0.0002710400440264493, 0.026242610067129135, 6.968422530917451e-05, 0.0001882465003291145, 0.0003323280543554574, 0.00020717525330837816, 0.00035583670251071453, 1.8688817362999544e-05, 0.00031016391585581005, 0.00028844273765571415, 0.00014157596160657704, 0.00021018988627474755, 0.00013730140926782042, 0.00024542585015296936, 0.0005858642398379743, 0.0008409103029407561, 0.00037898492882959545, 0.00011255525168962777, 0.0009485296322964132, 0.0002581728040240705, 0.0005371641600504518, 0.00023706478532403708, 9.896166011458263e-05, 1.4541866221406963e-05, 7.51438201405108e-05, 1.0142462087969761e-05, 7.690783240832388e-05, 6.64329418214038e-05, 5.4460102546727285e-05, 0.00010782030585687608, 0.002189126331359148, 0.9480816125869751]], [[1.0, 0.0, 0.0, 0.0, 0.0, 0.0, 0.0, 0.0, 0.0, 0.0, 0.0, 0.0, 0.0, 0.0, 0.0, 0.0, 0.0, 0.0, 0.0, 0.0, 0.0, 0.0, 0.0, 0.0, 0.0, 0.0, 0.0, 0.0, 0.0, 0.0, 0.0, 0.0, 0.0, 0.0, 0.0], [0.9360752105712891, 0.06392484903335571, 0.0, 0.0, 0.0, 0.0, 0.0, 0.0, 0.0, 0.0, 0.0, 0.0, 0.0, 0.0, 0.0, 0.0, 0.0, 0.0, 0.0, 0.0, 0.0, 0.0, 0.0, 0.0, 0.0, 0.0, 0.0, 0.0, 0.0, 0.0, 0.0, 0.0, 0.0, 0.0, 0.0], [0.8446659445762634, 0.06946856528520584, 0.0858655646443367, 0.0, 0.0, 0.0, 0.0, 0.0, 0.0, 0.0, 0.0, 0.0, 0.0, 0.0, 0.0, 0.0, 0.0, 0.0, 0.0, 0.0, 0.0, 0.0, 0.0, 0.0, 0.0, 0.0, 0.0, 0.0, 0.0, 0.0, 0.0, 0.0, 0.0, 0.0, 0.0], [0.6426600217819214, 0.1298869252204895, 0.17117173969745636, 0.05628129467368126, 0.0, 0.0, 0.0, 0.0, 0.0, 0.0, 0.0, 0.0, 0.0, 0.0, 0.0, 0.0, 0.0, 0.0, 0.0, 0.0, 0.0, 0.0, 0.0, 0.0, 0.0, 0.0, 0.0, 0.0, 0.0, 0.0, 0.0, 0.0, 0.0, 0.0, 0.0], [0.5074959993362427, 0.07786271721124649, 0.07268533855676651, 0.10711851716041565, 0.23483744263648987, 0.0, 0.0, 0.0, 0.0, 0.0, 0.0, 0.0, 0.0, 0.0, 0.0, 0.0, 0.0, 0.0, 0.0, 0.0, 0.0, 0.0, 0.0, 0.0, 0.0, 0.0, 0.0, 0.0, 0.0, 0.0, 0.0, 0.0, 0.0, 0.0, 0.0], [0.49707552790641785, 0.06315261125564575, 0.11559110879898071, 0.08851397037506104, 0.10196361690759659, 0.13370317220687866, 0.0, 0.0, 0.0, 0.0, 0.0, 0.0, 0.0, 0.0, 0.0, 0.0, 0.0, 0.0, 0.0, 0.0, 0.0, 0.0, 0.0, 0.0, 0.0, 0.0, 0.0, 0.0, 0.0, 0.0, 0.0, 0.0, 0.0, 0.0, 0.0], [0.3081281781196594, 0.06775976717472076, 0.13057535886764526, 0.054409369826316833, 0.040503185242414474, 0.36059141159057617, 0.03803272172808647, 0.0, 0.0, 0.0, 0.0, 0.0, 0.0, 0.0, 0.0, 0.0, 0.0, 0.0, 0.0, 0.0, 0.0, 0.0, 0.0, 0.0, 0.0, 0.0, 0.0, 0.0, 0.0, 0.0, 0.0, 0.0, 0.0, 0.0, 0.0], [0.32434970140457153, 0.06349695473909378, 0.07783647626638412, 0.07798174023628235, 0.07410475611686707, 0.13590557873249054, 0.07038861513137817, 0.17593620717525482, 0.0, 0.0, 0.0, 0.0, 0.0, 0.0, 0.0, 0.0, 0.0, 0.0, 0.0, 0.0, 0.0, 0.0, 0.0, 0.0, 0.0, 0.0, 0.0, 0.0, 0.0, 0.0, 0.0, 0.0, 0.0, 0.0, 0.0], [0.16412921249866486, 0.03469284623861313, 0.05131256952881813, 0.01331700012087822, 0.17712709307670593, 0.1595189869403839, 0.09812308102846146, 0.29690471291542053, 0.004874551203101873, 0.0, 0.0, 0.0, 0.0, 0.0, 0.0, 0.0, 0.0, 0.0, 0.0, 0.0, 0.0, 0.0, 0.0, 0.0, 0.0, 0.0, 0.0, 0.0, 0.0, 0.0, 0.0, 0.0, 0.0, 0.0, 0.0], [0.18775460124015808, 0.05488046258687973, 0.10758274048566818, 0.043910037726163864, 0.1406543105840683, 0.1169673278927803, 0.05246002972126007, 0.1536639779806137, 0.04935268685221672, 0.09277378767728806, 0.0, 0.0, 0.0, 0.0, 0.0, 0.0, 0.0, 0.0, 0.0, 0.0, 0.0, 0.0, 0.0, 0.0, 0.0, 0.0, 0.0, 0.0, 0.0, 0.0, 0.0, 0.0, 0.0, 0.0, 0.0], [0.205171138048172, 0.040068790316581726, 0.08339215815067291, 0.04565276578068733, 0.05697012320160866, 0.13319888710975647, 0.026416391134262085, 0.09950853884220123, 0.050134602934122086, 0.21417362987995148, 0.04531293734908104, 0.0, 0.0, 0.0, 0.0, 0.0, 0.0, 0.0, 0.0, 0.0, 0.0, 0.0, 0.0, 0.0, 0.0, 0.0, 0.0, 0.0, 0.0, 0.0, 0.0, 0.0, 0.0, 0.0, 0.0], [0.10754456371068954, 0.020955445244908333, 0.05246846750378609, 0.008330847136676311, 0.179975226521492, 0.10652030259370804, 0.07210805267095566, 0.2019113451242447, 0.0033460441045463085, 0.14021335542201996, 0.10356738418340683, 0.003058962058275938, 0.0, 0.0, 0.0, 0.0, 0.0, 0.0, 0.0, 0.0, 0.0, 0.0, 0.0, 0.0, 0.0, 0.0, 0.0, 0.0, 0.0, 0.0, 0.0, 0.0, 0.0, 0.0, 0.0], [0.09423350542783737, 0.02283540740609169, 0.05558853968977928, 0.026967842131853104, 0.12799426913261414, 0.07631109654903412, 0.07361150532960892, 0.16634687781333923, 0.03019636496901512, 0.11622446030378342, 0.13079147040843964, 0.022433560341596603, 0.05646512284874916, 0.0, 0.0, 0.0, 0.0, 0.0, 0.0, 0.0, 0.0, 0.0, 0.0, 0.0, 0.0, 0.0, 0.0, 0.0, 0.0, 0.0, 0.0, 0.0, 0.0, 0.0, 0.0], [0.11027710884809494, 0.01991732232272625, 0.033872127532958984, 0.008012218400835991, 0.12686952948570251, 0.12052717059850693, 0.06604593247175217, 0.211595818400383, 0.0029103790875524282, 0.13361382484436035, 0.07830417901277542, 0.005965671502053738, 0.0786396712064743, 0.003449014388024807, 0.0, 0.0, 0.0, 0.0, 0.0, 0.0, 0.0, 0.0, 0.0, 0.0, 0.0, 0.0, 0.0, 0.0, 0.0, 0.0, 0.0, 0.0, 0.0, 0.0, 0.0], [0.1600770354270935, 0.054521169513463974, 0.059736236929893494, 0.020207516849040985, 0.05266042798757553, 0.10011063516139984, 0.11729258298873901, 0.14998745918273926, 0.017248354852199554, 0.05625283345580101, 0.09442039579153061, 0.012046902440488338, 0.020297693088650703, 0.01824456825852394, 0.06689620018005371, 0.0, 0.0, 0.0, 0.0, 0.0, 0.0, 0.0, 0.0, 0.0, 0.0, 0.0, 0.0, 0.0, 0.0, 0.0, 0.0, 0.0, 0.0, 0.0, 0.0], [0.17850054800510406, 0.04271138459444046, 0.05876288563013077, 0.025501525029540062, 0.02821972407400608, 0.0939595103263855, 0.03569772467017174, 0.03853301331400871, 0.027574097737669945, 0.124172143638134, 0.0990019142627716, 0.029919544234871864, 0.04168912395834923, 0.030038543045520782, 0.08029218763113022, 0.06542611867189407, 0.0, 0.0, 0.0, 0.0, 0.0, 0.0, 0.0, 0.0, 0.0, 0.0, 0.0, 0.0, 0.0, 0.0, 0.0, 0.0, 0.0, 0.0, 0.0], [0.08262612670660019, 0.014221647754311562, 0.03910331428050995, 0.005809776950627565, 0.14161065220832825, 0.08671100437641144, 0.05503493547439575, 0.15626993775367737, 0.0023281786125153303, 0.11679325997829437, 0.08067943900823593, 0.0021917964331805706, 0.09792859852313995, 0.0027368678711354733, 0.03297453001141548, 0.0803784504532814, 0.002601493848487735, 0.0, 0.0, 0.0, 0.0, 0.0, 0.0, 0.0, 0.0, 0.0, 0.0, 0.0, 0.0, 0.0, 0.0, 0.0, 0.0, 0.0, 0.0], [0.09858329594135284, 0.028320668265223503, 0.05263180285692215, 0.01785864681005478, 0.06163661181926727, 0.08070769906044006, 0.07397957891225815, 0.09560468792915344, 0.009335818700492382, 0.08467230945825577, 0.11269154399633408, 0.018467873334884644, 0.038562629371881485, 0.011051507666707039, 0.06964196264743805, 0.09237805008888245, 0.02256043627858162, 0.03131494298577309, 0.0, 0.0, 0.0, 0.0, 0.0, 0.0, 0.0, 0.0, 0.0, 0.0, 0.0, 0.0, 0.0, 0.0, 0.0, 0.0, 0.0], [0.1495792120695114, 0.013048073276877403, 0.03394849970936775, 0.015061761252582073, 0.04509885236620903, 0.08479966968297958, 0.02725697122514248, 0.17206285893917084, 0.016850324347615242, 0.10883237421512604, 0.11793845891952515, 0.008323260582983494, 0.016134321689605713, 0.017726469784975052, 0.026173418387770653, 0.05189086124300957, 0.008976073004305363, 0.01060571800917387, 0.0756927877664566, 0.0, 0.0, 0.0, 0.0, 0.0, 0.0, 0.0, 0.0, 0.0, 0.0, 0.0, 0.0, 0.0, 0.0, 0.0, 0.0], [0.2303972691297531, 0.02429683320224285, 0.026559969410300255, 0.039246175438165665, 0.04230225086212158, 0.04924341291189194, 0.007979441434144974, 0.0732208862900734, 0.03455185890197754, 0.066019207239151, 0.03830169513821602, 0.03672322630882263, 0.024140123277902603, 0.037105269730091095, 0.02855714224278927, 0.0544639527797699, 0.03901506960391998, 0.015944406390190125, 0.04610008746385574, 0.08583163470029831, 0.0, 0.0, 0.0, 0.0, 0.0, 0.0, 0.0, 0.0, 0.0, 0.0, 0.0, 0.0, 0.0, 0.0, 0.0], [0.05691663548350334, 0.006225025746971369, 0.01175442524254322, 0.0035496775526553392, 0.07110723108053207, 0.08006573468446732, 0.022162355482578278, 0.11016801744699478, 0.0010484919184818864, 0.08122199773788452, 0.026672054082155228, 0.002196082379668951, 0.030598558485507965, 0.0012014050735160708, 0.014937768690288067, 0.14736880362033844, 0.0026267515495419502, 0.033389173448085785, 0.11049015074968338, 0.18504451215267181, 0.001255226437933743, 0.0, 0.0, 0.0, 0.0, 0.0, 0.0, 0.0, 0.0, 0.0, 0.0, 0.0, 0.0, 0.0, 0.0], [0.09241704642772675, 0.026059618219733238, 0.02483060024678707, 0.014753980562090874, 0.07309960573911667, 0.041600823402404785, 0.028182949870824814, 0.10522367805242538, 0.010200560092926025, 0.026716850697994232, 0.038636256009340286, 0.008342118002474308, 0.034165363758802414, 0.011011888273060322, 0.02702196314930916, 0.10600948333740234, 0.00949846487492323, 0.016123091802001, 0.06257017701864243, 0.19003154337406158, 0.010448914021253586, 0.04305500537157059, 0.0, 0.0, 0.0, 0.0, 0.0, 0.0, 0.0, 0.0, 0.0, 0.0, 0.0, 0.0, 0.0], [0.061736539006233215, 0.007029624190181494, 0.01948658935725689, 0.010366818867623806, 0.04601287469267845, 0.07236862182617188, 0.022752385586500168, 0.08978495001792908, 0.005041902884840965, 0.0701901838183403, 0.07947876304388046, 0.006475389003753662, 0.03835068643093109, 0.0056809186935424805, 0.015840981155633926, 0.053441062569618225, 0.007524982560425997, 0.018862158060073853, 0.09784605354070663, 0.1908787488937378, 0.006985304411500692, 0.02772781439125538, 0.04613662138581276, 0.0, 0.0, 0.0, 0.0, 0.0, 0.0, 0.0, 0.0, 0.0, 0.0, 0.0, 0.0], [0.043498456478118896, 0.0060291411355137825, 0.016271812841296196, 0.004962891340255737, 0.0923277884721756, 0.05643606558442116, 0.02427319437265396, 0.10004423558712006, 0.0013475841842591763, 0.04695267230272293, 0.04337000474333763, 0.0026120925322175026, 0.025980042293667793, 0.001536774798296392, 0.013811726123094559, 0.12162510305643082, 0.00308405514806509, 0.014781136997044086, 0.08252865076065063, 0.20843428373336792, 0.0021058113779872656, 0.03356638550758362, 0.04992130026221275, 0.004498819820582867, 0.0, 0.0, 0.0, 0.0, 0.0, 0.0, 0.0, 0.0, 0.0, 0.0, 0.0], [0.054939329624176025, 0.005164691247045994, 0.013282538391649723, 0.006816807668656111, 0.08581958711147308, 0.042583685368299484, 0.010111798532307148, 0.10901319980621338, 0.003067042212933302, 0.04195145145058632, 0.03668754920363426, 0.0038776027504354715, 0.036396291106939316, 0.0036428284365683794, 0.015713084489107132, 0.045142799615859985, 0.0047706314362585545, 0.010733411647379398, 0.12949077785015106, 0.18343371152877808, 0.0057639130391180515, 0.06008812040090561, 0.0642036497592926, 0.00847991555929184, 0.01882551796734333, 0.0, 0.0, 0.0, 0.0, 0.0, 0.0, 0.0, 0.0, 0.0, 0.0], [0.1161927878856659, 0.024008192121982574, 0.0175008587539196, 0.022795291617512703, 0.05027654021978378, 0.032025497406721115, 0.020647764205932617, 0.03974740579724312, 0.023735973984003067, 0.026677900925278664, 0.01885642483830452, 0.028171351179480553, 0.03460881486535072, 0.02664371021091938, 0.022768091410398483, 0.023577367886900902, 0.031199190765619278, 0.02262045070528984, 0.09706809371709824, 0.06436187028884888, 0.032514315098524094, 0.04557202011346817, 0.04268262907862663, 0.028252845630049706, 0.025809552520513535, 0.08168511837720871, 0.0, 0.0, 0.0, 0.0, 0.0, 0.0, 0.0, 0.0, 0.0], [0.11220826953649521, 0.0052759344689548016, 0.013701371848583221, 0.006475641392171383, 0.058257464319467545, 0.0559183768928051, 0.013027257286012173, 0.10451258718967438, 0.0040136720053851604, 0.0401136688888073, 0.0378723107278347, 0.0031745273154228926, 0.012130003422498703, 0.00409625843167305, 0.007334522437304258, 0.017732826992869377, 0.0034752332139760256, 0.0030595571734011173, 0.09483391046524048, 0.2000264823436737, 0.005673969630151987, 0.01637454889714718, 0.017230220139026642, 0.004368433728814125, 0.009308069944381714, 0.09713461250066757, 0.052670352160930634, 0.0, 0.0, 0.0, 0.0, 0.0, 0.0, 0.0, 0.0], [0.06115269660949707, 0.004939327947795391, 0.00976282637566328, 0.005227166227996349, 0.036462750285863876, 0.03137054294347763, 0.008218889124691486, 0.11535761505365372, 0.0032728652004152536, 0.038249194622039795, 0.03337174281477928, 0.0021793791092932224, 0.007692959625273943, 0.0034548076801002026, 0.009085441939532757, 0.02790052257478237, 0.0023665917105972767, 0.003948239143937826, 0.0407714881002903, 0.27574682235717773, 0.0035466663539409637, 0.012455103918910027, 0.032613158226013184, 0.003209817921742797, 0.00360309355892241, 0.1000962033867836, 0.08892865478992462, 0.03501545637845993, 0.0, 0.0, 0.0, 0.0, 0.0, 0.0, 0.0], [0.11957040429115295, 0.008050522767007351, 0.01337728463113308, 0.0070892684161663055, 0.025275394320487976, 0.05149082839488983, 0.006585443392395973, 0.061659812927246094, 0.00562048377469182, 0.05561487376689911, 0.027291802689433098, 0.004286488983780146, 0.007698429748415947, 0.005996248684823513, 0.00794201623648405, 0.028790486976504326, 0.004870963282883167, 0.00431375578045845, 0.026228072121739388, 0.15385550260543823, 0.010709963738918304, 0.00956464558839798, 0.029178397729992867, 0.005329272244125605, 0.00805151741951704, 0.07812704890966415, 0.10984013229608536, 0.029521049931645393, 0.0940699428319931, 0.0, 0.0, 0.0, 0.0, 0.0, 0.0], [0.02588074281811714, 0.003286875318735838, 0.009190605953335762, 0.0022713197395205498, 0.04206257313489914, 0.04035560414195061, 0.01510707475244999, 0.04801338165998459, 0.0008096100063994527, 0.039064209908246994, 0.026566803455352783, 0.001520447083748877, 0.021220164373517036, 0.0009539536549709737, 0.007810368202626705, 0.03313513100147247, 0.00187924993224442, 0.010119673795998096, 0.06751002371311188, 0.12262912839651108, 0.0015832221833989024, 0.02216801978647709, 0.030785195529460907, 0.004318810533732176, 0.018729010596871376, 0.14477510750293732, 0.06957437098026276, 0.11388752609491348, 0.07182326167821884, 0.00296847615391016, 0.0, 0.0, 0.0, 0.0, 0.0], [0.04612511023879051, 0.0049293735064566135, 0.011905013583600521, 0.005939905997365713, 0.050862327218055725, 0.03915585204958916, 0.011702247895300388, 0.07777238637208939, 0.002722495701164007, 0.029330717399716377, 0.03543660044670105, 0.0025086570531129837, 0.01188325509428978, 0.0029638565611094236, 0.008878663182258606, 0.018936675041913986, 0.0028045871295034885, 0.00406692735850811, 0.06637166440486908, 0.16173599660396576, 0.004074744414538145, 0.017417894676327705, 0.048458147794008255, 0.00548985181376338, 0.014467375352978706, 0.0888427123427391, 0.05744140222668648, 0.04815758019685745, 0.09182098507881165, 0.004751021042466164, 0.023045985028147697, 0.0, 0.0, 0.0, 0.0], [0.028616534546017647, 0.0035397137980908155, 0.012825741432607174, 0.0037311033811420202, 0.02213282696902752, 0.026339076459407806, 0.01548363920301199, 0.04692448303103447, 0.0016770161455497146, 0.05343089625239372, 0.03818729519844055, 0.0025294888764619827, 0.02768225409090519, 0.0019447171362116933, 0.010427955538034439, 0.020306400954723358, 0.0030831152107566595, 0.008337556384503841, 0.06147442385554314, 0.05695468559861183, 0.0030909182969480753, 0.019787292927503586, 0.0377042256295681, 0.004031909629702568, 0.02077089436352253, 0.12126168608665466, 0.08733711391687393, 0.07036235183477402, 0.09933114796876907, 0.005798672791570425, 0.06381495296955109, 0.02107994817197323, 0.0, 0.0, 0.0], [0.02276924066245556, 0.0023638135753571987, 0.006953608710318804, 0.0009745143470354378, 0.033431295305490494, 0.03096311166882515, 0.012881075032055378, 0.0763968974351883, 0.00026210345095023513, 0.03044991008937359, 0.036742549389600754, 0.0005670599057339132, 0.014569047838449478, 0.0003055332927033305, 0.005948360543698072, 0.022492555901408195, 0.0007025572704151273, 0.004866448231041431, 0.060261812061071396, 0.1558590531349182, 0.0005001771496608853, 0.019988084211945534, 0.030868489295244217, 0.0031281481496989727, 0.012151177041232586, 0.11994657665491104, 0.07597395032644272, 0.09628818184137344, 0.07584252953529358, 0.0010643757414072752, 0.03271332383155823, 0.011111108586192131, 0.0006633004522882402, 0.0, 0.0], [0.06755813211202621, 0.003352794796228409, 0.008972208946943283, 0.00340254046022892, 0.056073058396577835, 0.030404718592762947, 0.013628300279378891, 0.07952427119016647, 0.0025889393873512745, 0.034729380160570145, 0.015315967611968517, 0.002527105389162898, 0.00768547086045146, 0.002692827023565769, 0.007113002240657806, 0.026128452271223068, 0.0027733708266168833, 0.007069503888487816, 0.05076206475496292, 0.1759389340877533, 0.003935443703085184, 0.010542859323322773, 0.012697340920567513, 0.002831445075571537, 0.004983489867299795, 0.05610371008515358, 0.102786585688591, 0.0786440372467041, 0.06361378729343414, 0.004290638025850058, 0.012449045665562153, 0.00784690584987402, 0.0035741645842790604, 0.037459537386894226, 0.0], [0.05889427661895752, 0.004834291525185108, 0.008816235698759556, 0.004917595535516739, 0.057244498282670975, 0.04719964787364006, 0.01038435474038124, 0.04373682662844658, 0.0032532131299376488, 0.027000516653060913, 0.015386001206934452, 0.0054444968700408936, 0.01830442249774933, 0.003610059851780534, 0.011856133118271828, 0.07255373895168304, 0.006018077954649925, 0.006411909591406584, 0.05586157739162445, 0.08374675363302231, 0.0039736684411764145, 0.01859060488641262, 0.01944512315094471, 0.0038806763477623463, 0.008932655677199364, 0.1224270835518837, 0.0409863218665123, 0.0742977038025856, 0.0577455535531044, 0.006318633910268545, 0.013084121979773045, 0.023065805435180664, 0.005796524230390787, 0.04094137251377106, 0.01503958459943533]], [[1.0, 0.0, 0.0, 0.0, 0.0, 0.0, 0.0, 0.0, 0.0, 0.0, 0.0, 0.0, 0.0, 0.0, 0.0, 0.0, 0.0, 0.0, 0.0, 0.0, 0.0, 0.0, 0.0, 0.0, 0.0, 0.0, 0.0, 0.0, 0.0, 0.0, 0.0, 0.0, 0.0, 0.0, 0.0], [0.9780336022377014, 0.021966341882944107, 0.0, 0.0, 0.0, 0.0, 0.0, 0.0, 0.0, 0.0, 0.0, 0.0, 0.0, 0.0, 0.0, 0.0, 0.0, 0.0, 0.0, 0.0, 0.0, 0.0, 0.0, 0.0, 0.0, 0.0, 0.0, 0.0, 0.0, 0.0, 0.0, 0.0, 0.0, 0.0, 0.0], [0.5068985819816589, 0.42791488766670227, 0.0651865005493164, 0.0, 0.0, 0.0, 0.0, 0.0, 0.0, 0.0, 0.0, 0.0, 0.0, 0.0, 0.0, 0.0, 0.0, 0.0, 0.0, 0.0, 0.0, 0.0, 0.0, 0.0, 0.0, 0.0, 0.0, 0.0, 0.0, 0.0, 0.0, 0.0, 0.0, 0.0, 0.0], [0.3459503948688507, 0.2338510900735855, 0.1913880556821823, 0.22881042957305908, 0.0, 0.0, 0.0, 0.0, 0.0, 0.0, 0.0, 0.0, 0.0, 0.0, 0.0, 0.0, 0.0, 0.0, 0.0, 0.0, 0.0, 0.0, 0.0, 0.0, 0.0, 0.0, 0.0, 0.0, 0.0, 0.0, 0.0, 0.0, 0.0, 0.0, 0.0], [0.27859702706336975, 0.1752573400735855, 0.11037095636129379, 0.25180941820144653, 0.18396523594856262, 0.0, 0.0, 0.0, 0.0, 0.0, 0.0, 0.0, 0.0, 0.0, 0.0, 0.0, 0.0, 0.0, 0.0, 0.0, 0.0, 0.0, 0.0, 0.0, 0.0, 0.0, 0.0, 0.0, 0.0, 0.0, 0.0, 0.0, 0.0, 0.0, 0.0], [0.2080419957637787, 0.08827138692140579, 0.06160809472203255, 0.2584841847419739, 0.27056992053985596, 0.11302443593740463, 0.0, 0.0, 0.0, 0.0, 0.0, 0.0, 0.0, 0.0, 0.0, 0.0, 0.0, 0.0, 0.0, 0.0, 0.0, 0.0, 0.0, 0.0, 0.0, 0.0, 0.0, 0.0, 0.0, 0.0, 0.0, 0.0, 0.0, 0.0, 0.0], [0.1632562130689621, 0.12141187489032745, 0.1199069544672966, 0.16166438162326813, 0.10774075984954834, 0.29750388860702515, 0.028515946120023727, 0.0, 0.0, 0.0, 0.0, 0.0, 0.0, 0.0, 0.0, 0.0, 0.0, 0.0, 0.0, 0.0, 0.0, 0.0, 0.0, 0.0, 0.0, 0.0, 0.0, 0.0, 0.0, 0.0, 0.0, 0.0, 0.0, 0.0, 0.0], [0.12280934303998947, 0.03978985548019409, 0.04514541104435921, 0.1357850730419159, 0.09269554167985916, 0.11808712035417557, 0.33698466420173645, 0.10870300978422165, 0.0, 0.0, 0.0, 0.0, 0.0, 0.0, 0.0, 0.0, 0.0, 0.0, 0.0, 0.0, 0.0, 0.0, 0.0, 0.0, 0.0, 0.0, 0.0, 0.0, 0.0, 0.0, 0.0, 0.0, 0.0, 0.0, 0.0], [0.07854471355676651, 0.0357038788497448, 0.02910534106194973, 0.052009064704179764, 0.10322194546461105, 0.06222518905997276, 0.06801239401102066, 0.1702916920185089, 0.40088579058647156, 0.0, 0.0, 0.0, 0.0, 0.0, 0.0, 0.0, 0.0, 0.0, 0.0, 0.0, 0.0, 0.0, 0.0, 0.0, 0.0, 0.0, 0.0, 0.0, 0.0, 0.0, 0.0, 0.0, 0.0, 0.0, 0.0], [0.08555343747138977, 0.04508214071393013, 0.020755307748913765, 0.05748789384961128, 0.05853371322154999, 0.038125380873680115, 0.03164028003811836, 0.14470815658569336, 0.3939674198627472, 0.12414635717868805, 0.0, 0.0, 0.0, 0.0, 0.0, 0.0, 0.0, 0.0, 0.0, 0.0, 0.0, 0.0, 0.0, 0.0, 0.0, 0.0, 0.0, 0.0, 0.0, 0.0, 0.0, 0.0, 0.0, 0.0, 0.0], [0.03400758281350136, 0.005801306571811438, 0.004264357034116983, 0.014554568566381931, 0.002058126963675022, 0.010052243247628212, 0.01546244416385889, 0.014919949695467949, 0.07456013560295105, 0.8029414415359497, 0.02137780375778675, 0.0, 0.0, 0.0, 0.0, 0.0, 0.0, 0.0, 0.0, 0.0, 0.0, 0.0, 0.0, 0.0, 0.0, 0.0, 0.0, 0.0, 0.0, 0.0, 0.0, 0.0, 0.0, 0.0, 0.0], [0.03658133000135422, 0.008552635088562965, 0.009085931815207005, 0.010718602687120438, 0.03151056542992592, 0.0778607502579689, 0.02809949964284897, 0.05203397572040558, 0.0917564406991005, 0.24980762600898743, 0.22384561598300934, 0.1801469624042511, 0.0, 0.0, 0.0, 0.0, 0.0, 0.0, 0.0, 0.0, 0.0, 0.0, 0.0, 0.0, 0.0, 0.0, 0.0, 0.0, 0.0, 0.0, 0.0, 0.0, 0.0, 0.0, 0.0], [0.03899509832262993, 0.013953073881566525, 0.027150370180606842, 0.015978628769516945, 0.006068878341466188, 0.015332900919020176, 0.00735844811424613, 0.008143596351146698, 0.09236104786396027, 0.09582392871379852, 0.39708927273750305, 0.22508269548416138, 0.056662049144506454, 0.0, 0.0, 0.0, 0.0, 0.0, 0.0, 0.0, 0.0, 0.0, 0.0, 0.0, 0.0, 0.0, 0.0, 0.0, 0.0, 0.0, 0.0, 0.0, 0.0, 0.0, 0.0], [0.029417656362056732, 0.006853985600173473, 0.005433530546724796, 0.008306882344186306, 0.015738284215331078, 0.008708913810551167, 0.008349095471203327, 0.0239200908690691, 0.046946827322244644, 0.048144981265068054, 0.09309986233711243, 0.152908593416214, 0.14854179322719574, 0.40362945199012756, 0.0, 0.0, 0.0, 0.0, 0.0, 0.0, 0.0, 0.0, 0.0, 0.0, 0.0, 0.0, 0.0, 0.0, 0.0, 0.0, 0.0, 0.0, 0.0, 0.0, 0.0], [0.03712832182645798, 0.007584466598927975, 0.0035451464354991913, 0.00811797846108675, 0.0188341923058033, 0.005904977209866047, 0.009632594883441925, 0.011076654307544231, 0.04249942675232887, 0.01508396491408348, 0.01984347403049469, 0.11177270114421844, 0.12816865742206573, 0.33317863941192627, 0.24762876331806183, 0.0, 0.0, 0.0, 0.0, 0.0, 0.0, 0.0, 0.0, 0.0, 0.0, 0.0, 0.0, 0.0, 0.0, 0.0, 0.0, 0.0, 0.0, 0.0, 0.0], [0.02479151077568531, 0.002257240004837513, 0.0019112293375656009, 0.0031496465671807528, 0.0017746686935424805, 0.0030808623414486647, 0.019880736246705055, 0.006427105516195297, 0.015317483805119991, 0.0032266040798276663, 0.020296070724725723, 0.057727325707674026, 0.022555256262421608, 0.08885951340198517, 0.7141122817993164, 0.014632451348006725, 0.0, 0.0, 0.0, 0.0, 0.0, 0.0, 0.0, 0.0, 0.0, 0.0, 0.0, 0.0, 0.0, 0.0, 0.0, 0.0, 0.0, 0.0, 0.0], [0.019352782517671585, 0.002735722344368696, 0.002700638957321644, 0.002816394902765751, 0.007300622761249542, 0.016268707811832428, 0.005134700331836939, 0.010258638300001621, 0.013791480101644993, 0.03380438685417175, 0.03394485265016556, 0.02411043271422386, 0.05347486212849617, 0.09691004455089569, 0.2761884331703186, 0.2219037562608719, 0.1793036013841629, 0.0, 0.0, 0.0, 0.0, 0.0, 0.0, 0.0, 0.0, 0.0, 0.0, 0.0, 0.0, 0.0, 0.0, 0.0, 0.0, 0.0, 0.0], [0.016778292134404182, 0.0013836660655215383, 0.0012504429323598742, 0.0019532665610313416, 0.0012283107498660684, 0.003427055198699236, 0.0017710214015096426, 0.002587688621133566, 0.00995652936398983, 0.007537421770393848, 0.004963124170899391, 0.023668868467211723, 0.017456665635108948, 0.06967749446630478, 0.2612767815589905, 0.2408241182565689, 0.17677909135818481, 0.1574801802635193, 0.0, 0.0, 0.0, 0.0, 0.0, 0.0, 0.0, 0.0, 0.0, 0.0, 0.0, 0.0, 0.0, 0.0, 0.0, 0.0, 0.0], [0.054750438779592514, 0.009201944805681705, 0.003783297957852483, 0.006891882978379726, 0.007006870117038488, 0.005267792381346226, 0.001913589658215642, 0.006649007089436054, 0.022490739822387695, 0.007203700020909309, 0.03985985741019249, 0.02630697749555111, 0.03598392754793167, 0.10654623806476593, 0.14742793142795563, 0.02953192964196205, 0.1483415961265564, 0.23425261676311493, 0.10658963769674301, 0.0, 0.0, 0.0, 0.0, 0.0, 0.0, 0.0, 0.0, 0.0, 0.0, 0.0, 0.0, 0.0, 0.0, 0.0, 0.0], [0.08004873991012573, 0.0035627440083771944, 0.0033941466826945543, 0.011285562999546528, 0.012208591215312481, 0.0019435001304373145, 0.003920829854905605, 0.024116642773151398, 0.023349976167082787, 0.008975878357887268, 0.005343940109014511, 0.02533608116209507, 0.013870183378458023, 0.101036436855793, 0.03973817825317383, 0.08061379194259644, 0.1208646297454834, 0.1229468584060669, 0.1413252204656601, 0.17611810564994812, 0.0, 0.0, 0.0, 0.0, 0.0, 0.0, 0.0, 0.0, 0.0, 0.0, 0.0, 0.0, 0.0, 0.0, 0.0], [0.013053365051746368, 0.001979565480723977, 0.001618212671019137, 0.0014078528620302677, 0.001486824476160109, 0.001309916260652244, 0.0016642959089949727, 0.002566514303907752, 0.003062671050429344, 0.010340573266148567, 0.00775524415075779, 0.00892942026257515, 0.008869543671607971, 0.01716514118015766, 0.0726579800248146, 0.08664456754922867, 0.06223947927355766, 0.1652846783399582, 0.07255078852176666, 0.09155549108982086, 0.3678578734397888, 0.0, 0.0, 0.0, 0.0, 0.0, 0.0, 0.0, 0.0, 0.0, 0.0, 0.0, 0.0, 0.0, 0.0], [0.012316022999584675, 0.0011592364171519876, 0.0007622392731718719, 0.001950749196112156, 0.0012718504294753075, 0.0006892289966344833, 0.0005458987434394658, 0.0026030049193650484, 0.003917666617780924, 0.0005409360746853054, 0.0012741910759359598, 0.0065031638368964195, 0.005551591981202364, 0.017973439767956734, 0.013353326357901096, 0.038051266223192215, 0.043033964931964874, 0.03958652541041374, 0.02230064943432808, 0.03898363187909126, 0.5949543118476868, 0.15267714858055115, 0.0, 0.0, 0.0, 0.0, 0.0, 0.0, 0.0, 0.0, 0.0, 0.0, 0.0, 0.0, 0.0], [0.013724980875849724, 0.0016125745605677366, 0.0003289876040071249, 0.0010084316600114107, 0.0011758040636777878, 0.0007259299163706601, 0.0005918768001720309, 0.0009615613962523639, 0.0031186221167445183, 0.005970018450170755, 0.0030334654729813337, 0.0033445011358708143, 0.008407561108469963, 0.01365853101015091, 0.005607043392956257, 0.005321724805980921, 0.019289933145046234, 0.02910967543721199, 0.013599644415080547, 0.031337808817625046, 0.25137242674827576, 0.530521810054779, 0.05617702752351761, 0.0, 0.0, 0.0, 0.0, 0.0, 0.0, 0.0, 0.0, 0.0, 0.0, 0.0, 0.0], [0.016002370044589043, 0.0009560452890582383, 0.0005680453032255173, 0.0015549715608358383, 0.0015755712520331144, 0.0006219734787009656, 0.00112576421815902, 0.0014368729898706079, 0.0023100459948182106, 0.0009028316708281636, 0.0013921457575634122, 0.00367259350605309, 0.0036322823725640774, 0.009217395447194576, 0.008623871952295303, 0.027025718241930008, 0.021376442164182663, 0.033301107585430145, 0.03885406255722046, 0.03905839845538139, 0.2659663259983063, 0.19372616708278656, 0.09792882949113846, 0.22917014360427856, 0.0, 0.0, 0.0, 0.0, 0.0, 0.0, 0.0, 0.0, 0.0, 0.0, 0.0], [0.009987272322177887, 0.000965175568126142, 0.0006041579763405025, 0.0009222117951139808, 0.0008805801626294851, 0.0005974337109364569, 0.0002114920353051275, 0.0006455678376369178, 0.0012417666148394346, 0.0006859691347926855, 0.0007031498244032264, 0.0014577412512153387, 0.0018487698398530483, 0.0050771962851285934, 0.0019275641534477472, 0.012413404881954193, 0.00856828410178423, 0.012073662132024765, 0.02193666622042656, 0.02919415570795536, 0.14272759854793549, 0.09834034740924835, 0.1184767410159111, 0.31631970405578613, 0.21219341456890106, 0.0, 0.0, 0.0, 0.0, 0.0, 0.0, 0.0, 0.0, 0.0, 0.0], [0.016860883682966232, 0.001970327226445079, 0.0008858367800712585, 0.0017656359123066068, 0.0023928340524435043, 0.000527115713339299, 0.0003617889597080648, 0.0006361055420711637, 0.0022411306854337454, 0.0008515861118212342, 0.000381578371161595, 0.0022748324554413557, 0.0018798474920913577, 0.007292235270142555, 0.0021466740872710943, 0.0025263135321438313, 0.010355670936405659, 0.011969332583248615, 0.006590907461941242, 0.0128274941816926, 0.12130500376224518, 0.06624656170606613, 0.1461239457130432, 0.28280702233314514, 0.24703316390514374, 0.04974617063999176, 0.0, 0.0, 0.0, 0.0, 0.0, 0.0, 0.0, 0.0, 0.0], [0.02640504390001297, 0.0014231016393750906, 0.0016234454233199358, 0.002576409140601754, 0.0026897068601101637, 0.0012257542693987489, 0.0010898757027462125, 0.0009538470767438412, 0.0019223546842113137, 0.002411529654636979, 0.002457945141941309, 0.0014354215236380696, 0.005378505680710077, 0.004732353147119284, 0.0019391177920624614, 0.007957516238093376, 0.00608688173815608, 0.012657473795115948, 0.011602523736655712, 0.029096659272909164, 0.08598875254392624, 0.07665888220071793, 0.03624015673995018, 0.13133355975151062, 0.1949026733636856, 0.21766334772109985, 0.13154719769954681, 0.0, 0.0, 0.0, 0.0, 0.0, 0.0, 0.0, 0.0], [0.023896103724837303, 0.0020675004925578833, 0.002509379293769598, 0.0018511987291276455, 0.003160967258736491, 0.0009005628526210785, 0.00026854235329665244, 0.0005213554250076413, 0.00178721419069916, 0.0019308972405269742, 0.0010158233344554901, 0.0010442679049447179, 0.0015677064657211304, 0.004060098901391029, 0.0008207384962588549, 0.0033583014737814665, 0.004117118194699287, 0.007223028223961592, 0.014547296799719334, 0.046351559460163116, 0.05601870268583298, 0.03840019553899765, 0.04160993918776512, 0.10494538396596909, 0.15788206458091736, 0.12118791043758392, 0.19090279936790466, 0.1660533845424652, 0.0, 0.0, 0.0, 0.0, 0.0, 0.0, 0.0], [0.04075782001018524, 0.003958364017307758, 0.00569809228181839, 0.003957986831665039, 0.001404780545271933, 0.0003276947245467454, 0.0006401930004358292, 0.0012045842595398426, 0.0022385583724826574, 0.0007448499090969563, 0.003836581949144602, 0.0016206824220716953, 0.0010148310102522373, 0.004261187743395567, 0.0009652954176999629, 0.0003954317653551698, 0.005401065573096275, 0.007263404317200184, 0.005766806658357382, 0.029991861432790756, 0.04173654317855835, 0.017527664080262184, 0.025155045092105865, 0.07565256953239441, 0.24542641639709473, 0.06668493151664734, 0.2648318409919739, 0.055024147033691406, 0.08651071786880493, 0.0, 0.0, 0.0, 0.0, 0.0, 0.0], [0.011784791015088558, 0.0013947548577561975, 0.0009515666170045733, 0.0008953209617175162, 0.0010372709948569536, 0.0004972643801011145, 0.000252838566666469, 0.0004317568673286587, 0.0005345700774341822, 0.00028229219606146216, 0.00042747255065478384, 0.0005479556857608259, 0.0008038742234930396, 0.001103747054003179, 0.0010882860515266657, 0.002635374665260315, 0.002003314672037959, 0.0029394514858722687, 0.0051142084412276745, 0.009162306785583496, 0.020236412063241005, 0.014397247694432735, 0.01438660454005003, 0.05287299305200577, 0.044258151203393936, 0.07174725085496902, 0.08077172189950943, 0.11779718101024628, 0.1448611319065094, 0.3947829604148865, 0.0, 0.0, 0.0, 0.0, 0.0], [0.012992865405976772, 0.0016676137456670403, 0.0010021080961450934, 0.0011761243222281337, 0.0007638340466655791, 0.00040058299782685935, 0.00012849229096900672, 0.00010518686030991375, 0.0005606436170637608, 0.00014079397078603506, 0.00012207546387799084, 0.0003985987277701497, 0.00022988305136095732, 0.0011077816598117352, 0.00036310276482254267, 0.0008891798206605017, 0.0014402434462681413, 0.0014520197873935103, 0.002630568342283368, 0.003167381277307868, 0.017224645242094994, 0.010722330771386623, 0.005022999364882708, 0.04577846825122833, 0.047519583255052567, 0.027067074552178383, 0.05216856300830841, 0.05500797554850578, 0.11481006443500519, 0.445688396692276, 0.14825081825256348, 0.0, 0.0, 0.0, 0.0], [0.011720016598701477, 0.0009638680494390428, 0.0016792756505310535, 0.0009598786127753556, 0.0011835345067083836, 0.0003587345127016306, 0.00013125198893249035, 0.00020985891751479357, 0.0003518573648761958, 0.00011673859262373298, 0.0003326717996969819, 0.00020899830269627273, 0.0001630405313335359, 0.0005591596127487719, 0.0001787791698006913, 0.0005847538122907281, 0.0006520420429296792, 0.0008100892300717533, 0.0008232019026763737, 0.0065451436676084995, 0.007790665607899427, 0.006622510962188244, 0.0050529721193015575, 0.01448985654860735, 0.02494209073483944, 0.019010307267308235, 0.02852551080286503, 0.036787763237953186, 0.1426694542169571, 0.2348991334438324, 0.3008541166782379, 0.1498226672410965, 0.0, 0.0, 0.0], [0.011463277041912079, 0.0009014828247018158, 0.0005477440427057445, 0.000586987123824656, 0.0005616626003757119, 0.00023434778267983347, 0.0001394469290971756, 0.00019926790264435112, 0.00031403041793964803, 0.00012514638365246356, 0.00021479504357557744, 0.00024813463096506894, 0.00022906197409611195, 0.0005020766984671354, 0.000451902044005692, 0.0006676742923446, 0.0007638581446371973, 0.0009467165800742805, 0.0010094376048073173, 0.003719571279361844, 0.007444887887686491, 0.004500561393797398, 0.0018344337586313486, 0.012973611243069172, 0.015522471629083157, 0.021838264539837837, 0.01622896082699299, 0.024697475135326385, 0.03805318474769592, 0.1630234718322754, 0.11826041340827942, 0.22884781658649445, 0.32294782996177673, 0.0, 0.0], [0.009539718739688396, 0.0014243286568671465, 0.0009944578632712364, 0.0009655581088736653, 0.0007854432333260775, 0.00030160631285980344, 0.00011159550922457129, 0.0008093687938526273, 0.00040054641431197524, 8.517079550074413e-05, 0.0006307557923719287, 0.00020861535449512303, 0.00025255605578422546, 0.0005451840697787702, 0.00024275526811834425, 0.000582829408813268, 0.0005503917345777154, 0.0010548575082793832, 0.0010979127837345004, 0.004033537115901709, 0.0051515488885343075, 0.0072512440383434296, 0.003988178912550211, 0.012260391376912594, 0.013561544939875603, 0.03828654810786247, 0.06675273925065994, 0.013111517764627934, 0.10093273222446442, 0.13179118931293488, 0.05432305485010147, 0.15251486003398895, 0.3083246946334839, 0.06713257730007172, 0.0], [0.009234579280018806, 0.001869692001491785, 0.0015434973174706101, 0.0012878926936537027, 0.0009349423344247043, 0.0002825611154548824, 0.0004494275781325996, 0.000559499894734472, 0.00032776821171864867, 7.203831046354026e-05, 0.00010657909297151491, 0.0002636247081682086, 0.000365473359124735, 0.00037483207415789366, 0.00031175388721749187, 0.0008969149203039706, 0.0006347447633743286, 0.000865001929923892, 0.0008020034874789417, 0.0006307900184765458, 0.0032187828328460455, 0.0038458318449556828, 0.0030004375148564577, 0.007814165204763412, 0.010107208974659443, 0.016721557825803757, 0.00767208868637681, 0.010031217709183693, 0.005356384441256523, 0.0775706022977829, 0.037744469940662384, 0.13809102773666382, 0.19567599892616272, 0.030743587762117386, 0.4305930435657501]], [[1.0, 0.0, 0.0, 0.0, 0.0, 0.0, 0.0, 0.0, 0.0, 0.0, 0.0, 0.0, 0.0, 0.0, 0.0, 0.0, 0.0, 0.0, 0.0, 0.0, 0.0, 0.0, 0.0, 0.0, 0.0, 0.0, 0.0, 0.0, 0.0, 0.0, 0.0, 0.0, 0.0, 0.0, 0.0], [0.8970723748207092, 0.10292765498161316, 0.0, 0.0, 0.0, 0.0, 0.0, 0.0, 0.0, 0.0, 0.0, 0.0, 0.0, 0.0, 0.0, 0.0, 0.0, 0.0, 0.0, 0.0, 0.0, 0.0, 0.0, 0.0, 0.0, 0.0, 0.0, 0.0, 0.0, 0.0, 0.0, 0.0, 0.0, 0.0, 0.0], [0.7731762528419495, 0.17108598351478577, 0.05573774501681328, 0.0, 0.0, 0.0, 0.0, 0.0, 0.0, 0.0, 0.0, 0.0, 0.0, 0.0, 0.0, 0.0, 0.0, 0.0, 0.0, 0.0, 0.0, 0.0, 0.0, 0.0, 0.0, 0.0, 0.0, 0.0, 0.0, 0.0, 0.0, 0.0, 0.0, 0.0, 0.0], [0.2190985381603241, 0.09592841565608978, 0.1539974808692932, 0.5309755206108093, 0.0, 0.0, 0.0, 0.0, 0.0, 0.0, 0.0, 0.0, 0.0, 0.0, 0.0, 0.0, 0.0, 0.0, 0.0, 0.0, 0.0, 0.0, 0.0, 0.0, 0.0, 0.0, 0.0, 0.0, 0.0, 0.0, 0.0, 0.0, 0.0, 0.0, 0.0], [0.4932918846607208, 0.12421072274446487, 0.08378953486680984, 0.21044503152370453, 0.08826270699501038, 0.0, 0.0, 0.0, 0.0, 0.0, 0.0, 0.0, 0.0, 0.0, 0.0, 0.0, 0.0, 0.0, 0.0, 0.0, 0.0, 0.0, 0.0, 0.0, 0.0, 0.0, 0.0, 0.0, 0.0, 0.0, 0.0, 0.0, 0.0, 0.0, 0.0], [0.4792534112930298, 0.1148393526673317, 0.05825282260775566, 0.12140916287899017, 0.19296900928020477, 0.0332762636244297, 0.0, 0.0, 0.0, 0.0, 0.0, 0.0, 0.0, 0.0, 0.0, 0.0, 0.0, 0.0, 0.0, 0.0, 0.0, 0.0, 0.0, 0.0, 0.0, 0.0, 0.0, 0.0, 0.0, 0.0, 0.0, 0.0, 0.0, 0.0, 0.0], [0.33760711550712585, 0.13038292527198792, 0.1236577183008194, 0.16848324239253998, 0.03948561102151871, 0.15522721409797668, 0.045156147330999374, 0.0, 0.0, 0.0, 0.0, 0.0, 0.0, 0.0, 0.0, 0.0, 0.0, 0.0, 0.0, 0.0, 0.0, 0.0, 0.0, 0.0, 0.0, 0.0, 0.0, 0.0, 0.0, 0.0, 0.0, 0.0, 0.0, 0.0, 0.0], [0.3124314546585083, 0.10335513204336166, 0.07322123646736145, 0.13077440857887268, 0.08650772273540497, 0.2037173956632614, 0.047141335904598236, 0.042851291596889496, 0.0, 0.0, 0.0, 0.0, 0.0, 0.0, 0.0, 0.0, 0.0, 0.0, 0.0, 0.0, 0.0, 0.0, 0.0, 0.0, 0.0, 0.0, 0.0, 0.0, 0.0, 0.0, 0.0, 0.0, 0.0, 0.0, 0.0], [0.10719958692789078, 0.03256477788090706, 0.04615397751331329, 0.12522776424884796, 0.011105235666036606, 0.03433006629347801, 0.00785838346928358, 0.011366565711796284, 0.6241937279701233, 0.0, 0.0, 0.0, 0.0, 0.0, 0.0, 0.0, 0.0, 0.0, 0.0, 0.0, 0.0, 0.0, 0.0, 0.0, 0.0, 0.0, 0.0, 0.0, 0.0, 0.0, 0.0, 0.0, 0.0, 0.0, 0.0], [0.3028891384601593, 0.07804972678422928, 0.05937647819519043, 0.09426908940076828, 0.17377148568630219, 0.038616251200437546, 0.048025283962488174, 0.03951255604624748, 0.13237623870372772, 0.03311377391219139, 0.0, 0.0, 0.0, 0.0, 0.0, 0.0, 0.0, 0.0, 0.0, 0.0, 0.0, 0.0, 0.0, 0.0, 0.0, 0.0, 0.0, 0.0, 0.0, 0.0, 0.0, 0.0, 0.0, 0.0, 0.0], [0.13027672469615936, 0.04213489592075348, 0.07258213311433792, 0.10922861099243164, 0.03630438074469566, 0.19112572073936462, 0.03369800001382828, 0.05715864151716232, 0.11187215149402618, 0.16414129734039307, 0.05147741734981537, 0.0, 0.0, 0.0, 0.0, 0.0, 0.0, 0.0, 0.0, 0.0, 0.0, 0.0, 0.0, 0.0, 0.0, 0.0, 0.0, 0.0, 0.0, 0.0, 0.0, 0.0, 0.0, 0.0, 0.0], [0.09464419633150101, 0.029253434389829636, 0.03811940923333168, 0.14989569783210754, 0.020670870319008827, 0.0763172060251236, 0.008947478607296944, 0.020045069977641106, 0.30578556656837463, 0.04752093926072121, 0.010440833866596222, 0.19835925102233887, 0.0, 0.0, 0.0, 0.0, 0.0, 0.0, 0.0, 0.0, 0.0, 0.0, 0.0, 0.0, 0.0, 0.0, 0.0, 0.0, 0.0, 0.0, 0.0, 0.0, 0.0, 0.0, 0.0], [0.1444079875946045, 0.06329524517059326, 0.07617758959531784, 0.07194560021162033, 0.03394106775522232, 0.08442071825265884, 0.03594023361802101, 0.07685541361570358, 0.1158827468752861, 0.059519536793231964, 0.061834994703531265, 0.14841704070568085, 0.027361808344721794, 0.0, 0.0, 0.0, 0.0, 0.0, 0.0, 0.0, 0.0, 0.0, 0.0, 0.0, 0.0, 0.0, 0.0, 0.0, 0.0, 0.0, 0.0, 0.0, 0.0, 0.0, 0.0], [0.04147873446345329, 0.011494412086904049, 0.0176435224711895, 0.045997243374586105, 0.004085005726665258, 0.013701114803552628, 0.0028709005564451218, 0.004510775208473206, 0.24164840579032898, 0.009729509241878986, 0.0026167347095906734, 0.264177143573761, 0.00805377122014761, 0.3319927453994751, 0.0, 0.0, 0.0, 0.0, 0.0, 0.0, 0.0, 0.0, 0.0, 0.0, 0.0, 0.0, 0.0, 0.0, 0.0, 0.0, 0.0, 0.0, 0.0, 0.0, 0.0], [0.15155860781669617, 0.037725042551755905, 0.027330653741955757, 0.060524772852659225, 0.030143285170197487, 0.028034886345267296, 0.013341414742171764, 0.022503027692437172, 0.11653432995080948, 0.051899734884500504, 0.010558651760220528, 0.10229874402284622, 0.015167291276156902, 0.14137379825115204, 0.19100581109523773, 0.0, 0.0, 0.0, 0.0, 0.0, 0.0, 0.0, 0.0, 0.0, 0.0, 0.0, 0.0, 0.0, 0.0, 0.0, 0.0, 0.0, 0.0, 0.0, 0.0], [0.2839045822620392, 0.0650240108370781, 0.03238338232040405, 0.029591109603643417, 0.042432013899087906, 0.02846980281174183, 0.04153313487768173, 0.08465301245450974, 0.0438549630343914, 0.02753041312098503, 0.09218156337738037, 0.03751112520694733, 0.04891907051205635, 0.04984965920448303, 0.07913838326931, 0.01302381418645382, 0.0, 0.0, 0.0, 0.0, 0.0, 0.0, 0.0, 0.0, 0.0, 0.0, 0.0, 0.0, 0.0, 0.0, 0.0, 0.0, 0.0, 0.0, 0.0], [0.04885759577155113, 0.01400737278163433, 0.019542600959539413, 0.07337550073862076, 0.01008914690464735, 0.03972572088241577, 0.004310052841901779, 0.01059032417833805, 0.1530359983444214, 0.026499036699533463, 0.00541725242510438, 0.09647630155086517, 0.012806729413568974, 0.20478655397891998, 0.14743390679359436, 0.009689192287623882, 0.12335668504238129, 0.0, 0.0, 0.0, 0.0, 0.0, 0.0, 0.0, 0.0, 0.0, 0.0, 0.0, 0.0, 0.0, 0.0, 0.0, 0.0, 0.0, 0.0], [0.05943123996257782, 0.025951191782951355, 0.03547387942671776, 0.03907974064350128, 0.018049314618110657, 0.02308725006878376, 0.010503750294446945, 0.030069539323449135, 0.09918279200792313, 0.036144107580184937, 0.01841004565358162, 0.11741488426923752, 0.0171675868332386, 0.12769992649555206, 0.08459022641181946, 0.037902720272541046, 0.1457722783088684, 0.07406951487064362, 0.0, 0.0, 0.0, 0.0, 0.0, 0.0, 0.0, 0.0, 0.0, 0.0, 0.0, 0.0, 0.0, 0.0, 0.0, 0.0, 0.0], [0.2724890410900116, 0.04502274841070175, 0.04612238332629204, 0.04205197095870972, 0.03813562169671059, 0.054544273763895035, 0.025706563144922256, 0.01925414614379406, 0.045364588499069214, 0.05106879770755768, 0.021479329094290733, 0.051429383456707, 0.03568308427929878, 0.051102474331855774, 0.042210228741168976, 0.038132816553115845, 0.05789821594953537, 0.023540087044239044, 0.038764260709285736, 0.0, 0.0, 0.0, 0.0, 0.0, 0.0, 0.0, 0.0, 0.0, 0.0, 0.0, 0.0, 0.0, 0.0, 0.0, 0.0], [0.23981250822544098, 0.037238847464323044, 0.046413224190473557, 0.018074775114655495, 0.02860945463180542, 0.03156363219022751, 0.02326365001499653, 0.053141165524721146, 0.0367298386991024, 0.04436158388853073, 0.014089996926486492, 0.040796563029289246, 0.013384053483605385, 0.04018273949623108, 0.02512497454881668, 0.022283198311924934, 0.044574394822120667, 0.02635725773870945, 0.018502118065953255, 0.19549605250358582, 0.0, 0.0, 0.0, 0.0, 0.0, 0.0, 0.0, 0.0, 0.0, 0.0, 0.0, 0.0, 0.0, 0.0, 0.0], [0.03447256609797478, 0.00704978359863162, 0.008516228757798672, 0.019823281094431877, 0.002006193855777383, 0.008738487958908081, 0.001380531000904739, 0.002584986388683319, 0.129638671875, 0.004980520810931921, 0.0014542961725965142, 0.09793511033058167, 0.004242657218128443, 0.17474927008152008, 0.020575348287820816, 0.002921729814261198, 0.1251920908689499, 0.017666755244135857, 0.008172442205250263, 0.006463977973908186, 0.3214350640773773, 0.0, 0.0, 0.0, 0.0, 0.0, 0.0, 0.0, 0.0, 0.0, 0.0, 0.0, 0.0, 0.0, 0.0], [0.07532123476266861, 0.017385123297572136, 0.026499612256884575, 0.03820114582777023, 0.013464298099279404, 0.017004938796162605, 0.005682714749127626, 0.008161384612321854, 0.0879102572798729, 0.015652010217308998, 0.00462237698957324, 0.06870012730360031, 0.017068399116396904, 0.11098408699035645, 0.08843355625867844, 0.01554049551486969, 0.08290652930736542, 0.034457091242074966, 0.034902896732091904, 0.022669034078717232, 0.1672758311033249, 0.04715687409043312, 0.0, 0.0, 0.0, 0.0, 0.0, 0.0, 0.0, 0.0, 0.0, 0.0, 0.0, 0.0, 0.0], [0.11039694398641586, 0.017618611454963684, 0.012073229998350143, 0.07903020083904266, 0.04707179591059685, 0.02839348278939724, 0.010853302665054798, 0.03898293524980545, 0.04254176840186119, 0.053135767579078674, 0.010616582818329334, 0.04066743329167366, 0.016578685492277145, 0.05044256150722504, 0.04148310795426369, 0.011694184504449368, 0.0489438995718956, 0.04587525501847267, 0.06803461164236069, 0.03145822137594223, 0.0737365186214447, 0.09332358837127686, 0.027047280222177505, 0.0, 0.0, 0.0, 0.0, 0.0, 0.0, 0.0, 0.0, 0.0, 0.0, 0.0, 0.0], [0.05010592192411423, 0.011403635144233704, 0.018979987129569054, 0.048291102051734924, 0.005478162318468094, 0.02793811820447445, 0.0034753410145640373, 0.009667654521763325, 0.088839590549469, 0.02145979553461075, 0.009184249676764011, 0.06738954037427902, 0.006293782964348793, 0.11730514466762543, 0.055593863129615784, 0.023259567096829414, 0.08538824319839478, 0.030172372236847878, 0.018553774803876877, 0.04972721263766289, 0.138699471950531, 0.03593090549111366, 0.029570581391453743, 0.047291941940784454, 0.0, 0.0, 0.0, 0.0, 0.0, 0.0, 0.0, 0.0, 0.0, 0.0, 0.0], [0.033650629222393036, 0.03973433002829552, 0.013943265192210674, 0.02215501107275486, 0.007374098524451256, 0.012534347362816334, 0.003937933128327131, 0.00558803416788578, 0.0527641624212265, 0.011353475973010063, 0.0029761542100459337, 0.06122001260519028, 0.007114531472325325, 0.06609286367893219, 0.018457187339663506, 0.004707180894911289, 0.0778060257434845, 0.01593407243490219, 0.016269706189632416, 0.02733294479548931, 0.08945077657699585, 0.028283191844820976, 0.01342834159731865, 0.24125008285045624, 0.1266416311264038, 0.0, 0.0, 0.0, 0.0, 0.0, 0.0, 0.0, 0.0, 0.0, 0.0], [0.10162997245788574, 0.0481734462082386, 0.022741515189409256, 0.017647163942456245, 0.0163576602935791, 0.014718180522322655, 0.02023889869451523, 0.03009830042719841, 0.03836438059806824, 0.02529745362699032, 0.039593495428562164, 0.04179810360074043, 0.01849496364593506, 0.04345659911632538, 0.023876937106251717, 0.013411911204457283, 0.04804753512144089, 0.021995296701788902, 0.03074478544294834, 0.05168477073311806, 0.057864848524332047, 0.042160142213106155, 0.05039001628756523, 0.08024895936250687, 0.07608186453580856, 0.024882828816771507, 0.0, 0.0, 0.0, 0.0, 0.0, 0.0, 0.0, 0.0, 0.0], [0.06603523343801498, 0.020660119131207466, 0.021681705489754677, 0.03408762812614441, 0.015279395505785942, 0.018442001193761826, 0.010789584368467331, 0.05595835670828819, 0.03565485402941704, 0.02173885703086853, 0.02566494047641754, 0.03946554660797119, 0.01909187249839306, 0.04260498285293579, 0.045140333473682404, 0.012913595885038376, 0.04735580086708069, 0.02556186355650425, 0.035244137048721313, 0.0974636897444725, 0.056113146245479584, 0.03593846783041954, 0.03256700187921524, 0.04301983863115311, 0.04697677493095398, 0.03246128931641579, 0.06208902597427368, 0.0, 0.0, 0.0, 0.0, 0.0, 0.0, 0.0, 0.0], [0.10541094839572906, 0.0169731006026268, 0.020341014489531517, 0.03266652300953865, 0.02185116894543171, 0.03178993985056877, 0.005571204703301191, 0.024194523692131042, 0.0167404618114233, 0.016082553192973137, 0.013484908267855644, 0.022790368646383286, 0.020844900980591774, 0.01981641910970211, 0.007411997299641371, 0.013035079464316368, 0.02698245272040367, 0.010132260620594025, 0.01766771450638771, 0.297262579202652, 0.023457158356904984, 0.03235580772161484, 0.03224533423781395, 0.019980108365416527, 0.05017196014523506, 0.04827893525362015, 0.033088184893131256, 0.019372405484318733, 0.0, 0.0, 0.0, 0.0, 0.0, 0.0, 0.0], [0.11478216201066971, 0.028451886028051376, 0.030158108100295067, 0.02989071048796177, 0.01557769812643528, 0.04523627832531929, 0.008156673051416874, 0.0467776395380497, 0.020574580878019333, 0.018089184537529945, 0.01663845404982567, 0.024351509287953377, 0.014281021431088448, 0.02287057228386402, 0.02455843798816204, 0.02152225933969021, 0.02774014137685299, 0.012263169512152672, 0.016789685934782028, 0.030601786449551582, 0.033104464411735535, 0.04230615124106407, 0.050134189426898956, 0.039895690977573395, 0.02547147125005722, 0.03835652768611908, 0.14836567640304565, 0.040621936321258545, 0.012431957758963108, 0.0, 0.0, 0.0, 0.0, 0.0, 0.0], [0.01040297094732523, 0.003988312091678381, 0.007536553777754307, 0.02371406741440296, 0.0015746998833492398, 0.00455649895593524, 0.0011461436515673995, 0.0020206565968692303, 0.08388333767652512, 0.006093545816838741, 0.001224364503286779, 0.0801197737455368, 0.0032829302363097668, 0.11485148966312408, 0.020138533785939217, 0.003874024609103799, 0.10355651378631592, 0.01623993180692196, 0.006219519767910242, 0.011158792302012444, 0.12897229194641113, 0.016916098073124886, 0.008813062682747841, 0.028795946389436722, 0.06059351563453674, 0.005618594586849213, 0.016893556341528893, 0.008791646920144558, 0.017022382467985153, 0.20200024545192719, 0.0, 0.0, 0.0, 0.0, 0.0], [0.05472036823630333, 0.015954434871673584, 0.012098253704607487, 0.022833747789263725, 0.018985209986567497, 0.02878391742706299, 0.008076784200966358, 0.00837206095457077, 0.03956404700875282, 0.012315308675169945, 0.009588331915438175, 0.023571278899908066, 0.010643105953931808, 0.04663841798901558, 0.014515893533825874, 0.012394605204463005, 0.027597354725003242, 0.02169143408536911, 0.02018056996166706, 0.018239211291074753, 0.05496654286980629, 0.03711782768368721, 0.02424500696361065, 0.034996066242456436, 0.14947675168514252, 0.029019543901085854, 0.04327647387981415, 0.015866443514823914, 0.0451154001057148, 0.11428381502628326, 0.024871770292520523, 0.0, 0.0, 0.0, 0.0], [0.028266333043575287, 0.008342587389051914, 0.009693161584436893, 0.024003302678465843, 0.012406977824866772, 0.009731605648994446, 0.007254776544868946, 0.011378859169781208, 0.04525342211127281, 0.014661083929240704, 0.004759796895086765, 0.03279305249452591, 0.009599768556654453, 0.05662674456834793, 0.023795723915100098, 0.004614101257175207, 0.03982143476605415, 0.02123900316655636, 0.025286564603447914, 0.10159799456596375, 0.09278310090303421, 0.026123858988285065, 0.015091429464519024, 0.03458565101027489, 0.06182195246219635, 0.013407000340521336, 0.016889790073037148, 0.030893534421920776, 0.028194861486554146, 0.11031375080347061, 0.04056956619024277, 0.03819921985268593, 0.0, 0.0, 0.0], [0.0059200976975262165, 0.0026448266580700874, 0.0057548899203538895, 0.021997181698679924, 0.001308128354139626, 0.005726539995521307, 0.0008704050560481846, 0.0018940428271889687, 0.05295496806502342, 0.004725009202957153, 0.0009999448666349053, 0.04342708736658096, 0.0021749846637248993, 0.0736372098326683, 0.017015773802995682, 0.0030869946349412203, 0.057790856808423996, 0.010734477080404758, 0.003425824223086238, 0.010332707315683365, 0.08509064465761185, 0.012429160065948963, 0.006230238359421492, 0.022221004590392113, 0.06411112844944, 0.005053488537669182, 0.018152393400669098, 0.007594152819365263, 0.00678644236177206, 0.16716447472572327, 0.013871803879737854, 0.014755621552467346, 0.25011754035949707, 0.0, 0.0], [0.05958714336156845, 0.014287112280726433, 0.009688670746982098, 0.02847461961209774, 0.028604792430996895, 0.02625933289527893, 0.008819641545414925, 0.022136051207780838, 0.01791021227836609, 0.02639753557741642, 0.017243582755327225, 0.025983799248933792, 0.006316177546977997, 0.020043158903717995, 0.015440615825355053, 0.025940265506505966, 0.030103033408522606, 0.018365342170000076, 0.023130418732762337, 0.026214599609375, 0.03115723468363285, 0.028986159712076187, 0.028961293399333954, 0.016435224562883377, 0.03480091318488121, 0.03794368356466293, 0.0738067775964737, 0.03077244944870472, 0.028517236933112144, 0.07387096434831619, 0.02458772249519825, 0.03523406758904457, 0.08090808242559433, 0.0230720154941082, 0.0], [0.05258989706635475, 0.008282377384603024, 0.0046865856274962425, 0.011556114070117474, 0.002124359831213951, 0.007376660127192736, 0.0025699103716760874, 0.005167306866496801, 0.06430476903915405, 0.008688680827617645, 0.004349821247160435, 0.05405202507972717, 0.0035673293750733137, 0.08101722598075867, 0.021457025781273842, 0.004144074395298958, 0.06621556729078293, 0.018716931343078613, 0.009488233365118504, 0.006038552615791559, 0.1027429848909378, 0.014565220102667809, 0.009106297977268696, 0.021657666191458702, 0.03524802625179291, 0.004852641373872757, 0.008422165177762508, 0.019589489325881004, 0.011885887943208218, 0.14464662969112396, 0.01660756580531597, 0.02283477410674095, 0.08476629108190536, 0.01512686163187027, 0.05155407264828682]], [[1.0, 0.0, 0.0, 0.0, 0.0, 0.0, 0.0, 0.0, 0.0, 0.0, 0.0, 0.0, 0.0, 0.0, 0.0, 0.0, 0.0, 0.0, 0.0, 0.0, 0.0, 0.0, 0.0, 0.0, 0.0, 0.0, 0.0, 0.0, 0.0, 0.0, 0.0, 0.0, 0.0, 0.0, 0.0], [0.8803902864456177, 0.11960970610380173, 0.0, 0.0, 0.0, 0.0, 0.0, 0.0, 0.0, 0.0, 0.0, 0.0, 0.0, 0.0, 0.0, 0.0, 0.0, 0.0, 0.0, 0.0, 0.0, 0.0, 0.0, 0.0, 0.0, 0.0, 0.0, 0.0, 0.0, 0.0, 0.0, 0.0, 0.0, 0.0, 0.0], [0.800162672996521, 0.14422562718391418, 0.055611662566661835, 0.0, 0.0, 0.0, 0.0, 0.0, 0.0, 0.0, 0.0, 0.0, 0.0, 0.0, 0.0, 0.0, 0.0, 0.0, 0.0, 0.0, 0.0, 0.0, 0.0, 0.0, 0.0, 0.0, 0.0, 0.0, 0.0, 0.0, 0.0, 0.0, 0.0, 0.0, 0.0], [0.6471941471099854, 0.14701779186725616, 0.0793100968003273, 0.12647795677185059, 0.0, 0.0, 0.0, 0.0, 0.0, 0.0, 0.0, 0.0, 0.0, 0.0, 0.0, 0.0, 0.0, 0.0, 0.0, 0.0, 0.0, 0.0, 0.0, 0.0, 0.0, 0.0, 0.0, 0.0, 0.0, 0.0, 0.0, 0.0, 0.0, 0.0, 0.0], [0.6291002035140991, 0.1326993852853775, 0.08307389169931412, 0.10306601226329803, 0.05206046253442764, 0.0, 0.0, 0.0, 0.0, 0.0, 0.0, 0.0, 0.0, 0.0, 0.0, 0.0, 0.0, 0.0, 0.0, 0.0, 0.0, 0.0, 0.0, 0.0, 0.0, 0.0, 0.0, 0.0, 0.0, 0.0, 0.0, 0.0, 0.0, 0.0, 0.0], [0.5631014108657837, 0.12375935167074203, 0.11159726232290268, 0.10842731595039368, 0.08343344181776047, 0.009681185707449913, 0.0, 0.0, 0.0, 0.0, 0.0, 0.0, 0.0, 0.0, 0.0, 0.0, 0.0, 0.0, 0.0, 0.0, 0.0, 0.0, 0.0, 0.0, 0.0, 0.0, 0.0, 0.0, 0.0, 0.0, 0.0, 0.0, 0.0, 0.0, 0.0], [0.49733901023864746, 0.11400078237056732, 0.07851862162351608, 0.10408829897642136, 0.0822998583316803, 0.08720177412033081, 0.03655163571238518, 0.0, 0.0, 0.0, 0.0, 0.0, 0.0, 0.0, 0.0, 0.0, 0.0, 0.0, 0.0, 0.0, 0.0, 0.0, 0.0, 0.0, 0.0, 0.0, 0.0, 0.0, 0.0, 0.0, 0.0, 0.0, 0.0, 0.0, 0.0], [0.46186619997024536, 0.10720600932836533, 0.07680263370275497, 0.09525881707668304, 0.11179571598768234, 0.04683659225702286, 0.0632898211479187, 0.03694411739706993, 0.0, 0.0, 0.0, 0.0, 0.0, 0.0, 0.0, 0.0, 0.0, 0.0, 0.0, 0.0, 0.0, 0.0, 0.0, 0.0, 0.0, 0.0, 0.0, 0.0, 0.0, 0.0, 0.0, 0.0, 0.0, 0.0, 0.0], [0.408801794052124, 0.11223535984754562, 0.061949532479047775, 0.08138205111026764, 0.06888709217309952, 0.047599393874406815, 0.05779565870761871, 0.06300585716962814, 0.09834323078393936, 0.0, 0.0, 0.0, 0.0, 0.0, 0.0, 0.0, 0.0, 0.0, 0.0, 0.0, 0.0, 0.0, 0.0, 0.0, 0.0, 0.0, 0.0, 0.0, 0.0, 0.0, 0.0, 0.0, 0.0, 0.0, 0.0], [0.33778566122055054, 0.077689528465271, 0.06164024397730827, 0.08030416816473007, 0.09243480116128922, 0.12569792568683624, 0.04310277849435806, 0.08006509393453598, 0.08753129839897156, 0.01374861691147089, 0.0, 0.0, 0.0, 0.0, 0.0, 0.0, 0.0, 0.0, 0.0, 0.0, 0.0, 0.0, 0.0, 0.0, 0.0, 0.0, 0.0, 0.0, 0.0, 0.0, 0.0, 0.0, 0.0, 0.0, 0.0], [0.4084458351135254, 0.07972612977027893, 0.05943279340863228, 0.07098964601755142, 0.06258385628461838, 0.0729871317744255, 0.05290912836790085, 0.06663113087415695, 0.08486577868461609, 0.03078523650765419, 0.010643373243510723, 0.0, 0.0, 0.0, 0.0, 0.0, 0.0, 0.0, 0.0, 0.0, 0.0, 0.0, 0.0, 0.0, 0.0, 0.0, 0.0, 0.0, 0.0, 0.0, 0.0, 0.0, 0.0, 0.0, 0.0], [0.3284088969230652, 0.0812605619430542, 0.05222117155790329, 0.0667019709944725, 0.062212198972702026, 0.046883273869752884, 0.04748225957155228, 0.04943711683154106, 0.0864437147974968, 0.05108508840203285, 0.04660409316420555, 0.08125963062047958, 0.0, 0.0, 0.0, 0.0, 0.0, 0.0, 0.0, 0.0, 0.0, 0.0, 0.0, 0.0, 0.0, 0.0, 0.0, 0.0, 0.0, 0.0, 0.0, 0.0, 0.0, 0.0, 0.0], [0.28456375002861023, 0.07334225624799728, 0.059566281735897064, 0.05995682626962662, 0.0626126304268837, 0.044922519475221634, 0.0535488985478878, 0.0553952120244503, 0.07605051249265671, 0.054391514509916306, 0.05521011725068092, 0.08481413871049881, 0.03562537953257561, 0.0, 0.0, 0.0, 0.0, 0.0, 0.0, 0.0, 0.0, 0.0, 0.0, 0.0, 0.0, 0.0, 0.0, 0.0, 0.0, 0.0, 0.0, 0.0, 0.0, 0.0, 0.0], [0.2986925542354584, 0.08053486049175262, 0.04630003124475479, 0.058416079729795456, 0.05245250463485718, 0.03589675948023796, 0.04313004016876221, 0.04816410690546036, 0.07179583609104156, 0.03588227182626724, 0.034986354410648346, 0.06638611108064651, 0.047498878091573715, 0.0798635482788086, 0.0, 0.0, 0.0, 0.0, 0.0, 0.0, 0.0, 0.0, 0.0, 0.0, 0.0, 0.0, 0.0, 0.0, 0.0, 0.0, 0.0, 0.0, 0.0, 0.0, 0.0], [0.26184865832328796, 0.06895224750041962, 0.04662095382809639, 0.058604590594768524, 0.046928782016038895, 0.05568014830350876, 0.04915206879377365, 0.04117780178785324, 0.0749075785279274, 0.031984247267246246, 0.032572247087955475, 0.07257071137428284, 0.03739878907799721, 0.08542975783348083, 0.03617139905691147, 0.0, 0.0, 0.0, 0.0, 0.0, 0.0, 0.0, 0.0, 0.0, 0.0, 0.0, 0.0, 0.0, 0.0, 0.0, 0.0, 0.0, 0.0, 0.0, 0.0], [0.29417479038238525, 0.053609177470207214, 0.03860876336693764, 0.049526724964380264, 0.040609169751405716, 0.04149327427148819, 0.029716238379478455, 0.04536982998251915, 0.06024933233857155, 0.04159964993596077, 0.06637390702962875, 0.059824682772159576, 0.04050292447209358, 0.06734270602464676, 0.06095735728740692, 0.010041485540568829, 0.0, 0.0, 0.0, 0.0, 0.0, 0.0, 0.0, 0.0, 0.0, 0.0, 0.0, 0.0, 0.0, 0.0, 0.0, 0.0, 0.0, 0.0, 0.0], [0.24078042805194855, 0.05731501802802086, 0.03812979906797409, 0.04762375354766846, 0.04672614857554436, 0.035154759883880615, 0.034621819853782654, 0.0374724455177784, 0.062347814440727234, 0.0395454466342926, 0.035744309425354004, 0.05874500423669815, 0.03407842293381691, 0.07071569561958313, 0.05439116433262825, 0.03945149853825569, 0.06715652346611023, 0.0, 0.0, 0.0, 0.0, 0.0, 0.0, 0.0, 0.0, 0.0, 0.0, 0.0, 0.0, 0.0, 0.0, 0.0, 0.0, 0.0, 0.0], [0.19008125364780426, 0.05546914041042328, 0.03824986144900322, 0.044684700667858124, 0.0434919074177742, 0.03729136288166046, 0.03500031307339668, 0.03413338214159012, 0.05614842474460602, 0.029018176719546318, 0.026478590443730354, 0.06265047937631607, 0.03502201288938522, 0.06568854302167892, 0.05714195594191551, 0.04781634733080864, 0.07356442511081696, 0.06806915253400803, 0.0, 0.0, 0.0, 0.0, 0.0, 0.0, 0.0, 0.0, 0.0, 0.0, 0.0, 0.0, 0.0, 0.0, 0.0, 0.0, 0.0], [0.23406484723091125, 0.047656796872615814, 0.03626638650894165, 0.04350152984261513, 0.0448233000934124, 0.0309261716902256, 0.02414553612470627, 0.03047104738652706, 0.051002662628889084, 0.03852143511176109, 0.04128360375761986, 0.05289096757769585, 0.02789279818534851, 0.0573887936770916, 0.060669973492622375, 0.04387103021144867, 0.05933019518852234, 0.051170188933610916, 0.02412271685898304, 0.0, 0.0, 0.0, 0.0, 0.0, 0.0, 0.0, 0.0, 0.0, 0.0, 0.0, 0.0, 0.0, 0.0, 0.0, 0.0], [0.3121168911457062, 0.04305698350071907, 0.030739212408661842, 0.039901215583086014, 0.040739163756370544, 0.0339735709130764, 0.013991210609674454, 0.0325017087161541, 0.042142946273088455, 0.03136738762259483, 0.05722321942448616, 0.0420997329056263, 0.032853297889232635, 0.04662720486521721, 0.048747751861810684, 0.02173060178756714, 0.047223761677742004, 0.029857594519853592, 0.045303914695978165, 0.007802658248692751, 0.0, 0.0, 0.0, 0.0, 0.0, 0.0, 0.0, 0.0, 0.0, 0.0, 0.0, 0.0, 0.0, 0.0, 0.0], [0.1958305835723877, 0.052274733781814575, 0.032512083649635315, 0.03705888241529465, 0.04335429146885872, 0.027641303837299347, 0.027452072128653526, 0.03308156132698059, 0.04532439634203911, 0.02540675178170204, 0.02478162758052349, 0.038880493491888046, 0.03024730272591114, 0.050895124673843384, 0.04128776863217354, 0.037492137402296066, 0.04425322636961937, 0.044287215918302536, 0.04519396275281906, 0.05072398483753204, 0.07202056050300598, 0.0, 0.0, 0.0, 0.0, 0.0, 0.0, 0.0, 0.0, 0.0, 0.0, 0.0, 0.0, 0.0, 0.0], [0.16079993546009064, 0.048410721123218536, 0.0330209881067276, 0.03441706299781799, 0.03531978651881218, 0.023897038772702217, 0.026063481345772743, 0.02863972820341587, 0.04453875124454498, 0.024949470534920692, 0.02971615456044674, 0.040130000561475754, 0.02485906332731247, 0.05134394392371178, 0.053735364228487015, 0.04527630656957626, 0.04680594429373741, 0.034605979919433594, 0.04245501756668091, 0.05485453084111214, 0.06976334750652313, 0.04639732465147972, 0.0, 0.0, 0.0, 0.0, 0.0, 0.0, 0.0, 0.0, 0.0, 0.0, 0.0, 0.0, 0.0], [0.18932510912418365, 0.03910360857844353, 0.024852009490132332, 0.03345050662755966, 0.0386015921831131, 0.024109305813908577, 0.020502109080553055, 0.024301746860146523, 0.03976471349596977, 0.03418167307972908, 0.03484785929322243, 0.03619782254099846, 0.023668944835662842, 0.0450248196721077, 0.03498942777514458, 0.026825523003935814, 0.04153791069984436, 0.03736661747097969, 0.042022790759801865, 0.05591040477156639, 0.06404417008161545, 0.05618631839752197, 0.033184975385665894, 0.0, 0.0, 0.0, 0.0, 0.0, 0.0, 0.0, 0.0, 0.0, 0.0, 0.0, 0.0], [0.16596609354019165, 0.03388110548257828, 0.020657511427998543, 0.032127272337675095, 0.03747254237532616, 0.02651948854327202, 0.019882909953594208, 0.025609634816646576, 0.04091743752360344, 0.022610323503613472, 0.019720878452062607, 0.03376535326242447, 0.02350381575524807, 0.04644525423645973, 0.03541428968310356, 0.027368424460291862, 0.0387694388628006, 0.031460728496313095, 0.04639926552772522, 0.04867471009492874, 0.06382153183221817, 0.06529749929904938, 0.04629906639456749, 0.047415394335985184, 0.0, 0.0, 0.0, 0.0, 0.0, 0.0, 0.0, 0.0, 0.0, 0.0, 0.0], [0.15514099597930908, 0.03631480038166046, 0.022236889228224754, 0.02809740975499153, 0.04015664383769035, 0.02405598945915699, 0.01740090921521187, 0.021498557180166245, 0.0367506667971611, 0.01798674277961254, 0.019703930243849754, 0.02832779288291931, 0.02260461077094078, 0.04168052226305008, 0.030497951433062553, 0.025585588067770004, 0.03248758986592293, 0.0270149577409029, 0.04112284258008003, 0.04738449305295944, 0.06382341682910919, 0.056550100445747375, 0.04119998589158058, 0.06263259053230286, 0.059744060039520264, 0.0, 0.0, 0.0, 0.0, 0.0, 0.0, 0.0, 0.0, 0.0, 0.0], [0.12975938618183136, 0.027339715510606766, 0.029957519844174385, 0.022702833637595177, 0.03781532868742943, 0.03144635632634163, 0.01713675819337368, 0.04656492546200752, 0.030618298798799515, 0.018781671300530434, 0.025273194536566734, 0.02872198447585106, 0.019090939313173294, 0.03481001779437065, 0.026170220226049423, 0.02681773714721203, 0.03296039253473282, 0.02496025525033474, 0.05474758520722389, 0.0578010268509388, 0.05617621913552284, 0.033059846609830856, 0.057674214243888855, 0.046674203127622604, 0.062286995351314545, 0.020652377977967262, 0.0, 0.0, 0.0, 0.0, 0.0, 0.0, 0.0, 0.0, 0.0], [0.181270033121109, 0.02792493999004364, 0.028055919334292412, 0.029457399621605873, 0.028532767668366432, 0.020307766273617744, 0.019550152122974396, 0.031531110405921936, 0.029232840985059738, 0.02111053466796875, 0.014580841176211834, 0.022505328059196472, 0.016256751492619514, 0.03150884062051773, 0.024519700556993484, 0.036590542644262314, 0.025034498423337936, 0.020030668005347252, 0.04726614058017731, 0.12142343819141388, 0.0418962687253952, 0.03646090254187584, 0.037346914410591125, 0.03705746307969093, 0.035210926085710526, 0.024784503504633904, 0.010552853345870972, 0.0, 0.0, 0.0, 0.0, 0.0, 0.0, 0.0, 0.0], [0.14193245768547058, 0.026873420923948288, 0.023394417017698288, 0.024198884144425392, 0.034410905092954636, 0.03176821768283844, 0.01428282167762518, 0.027884991839528084, 0.027823282405734062, 0.020267952233552933, 0.020075345411896706, 0.02603542059659958, 0.015271048061549664, 0.03118356689810753, 0.021344445645809174, 0.030780889093875885, 0.02968648262321949, 0.024966171011328697, 0.03290622681379318, 0.0812656357884407, 0.047380201518535614, 0.0395049974322319, 0.03810606151819229, 0.039200231432914734, 0.04723041132092476, 0.03223778307437897, 0.04768495634198189, 0.022302811965346336, 0.0, 0.0, 0.0, 0.0, 0.0, 0.0, 0.0], [0.19361074268817902, 0.02891046367585659, 0.017410730943083763, 0.02499195747077465, 0.02041228860616684, 0.03692350909113884, 0.018564043566584587, 0.022491108626127243, 0.026469895616173744, 0.019851723685860634, 0.01670689880847931, 0.020129594951868057, 0.017302939668297768, 0.02887752093374729, 0.019370289519429207, 0.02151290886104107, 0.022604646161198616, 0.019465502351522446, 0.03218546509742737, 0.09415600448846817, 0.03964083641767502, 0.046928729861974716, 0.03296547010540962, 0.034327466040849686, 0.03549889847636223, 0.04152422025799751, 0.038008466362953186, 0.024193784222006798, 0.004963915795087814, 0.0, 0.0, 0.0, 0.0, 0.0, 0.0], [0.13062259554862976, 0.02923813834786415, 0.02056247740983963, 0.02492492087185383, 0.026433367282152176, 0.020880062133073807, 0.016895083710551262, 0.020366208627820015, 0.030794672667980194, 0.016811516135931015, 0.014352642931044102, 0.026399679481983185, 0.01796814054250717, 0.03419143706560135, 0.025793615728616714, 0.020880067721009254, 0.02998332493007183, 0.022576836869120598, 0.031984005123376846, 0.038775235414505005, 0.04729926958680153, 0.039518099278211594, 0.03569553792476654, 0.04647785425186157, 0.045603733509778976, 0.027694012969732285, 0.028376273810863495, 0.029506992548704147, 0.03388815373182297, 0.06550602614879608, 0.0, 0.0, 0.0, 0.0, 0.0], [0.10399015247821808, 0.02196614257991314, 0.016451170668005943, 0.02278798818588257, 0.0243571437895298, 0.01997542940080166, 0.013678604736924171, 0.020524607971310616, 0.02641664631664753, 0.01582498475909233, 0.01812475174665451, 0.02293807454407215, 0.015249832533299923, 0.029951773583889008, 0.019568633288145065, 0.01779007352888584, 0.026331372559070587, 0.02006237953901291, 0.030405649915337563, 0.05837804079055786, 0.047469478100538254, 0.03560006618499756, 0.03361857682466507, 0.039051610976457596, 0.04623459652066231, 0.03415834531188011, 0.050636302679777145, 0.0330495685338974, 0.04132761433720589, 0.06007475033402443, 0.03400560840964317, 0.0, 0.0, 0.0, 0.0], [0.10689456015825272, 0.023425212129950523, 0.018311120569705963, 0.02227620780467987, 0.019986264407634735, 0.018345678225159645, 0.01589350774884224, 0.019802754744887352, 0.02582935430109501, 0.016079485416412354, 0.01665685512125492, 0.02581821195781231, 0.012892837636172771, 0.029111450538039207, 0.02073918841779232, 0.017621520906686783, 0.02965444140136242, 0.024281146004796028, 0.028045879676938057, 0.05205392464995384, 0.042631059885025024, 0.03251810371875763, 0.03738032281398773, 0.038434360176324844, 0.03982122987508774, 0.026290131732821465, 0.035206388682127, 0.03138631582260132, 0.032823435962200165, 0.061947036534547806, 0.037625446915626526, 0.04021657630801201, 0.0, 0.0, 0.0], [0.1222902312874794, 0.025168990716338158, 0.01671406999230385, 0.02203325740993023, 0.02300073578953743, 0.015408720821142197, 0.01495802029967308, 0.018676765263080597, 0.026191160082817078, 0.01237030141055584, 0.010715777985751629, 0.021631907671689987, 0.013984634540975094, 0.02889922261238098, 0.023200972005724907, 0.018216600641608238, 0.024281227961182594, 0.018235331401228905, 0.02165396697819233, 0.03633742406964302, 0.03855651244521141, 0.03691945597529411, 0.03379227593541145, 0.04258827492594719, 0.03839157521724701, 0.023295767605304718, 0.030805258080363274, 0.024493306875228882, 0.030105775222182274, 0.056526068598032, 0.037566836923360825, 0.04159916564822197, 0.051390375941991806, 0.0, 0.0], [0.13871711492538452, 0.021967241540551186, 0.016682978719472885, 0.02155137248337269, 0.02604922279715538, 0.015379131771624088, 0.012522310018539429, 0.02002522349357605, 0.02187984623014927, 0.014553075656294823, 0.01562824659049511, 0.018288591876626015, 0.0124217439442873, 0.023633433505892754, 0.01722068153321743, 0.02009168267250061, 0.020151864737272263, 0.018530191853642464, 0.02421250008046627, 0.07234077155590057, 0.034239377826452255, 0.030147042125463486, 0.03145882114768028, 0.030202966183423996, 0.030948737636208534, 0.024833213537931442, 0.030743267387151718, 0.022636577486991882, 0.04456690326333046, 0.04173137992620468, 0.028924645856022835, 0.029865313321352005, 0.04288145527243614, 0.02497304417192936, 0.0], [0.12327978014945984, 0.026707451790571213, 0.014834705740213394, 0.01802150346338749, 0.017764996737241745, 0.013351659290492535, 0.014073793776333332, 0.018723031505942345, 0.023980095982551575, 0.021256303414702415, 0.017004817724227905, 0.020616671070456505, 0.01290553342550993, 0.026097450405359268, 0.021554261445999146, 0.015845777466893196, 0.022780917584896088, 0.023595381528139114, 0.019861754029989243, 0.021922389045357704, 0.035971153527498245, 0.033696822822093964, 0.02117166481912136, 0.03536052256822586, 0.03450924530625343, 0.02189764566719532, 0.03512425348162651, 0.02411290630698204, 0.03299052268266678, 0.046776335686445236, 0.03042445331811905, 0.03270316496491432, 0.037907253950834274, 0.04262493550777435, 0.04055079072713852]], [[1.0, 0.0, 0.0, 0.0, 0.0, 0.0, 0.0, 0.0, 0.0, 0.0, 0.0, 0.0, 0.0, 0.0, 0.0, 0.0, 0.0, 0.0, 0.0, 0.0, 0.0, 0.0, 0.0, 0.0, 0.0, 0.0, 0.0, 0.0, 0.0, 0.0, 0.0, 0.0, 0.0, 0.0, 0.0], [0.6533873081207275, 0.34661275148391724, 0.0, 0.0, 0.0, 0.0, 0.0, 0.0, 0.0, 0.0, 0.0, 0.0, 0.0, 0.0, 0.0, 0.0, 0.0, 0.0, 0.0, 0.0, 0.0, 0.0, 0.0, 0.0, 0.0, 0.0, 0.0, 0.0, 0.0, 0.0, 0.0, 0.0, 0.0, 0.0, 0.0], [0.44511184096336365, 0.33376815915107727, 0.2211199402809143, 0.0, 0.0, 0.0, 0.0, 0.0, 0.0, 0.0, 0.0, 0.0, 0.0, 0.0, 0.0, 0.0, 0.0, 0.0, 0.0, 0.0, 0.0, 0.0, 0.0, 0.0, 0.0, 0.0, 0.0, 0.0, 0.0, 0.0, 0.0, 0.0, 0.0, 0.0, 0.0], [0.5459808111190796, 0.1529107540845871, 0.0764545425772667, 0.22465386986732483, 0.0, 0.0, 0.0, 0.0, 0.0, 0.0, 0.0, 0.0, 0.0, 0.0, 0.0, 0.0, 0.0, 0.0, 0.0, 0.0, 0.0, 0.0, 0.0, 0.0, 0.0, 0.0, 0.0, 0.0, 0.0, 0.0, 0.0, 0.0, 0.0, 0.0, 0.0], [0.42720288038253784, 0.1412525177001953, 0.06143971532583237, 0.11979996412992477, 0.2503049373626709, 0.0, 0.0, 0.0, 0.0, 0.0, 0.0, 0.0, 0.0, 0.0, 0.0, 0.0, 0.0, 0.0, 0.0, 0.0, 0.0, 0.0, 0.0, 0.0, 0.0, 0.0, 0.0, 0.0, 0.0, 0.0, 0.0, 0.0, 0.0, 0.0, 0.0], [0.4097929298877716, 0.11732909083366394, 0.06548824161291122, 0.1236746534705162, 0.04222371056675911, 0.2414914071559906, 0.0, 0.0, 0.0, 0.0, 0.0, 0.0, 0.0, 0.0, 0.0, 0.0, 0.0, 0.0, 0.0, 0.0, 0.0, 0.0, 0.0, 0.0, 0.0, 0.0, 0.0, 0.0, 0.0, 0.0, 0.0, 0.0, 0.0, 0.0, 0.0], [0.36435139179229736, 0.15547120571136475, 0.08527877926826477, 0.08832613378763199, 0.04993734136223793, 0.03409624472260475, 0.22253887355327606, 0.0, 0.0, 0.0, 0.0, 0.0, 0.0, 0.0, 0.0, 0.0, 0.0, 0.0, 0.0, 0.0, 0.0, 0.0, 0.0, 0.0, 0.0, 0.0, 0.0, 0.0, 0.0, 0.0, 0.0, 0.0, 0.0, 0.0, 0.0], [0.35626861453056335, 0.09063339978456497, 0.05006815493106842, 0.10755760222673416, 0.06895481050014496, 0.046696096658706665, 0.040975313633680344, 0.2388460338115692, 0.0, 0.0, 0.0, 0.0, 0.0, 0.0, 0.0, 0.0, 0.0, 0.0, 0.0, 0.0, 0.0, 0.0, 0.0, 0.0, 0.0, 0.0, 0.0, 0.0, 0.0, 0.0, 0.0, 0.0, 0.0, 0.0, 0.0], [0.34613892436027527, 0.14562256634235382, 0.09470635652542114, 0.1049964427947998, 0.06400175392627716, 0.04047238826751709, 0.03757920116186142, 0.04448215663433075, 0.12200020998716354, 0.0, 0.0, 0.0, 0.0, 0.0, 0.0, 0.0, 0.0, 0.0, 0.0, 0.0, 0.0, 0.0, 0.0, 0.0, 0.0, 0.0, 0.0, 0.0, 0.0, 0.0, 0.0, 0.0, 0.0, 0.0, 0.0], [0.20510227978229523, 0.048243142664432526, 0.05157080292701721, 0.09953968971967697, 0.06673120707273483, 0.04558689519762993, 0.03648391738533974, 0.08169859647750854, 0.08583585172891617, 0.27920758724212646, 0.0, 0.0, 0.0, 0.0, 0.0, 0.0, 0.0, 0.0, 0.0, 0.0, 0.0, 0.0, 0.0, 0.0, 0.0, 0.0, 0.0, 0.0, 0.0, 0.0, 0.0, 0.0, 0.0, 0.0, 0.0], [0.2301696091890335, 0.07576317340135574, 0.062430258840322495, 0.0619683600962162, 0.05024825409054756, 0.03796261548995972, 0.05770514905452728, 0.05617324635386467, 0.06585752964019775, 0.04166559502482414, 0.26005619764328003, 0.0, 0.0, 0.0, 0.0, 0.0, 0.0, 0.0, 0.0, 0.0, 0.0, 0.0, 0.0, 0.0, 0.0, 0.0, 0.0, 0.0, 0.0, 0.0, 0.0, 0.0, 0.0, 0.0, 0.0], [0.2668823003768921, 0.09969267249107361, 0.06880497932434082, 0.10110108554363251, 0.03625768423080444, 0.0487603098154068, 0.031795430928468704, 0.03426745533943176, 0.09192276746034622, 0.04406016319990158, 0.024279987439513206, 0.152175173163414, 0.0, 0.0, 0.0, 0.0, 0.0, 0.0, 0.0, 0.0, 0.0, 0.0, 0.0, 0.0, 0.0, 0.0, 0.0, 0.0, 0.0, 0.0, 0.0, 0.0, 0.0, 0.0, 0.0], [0.24808602035045624, 0.05943756550550461, 0.03645307198166847, 0.09643886983394623, 0.04665256664156914, 0.04358062520623207, 0.02640966884791851, 0.03871849179267883, 0.06937100738286972, 0.03553216531872749, 0.02358422242105007, 0.05824921652674675, 0.21748660504817963, 0.0, 0.0, 0.0, 0.0, 0.0, 0.0, 0.0, 0.0, 0.0, 0.0, 0.0, 0.0, 0.0, 0.0, 0.0, 0.0, 0.0, 0.0, 0.0, 0.0, 0.0, 0.0], [0.22227588295936584, 0.08784299343824387, 0.06428326666355133, 0.07245953381061554, 0.051530081778764725, 0.03354167193174362, 0.03151150420308113, 0.04395980387926102, 0.10531803220510483, 0.03629285469651222, 0.03349634259939194, 0.07923728227615356, 0.03496609255671501, 0.10328466445207596, 0.0, 0.0, 0.0, 0.0, 0.0, 0.0, 0.0, 0.0, 0.0, 0.0, 0.0, 0.0, 0.0, 0.0, 0.0, 0.0, 0.0, 0.0, 0.0, 0.0, 0.0], [0.2625541388988495, 0.0745101273059845, 0.049621887505054474, 0.0651395246386528, 0.0221824012696743, 0.03923412412405014, 0.021433904767036438, 0.028292490169405937, 0.06496231257915497, 0.022169632837176323, 0.018070969730615616, 0.057965539395809174, 0.01818801462650299, 0.061765048652887344, 0.19390986859798431, 0.0, 0.0, 0.0, 0.0, 0.0, 0.0, 0.0, 0.0, 0.0, 0.0, 0.0, 0.0, 0.0, 0.0, 0.0, 0.0, 0.0, 0.0, 0.0, 0.0], [0.21454612910747528, 0.052079539746046066, 0.04338601976633072, 0.051086749881505966, 0.02305705100297928, 0.03987298533320427, 0.021457551047205925, 0.0431031733751297, 0.05712401121854782, 0.04732411354780197, 0.02007635310292244, 0.04863850772380829, 0.03173767775297165, 0.05389070883393288, 0.03922812268137932, 0.21339136362075806, 0.0, 0.0, 0.0, 0.0, 0.0, 0.0, 0.0, 0.0, 0.0, 0.0, 0.0, 0.0, 0.0, 0.0, 0.0, 0.0, 0.0, 0.0, 0.0], [0.1693464070558548, 0.057584747672080994, 0.04318229854106903, 0.06501621007919312, 0.025769710540771484, 0.035840608179569244, 0.023403935134410858, 0.028633078560233116, 0.06884391605854034, 0.03735613077878952, 0.02107931859791279, 0.12265526503324509, 0.02518490143120289, 0.07096558809280396, 0.049235545098781586, 0.02845790982246399, 0.12744441628456116, 0.0, 0.0, 0.0, 0.0, 0.0, 0.0, 0.0, 0.0, 0.0, 0.0, 0.0, 0.0, 0.0, 0.0, 0.0, 0.0, 0.0, 0.0], [0.1294490545988083, 0.04351517930626869, 0.028707342222332954, 0.04557256028056145, 0.021282197907567024, 0.019885344430804253, 0.028857694938778877, 0.03478112816810608, 0.055325936526060104, 0.030885061249136925, 0.02108754962682724, 0.06504063308238983, 0.040431585162878036, 0.05797601491212845, 0.04136981815099716, 0.028544064611196518, 0.06784920394420624, 0.23943956196308136, 0.0, 0.0, 0.0, 0.0, 0.0, 0.0, 0.0, 0.0, 0.0, 0.0, 0.0, 0.0, 0.0, 0.0, 0.0, 0.0, 0.0], [0.14163610339164734, 0.035789649933576584, 0.028365226462483406, 0.04538755491375923, 0.04637838900089264, 0.03978871926665306, 0.014343791641294956, 0.04959798604249954, 0.04732619598507881, 0.030782440677285194, 0.018412159755825996, 0.04871036484837532, 0.02340163104236126, 0.04745563119649887, 0.03751208260655403, 0.023782705888152122, 0.04894063249230385, 0.033790670335292816, 0.23859809339046478, 0.0, 0.0, 0.0, 0.0, 0.0, 0.0, 0.0, 0.0, 0.0, 0.0, 0.0, 0.0, 0.0, 0.0, 0.0, 0.0], [0.1335032433271408, 0.032220542430877686, 0.02058890275657177, 0.037802185863256454, 0.041080109775066376, 0.03671093285083771, 0.025954410433769226, 0.04136638715863228, 0.0432656966149807, 0.030096473172307014, 0.026812905445694923, 0.04010695219039917, 0.024385899305343628, 0.04430919513106346, 0.0337374210357666, 0.02071092650294304, 0.040797434747219086, 0.03265015035867691, 0.03506242483854294, 0.2588377594947815, 0.0, 0.0, 0.0, 0.0, 0.0, 0.0, 0.0, 0.0, 0.0, 0.0, 0.0, 0.0, 0.0, 0.0, 0.0], [0.11974351108074188, 0.039148829877376556, 0.028956551104784012, 0.03342708572745323, 0.037695933133363724, 0.0205439031124115, 0.01755896769464016, 0.0326584130525589, 0.06372418254613876, 0.03310193121433258, 0.02986794337630272, 0.05386917665600777, 0.022512974217534065, 0.07236672937870026, 0.04143424704670906, 0.03790143132209778, 0.06002623587846756, 0.045860208570957184, 0.05091095715761185, 0.03195588290691376, 0.1267348825931549, 0.0, 0.0, 0.0, 0.0, 0.0, 0.0, 0.0, 0.0, 0.0, 0.0, 0.0, 0.0, 0.0, 0.0], [0.11878620833158493, 0.03957202658057213, 0.023222975432872772, 0.053640808910131454, 0.03261677920818329, 0.01737094298005104, 0.011663906276226044, 0.016273826360702515, 0.05014302581548691, 0.01326026115566492, 0.010486898943781853, 0.03813209384679794, 0.04193669930100441, 0.05336223170161247, 0.03097999095916748, 0.019617721438407898, 0.0402415506541729, 0.032441604882478714, 0.02054012380540371, 0.026845505461096764, 0.05771108716726303, 0.2511536478996277, 0.0, 0.0, 0.0, 0.0, 0.0, 0.0, 0.0, 0.0, 0.0, 0.0, 0.0, 0.0, 0.0], [0.10596507042646408, 0.03639821708202362, 0.023730650544166565, 0.027703464031219482, 0.02952033095061779, 0.01695851981639862, 0.009277228266000748, 0.019281189888715744, 0.04353450611233711, 0.02543572150170803, 0.01544106099754572, 0.041617266833782196, 0.018472325056791306, 0.04617343097925186, 0.026975221931934357, 0.016877297312021255, 0.0436592772603035, 0.020190222188830376, 0.01864578388631344, 0.01635969989001751, 0.05703480914235115, 0.06433956325054169, 0.2764091193675995, 0.0, 0.0, 0.0, 0.0, 0.0, 0.0, 0.0, 0.0, 0.0, 0.0, 0.0, 0.0], [0.08669395744800568, 0.1400514841079712, 0.05404341593384743, 0.026910439133644104, 0.02693350985646248, 0.01693662628531456, 0.017527250573039055, 0.011132634244859219, 0.033167172223329544, 0.009116586297750473, 0.01402170117944479, 0.02812526933848858, 0.01210760697722435, 0.03627435863018036, 0.030991649255156517, 0.015099079348146915, 0.03022146411240101, 0.02081548608839512, 0.018955029547214508, 0.021182598546147346, 0.043649885803461075, 0.04377347230911255, 0.025040635839104652, 0.23722875118255615, 0.0, 0.0, 0.0, 0.0, 0.0, 0.0, 0.0, 0.0, 0.0, 0.0, 0.0], [0.10505461692810059, 0.02472284436225891, 0.023438580334186554, 0.02425646223127842, 0.021477704867720604, 0.014111101627349854, 0.012018012814223766, 0.01570730283856392, 0.042195841670036316, 0.016803370788693428, 0.01115935854613781, 0.031271807849407196, 0.020320694893598557, 0.04702334105968475, 0.03988679125905037, 0.02585337497293949, 0.034509602934122086, 0.02452259510755539, 0.017594214528799057, 0.021597163751721382, 0.06303168833255768, 0.05036986619234085, 0.026549141854047775, 0.040915291756391525, 0.24560928344726562, 0.0, 0.0, 0.0, 0.0, 0.0, 0.0, 0.0, 0.0, 0.0, 0.0], [0.07146885246038437, 0.015683095902204514, 0.019199566915631294, 0.02765510231256485, 0.025888744741678238, 0.011495737358927727, 0.013834549114108086, 0.025006256997585297, 0.032857511192560196, 0.040690429508686066, 0.019407065585255623, 0.03628278151154518, 0.02667134813964367, 0.036988455802202225, 0.025391358882188797, 0.012203282676637173, 0.04081625118851662, 0.022441430017352104, 0.018680062144994736, 0.037140678614377975, 0.05291351303458214, 0.033748988062143326, 0.03600705787539482, 0.0273960642516613, 0.04157792031764984, 0.24855388700962067, 0.0, 0.0, 0.0, 0.0, 0.0, 0.0, 0.0, 0.0, 0.0], [0.09520065039396286, 0.023399094119668007, 0.01624995656311512, 0.03728703409433365, 0.027069471776485443, 0.024426203221082687, 0.016916712746024132, 0.020519251003861427, 0.03561446815729141, 0.01724678836762905, 0.016965173184871674, 0.030670637264847755, 0.014761797152459621, 0.03783895820379257, 0.025590209290385246, 0.013281547464430332, 0.03275728598237038, 0.01698147878050804, 0.012912825681269169, 0.040966760367155075, 0.04452373459935188, 0.032888539135456085, 0.021862007677555084, 0.02890506200492382, 0.025222206488251686, 0.015681952238082886, 0.27426019310951233, 0.0, 0.0, 0.0, 0.0, 0.0, 0.0, 0.0, 0.0], [0.07106208801269531, 0.02223449945449829, 0.01544252410531044, 0.02880682982504368, 0.02491172030568123, 0.014096679165959358, 0.010925307869911194, 0.022356456145644188, 0.028251029551029205, 0.025925250723958015, 0.012314550578594208, 0.03621361404657364, 0.017662767320871353, 0.031407054513692856, 0.018595030531287193, 0.01817140355706215, 0.040066659450531006, 0.022728288546204567, 0.02500053495168686, 0.04014962911605835, 0.04249802976846695, 0.026281598955392838, 0.023634901270270348, 0.03034823015332222, 0.028446588665246964, 0.04931708797812462, 0.045332688838243484, 0.22781896591186523, 0.0, 0.0, 0.0, 0.0, 0.0, 0.0, 0.0], [0.11998689919710159, 0.03201313316822052, 0.020363764837384224, 0.031922318041324615, 0.020111484453082085, 0.017741894349455833, 0.014963158406317234, 0.014099689200520515, 0.032360270619392395, 0.012826556339859962, 0.01920423097908497, 0.024741902947425842, 0.014775939285755157, 0.03365084156394005, 0.03285077586770058, 0.01563302055001259, 0.026330986991524696, 0.009946920908987522, 0.010015268810093403, 0.023254679515957832, 0.03898428753018379, 0.03491940721869469, 0.011989153921604156, 0.03053087182343006, 0.02381373755633831, 0.018979018554091454, 0.06846078485250473, 0.019141538068652153, 0.22638750076293945, 0.0, 0.0, 0.0, 0.0, 0.0, 0.0], [0.0711139589548111, 0.02304500713944435, 0.01740783266723156, 0.025577744469046593, 0.018817279487848282, 0.01440666988492012, 0.01136450283229351, 0.019742919132113457, 0.037803780287504196, 0.017498362809419632, 0.012214531190693378, 0.034711804240942, 0.016245104372501373, 0.04494825005531311, 0.03146103397011757, 0.017976265400648117, 0.040775008499622345, 0.026232007890939713, 0.02910454384982586, 0.03286314755678177, 0.06312327831983566, 0.03996738791465759, 0.03193744271993637, 0.05005759373307228, 0.0500398613512516, 0.02629847452044487, 0.04067576304078102, 0.03425349295139313, 0.03361440822482109, 0.0867224857211113, 0.0, 0.0, 0.0, 0.0, 0.0], [0.06342679262161255, 0.018928565084934235, 0.01591518707573414, 0.022974476218223572, 0.01581357792019844, 0.011996149085462093, 0.006959729827940464, 0.010440587997436523, 0.027604442089796066, 0.014203780330717564, 0.011755010113120079, 0.02697419933974743, 0.015696221962571144, 0.03244095295667648, 0.02146400883793831, 0.016300220042467117, 0.0315910279750824, 0.018295638263225555, 0.02407490462064743, 0.018299635499715805, 0.04905860498547554, 0.03294461593031883, 0.031695038080215454, 0.04070066660642624, 0.05526787042617798, 0.032283999025821686, 0.018337223678827286, 0.020621933043003082, 0.020615678280591965, 0.06142154708504677, 0.21189774572849274, 0.0, 0.0, 0.0, 0.0], [0.05903124436736107, 0.011650342494249344, 0.011906315572559834, 0.02030511386692524, 0.01582455262541771, 0.011342636309564114, 0.012165090069174767, 0.020514553412795067, 0.024635139852762222, 0.017877541482448578, 0.008976953104138374, 0.027097536250948906, 0.010151367634534836, 0.029500098899006844, 0.022961726412177086, 0.011527121998369694, 0.03249189257621765, 0.020219074562191963, 0.020271258428692818, 0.027604965493083, 0.04230692982673645, 0.022920360788702965, 0.027398401871323586, 0.024839358404278755, 0.028419990092515945, 0.04172161594033241, 0.0314212404191494, 0.035203300416469574, 0.03063124418258667, 0.06006475165486336, 0.04537739232182503, 0.19364088773727417, 0.0, 0.0, 0.0], [0.0859057605266571, 0.014704100787639618, 0.01051056943833828, 0.02869984693825245, 0.016654491424560547, 0.012795393355190754, 0.009235280565917492, 0.014819218777120113, 0.028232723474502563, 0.011867675930261612, 0.00926817487925291, 0.023044351488351822, 0.017553269863128662, 0.032954033464193344, 0.025013739243149757, 0.012247500009834766, 0.026799572631716728, 0.01332654058933258, 0.016479840502142906, 0.03472821041941643, 0.0398080050945282, 0.050673384219408035, 0.03086117096245289, 0.027551839128136635, 0.03616424277424812, 0.01740611158311367, 0.04716059938073158, 0.025891847908496857, 0.028397273272275925, 0.06047138199210167, 0.03584858402609825, 0.03886667266488075, 0.11605862528085709, 0.0, 0.0], [0.056707724928855896, 0.015243272297084332, 0.009892579168081284, 0.017495427280664444, 0.03529243543744087, 0.015370240435004234, 0.01074774470180273, 0.01709159091114998, 0.02124500647187233, 0.013064500875771046, 0.006394112948328257, 0.021768182516098022, 0.011015364900231361, 0.023290833458304405, 0.020971018821001053, 0.012346651405096054, 0.024119660258293152, 0.013815038837492466, 0.016820503398776054, 0.0345151461660862, 0.030974792316555977, 0.032177556306123734, 0.03227026388049126, 0.023270364850759506, 0.027259431779384613, 0.017850330099463463, 0.057764314115047455, 0.024271579459309578, 0.02524302341043949, 0.03774580731987953, 0.015895815566182137, 0.026596596464514732, 0.042151596397161484, 0.20932146906852722, 0.0], [0.04736972227692604, 0.013491550460457802, 0.008601202629506588, 0.011534376069903374, 0.03260952979326248, 0.00875001959502697, 0.01049541775137186, 0.01597345992922783, 0.02422492206096649, 0.013959750533103943, 0.011584170162677765, 0.020906992256641388, 0.012310199439525604, 0.02849937230348587, 0.014403223991394043, 0.011428197845816612, 0.024424538016319275, 0.021284056827425957, 0.027576269581913948, 0.025762218981981277, 0.0491495355963707, 0.02154945209622383, 0.020725887268781662, 0.030232436954975128, 0.04683733731508255, 0.02172248065471649, 0.020257210358977318, 0.019149545580148697, 0.010533901862800121, 0.05002591386437416, 0.030405579134821892, 0.022812239825725555, 0.02946246974170208, 0.039963193237781525, 0.20198364555835724]], [[1.0, 0.0, 0.0, 0.0, 0.0, 0.0, 0.0, 0.0, 0.0, 0.0, 0.0, 0.0, 0.0, 0.0, 0.0, 0.0, 0.0, 0.0, 0.0, 0.0, 0.0, 0.0, 0.0, 0.0, 0.0, 0.0, 0.0, 0.0, 0.0, 0.0, 0.0, 0.0, 0.0, 0.0, 0.0], [0.8253123164176941, 0.1746876835823059, 0.0, 0.0, 0.0, 0.0, 0.0, 0.0, 0.0, 0.0, 0.0, 0.0, 0.0, 0.0, 0.0, 0.0, 0.0, 0.0, 0.0, 0.0, 0.0, 0.0, 0.0, 0.0, 0.0, 0.0, 0.0, 0.0, 0.0, 0.0, 0.0, 0.0, 0.0, 0.0, 0.0], [0.7580503821372986, 0.1302967220544815, 0.11165297031402588, 0.0, 0.0, 0.0, 0.0, 0.0, 0.0, 0.0, 0.0, 0.0, 0.0, 0.0, 0.0, 0.0, 0.0, 0.0, 0.0, 0.0, 0.0, 0.0, 0.0, 0.0, 0.0, 0.0, 0.0, 0.0, 0.0, 0.0, 0.0, 0.0, 0.0, 0.0, 0.0], [0.7232240438461304, 0.0827442929148674, 0.07870829105377197, 0.11532339453697205, 0.0, 0.0, 0.0, 0.0, 0.0, 0.0, 0.0, 0.0, 0.0, 0.0, 0.0, 0.0, 0.0, 0.0, 0.0, 0.0, 0.0, 0.0, 0.0, 0.0, 0.0, 0.0, 0.0, 0.0, 0.0, 0.0, 0.0, 0.0, 0.0, 0.0, 0.0], [0.559454083442688, 0.08694440871477127, 0.091155506670475, 0.09393440186977386, 0.1685114949941635, 0.0, 0.0, 0.0, 0.0, 0.0, 0.0, 0.0, 0.0, 0.0, 0.0, 0.0, 0.0, 0.0, 0.0, 0.0, 0.0, 0.0, 0.0, 0.0, 0.0, 0.0, 0.0, 0.0, 0.0, 0.0, 0.0, 0.0, 0.0, 0.0, 0.0], [0.5031396746635437, 0.08192653954029083, 0.058723144233226776, 0.1048089936375618, 0.15214204788208008, 0.09925957769155502, 0.0, 0.0, 0.0, 0.0, 0.0, 0.0, 0.0, 0.0, 0.0, 0.0, 0.0, 0.0, 0.0, 0.0, 0.0, 0.0, 0.0, 0.0, 0.0, 0.0, 0.0, 0.0, 0.0, 0.0, 0.0, 0.0, 0.0, 0.0, 0.0], [0.527961015701294, 0.05825977027416229, 0.0683659091591835, 0.11652132123708725, 0.11039452999830246, 0.06918035447597504, 0.049317046999931335, 0.0, 0.0, 0.0, 0.0, 0.0, 0.0, 0.0, 0.0, 0.0, 0.0, 0.0, 0.0, 0.0, 0.0, 0.0, 0.0, 0.0, 0.0, 0.0, 0.0, 0.0, 0.0, 0.0, 0.0, 0.0, 0.0, 0.0, 0.0], [0.30010077357292175, 0.08826000988483429, 0.05834929645061493, 0.10984236747026443, 0.1686263531446457, 0.1289690136909485, 0.02322760596871376, 0.12262459099292755, 0.0, 0.0, 0.0, 0.0, 0.0, 0.0, 0.0, 0.0, 0.0, 0.0, 0.0, 0.0, 0.0, 0.0, 0.0, 0.0, 0.0, 0.0, 0.0, 0.0, 0.0, 0.0, 0.0, 0.0, 0.0, 0.0, 0.0], [0.39344045519828796, 0.047586191445589066, 0.051949650049209595, 0.0747157633304596, 0.11950991302728653, 0.05938040465116501, 0.023368608206510544, 0.1026640310883522, 0.1273849606513977, 0.0, 0.0, 0.0, 0.0, 0.0, 0.0, 0.0, 0.0, 0.0, 0.0, 0.0, 0.0, 0.0, 0.0, 0.0, 0.0, 0.0, 0.0, 0.0, 0.0, 0.0, 0.0, 0.0, 0.0, 0.0, 0.0], [0.3446025252342224, 0.05032899230718613, 0.05991329625248909, 0.0448312908411026, 0.15738153457641602, 0.06782462447881699, 0.03229010850191116, 0.07052528858184814, 0.0895390436053276, 0.08276326954364777, 0.0, 0.0, 0.0, 0.0, 0.0, 0.0, 0.0, 0.0, 0.0, 0.0, 0.0, 0.0, 0.0, 0.0, 0.0, 0.0, 0.0, 0.0, 0.0, 0.0, 0.0, 0.0, 0.0, 0.0, 0.0], [0.33508479595184326, 0.0462699718773365, 0.0478576235473156, 0.10917432606220245, 0.044352367520332336, 0.044907256960868835, 0.02844386361539364, 0.07920622825622559, 0.10731327533721924, 0.06832480430603027, 0.08906552940607071, 0.0, 0.0, 0.0, 0.0, 0.0, 0.0, 0.0, 0.0, 0.0, 0.0, 0.0, 0.0, 0.0, 0.0, 0.0, 0.0, 0.0, 0.0, 0.0, 0.0, 0.0, 0.0, 0.0, 0.0], [0.31157225370407104, 0.03927760571241379, 0.03521273285150528, 0.0755099505186081, 0.08078575879335403, 0.04503688961267471, 0.028806501999497414, 0.10218670964241028, 0.08797679096460342, 0.055852603167295456, 0.08571924269199371, 0.0520629920065403, 0.0, 0.0, 0.0, 0.0, 0.0, 0.0, 0.0, 0.0, 0.0, 0.0, 0.0, 0.0, 0.0, 0.0, 0.0, 0.0, 0.0, 0.0, 0.0, 0.0, 0.0, 0.0, 0.0], [0.361469566822052, 0.06311224400997162, 0.026989925652742386, 0.07095798850059509, 0.03985174372792244, 0.02944652922451496, 0.022796370089054108, 0.07072699815034866, 0.11304391175508499, 0.03335517644882202, 0.03714418411254883, 0.047639451920986176, 0.08346596360206604, 0.0, 0.0, 0.0, 0.0, 0.0, 0.0, 0.0, 0.0, 0.0, 0.0, 0.0, 0.0, 0.0, 0.0, 0.0, 0.0, 0.0, 0.0, 0.0, 0.0, 0.0, 0.0], [0.26885923743247986, 0.032650746405124664, 0.03938189521431923, 0.05081145092844963, 0.08684229105710983, 0.043101970106363297, 0.01792236417531967, 0.06655360013246536, 0.07785407453775406, 0.04528900980949402, 0.06586872041225433, 0.04606606066226959, 0.077217698097229, 0.08158089965581894, 0.0, 0.0, 0.0, 0.0, 0.0, 0.0, 0.0, 0.0, 0.0, 0.0, 0.0, 0.0, 0.0, 0.0, 0.0, 0.0, 0.0, 0.0, 0.0, 0.0, 0.0], [0.2079053372144699, 0.03081468679010868, 0.029462968930602074, 0.05067422613501549, 0.08743474632501602, 0.047705844044685364, 0.027333175763487816, 0.09152110666036606, 0.05214140936732292, 0.04708247631788254, 0.08081993460655212, 0.05453275144100189, 0.12074843794107437, 0.05516169220209122, 0.01666119694709778, 0.0, 0.0, 0.0, 0.0, 0.0, 0.0, 0.0, 0.0, 0.0, 0.0, 0.0, 0.0, 0.0, 0.0, 0.0, 0.0, 0.0, 0.0, 0.0, 0.0], [0.19932863116264343, 0.04206707328557968, 0.057157695293426514, 0.07193326205015182, 0.05065882205963135, 0.031524576246738434, 0.0271367896348238, 0.04140906035900116, 0.09322270005941391, 0.052022092044353485, 0.0254228338599205, 0.059279151260852814, 0.06613776832818985, 0.0958227664232254, 0.031632158905267715, 0.05524464324116707, 0.0, 0.0, 0.0, 0.0, 0.0, 0.0, 0.0, 0.0, 0.0, 0.0, 0.0, 0.0, 0.0, 0.0, 0.0, 0.0, 0.0, 0.0, 0.0], [0.23719795048236847, 0.03067580983042717, 0.0292084738612175, 0.058212414383888245, 0.06082985922694206, 0.03495608642697334, 0.02444053255021572, 0.07084918767213821, 0.05983855947852135, 0.03970345854759216, 0.05932588502764702, 0.0367523729801178, 0.07694029062986374, 0.06171642988920212, 0.014049726538360119, 0.06745626032352448, 0.037846639752388, 0.0, 0.0, 0.0, 0.0, 0.0, 0.0, 0.0, 0.0, 0.0, 0.0, 0.0, 0.0, 0.0, 0.0, 0.0, 0.0, 0.0, 0.0], [0.2499532252550125, 0.02662949077785015, 0.039317600429058075, 0.044632118195295334, 0.07087577879428864, 0.03409421816468239, 0.02126503549516201, 0.05726419389247894, 0.051796622574329376, 0.03503985330462456, 0.043922774493694305, 0.039228759706020355, 0.06155914068222046, 0.051224205642938614, 0.015611971728503704, 0.08278116583824158, 0.038917411118745804, 0.03588633984327316, 0.0, 0.0, 0.0, 0.0, 0.0, 0.0, 0.0, 0.0, 0.0, 0.0, 0.0, 0.0, 0.0, 0.0, 0.0, 0.0, 0.0], [0.2226979285478592, 0.026518123224377632, 0.03978952392935753, 0.027603991329669952, 0.08196068555116653, 0.03582965210080147, 0.015378954820334911, 0.06874661147594452, 0.05343088135123253, 0.05469822138547897, 0.05721571296453476, 0.031615279614925385, 0.03717071935534477, 0.052282970398664474, 0.011851186864078045, 0.0720609501004219, 0.030878283083438873, 0.024411160498857498, 0.055859167128801346, 0.0, 0.0, 0.0, 0.0, 0.0, 0.0, 0.0, 0.0, 0.0, 0.0, 0.0, 0.0, 0.0, 0.0, 0.0, 0.0], [0.07419285178184509, 0.05092697590589523, 0.028230944648385048, 0.03420005366206169, 0.03361427038908005, 0.05182218179106712, 0.009658366441726685, 0.049406129866838455, 0.09883322566747665, 0.053564801812171936, 0.024581875652074814, 0.058791834861040115, 0.013026788830757141, 0.10889024287462234, 0.015677116811275482, 0.04766634851694107, 0.06507278233766556, 0.038861699402332306, 0.03984261676669121, 0.10313883423805237, 0.0, 0.0, 0.0, 0.0, 0.0, 0.0, 0.0, 0.0, 0.0, 0.0, 0.0, 0.0, 0.0, 0.0, 0.0], [0.22614890336990356, 0.025769885629415512, 0.03336167708039284, 0.04034486040472984, 0.061168450862169266, 0.03166026249527931, 0.023036973550915718, 0.04815823584794998, 0.049641311168670654, 0.025703296065330505, 0.05132423713803291, 0.029225803911685944, 0.046272385865449905, 0.04679548740386963, 0.010471496731042862, 0.04346739128232002, 0.027977747842669487, 0.03356107696890831, 0.03209926187992096, 0.05562404543161392, 0.058187272399663925, 0.0, 0.0, 0.0, 0.0, 0.0, 0.0, 0.0, 0.0, 0.0, 0.0, 0.0, 0.0, 0.0, 0.0], [0.1944299042224884, 0.020005792379379272, 0.025669973343610764, 0.027610069140791893, 0.07351990044116974, 0.025118578225374222, 0.016428446397185326, 0.054433673620224, 0.044502679258584976, 0.022272871807217598, 0.0293312706053257, 0.030642641708254814, 0.06286600232124329, 0.0433916375041008, 0.01021600142121315, 0.09763482958078384, 0.02960142120718956, 0.028080463409423828, 0.037571635097265244, 0.05037401616573334, 0.06089739501476288, 0.015400814823806286, 0.0, 0.0, 0.0, 0.0, 0.0, 0.0, 0.0, 0.0, 0.0, 0.0, 0.0, 0.0, 0.0], [0.19766588509082794, 0.041157498955726624, 0.03360120207071304, 0.023870175704360008, 0.06633445620536804, 0.02801698073744774, 0.01958294026553631, 0.051785632967948914, 0.03159147500991821, 0.02653614431619644, 0.04164314642548561, 0.02575797401368618, 0.043284088373184204, 0.029939455911517143, 0.01275031641125679, 0.056069135665893555, 0.024677332490682602, 0.02150592766702175, 0.04559293016791344, 0.07480885088443756, 0.0443340539932251, 0.021997373551130295, 0.037497032433748245, 0.0, 0.0, 0.0, 0.0, 0.0, 0.0, 0.0, 0.0, 0.0, 0.0, 0.0, 0.0], [0.18043571710586548, 0.023349842056632042, 0.023929748684167862, 0.04454167187213898, 0.04070594161748886, 0.03654099628329277, 0.01661658100783825, 0.05323561653494835, 0.05028393119573593, 0.02584688737988472, 0.046051669865846634, 0.024920551106333733, 0.03976093977689743, 0.04893423616886139, 0.012390012852847576, 0.06191657856106758, 0.02396532893180847, 0.028754495084285736, 0.025095408782362938, 0.06865916401147842, 0.07357665151357651, 0.018046909943223, 0.022800743579864502, 0.009640375152230263, 0.0, 0.0, 0.0, 0.0, 0.0, 0.0, 0.0, 0.0, 0.0, 0.0, 0.0], [0.242463618516922, 0.024696452543139458, 0.038688261061906815, 0.03357231244444847, 0.054766204208135605, 0.03380467742681503, 0.020721614360809326, 0.03275461867451668, 0.04349980130791664, 0.018562650308012962, 0.03646848723292351, 0.03100249171257019, 0.038625482469797134, 0.03993180766701698, 0.010727163404226303, 0.03831769526004791, 0.029280316084623337, 0.02467813715338707, 0.027889318764209747, 0.045021574944257736, 0.04307598993182182, 0.016905823722481728, 0.023586304858326912, 0.007298626936972141, 0.04366062209010124, 0.0, 0.0, 0.0, 0.0, 0.0, 0.0, 0.0, 0.0, 0.0, 0.0], [0.11111285537481308, 0.029458755627274513, 0.024559462442994118, 0.030902506783604622, 0.033864833414554596, 0.03363065421581268, 0.01283144298940897, 0.03066926635801792, 0.06390532851219177, 0.023481523618102074, 0.025704598054289818, 0.03766980394721031, 0.01616786979138851, 0.06660737842321396, 0.017231764271855354, 0.030658656731247902, 0.03924046829342842, 0.024295249953866005, 0.026388786733150482, 0.05864023417234421, 0.10666143894195557, 0.017623892053961754, 0.024245450273156166, 0.01827959530055523, 0.0367501825094223, 0.05941801518201828, 0.0, 0.0, 0.0, 0.0, 0.0, 0.0, 0.0, 0.0, 0.0], [0.17855210602283478, 0.0437387190759182, 0.02777228318154812, 0.03288247808814049, 0.08083150535821915, 0.036148544400930405, 0.01943814754486084, 0.036047134548425674, 0.0315406359732151, 0.02228383533656597, 0.026742074638605118, 0.020272960886359215, 0.04929489269852638, 0.028057042509317398, 0.010035556741058826, 0.028219003230333328, 0.018526626750826836, 0.025377938523888588, 0.03921228647232056, 0.05273989215493202, 0.024735094979405403, 0.028674788773059845, 0.029405998066067696, 0.013893150724470615, 0.01760646514594555, 0.056487344205379486, 0.02148347534239292, 0.0, 0.0, 0.0, 0.0, 0.0, 0.0, 0.0, 0.0], [0.15546514093875885, 0.0491693839430809, 0.02451593615114689, 0.0257005225867033, 0.05483132600784302, 0.04209273308515549, 0.011645038612186909, 0.06493964046239853, 0.031219758093357086, 0.02656279131770134, 0.02832685224711895, 0.018289050087332726, 0.03490861505270004, 0.02966100163757801, 0.008558589965105057, 0.04665045440196991, 0.017669811844825745, 0.023724377155303955, 0.01903873309493065, 0.07715761661529541, 0.027307378128170967, 0.019747735932469368, 0.024364128708839417, 0.014429948292672634, 0.018928352743387222, 0.05850561708211899, 0.024364048615098, 0.02222544141113758, 0.0, 0.0, 0.0, 0.0, 0.0, 0.0, 0.0], [0.19332922995090485, 0.02629835531115532, 0.030392495915293694, 0.029611892998218536, 0.04520164430141449, 0.03307906910777092, 0.021840760484337807, 0.02659415453672409, 0.045382823795080185, 0.03843946382403374, 0.026915382593870163, 0.02453509345650673, 0.015795717015862465, 0.04036761820316315, 0.010634268634021282, 0.02634548768401146, 0.022409789264202118, 0.01994604431092739, 0.04401850327849388, 0.06709348410367966, 0.033454738557338715, 0.01608494110405445, 0.0256158709526062, 0.011409520171582699, 0.013623223640024662, 0.04055490717291832, 0.016662973910570145, 0.03589889034628868, 0.018463708460330963, 0.0, 0.0, 0.0, 0.0, 0.0, 0.0], [0.1596519500017166, 0.018642352893948555, 0.026677720248699188, 0.02804783545434475, 0.04907772317528725, 0.0260456632822752, 0.01780771091580391, 0.03679423779249191, 0.04596942290663719, 0.019110888242721558, 0.037963178008794785, 0.02762063965201378, 0.02834104187786579, 0.04296436533331871, 0.008847586810588837, 0.03253019228577614, 0.02565997652709484, 0.024485107511281967, 0.029966218397021294, 0.04054068401455879, 0.042335059493780136, 0.017694558948278427, 0.021217692643404007, 0.006380944047123194, 0.03103392757475376, 0.03557970002293587, 0.025066185742616653, 0.026607496663928032, 0.02430843375623226, 0.04303152114152908, 0.0, 0.0, 0.0, 0.0, 0.0], [0.1966170370578766, 0.019791385158896446, 0.0330333411693573, 0.025687076151371002, 0.04220607131719589, 0.03137582167983055, 0.01624363474547863, 0.030698416754603386, 0.036294274032115936, 0.026839343830943108, 0.026712186634540558, 0.023046307265758514, 0.021950097754597664, 0.03344837203621864, 0.010305734351277351, 0.022743644192814827, 0.021480778232216835, 0.021094733849167824, 0.03149039298295975, 0.03692729026079178, 0.037232112139463425, 0.01542199682444334, 0.019252348691225052, 0.0073204925283789635, 0.024766921997070312, 0.044391680508852005, 0.019850723445415497, 0.026133669540286064, 0.01812446303665638, 0.042709071189165115, 0.03681057319045067, 0.0, 0.0, 0.0, 0.0], [0.16313208639621735, 0.022932473570108414, 0.02958366647362709, 0.028615480288863182, 0.03778465837240219, 0.02651870623230934, 0.02622901275753975, 0.031034138053655624, 0.03483205288648605, 0.018975617364048958, 0.03320293501019478, 0.02643595263361931, 0.03230735659599304, 0.0313292033970356, 0.01172788068652153, 0.027169134467840195, 0.024106504395604134, 0.0226203054189682, 0.025755560025572777, 0.03801415115594864, 0.03207404166460037, 0.017354251816868782, 0.017987217754125595, 0.009293687529861927, 0.04247136414051056, 0.031215844675898552, 0.019006578251719475, 0.021523457020521164, 0.01754118502140045, 0.040145184844732285, 0.018160773441195488, 0.04091951996088028, 0.0, 0.0, 0.0], [0.15803848206996918, 0.016828810796141624, 0.02064237929880619, 0.04538252577185631, 0.046641744673252106, 0.027835233137011528, 0.020206505432724953, 0.04211510717868805, 0.037034470587968826, 0.01774459145963192, 0.030353322625160217, 0.02471362240612507, 0.03428488224744797, 0.03341371566057205, 0.009082168340682983, 0.03521376848220825, 0.022280117496848106, 0.020849991589784622, 0.027390209957957268, 0.03231460601091385, 0.037649232894182205, 0.014920785091817379, 0.01655367948114872, 0.006309073884040117, 0.02321873977780342, 0.027949871495366096, 0.02383226528763771, 0.015323556959629059, 0.017670491710305214, 0.026815267279744148, 0.022188853472471237, 0.028694553300738335, 0.03650736063718796, 0.0, 0.0], [0.17019405961036682, 0.032125916332006454, 0.029870105907320976, 0.019615575671195984, 0.05489381030201912, 0.03622058033943176, 0.017152203246951103, 0.032326605170965195, 0.031500689685344696, 0.029624534770846367, 0.029094276949763298, 0.016624264419078827, 0.02998979389667511, 0.027614131569862366, 0.010949769988656044, 0.034366536885499954, 0.014830091968178749, 0.015176068060100079, 0.030502907931804657, 0.04159746319055557, 0.020641211420297623, 0.017041226848959923, 0.02617543749511242, 0.010538815520703793, 0.007441796828061342, 0.0343913733959198, 0.026077093556523323, 0.02961564250290394, 0.013693022541701794, 0.018074290826916695, 0.03374851867556572, 0.029002608731389046, 0.013117281720042229, 0.01617228053510189, 0.0], [0.11417392641305923, 0.016700679436326027, 0.02357623167335987, 0.03235283121466637, 0.05511362478137016, 0.029616650193929672, 0.017176374793052673, 0.059527866542339325, 0.038434240967035294, 0.020421097055077553, 0.03235999867320061, 0.019217437133193016, 0.019135119393467903, 0.03519751504063606, 0.010996293276548386, 0.044014446437358856, 0.016835954040288925, 0.01621249131858349, 0.0238405242562294, 0.042316604405641556, 0.03716840595006943, 0.009007315151393414, 0.015979541465640068, 0.005828781519085169, 0.02082640863955021, 0.028255825862288475, 0.03160591423511505, 0.024252017959952354, 0.02328527718782425, 0.019917484372854233, 0.02455977164208889, 0.02195737138390541, 0.013193149119615555, 0.02020878531038761, 0.03673401474952698]]]}\n",
              "    )\n",
              "    </script>"
            ]
          },
          "metadata": {}
        }
      ],
      "source": [
        "import circuitsvis as cv\n",
        "from IPython.display import display\n",
        "\n",
        "html = cv.attention.attention_patterns(\n",
        "    tokens=reference_gpt2.to_str_tokens(reference_text),\n",
        "    attention=cache[\"pattern\", 0][0]\n",
        ")\n",
        "display(html)"
      ]
    },
    {
      "cell_type": "markdown",
      "metadata": {
        "id": "vcT1uWPGfHN2"
      },
      "source": [
        "You can also use the `attention_heads` function, which has similar syntax but presents the information in a different (sometimes more helpful) way.\n"
      ]
    },
    {
      "cell_type": "markdown",
      "metadata": {
        "id": "yMqCi5OYfHN2"
      },
      "source": [
        "<details>\n",
        "<summary>Help - my <code>attention_heads</code> plots are behaving weirdly.</summary>\n",
        "\n",
        "This seems to be a bug in `circuitsvis` - on VSCode, the attention head plots continually shrink in size.\n",
        "\n",
        "Until this is fixed, one way to get around it is to open the plots in your browser. You can do this inline with the `webbrowser` library:\n",
        "\n",
        "```python\n",
        "attn_heads = cv.attention.attention_heads(\n",
        "    tokens=reference_gpt2.to_str_tokens(reference_text),\n",
        "    attention=cache[\"pattern\", 0][0]\n",
        ")\n",
        "\n",
        "path = \"attn_heads.html\"\n",
        "\n",
        "with open(path, \"w\") as f:\n",
        "    f.write(str(attn_heads))\n",
        "\n",
        "webbrowser.open(path)\n",
        "```\n",
        "\n",
        "To check exactly where this is getting saved, you can print your current working directory with `os.getcwd()`.\n",
        "</details>\n"
      ]
    },
    {
      "cell_type": "markdown",
      "metadata": {
        "id": "972Ltv3vtDOH"
      },
      "source": [
        "---\n",
        "\n",
        "Note - don't worry if you don't get 100% accuracy here; the tests are pretty stringent. Even things like having your `einsum` input arguments in a different order might result in the output being very slightly different. You should be getting at least 99% accuracy though, so if the value is lower then this it probably means you've made a mistake somewhere.\n",
        "\n",
        "Also, this implementation will probably be the most challenging exercise on this page, so don't worry if it takes you some time! You should look at parts of the solution if you're stuck.\n"
      ]
    },
    {
      "cell_type": "markdown",
      "metadata": {
        "id": "CeWonT0afHN2"
      },
      "source": [
        "A couple of notes / hints:\n",
        "\n",
        "* Don't forget the attention score scaling (this should come before the masking).\n",
        "* You can use `torch.where`, or the `torch.masked_fill` function when masking the attention scores.\n",
        "* The `\"IGNORE\"` buffer is a very large negative number. This is the value you should mask your attention scores with (i.e. set them to this number wherever you want the probabilities to be zero). We indicate the existence of a `self.IGNORE` attribute to VSCode's typechecker via the line `IGNORE: Float[Tensor, \"\"]` in the second line of the code below.\n"
      ]
    },
    {
      "cell_type": "code",
      "execution_count": 24,
      "metadata": {
        "id": "wNOKYkvom4R_",
        "colab": {
          "base_uri": "https://localhost:8080/"
        },
        "outputId": "b9d73421-8592-4550-9a89-c93af0e30032"
      },
      "outputs": [
        {
          "output_type": "stream",
          "name": "stdout",
          "text": [
            "All tests in `test_causal_mask` passed!\n",
            "Input shape: torch.Size([2, 4, 768])\n",
            "Output shape: torch.Size([2, 4, 768]) \n",
            "\n",
            "Input shape: torch.Size([1, 35, 768])\n",
            "Output shape: torch.Size([1, 35, 768])\n",
            "Reference output shape: torch.Size([1, 35, 768]) \n",
            "\n",
            "100.00% of the values are correct\n",
            "\n"
          ]
        }
      ],
      "source": [
        "class Attention(nn.Module):\n",
        "    IGNORE: Float[Tensor, \"\"]\n",
        "\n",
        "    def __init__(self, cfg: Config):\n",
        "        super().__init__()\n",
        "        self.cfg = cfg\n",
        "        self.W_Q = nn.Parameter(t.empty((cfg.n_heads, cfg.d_model, cfg.d_head)))\n",
        "        self.W_K = nn.Parameter(t.empty((cfg.n_heads, cfg.d_model, cfg.d_head)))\n",
        "        self.W_V = nn.Parameter(t.empty((cfg.n_heads, cfg.d_model, cfg.d_head)))\n",
        "        self.W_O = nn.Parameter(t.empty((cfg.n_heads, cfg.d_head, cfg.d_model)))\n",
        "        self.b_Q = nn.Parameter(t.zeros((cfg.n_heads, cfg.d_head)))\n",
        "        self.b_K = nn.Parameter(t.zeros((cfg.n_heads, cfg.d_head)))\n",
        "        self.b_V = nn.Parameter(t.zeros((cfg.n_heads, cfg.d_head)))\n",
        "        self.b_O = nn.Parameter(t.zeros((cfg.d_model)))\n",
        "        nn.init.normal_(self.W_Q, std=self.cfg.init_range)\n",
        "        nn.init.normal_(self.W_K, std=self.cfg.init_range)\n",
        "        nn.init.normal_(self.W_V, std=self.cfg.init_range)\n",
        "        nn.init.normal_(self.W_O, std=self.cfg.init_range)\n",
        "        self.register_buffer(\"IGNORE\", t.tensor(-1e5, dtype=t.float32, device=device))\n",
        "\n",
        "    def forward(\n",
        "        self, normalized_resid_pre: Float[Tensor, \"batch posn d_model\"]\n",
        "    ) -> Float[Tensor, \"batch posn d_model\"]:\n",
        "          # Calculate query, key and value vectors\n",
        "          Q = einops.einsum(normalized_resid_pre, self.W_Q, \"b s e, n e h -> b s n h\") + self.b_Q\n",
        "          K = einops.einsum(normalized_resid_pre, self.W_K, \"b s e, n e h -> b s n h\") + self.b_K\n",
        "          V = einops.einsum(normalized_resid_pre, self.W_V, \"b s e, n e h -> b s n h\") + self.b_V\n",
        "\n",
        "          # Calculate attention scores, then scale and mask, and apply softmax to get probabilities\n",
        "          attn_scores = einops.rearrange(Q, \"b s n h -> b n s h\") @ einops.rearrange(K, \"b s n h -> b n h s\")\n",
        "          scaled_attn_scores = attn_scores / (self.cfg.d_head ** 0.5)\n",
        "          masked_attn_scores = self.apply_causal_mask(scaled_attn_scores)\n",
        "          softmax_attn_scores = masked_attn_scores.softmax(dim=-1)\n",
        "\n",
        "          # Take weighted sum of value vectors, according to attention probabilities\n",
        "          weighted_sum = einops.einsum(softmax_attn_scores, V, \"b n s sk, b sk n h -> b s n h\")\n",
        "\n",
        "          # Calculate output (by applying matrix W_O and summing over heads, then adding bias b_O)\n",
        "          output = einops.einsum(weighted_sum, self.W_O, \"b s n h, n h e -> b s e\") + self.b_O\n",
        "\n",
        "          return output\n",
        "\n",
        "    def apply_causal_mask(\n",
        "        self, attn_scores: Float[Tensor, \"batch n_heads query_pos key_pos\"]\n",
        "    ) -> Float[Tensor, \"batch n_heads query_pos key_pos\"]:\n",
        "        '''\n",
        "        Applies a causal mask to attention scores, and returns masked scores.\n",
        "        '''\n",
        "        attn_mask = t.triu(attn_scores, diagonal=1) != 0\n",
        "        return attn_scores.masked_fill_(attn_mask, self.IGNORE)\n",
        "\n",
        "tests.test_causal_mask(Attention.apply_causal_mask)\n",
        "rand_float_test(Attention, [2, 4, 768])\n",
        "load_gpt2_test(Attention, reference_gpt2.blocks[0].attn, cache[\"normalized\", 0, \"ln1\"])"
      ]
    },
    {
      "cell_type": "markdown",
      "metadata": {
        "id": "Cn0_PpeKt3UT"
      },
      "source": [
        "<details>\n",
        "<summary>Hint (pseudocode for both functions)</summary>\n",
        "\n",
        "```python\n",
        "def forward(\n",
        "    self, normalized_resid_pre: Float[Tensor, \"batch posn d_model\"]\n",
        ") -> Float[Tensor, \"batch posn d_model\"]:\n",
        "\n",
        "    # Calculate query, key and value vectors\n",
        "\n",
        "    # Calculate attention scores, then scale and mask, and apply softmax to get probabilities\n",
        "\n",
        "    # Take weighted sum of value vectors, according to attention probabilities\n",
        "\n",
        "    # Calculate output (by applying matrix W_O and summing over heads, then adding bias b_O)\n",
        "\n",
        "\n",
        "def apply_causal_mask(\n",
        "        self, attn_scores: Float[Tensor, \"batch n_heads query_pos key_pos\"]\n",
        "    ) -> Float[Tensor, \"batch n_heads query_pos key_pos\"]:\n",
        "\n",
        "    # Define a mask that is True for all positions we want to set probabilities to zero for\n",
        "\n",
        "    # Apply the mask to attention scores, then return the masked scores\n",
        "```\n",
        "</details>\n",
        "\n"
      ]
    },
    {
      "cell_type": "markdown",
      "metadata": {
        "id": "5phgYX4Um4SA"
      },
      "source": [
        "## MLP\n",
        "\n",
        "```c\n",
        "Difficulty: 🔴🔴⚪⚪⚪\n",
        "Importance: 🔵🔵🔵🔵⚪\n",
        "\n",
        "You should spend up to 10-15 minutes on this exercise.\n",
        "```\n",
        "\n",
        "Next, you should implement the MLP layer, which consists of:\n",
        "\n",
        "* A linear layer, with weight `W_in`, bias `b_in`\n",
        "* A nonlinear function (we usually use GELU; the function `gelu_new` has been imported for this purpose)\n",
        "* A linear layer, with weight `W_out`, bias `b_out`\n"
      ]
    },
    {
      "cell_type": "code",
      "execution_count": 25,
      "metadata": {
        "id": "5ByI-Sj2m4SA",
        "colab": {
          "base_uri": "https://localhost:8080/"
        },
        "outputId": "5b8c6823-32dd-49c2-abf4-70f9cdda0480"
      },
      "outputs": [
        {
          "output_type": "stream",
          "name": "stdout",
          "text": [
            "Input shape: torch.Size([2, 4, 768])\n",
            "Output shape: torch.Size([2, 4, 768]) \n",
            "\n",
            "Input shape: torch.Size([1, 35, 768])\n",
            "Output shape: torch.Size([1, 35, 768])\n",
            "Reference output shape: torch.Size([1, 35, 768]) \n",
            "\n",
            "100.00% of the values are correct\n",
            "\n"
          ]
        }
      ],
      "source": [
        "class MLP(nn.Module):\n",
        "    def __init__(self, cfg: Config):\n",
        "        super().__init__()\n",
        "        self.cfg = cfg\n",
        "        self.W_in = nn.Parameter(t.empty((cfg.d_model, cfg.d_mlp)))\n",
        "        self.W_out = nn.Parameter(t.empty((cfg.d_mlp, cfg.d_model)))\n",
        "        self.b_in = nn.Parameter(t.zeros((cfg.d_mlp)))\n",
        "        self.b_out = nn.Parameter(t.zeros((cfg.d_model)))\n",
        "        nn.init.normal_(self.W_in, std=self.cfg.init_range)\n",
        "        nn.init.normal_(self.W_out, std=self.cfg.init_range)\n",
        "\n",
        "    def forward(\n",
        "        self, normalized_resid_mid: Float[Tensor, \"batch posn d_model\"]\n",
        "    ) -> Float[Tensor, \"batch posn d_model\"]:\n",
        "        hidden_layer = gelu_new(normalized_resid_mid @ self.W_in + self.b_in)\n",
        "        return hidden_layer @ self.W_out + self.b_out\n",
        "\n",
        "rand_float_test(MLP, [2, 4, 768])\n",
        "load_gpt2_test(MLP, reference_gpt2.blocks[0].mlp, cache[\"normalized\", 0, \"ln2\"])"
      ]
    },
    {
      "cell_type": "markdown",
      "metadata": {
        "id": "wZWuD4I4m4SA"
      },
      "source": [
        "## Transformer Block\n",
        "\n",
        "```c\n",
        "Difficulty: 🔴🔴⚪⚪⚪\n",
        "Importance: 🔵🔵🔵⚪⚪\n",
        "\n",
        "You should spend up to ~10 minutes on this exercise.\n",
        "```\n",
        "\n",
        "Now, we can put together the attention, MLP and layernorms into a single transformer block. Remember to implement the residual connections correctly!\n"
      ]
    },
    {
      "cell_type": "code",
      "execution_count": 26,
      "metadata": {
        "id": "ffiFxAJzm4SA",
        "colab": {
          "base_uri": "https://localhost:8080/"
        },
        "outputId": "0887d111-0482-4955-b755-8b0cfb5f8227"
      },
      "outputs": [
        {
          "output_type": "stream",
          "name": "stdout",
          "text": [
            "Input shape: torch.Size([2, 4, 768])\n",
            "Output shape: torch.Size([2, 4, 768]) \n",
            "\n",
            "Input shape: torch.Size([1, 35, 768])\n",
            "Output shape: torch.Size([1, 35, 768])\n",
            "Reference output shape: torch.Size([1, 35, 768]) \n",
            "\n",
            "100.00% of the values are correct\n",
            "\n"
          ]
        }
      ],
      "source": [
        "class TransformerBlock(nn.Module):\n",
        "    def __init__(self, cfg: Config):\n",
        "        super().__init__()\n",
        "        self.cfg = cfg\n",
        "        self.ln1 = LayerNorm(cfg)\n",
        "        self.attn = Attention(cfg)\n",
        "        self.ln2 = LayerNorm(cfg)\n",
        "        self.mlp = MLP(cfg)\n",
        "\n",
        "    def forward(\n",
        "        self, resid_pre: Float[Tensor, \"batch position d_model\"]\n",
        "    ) -> Float[Tensor, \"batch position d_model\"]:\n",
        "      resid_mid = resid_pre + self.attn(self.ln1(resid_pre))\n",
        "      return resid_mid + self.mlp(self.ln2(resid_mid))\n",
        "\n",
        "rand_float_test(TransformerBlock, [2, 4, 768])\n",
        "load_gpt2_test(TransformerBlock, reference_gpt2.blocks[0], cache[\"resid_pre\", 0])"
      ]
    },
    {
      "cell_type": "markdown",
      "metadata": {
        "id": "07tkfme7HUfk"
      },
      "source": [
        "<details>\n",
        "<summary>Help - I'm getting 100% accuracy on all modules before this point, but only about 90% accuracy on this one.</summary>\n",
        "\n",
        "This might be because your layernorm implementation divides by `std + eps` rather than `(var + eps).sqrt()`. The latter matches the implementation used by GPT-2 (and this error only shows up in these tests).\n",
        "\n",
        "</details>"
      ]
    },
    {
      "cell_type": "markdown",
      "metadata": {
        "id": "mgzAM-VQm4SA"
      },
      "source": [
        "## Unembedding\n",
        "\n",
        "```c\n",
        "Difficulty: 🔴🔴⚪⚪⚪\n",
        "Importance: 🔵🔵🔵⚪⚪\n",
        "\n",
        "You should spend up to ~10 minutes on this exercise.\n",
        "```\n",
        "\n",
        "The unembedding is just a linear layer (with weight `W_U` and bias `b_U`).\n"
      ]
    },
    {
      "cell_type": "code",
      "execution_count": 27,
      "metadata": {
        "id": "XEMB7p_Vm4SA",
        "colab": {
          "base_uri": "https://localhost:8080/"
        },
        "outputId": "d125b947-230d-4026-a1de-d274b9925381"
      },
      "outputs": [
        {
          "output_type": "stream",
          "name": "stdout",
          "text": [
            "Input shape: torch.Size([2, 4, 768])\n",
            "Output shape: torch.Size([2, 4, 50257]) \n",
            "\n",
            "Input shape: torch.Size([1, 35, 768])\n",
            "Output shape: torch.Size([1, 35, 50257])\n",
            "Reference output shape: torch.Size([1, 35, 50257]) \n",
            "\n",
            "100.00% of the values are correct\n",
            "\n"
          ]
        }
      ],
      "source": [
        "class Unembed(nn.Module):\n",
        "    def __init__(self, cfg):\n",
        "        super().__init__()\n",
        "        self.cfg = cfg\n",
        "        self.W_U = nn.Parameter(t.empty((cfg.d_model, cfg.d_vocab)))\n",
        "        nn.init.normal_(self.W_U, std=self.cfg.init_range)\n",
        "        self.b_U = nn.Parameter(t.zeros((cfg.d_vocab), requires_grad=False))\n",
        "\n",
        "    def forward(\n",
        "        self, normalized_resid_final: Float[Tensor, \"batch position d_model\"]\n",
        "    ) -> Float[Tensor, \"batch position d_vocab\"]:\n",
        "        return normalized_resid_final @ self.W_U + self.b_U\n",
        "\n",
        "rand_float_test(Unembed, [2, 4, 768])\n",
        "load_gpt2_test(Unembed, reference_gpt2.unembed, cache[\"ln_final.hook_normalized\"])"
      ]
    },
    {
      "cell_type": "markdown",
      "metadata": {
        "id": "_eRyuDxLm4SB"
      },
      "source": [
        "## Full Transformer\n",
        "\n",
        "```c\n",
        "Difficulty: 🔴🔴⚪⚪⚪\n",
        "Importance: 🔵🔵🔵⚪⚪\n",
        "\n",
        "You should spend up to ~10 minutes on this exercise.\n",
        "```\n"
      ]
    },
    {
      "cell_type": "code",
      "execution_count": 28,
      "metadata": {
        "id": "KCCrXlzYm4SB",
        "colab": {
          "base_uri": "https://localhost:8080/"
        },
        "outputId": "20f551fe-14bd-4f14-9949-81d38ab2a97b"
      },
      "outputs": [
        {
          "output_type": "stream",
          "name": "stdout",
          "text": [
            "Input shape: torch.Size([2, 4])\n",
            "Output shape: torch.Size([2, 4, 50257]) \n",
            "\n",
            "Input shape: torch.Size([1, 45])\n",
            "Output shape: torch.Size([1, 45, 50257])\n",
            "Reference output shape: torch.Size([1, 45, 50257]) \n",
            "\n",
            "100.00% of the values are correct\n",
            "\n"
          ]
        }
      ],
      "source": [
        "class DemoTransformer(nn.Module):\n",
        "    def __init__(self, cfg: Config):\n",
        "        super().__init__()\n",
        "        self.cfg = cfg\n",
        "        self.embed = Embed(cfg)\n",
        "        self.pos_embed = PosEmbed(cfg)\n",
        "        self.blocks = nn.ModuleList([TransformerBlock(cfg) for _ in range(cfg.n_layers)])\n",
        "        self.ln_final = LayerNorm(cfg)\n",
        "        self.unembed = Unembed(cfg)\n",
        "\n",
        "    def forward(self, tokens: Int[Tensor, \"batch position\"]) -> Float[Tensor, \"batch position d_vocab\"]:\n",
        "        residual = self.embed(tokens) + self.pos_embed(tokens)\n",
        "        for block in self.blocks:\n",
        "          residual = block(residual)\n",
        "        return self.unembed(self.ln_final(residual))\n",
        "\n",
        "\n",
        "\n",
        "rand_int_test(DemoTransformer, [2, 4])\n",
        "load_gpt2_test(DemoTransformer, reference_gpt2, tokens)"
      ]
    },
    {
      "cell_type": "markdown",
      "metadata": {
        "id": "yNwh7R1em4SB"
      },
      "source": [
        "**Try it out!**\n"
      ]
    },
    {
      "cell_type": "code",
      "execution_count": 29,
      "metadata": {
        "id": "deE6uPlxm4SB"
      },
      "outputs": [],
      "source": [
        "demo_gpt2 = DemoTransformer(Config(debug=False)).to(device)\n",
        "demo_gpt2.load_state_dict(reference_gpt2.state_dict(), strict=False)\n",
        "\n",
        "demo_logits = demo_gpt2(tokens)"
      ]
    },
    {
      "cell_type": "markdown",
      "metadata": {
        "id": "gAhstai4m4SB"
      },
      "source": [
        "Let's take a test string, and calculate the loss!\n",
        "\n",
        "We're using the formula for **cross-entropy loss**. The cross entropy loss between a modelled distribution $Q$ and target distribution $P$ is:\n",
        "\n",
        "$$\n",
        "-\\sum_x P(x) \\log Q(x)\n",
        "$$\n",
        "\n",
        "In the case where $P$ is just the empirical distribution from target classes (i.e. $P(x^*) = 1$ for the correct class $x^*$) then this becomes:\n",
        "\n",
        "$$\n",
        "-\\log Q(x^*)\n",
        "$$\n",
        "\n",
        "in other words, the negative log prob of the true classification.\n"
      ]
    },
    {
      "cell_type": "code",
      "execution_count": 30,
      "metadata": {
        "id": "UtO9ZsL6m4SB",
        "colab": {
          "base_uri": "https://localhost:8080/"
        },
        "outputId": "d3a494ed-52ec-46fe-8f0d-b8fa6ace8da2"
      },
      "outputs": [
        {
          "output_type": "stream",
          "name": "stdout",
          "text": [
            "Avg cross entropy loss: 4.0442\n",
            "Avg cross entropy loss for uniform distribution: 10.824905\n",
            "Avg probability assigned to correct token: 0.098628\n"
          ]
        }
      ],
      "source": [
        "def get_log_probs(\n",
        "    logits: Float[Tensor, \"batch posn d_vocab\"],\n",
        "    tokens: Int[Tensor, \"batch posn\"]\n",
        ") -> Float[Tensor, \"batch posn-1\"]:\n",
        "\n",
        "    log_probs = logits.log_softmax(dim=-1)\n",
        "    # Get logprobs the first seq_len-1 predictions (so we can compare them with the actual next tokens)\n",
        "    log_probs_for_tokens = log_probs[:, :-1].gather(dim=-1, index=tokens[:, 1:].unsqueeze(-1)).squeeze(-1)\n",
        "\n",
        "    return log_probs_for_tokens\n",
        "\n",
        "\n",
        "pred_log_probs = get_log_probs(demo_logits, tokens)\n",
        "print(f\"Avg cross entropy loss: {-pred_log_probs.mean():.4f}\")\n",
        "print(f\"Avg cross entropy loss for uniform distribution: {math.log(demo_gpt2.cfg.d_vocab):4f}\")\n",
        "print(f\"Avg probability assigned to correct token: {pred_log_probs.exp().mean():4f}\")"
      ]
    },
    {
      "cell_type": "markdown",
      "metadata": {
        "id": "cOChhr71m4SC"
      },
      "source": [
        "We can also greedily generate text, by taking the most likely next token and continually appending it to our prompt before feeding it back into the model:\n"
      ]
    },
    {
      "cell_type": "code",
      "execution_count": 31,
      "metadata": {
        "id": "IPEmKN1Bm4SC",
        "colab": {
          "base_uri": "https://localhost:8080/",
          "height": 0,
          "referenced_widgets": [
            "05c41fb7abbc48fb867a55a7f919cee6",
            "d5667ae980244bd3b457990d0c0f167c",
            "427eb3d5faa74a93b9f0720c9c5e2b2d",
            "1dedb4cf0a644a2eb88b6dcf542f7c98",
            "768afeeb5d3c457f870d03377b1fc083",
            "11fb2c47b789459e8ca59ce220c3d9af",
            "f94411f132aa435faf782596184b98ae",
            "5849389c8a464eff93fdc40b644b28eb",
            "fadc7761fae7486bbc6c2b460fe62ee3",
            "f17907e14b6e4cbdb4948c163b426808",
            "fb1bbbd4159a4af583e8d99e903a4c04"
          ]
        },
        "outputId": "3f8c350a-70e4-4ef0-f6cd-eecd20b5fb10"
      },
      "outputs": [
        {
          "output_type": "display_data",
          "data": {
            "text/plain": [
              "  0%|          | 0/100 [00:00<?, ?it/s]"
            ],
            "application/vnd.jupyter.widget-view+json": {
              "version_major": 2,
              "version_minor": 0,
              "model_id": "05c41fb7abbc48fb867a55a7f919cee6"
            }
          },
          "metadata": {}
        },
        {
          "output_type": "stream",
          "name": "stdout",
          "text": [
            "The Total Perspective Vortex derives its picture of the whole Universe on the principle of the total perspective. The total perspective is the view of the whole Universe from the point of view of the observer. The total perspective is the view of the whole Universe from the point of view of the observer. The total perspective is the view of the whole Universe from the point of view of the observer. The total perspective is the view of the whole Universe from the point of view of the observer. The total perspective is the view of the whole Universe from the point of view of the observer. The\n"
          ]
        }
      ],
      "source": [
        "test_string = '''The Total Perspective Vortex derives its picture of the whole Universe on the principle of'''\n",
        "for i in tqdm(range(100)):\n",
        "    test_tokens = reference_gpt2.to_tokens(test_string).to(device)\n",
        "    demo_logits = demo_gpt2(test_tokens)\n",
        "    test_string += reference_gpt2.tokenizer.decode(demo_logits[-1, -1].argmax())\n",
        "\n",
        "print(test_string)"
      ]
    },
    {
      "cell_type": "markdown",
      "metadata": {
        "id": "tGrShZtp0O0E"
      },
      "source": [
        "In later sections, we'll learn to generate text in slightly more interesting ways than just argmaxing the output.\n"
      ]
    },
    {
      "cell_type": "markdown",
      "metadata": {
        "id": "QfeyG6NZm4SC"
      },
      "source": [
        "# 3️⃣ Training a Transformer\n"
      ]
    },
    {
      "cell_type": "markdown",
      "metadata": {
        "id": "RGFuGCKtnNy3"
      },
      "source": [
        "> ##### Learning objectives\n",
        ">\n",
        "> * Understand how to train a transformer from scratch\n",
        "> * Write a basic transformer training loop\n",
        "> * Interpret the transformer's falling cross entropy loss with reference to features of the training data (e.g. bigram frequencies)\n"
      ]
    },
    {
      "cell_type": "markdown",
      "metadata": {
        "id": "K6oZKflnnXgj"
      },
      "source": [
        "Now that we've built our transformer, and verified that it performs as expected when we load in weights, let's try training it from scratch!\n",
        "\n",
        "This is a lightweight demonstration of how you can actually train your own GPT-2 with this code! Here we train a tiny model on a tiny dataset, but it's fundamentally the same code for training a larger/more real model (though you'll need beefier GPUs and data parallelism to do it remotely efficiently, and fancier parallelism for much bigger ones).\n",
        "\n",
        "For our purposes, we'll train 2L 4 heads per layer model, with context length 256, for 10*200 steps of batch size 16, just to show what it looks like (and so the notebook doesn't melt your colab / machine!)."
      ]
    },
    {
      "cell_type": "markdown",
      "metadata": {
        "id": "-VB5ELjInZzj"
      },
      "source": [
        "## Create Model"
      ]
    },
    {
      "cell_type": "code",
      "execution_count": 32,
      "metadata": {
        "id": "4TMr-rMQnayL"
      },
      "outputs": [],
      "source": [
        "model_cfg = Config(\n",
        "    debug=False,\n",
        "    d_model=256,\n",
        "    n_heads=4,\n",
        "    d_head=64,\n",
        "    d_mlp=1024,\n",
        "    n_layers=2,\n",
        "    n_ctx=256,\n",
        "    d_vocab=reference_gpt2.cfg.d_vocab\n",
        ")\n",
        "model = DemoTransformer(model_cfg)"
      ]
    },
    {
      "cell_type": "markdown",
      "metadata": {
        "id": "ggSGeTT_nb5Z"
      },
      "source": [
        "## Training Args\n",
        "\n",
        "\n",
        "Note, for this optimization we'll be using **weight decay**."
      ]
    },
    {
      "cell_type": "code",
      "execution_count": 33,
      "metadata": {
        "id": "95hodhD_ndRy"
      },
      "outputs": [],
      "source": [
        "@dataclass\n",
        "class TransformerTrainingArgs():\n",
        "\tbatch_size = 16\n",
        "\tepochs = 10\n",
        "\tmax_steps_per_epoch = 200\n",
        "\tlr = 1e-3\n",
        "\tweight_decay = 1e-2\n",
        "\twandb_project: Optional[str] = \"day1-demotransformer\"\n",
        "\twandb_name: Optional[str] = None\n",
        "\n",
        "\n",
        "args = TransformerTrainingArgs()"
      ]
    },
    {
      "cell_type": "markdown",
      "metadata": {
        "id": "lR8gVegcnfW2"
      },
      "source": [
        "## Create Data\n",
        "\n",
        "We load in a tiny dataset made by Neel Nanda, with the first 10K entries in the Pile (inspired by Stas' version for OpenWebText!)"
      ]
    },
    {
      "cell_type": "code",
      "execution_count": 34,
      "metadata": {
        "id": "9udsnznsnik8",
        "colab": {
          "base_uri": "https://localhost:8080/",
          "height": 234,
          "referenced_widgets": [
            "8936d518fba2407ab95c9f5e86725f01",
            "99c1ae8b444e44a4a6adafc4c7f91b09",
            "0c745d36d0834e1ca93bc62d93516d29",
            "b66e1c3c9bb743c3b5cf24755a083616",
            "d2964eedb7c045dfb7b5e0c6b899a0b1",
            "8c755110ca8f4e4bb38046692f4e3ad0",
            "b07e33fac0fb4d68842c0580298dd15a",
            "5dd0a2233bf94c638f0b3ae10f856a32",
            "39337222cdd744128594e44fd4255385",
            "def802efe7c54fd1944b4e894342064b",
            "88ac3178b4bc4c88b67b3ee98cf10076",
            "abafc7f125154c19ac0f9141de02556f",
            "fac0bbca76e949028e75132e68301a71",
            "54e351635490459cae63c665313d40de",
            "47b30be3c19a41dc8639f5b6d263d861",
            "ad3bee949c854a4fb659074254693235",
            "c06821f195d0430ba26288e2b2e21cd5",
            "a00c7720dee44d5da83737c73bad4f7f",
            "01ec578a481b483892d6bc9364961429",
            "3335e20c922344789cfae7fa6672bd65",
            "72dad03492194ec6914ebfc774ed5220",
            "5364b1a7cf2c4729b7a4d6b0d972714c",
            "dbf07e3329ff45f784d946782582a537",
            "68ada5445c6f4067ba8c14b9d458027e",
            "cc2fcec85d76451ab8570f5c6e7e7a2a",
            "f366f598384749379968856f3ab17851",
            "07dac388308d4a7789dd652415442ec0",
            "ce470e6d09104fc2b0ab9af5c73b1336",
            "cef1ed12f61349ffa6436a0e620fb7a4",
            "3c35c153ea7c4eba9cb3daf22c879a74",
            "9823ebd7e80a4ca58353ea3a795e4c3d",
            "6cdddd0c21ea4cbc8c84232cb26408be",
            "a7afb38dae1c48c7bb6179eaae9e390f",
            "09e7dcd9762f4ea193c5eb7fd28b3849",
            "6a269610c2014e569e587802a7e50c5c",
            "6ef88dd19d7f43399fbe60decedf1238",
            "407dfaeb304a4984b9089166928a6502",
            "8d557fa429144e6f913de6125710b8b5",
            "dd5aa12a59d9428781a394e701c9b69b",
            "442b83a658254ee5bffea52b4f32f4fe",
            "6bfcbe699a79435894bbec8e0d59de33",
            "2b35a9f887f341a7a2c04955843c1205",
            "28395ff326ff47ff9b074fb625679903",
            "618ba7e43d784143ad7d67ad0c0718b6"
          ]
        },
        "outputId": "777926b7-234e-40ea-ce24-62c7c52967ac"
      },
      "outputs": [
        {
          "output_type": "display_data",
          "data": {
            "text/plain": [
              "Downloading readme:   0%|          | 0.00/373 [00:00<?, ?B/s]"
            ],
            "application/vnd.jupyter.widget-view+json": {
              "version_major": 2,
              "version_minor": 0,
              "model_id": "8936d518fba2407ab95c9f5e86725f01"
            }
          },
          "metadata": {}
        },
        {
          "output_type": "display_data",
          "data": {
            "text/plain": [
              "Downloading metadata:   0%|          | 0.00/921 [00:00<?, ?B/s]"
            ],
            "application/vnd.jupyter.widget-view+json": {
              "version_major": 2,
              "version_minor": 0,
              "model_id": "abafc7f125154c19ac0f9141de02556f"
            }
          },
          "metadata": {}
        },
        {
          "output_type": "display_data",
          "data": {
            "text/plain": [
              "Downloading data:   0%|          | 0.00/33.3M [00:00<?, ?B/s]"
            ],
            "application/vnd.jupyter.widget-view+json": {
              "version_major": 2,
              "version_minor": 0,
              "model_id": "dbf07e3329ff45f784d946782582a537"
            }
          },
          "metadata": {}
        },
        {
          "output_type": "display_data",
          "data": {
            "text/plain": [
              "Generating train split:   0%|          | 0/10000 [00:00<?, ? examples/s]"
            ],
            "application/vnd.jupyter.widget-view+json": {
              "version_major": 2,
              "version_minor": 0,
              "model_id": "09e7dcd9762f4ea193c5eb7fd28b3849"
            }
          },
          "metadata": {}
        },
        {
          "output_type": "stream",
          "name": "stdout",
          "text": [
            "Dataset({\n",
            "    features: ['text'],\n",
            "    num_rows: 10000\n",
            "})\n",
            "It is done, and submitted. You can play “Survival of the Tastiest” on Android, and on the web. Playi\n"
          ]
        }
      ],
      "source": [
        "dataset = datasets.load_dataset(\"NeelNanda/pile-10k\", split=\"train\").remove_columns(\"meta\")\n",
        "print(dataset)\n",
        "print(dataset[0]['text'][:100])"
      ]
    },
    {
      "cell_type": "markdown",
      "metadata": {
        "id": "chj2r8J-njhC"
      },
      "source": [
        "`tokenize_and_concatenate` is a useful function which takes our dataset of strings, and returns a dataset of token IDs ready to feed into the model. We then create a dataloader from this tokenized dataset. The useful method `train_test_split` can give us a training and testing set.\n"
      ]
    },
    {
      "cell_type": "code",
      "execution_count": 35,
      "metadata": {
        "id": "mgogWcLUnk0U",
        "colab": {
          "base_uri": "https://localhost:8080/",
          "height": 176,
          "referenced_widgets": [
            "cc8a3caf3b9b43d0aa617ce24b298429",
            "285ca21e9e994e49a48e225fb4da5d48",
            "ff4d090202644aeaa22c1caf68720c89",
            "9727530de7414c50854df502e6482beb",
            "4cd520096e384f1893246537105ba07c",
            "106e4358ab8b4ae089048b4e2a66e6b4",
            "aeb3cac855f74a5cb2d6491c1a378209",
            "9a10d921d70047c8b8aaf9b8cf93cfd0",
            "08d88459561741b3a2fedc134eef2f0c",
            "d1c5a3310daf4c9297d66ebd2651528d",
            "d8509740b55c40fcb1ee6b6b8d7652dc"
          ]
        },
        "outputId": "13473a90-9249-42b6-9ceb-f7eb277af59c"
      },
      "outputs": [
        {
          "output_type": "display_data",
          "data": {
            "text/plain": [
              "Map (num_proc=4):   0%|          | 0/10000 [00:00<?, ? examples/s]"
            ],
            "application/vnd.jupyter.widget-view+json": {
              "version_major": 2,
              "version_minor": 0,
              "model_id": "cc8a3caf3b9b43d0aa617ce24b298429"
            }
          },
          "metadata": {}
        },
        {
          "output_type": "stream",
          "name": "stderr",
          "text": [
            "Token indices sequence length is longer than the specified maximum sequence length for this model (80023 > 1024). Running this sequence through the model will result in indexing errors\n",
            "Token indices sequence length is longer than the specified maximum sequence length for this model (101051 > 1024). Running this sequence through the model will result in indexing errors\n",
            "Token indices sequence length is longer than the specified maximum sequence length for this model (155995 > 1024). Running this sequence through the model will result in indexing errors\n",
            "Token indices sequence length is longer than the specified maximum sequence length for this model (229134 > 1024). Running this sequence through the model will result in indexing errors\n",
            "/usr/local/lib/python3.10/dist-packages/torch/utils/data/dataloader.py:558: UserWarning: This DataLoader will create 4 worker processes in total. Our suggested max number of worker in current system is 2, which is smaller than what this DataLoader is going to create. Please be aware that excessive worker creation might get DataLoader running slow or even freeze, lower the worker number to avoid potential slowness/freeze if necessary.\n",
            "  warnings.warn(_create_warning_msg(\n"
          ]
        }
      ],
      "source": [
        "tokenized_dataset = tokenize_and_concatenate(dataset, reference_gpt2.tokenizer, streaming=False, max_length=model.cfg.n_ctx, column_name=\"text\", add_bos_token=True, num_proc=4)\n",
        "\n",
        "dataset_dict = tokenized_dataset.train_test_split(test_size=1000)\n",
        "train_loader = DataLoader(dataset_dict[\"train\"], batch_size=args.batch_size, shuffle=True, num_workers=4, pin_memory=True)\n",
        "test_loader = DataLoader(dataset_dict[\"test\"], batch_size=args.batch_size, shuffle=False, num_workers=4, pin_memory=True)"
      ]
    },
    {
      "cell_type": "markdown",
      "metadata": {
        "id": "Fcx4oMaInlpi"
      },
      "source": [
        "When we iterate through these dataloaders, we will find dictionaries with the single key `'tokens'`, which maps to a tensor of token IDs with shape `(batch, seq_len)`."
      ]
    },
    {
      "cell_type": "code",
      "execution_count": 36,
      "metadata": {
        "id": "Y_Y7vD8BnqK-",
        "colab": {
          "base_uri": "https://localhost:8080/"
        },
        "outputId": "50c2dab5-03c7-4234-9090-7da11e2136b1"
      },
      "outputs": [
        {
          "output_type": "stream",
          "name": "stdout",
          "text": [
            "dict_keys(['tokens'])\n",
            "torch.Size([16, 256])\n"
          ]
        }
      ],
      "source": [
        "first_batch = train_loader.dataset[:args.batch_size]\n",
        "\n",
        "print(first_batch.keys())\n",
        "print(first_batch['tokens'].shape)"
      ]
    },
    {
      "cell_type": "markdown",
      "metadata": {
        "id": "hyjlKG-AnrZc"
      },
      "source": [
        "## Training Loop\n",
        "\n",
        "If you did the material on [training loops](https://arena-ch0-fundamentals.streamlit.app/[0.3]_ResNets#training-loop) during the first week, this should all be familiar to you. If not, you can skim that section for an overview of the key concepts. The start of the **Training loop** section is most important, and the subsections on [Modularisation](https://arena-ch0-fundamentals.streamlit.app/[0.3]_ResNets#modularisation) and [dataclasses](https://arena-ch0-fundamentals.streamlit.app/[0.3]_ResNets#aside-dataclasses) are also very useful. Lastly, we'll also be using Weights and Biases to train our model - you can read about how to use it [here](https://arena-ch0-fundamentals.streamlit.app/[0.4]_Optimization#what-is-weights-and-biases). Here are (roughly) all the things you should know for the following exercises:\n",
        "                \n",
        "* The key parts of a gradient update step are:\n",
        "    * Calculating the (cross-entropy) loss between a model's output and the true labels,\n",
        "    * `loss.backward()` - calculate gradients of the loss with respect to the model parameters,\n",
        "    * `optimizer.step()` - update the model parameters using the gradients,\n",
        "    * `optimizer.zero_grad()` - zero the gradients so they don't accumulate.\n",
        "* We can nicely package up training loops into a class, which includes methods for training and validation steps among other things. This helps with writing code that can be reused in different contexts.\n",
        "* We can use dataclasses to store all the arguments relevant to training in one place, and then pass them to our trainer class. Autocompletion is one nice bonus of this!\n",
        "    * Be careful of scope here, you want to make sure you're referring to `self.args` within the trainer class, rather than the global `args`.\n",
        "* You can use Weights and Biases to track experiments and log relevant variables. The three essential functions are:\n",
        "    * `wandb.init()` - initialize a new run, takes arguments `project`, `name` and `config` (among others).\n",
        "    * `wandb.log()` - log a dictionary of variables, e.g. `{\"loss\": loss}`. Also takes a `step` argument.\n",
        "    * `wandb.finish()` - called at the end of training (no arguments)."
      ]
    },
    {
      "cell_type": "markdown",
      "metadata": {
        "id": "tvM-W_TGnuoN"
      },
      "source": [
        "### Exercise - write training loop\n",
        "\n",
        "```c\n",
        "Difficulty: 🔴🔴🔴⚪⚪\n",
        "Importance: 🔵🔵🔵🔵⚪\n",
        "\n",
        "You should spend up to 10-20 minutes on this exercise.\n",
        "```"
      ]
    },
    {
      "cell_type": "markdown",
      "metadata": {
        "id": "2qbuJ4winvyY"
      },
      "source": [
        "You should fill in the methods below. Some guidance:\n",
        "\n",
        "* Remember we were able to calculate cross entropy loss using the `get_log_probs` function in the previous section.\n",
        "* You should use the optimizer `t.optim.AdamW` (Adam with weight decay), and with hyperparameters `lr` and `weight_decay` taken from your `TransformerTrainingArgs` dataclass instance.\n",
        "* The easiest way to compute accuracy is to have the `validation_step` method return a 1D boolean tensor indicating the positions where the model's prediction was correct. Then you can concatenate all these tensors together and take the mean to get the overall accuracy for the epoch.\n",
        "* We've given you the argument `max_steps_per_epoch`, a hacky way of making sure the training phase in each epoch doesn't go on for too long. You can terminate each training phase after this many steps.\n",
        "* Remember to move tokens to your device, via `tokens.to(device)` (this should be a global variable, defined at the top of your notebook).\n",
        "* You can refer back to the training loops from the [previous chapter of the course](https://arena-ch0-fundamentals.streamlit.app/[0.3]_ResNets#training-loop) if you'd like.\n"
      ]
    },
    {
      "cell_type": "code",
      "execution_count": 37,
      "metadata": {
        "id": "zVBEDTGMnxSk"
      },
      "outputs": [],
      "source": [
        "class TransformerTrainer:\n",
        "\tdef __init__(self, args: TransformerTrainingArgs, model: DemoTransformer):\n",
        "\t\tsuper().__init__()\n",
        "\t\tself.model = model\n",
        "\t\tself.args = args\n",
        "\t\tself.optimizer = t.optim.AdamW(self.model.parameters(), lr=args.lr, weight_decay=args.weight_decay)\n",
        "\t\tself.step = 0\n",
        "\n",
        "\n",
        "\tdef training_step(self, batch: Dict[str, Int[Tensor, \"batch seq\"]]) -> Float[Tensor, \"\"]:\n",
        "\t\t'''\n",
        "\t\tCalculates the loss on the tokens in the batch, performs a gradient update step, and logs the loss.\n",
        "\n",
        "\t\tRemember that `batch` is a dictionary with the single key 'tokens'.\n",
        "\t\t'''\n",
        "\t\tself.optimizer.zero_grad()\n",
        "\t\ttokens = batch[\"tokens\"].to(device)\n",
        "\t\toutput = self.model(tokens)\n",
        "\t\tloss = -get_log_probs(output, tokens).mean()\n",
        "\t\tloss.backward()\n",
        "\t\tself.optimizer.step()\n",
        "\t\tself.step += 1\n",
        "\t\twandb.log({\"train_loss\": loss}, step=self.step)\n",
        "\t\treturn loss\n",
        "\n",
        "\n",
        "\tdef validation_step(self, batch: Dict[str, Int[Tensor, \"batch seq\"]]):\n",
        "\t\t'''\n",
        "\t\tCalculates & returns the accuracy on the tokens in the batch (i.e. how often the model's prediction\n",
        "\t\tis correct). Logging should happen in the `train` function (after we've computed the accuracy for\n",
        "\t\tthe whole validation set).\n",
        "\t\t'''\n",
        "\t\twith t.inference_mode():\n",
        "\t\t\ttokens = batch[\"tokens\"].to(device)\n",
        "\t\t\tprediction = self.model(tokens)[:, :-1].argmax(dim=-1)\n",
        "\t \t\t# Context is only last 256\n",
        "\t\t\treturn (prediction == tokens[:, :1]).flatten()\n",
        "\n",
        "\n",
        "\tdef train(self):\n",
        "\t\t'''\n",
        "\t\tTrains the model, for `self.args.epochs` epochs. Also handles wandb initialisation, and early stopping\n",
        "\t\tfor each epoch at `self.args.max_steps_per_epoch` steps.\n",
        "\t\t'''\n",
        "\t\twandb.init(project=args.wandb_project, name=args.wandb_name, config=self.args)\n",
        "\n",
        "\t\tfor epoch in tqdm(range(self.args.epochs)):\n",
        "\t\t\tfor iteration, batch in enumerate(self.train_loader()):\n",
        "\t\t\t\tif iteration >= self.args.max_steps_per_epoch:\n",
        "\t\t\t\t\tbreak\n",
        "\t\t\t\tself.training_step(batch)\n",
        "\t\t\tprediction = t.concat([self.validation_step(batch) for batch in self.test_loader()])\n",
        "\t\t\taccuracy = prediction.float().mean().item()\n",
        "\t\t\twandb.log({\"accuracy\": accuracy}, step=self.step)\n",
        "\n",
        "\n",
        "\tdef train_loader(self) -> DataLoader:\n",
        "\t\t'''Returns train loader (as in code above).'''\n",
        "\t\treturn DataLoader(dataset_dict[\"train\"], batch_size=self.args.batch_size, shuffle=True, num_workers=4, pin_memory=True)\n",
        "\n",
        "\n",
        "\tdef test_loader(self) -> DataLoader:\n",
        "\t\t'''Returns test loader (as in code above).'''\n",
        "\t\treturn DataLoader(dataset_dict[\"test\"], batch_size=self.args.batch_size, shuffle=False, num_workers=4, pin_memory=True)"
      ]
    },
    {
      "cell_type": "markdown",
      "metadata": {
        "id": "yvyAODwP3D8K"
      },
      "source": [
        "Note - this section of the course used to use PyTorch Lightning, but this has now been taken out. You can see the old version of the training code which used PyTorch Lightning in the dropdown below.\n",
        "\n",
        "<details>\n",
        "<summary>PyTorch Lighting training loop</summary>\n",
        "\n",
        "```python\n",
        "class LitTransformer(pl.LightningModule):\n",
        "\tdef __init__(self, args: TransformerTrainingArgs, model: DemoTransformer, data_loader: DataLoader):\n",
        "\t\tsuper().__init__()\n",
        "\t\tself.model = model\n",
        "\t\tself.cfg = model.cfg\n",
        "\t\tself.args = args\n",
        "\t\tself.data_loader = data_loader\n",
        "\n",
        "\tdef forward(self, tokens: Int[Tensor, \"batch position\"]) -> Float[Tensor, \"batch position d_vocab\"]:\n",
        "\t\tlogits = self.model(tokens)\n",
        "\t\treturn logits\n",
        "\n",
        "\tdef training_step(self, batch: Dict[str, Tensor], batch_idx: int) -> Float[Tensor, \"\"]:\n",
        "\t\t'''\n",
        "\t\tHere you compute and return the training loss and some additional metrics for e.g.\n",
        "\t\tthe progress bar or logger.\n",
        "\t\t'''\n",
        "\t\ttokens = batch[\"tokens\"].to(device)\n",
        "\t\tlogits = self.model(tokens)\n",
        "\t\tloss = -get_log_probs(logits, tokens).mean()\n",
        "\t\tself.log(\"train_loss\", loss)\n",
        "\t\treturn loss\n",
        "\n",
        "\tdef configure_optimizers(self):\n",
        "\t\t'''\n",
        "\t\tChoose what optimizers and learning-rate schedulers to use in your optimization.\n",
        "\t\t'''\n",
        "\t\toptimizer = t.optim.AdamW(self.model.parameters(), lr=self.args.lr, weight_decay=self.args.weight_decay)\n",
        "\t\treturn optimizer\n",
        "\n",
        "\tdef train_dataloader(self):\n",
        "\t\treturn self.data_loader\n",
        "\n",
        "\n",
        "litmodel = LitTransformer(args, model, data_loader)\n",
        "logger = WandbLogger(save_dir=args.log_dir, project=args.log_name, name=args.run_name)\n",
        "\n",
        "trainer = pl.Trainer(\n",
        "    max_epochs=args.max_epochs,\n",
        "    logger=logger,\n",
        "    log_every_n_steps=args.log_every_n_steps\n",
        ")\n",
        "trainer.fit(model=litmodel, train_dataloaders=litmodel.data_loader)\n",
        "wandb.finish()\n",
        "```\n",
        "\n",
        "</details>"
      ]
    },
    {
      "cell_type": "code",
      "execution_count": 38,
      "metadata": {
        "id": "nWJyh1lon0IH",
        "colab": {
          "base_uri": "https://localhost:8080/",
          "height": 281,
          "referenced_widgets": [
            "7083bb1ecd49485c83b34f42ad6ad7dc",
            "516dc77881db42d9a21f6dd0472c80ee",
            "5f2a260908cd4f25a9f81feb8c1fe255",
            "73642d78ca1a47f7b24be37f7756f77b",
            "e90f114e603b42be99a90554dd755623",
            "8acd637f49f441d2a10c24e32570041b",
            "aa5be6b9959d403b82e28eb3a28342c2",
            "5165a75bf9c44c4aa02cbce4ed395458",
            "75d111899c9a4f4087cd6e25f479a3cc",
            "7f8fc50f8878478bbd90abcd4b38dda4",
            "35c0edb4bfd44c8db976f6e75bf0276b"
          ]
        },
        "outputId": "602ff330-79a2-412e-a222-aacc658240b0"
      },
      "outputs": [
        {
          "output_type": "display_data",
          "data": {
            "text/plain": [
              "<IPython.core.display.Javascript object>"
            ],
            "application/javascript": [
              "\n",
              "        window._wandbApiKey = new Promise((resolve, reject) => {\n",
              "            function loadScript(url) {\n",
              "            return new Promise(function(resolve, reject) {\n",
              "                let newScript = document.createElement(\"script\");\n",
              "                newScript.onerror = reject;\n",
              "                newScript.onload = resolve;\n",
              "                document.body.appendChild(newScript);\n",
              "                newScript.src = url;\n",
              "            });\n",
              "            }\n",
              "            loadScript(\"https://cdn.jsdelivr.net/npm/postmate/build/postmate.min.js\").then(() => {\n",
              "            const iframe = document.createElement('iframe')\n",
              "            iframe.style.cssText = \"width:0;height:0;border:none\"\n",
              "            document.body.appendChild(iframe)\n",
              "            const handshake = new Postmate({\n",
              "                container: iframe,\n",
              "                url: 'https://wandb.ai/authorize'\n",
              "            });\n",
              "            const timeout = setTimeout(() => reject(\"Couldn't auto authenticate\"), 5000)\n",
              "            handshake.then(function(child) {\n",
              "                child.on('authorize', data => {\n",
              "                    clearTimeout(timeout)\n",
              "                    resolve(data)\n",
              "                });\n",
              "            });\n",
              "            })\n",
              "        });\n",
              "    "
            ]
          },
          "metadata": {}
        },
        {
          "output_type": "stream",
          "name": "stderr",
          "text": [
            "\u001b[34m\u001b[1mwandb\u001b[0m: Logging into wandb.ai. (Learn how to deploy a W&B server locally: https://wandb.me/wandb-server)\n",
            "\u001b[34m\u001b[1mwandb\u001b[0m: You can find your API key in your browser here: https://wandb.ai/authorize\n",
            "wandb: Paste an API key from your profile and hit enter, or press ctrl+c to quit:"
          ]
        },
        {
          "name": "stdout",
          "output_type": "stream",
          "text": [
            " ··········\n"
          ]
        },
        {
          "output_type": "stream",
          "name": "stderr",
          "text": [
            "\u001b[34m\u001b[1mwandb\u001b[0m: Appending key for api.wandb.ai to your netrc file: /root/.netrc\n"
          ]
        },
        {
          "output_type": "display_data",
          "data": {
            "text/plain": [
              "<IPython.core.display.HTML object>"
            ],
            "text/html": [
              "Tracking run with wandb version 0.17.5"
            ]
          },
          "metadata": {}
        },
        {
          "output_type": "display_data",
          "data": {
            "text/plain": [
              "<IPython.core.display.HTML object>"
            ],
            "text/html": [
              "Run data is saved locally in <code>/content/wandb/run-20240804_181417-0f9yqczj</code>"
            ]
          },
          "metadata": {}
        },
        {
          "output_type": "display_data",
          "data": {
            "text/plain": [
              "<IPython.core.display.HTML object>"
            ],
            "text/html": [
              "Syncing run <strong><a href='https://wandb.ai/wanted/day1-demotransformer/runs/0f9yqczj' target=\"_blank\">pleasant-dragon-5</a></strong> to <a href='https://wandb.ai/wanted/day1-demotransformer' target=\"_blank\">Weights & Biases</a> (<a href='https://wandb.me/run' target=\"_blank\">docs</a>)<br/>"
            ]
          },
          "metadata": {}
        },
        {
          "output_type": "display_data",
          "data": {
            "text/plain": [
              "<IPython.core.display.HTML object>"
            ],
            "text/html": [
              " View project at <a href='https://wandb.ai/wanted/day1-demotransformer' target=\"_blank\">https://wandb.ai/wanted/day1-demotransformer</a>"
            ]
          },
          "metadata": {}
        },
        {
          "output_type": "display_data",
          "data": {
            "text/plain": [
              "<IPython.core.display.HTML object>"
            ],
            "text/html": [
              " View run at <a href='https://wandb.ai/wanted/day1-demotransformer/runs/0f9yqczj' target=\"_blank\">https://wandb.ai/wanted/day1-demotransformer/runs/0f9yqczj</a>"
            ]
          },
          "metadata": {}
        },
        {
          "output_type": "display_data",
          "data": {
            "text/plain": [
              "  0%|          | 0/10 [00:00<?, ?it/s]"
            ],
            "application/vnd.jupyter.widget-view+json": {
              "version_major": 2,
              "version_minor": 0,
              "model_id": "7083bb1ecd49485c83b34f42ad6ad7dc"
            }
          },
          "metadata": {}
        },
        {
          "output_type": "stream",
          "name": "stderr",
          "text": [
            "/usr/local/lib/python3.10/dist-packages/torch/utils/data/dataloader.py:558: UserWarning: This DataLoader will create 4 worker processes in total. Our suggested max number of worker in current system is 2, which is smaller than what this DataLoader is going to create. Please be aware that excessive worker creation might get DataLoader running slow or even freeze, lower the worker number to avoid potential slowness/freeze if necessary.\n",
            "  warnings.warn(_create_warning_msg(\n"
          ]
        }
      ],
      "source": [
        "model = DemoTransformer(model_cfg).to(device)\n",
        "args = TransformerTrainingArgs()\n",
        "trainer = TransformerTrainer(args, model)\n",
        "trainer.train()"
      ]
    },
    {
      "cell_type": "markdown",
      "metadata": {
        "id": "bypGwSMYn2Bl"
      },
      "source": [
        "When you run the code for the first time, you'll have to login to Weights and Biases, and paste an API key into VSCode. After this is done, your Weights and Biases training run will start. It'll give you a lot of output text, one line of which will look like:\n",
        "\n",
        "```\n",
        "View run at https://wandb.ai/<USERNAME>/<PROJECT-NAME>/runs/<RUN-NAME>\n",
        "```\n",
        "\n",
        "which you can click on to visit the run page.\n",
        "\n",
        "> Note - to see the plots more clearly in Weights and Biases, you can click on the **edit panel** of your plot (the small pencil symbol at the top-right), then move the **smoothing** slider to the right."
      ]
    },
    {
      "cell_type": "markdown",
      "metadata": {
        "id": "VLJL82W0oWzF"
      },
      "source": [
        "### A note on this loss curve (optional)\n",
        "\n",
        "\n",
        "What's up with the shape of our loss curve? It seems like we start at around 10-11, drops down very fast, but then levels out. It turns out, this is all to do with the kinds of algorithms the model learns during training.\n",
        "\n",
        "When it starts out, your model will be outputting random noise, which might look a lot like \"predict each token with approximately uniform probability\", i.e. $Q(x) = 1/d_\\text{vocab}$ for all $x$. This gives us a cross entropy loss of $\\log (d_\\text{vocab})$.\n",
        "\n"
      ]
    },
    {
      "cell_type": "code",
      "execution_count": 39,
      "metadata": {
        "id": "n0_NVezboOHw",
        "colab": {
          "base_uri": "https://localhost:8080/"
        },
        "outputId": "272170b3-30be-45ef-9b2d-085ee27a92bb"
      },
      "outputs": [
        {
          "output_type": "stream",
          "name": "stdout",
          "text": [
            "d_vocab = 50257\n",
            "Cross entropy loss on uniform distribution = 10.82490511970208\n"
          ]
        }
      ],
      "source": [
        "d_vocab = model.cfg.d_vocab\n",
        "\n",
        "print(f\"d_vocab = {d_vocab}\")\n",
        "print(f\"Cross entropy loss on uniform distribution = {math.log(d_vocab)}\")"
      ]
    },
    {
      "cell_type": "markdown",
      "metadata": {
        "id": "oLbVtVOYoQp5"
      },
      "source": [
        "The next thing we might expect the model to learn is the frequencies of words in the english language. After all, small common tokens like `\" and\"` or `\" the\"` might appear much more frequently than others. This would give us an average cross entropy loss of:\n",
        "\n",
        "$$\n",
        "- \\sum_x p_x \\log p_x\n",
        "$$\n",
        "\n",
        "where $p_x$ is the actual frequency of the word in our training data.\n",
        "\n",
        "We can evaluate this quantity as follows:"
      ]
    },
    {
      "cell_type": "code",
      "execution_count": 40,
      "metadata": {
        "id": "PYLIco76oSeX",
        "colab": {
          "base_uri": "https://localhost:8080/"
        },
        "outputId": "c721cfa1-4161-4303-b233-50ac1a049b8b"
      },
      "outputs": [
        {
          "output_type": "stream",
          "name": "stdout",
          "text": [
            "Entropy of training data = 7.349369525909424\n"
          ]
        }
      ],
      "source": [
        "toks = tokenized_dataset[:][\"tokens\"].flatten()\n",
        "\n",
        "d_vocab = model.cfg.d_vocab\n",
        "freqs = t.bincount(toks, minlength=d_vocab)\n",
        "probs = freqs.float() / freqs.sum()\n",
        "\n",
        "distn = t.distributions.categorical.Categorical(probs=probs)\n",
        "entropy = distn.entropy()\n",
        "\n",
        "print(f\"Entropy of training data = {entropy}\")"
      ]
    },
    {
      "cell_type": "markdown",
      "metadata": {
        "id": "cQwiLxr6oUUq"
      },
      "source": [
        "After unigram frequencies, the next thing our model usually learns is **bigram frequencies** (i.e. the frequency of pairs of adjacent tokens in the training data). For instance, `\"I\"` and `\" am\"` are common tokens, but their bigram frequency is much higher than it would be if they occurred independently. Bigram frequencies actually take you pretty far, since they also help with:\n",
        "\n",
        "* Some simple grammatical rules (e.g. a full stop being followed by a capitalized word)\n",
        "* Weird quirks of tokenization (e.g. `\" manip\"` being followed by `\"ulative\"`)\n",
        "* Common names (e.g. `\"Barack\"` being followed by `\" Obama\"`)\n",
        "\n",
        "\n",
        "After approximating bigram frequencies, we need to start using smarter techniques, like trigrams (which can only be implemented using attention heads), **induction heads** (which we'll learn a lot more about in the next set of exercises!), and fact memorization or more basic grammar and syntax rules. Marginal improvement starts getting a lot harder around here, leading to a flattening of our loss curve."
      ]
    },
    {
      "cell_type": "markdown",
      "metadata": {
        "id": "pA0KyYuAvs8g"
      },
      "source": [
        "### Exercise (optional) - log completions\n",
        "\n",
        "*Note - you might want to come back to this exercise after you understand how sampling works.*\n",
        "\n",
        "Choose a handle of prompts, and log the model's completions on those sentences. We recommend you do this with a lower frequency than loss is logged (e.g. once every 10-100 batches).\n",
        "\n",
        "The `wandb` syntax for logging text is pretty simple. Firstly, you can just print output as stdout and this is also logged to Weights & Biases (you can find it under the \"Logs\" section of your run). Alternatively, you can log data in the form of a table, and have it appear next to your other charts:\n",
        "\n",
        "```python\n",
        "wandb.log({\"completions_table\": wandb.Table(\n",
        "    data = data,\n",
        "    columns = [\"epoch\", \"step\", \"text\"]\n",
        ")})\n",
        "```\n",
        "\n",
        "where `data` is a list of length-3 lists, with each list containing (epoch, step, text). If you choose this option, we recommend logging the table less frequently than you're sampling from the model, to make sure you're not sending too much data (because unfortunately wandb doesn't have methods to incrementally update the table during logging).\n",
        "\n",
        "If you want to try this before going through the sampling exercises (which are quite long!), you can use the code below to sample output from the model. Note that the `TransformerSampler` object is already in inference mode, so you don't need to worry about this."
      ]
    },
    {
      "cell_type": "code",
      "execution_count": 41,
      "metadata": {
        "id": "-GVOVlqHvuh4",
        "colab": {
          "base_uri": "https://localhost:8080/"
        },
        "outputId": "30b5ff48-ba27-425b-866a-f80929ff27fd"
      },
      "outputs": [
        {
          "output_type": "stream",
          "name": "stdout",
          "text": [
            "John and Mary went to theartmentmarineandoWhich moon banner Knicks maneu majority protocolsoptedtaxhapslaught caliber Committee\n"
          ]
        }
      ],
      "source": [
        "def sampling_fn(model: DemoTransformer, prompt: str) -> str:\n",
        "    sampler = solutions.TransformerSampler(model, reference_gpt2.tokenizer)\n",
        "    output = sampler.sample(prompt, temperature=0.7, top_p=0.95, max_tokens_generated=16)\n",
        "    return output\n",
        "\n",
        "model = DemoTransformer(model_cfg).to(device)\n",
        "\n",
        "# Should be entirely random, because it uses a newly initialized model\n",
        "print(sampling_fn(model, prompt=\"John and Mary went to the\"))"
      ]
    },
    {
      "cell_type": "code",
      "execution_count": 42,
      "metadata": {
        "id": "3WeGuzYkvu2s"
      },
      "outputs": [],
      "source": [
        "# YOUR CODE HERE - rewrite train function, using text logging"
      ]
    },
    {
      "cell_type": "markdown",
      "metadata": {
        "id": "YtqvYaxmwTi7"
      },
      "source": [
        "You shouldn't expect to see perfect logical coherence from your model, but you should at least see that it respects basic word frequencies, and follows basic rules of grammar some of the time. Hopefully this gives some perspective on how difficult training a transformer can be!"
      ]
    },
    {
      "cell_type": "markdown",
      "metadata": {
        "id": "hrSd3-YnfHN9"
      },
      "source": [
        "# 4️⃣ Sampling from a Transformer\n"
      ]
    },
    {
      "cell_type": "markdown",
      "metadata": {
        "id": "LdezwBEFfHN9"
      },
      "source": [
        "> ##### Learning objectives\n",
        ">\n",
        "> * Learn how to sample from a transformer\n",
        ">     * This includes basic methods like greedy search or top-k, and more advanced methods like beam search\n",
        "> * Learn how to cache the output of a transformer, so that it can be used to generate text more efficiently\n",
        ">     * Optionally, rewrite your sampling functions to make use of your caching methods\n"
      ]
    },
    {
      "cell_type": "markdown",
      "metadata": {
        "id": "c7C6E0bFfHN9"
      },
      "source": [
        "One obvious method to sample tokens from a distribution would be to always take the token assigned the highest probability. But this can lead to some boring and repetitive outcomes, and at worst it can lock our transformer's output into a loop.\n",
        "\n",
        "First, you should read HuggingFace's blog post [How to generate text: using different decoding methods for language generation with Transformers](https://huggingface.co/blog/how-to-generate).\n",
        "\n",
        "Once you've done that, you can work through the `TransformerSampler` class below, and implement the different sampling methods. Each method will come with its own tests, and demo code for you to run.\n"
      ]
    },
    {
      "cell_type": "code",
      "execution_count": 43,
      "metadata": {
        "id": "aviyrTWefHN9"
      },
      "outputs": [],
      "source": [
        "model_cfg = Config()\n",
        "model = DemoTransformer(model_cfg).to(device)\n",
        "model.load_state_dict(reference_gpt2.state_dict(), strict=False)\n",
        "\n",
        "tokenizer = reference_gpt2.tokenizer"
      ]
    },
    {
      "cell_type": "code",
      "execution_count": 44,
      "metadata": {
        "id": "4p1szCj1fHN9"
      },
      "outputs": [],
      "source": [
        "class TransformerSampler:\n",
        "\n",
        "    def __init__(self, model: DemoTransformer, tokenizer: GPT2TokenizerFast):\n",
        "        self.model = model\n",
        "        self.cfg = model.cfg\n",
        "        self.tokenizer = tokenizer\n",
        "\n",
        "    @t.inference_mode()\n",
        "    def beam_search(\n",
        "        self,\n",
        "        prompt: str,\n",
        "        num_return_sequences: int,\n",
        "        num_beams: int,\n",
        "        max_new_tokens: int,\n",
        "        no_repeat_ngram_size: int = 0,\n",
        "        verbose=False\n",
        "    ) -> List[Tuple[float, t.Tensor]]:\n",
        "        '''\n",
        "        Returns a string of autoregressively generated text, starting from the prompt.\n",
        "\n",
        "        Sampling terminates at max_tokens_generated, or when the model generates an\n",
        "        end-of-sequence token.\n",
        "\n",
        "        kwargs are passed to sample_next_token, to give detailed instructions on how\n",
        "        new tokens are chosen.\n",
        "        '''\n",
        "        pass\n",
        "\n",
        "\n",
        "    @staticmethod\n",
        "    def sample_next_token(\n",
        "        input_ids: Int[Tensor, \"seq_len\"],\n",
        "        logits: Float[Tensor, \"seq_len d_vocab\"],\n",
        "        temperature=1.0,\n",
        "        top_k=0,\n",
        "        top_p=0.0,\n",
        "        frequency_penalty=0.0,\n",
        "        seed=None\n",
        "    ):\n",
        "        assert input_ids.ndim == 1, \"input_ids should be a 1D sequence of token ids\"\n",
        "        assert temperature >= 0, \"Temperature should be non-negative\"\n",
        "        assert 0 <= top_p <= 1.0, \"Top-p must be a probability\"\n",
        "        assert 0 <= top_k, \"Top-k must be non-negative\"\n",
        "        assert not (top_p != 0 and top_k != 0), \"At most one of top-p and top-k supported\"\n",
        "\n",
        "        # Set random seeds for reproducibility\n",
        "        if seed is not None:\n",
        "            t.manual_seed(seed)\n",
        "            np.random.seed(seed)\n",
        "\n",
        "        # Apply all the specialized sampling methods\n",
        "        if temperature == 0:\n",
        "            return TransformerSampler.greedy_search(logits)\n",
        "        elif temperature != 1.0:\n",
        "            logits = TransformerSampler.apply_temperature(logits, temperature)\n",
        "        if frequency_penalty != 0.0:\n",
        "            logits = TransformerSampler.apply_frequency_penalty(input_ids, logits, frequency_penalty)\n",
        "        if top_k > 0:\n",
        "            return TransformerSampler.sample_top_k(logits, top_k)\n",
        "        if top_p > 0.0:\n",
        "            return TransformerSampler.sample_top_p(logits, top_p)\n",
        "        return TransformerSampler.sample_basic(logits)\n",
        "\n",
        "\n",
        "    @staticmethod\n",
        "    def greedy_search(logits: Float[Tensor, \"d_vocab\"]) -> int:\n",
        "        '''\n",
        "        Returns the most likely token (as an int).\n",
        "        '''\n",
        "        out = logits.argmax().item()\n",
        "        return out"
      ]
    },
    {
      "cell_type": "markdown",
      "metadata": {
        "id": "lwA5ge9KfHN9"
      },
      "source": [
        "## Main Sampling Function\n",
        "\n",
        "The first thing you should do is implement the `sample` method.\n",
        "\n",
        "### Exercise - implement `sample`\n",
        "\n",
        "```c\n",
        "Difficulty: 🔴🔴🔴⚪⚪\n",
        "Importance: 🔵🔵🔵⚪⚪\n",
        "\n",
        "You should spend up to 20-25 minutes on this exercise.\n",
        "```\n",
        "\n",
        "This function takes in a prompt (in the form of a string), encodes it as a sequence of token ids using `self.tokenizer.encode`, and then continually generates new tokens by repeating the following steps:\n",
        "\n",
        "1. Passing the tokenized prompt through the model to get logits,\n",
        "2. Taking the logit vector corresponding to the last token in the prompt (i.e. the prediction for the *next* token),\n",
        "3. Sampling from this distribution to get a new token, using `self.sample_next_token(input_ids, logits, **kwargs)` (here, `kwargs` contains all the sampling-specific arguments, e.g. temperature, top-k, etc.),\n",
        "4. Appending this new token to the input tokens, and repeating the process until we meet one of two termination critera:\n",
        "    * We generate `max_tokens_generated` new tokens, or\n",
        "    * We generate the end-of-sequence token (which we can access via `self.tokenizer.eos_token_id`).\n",
        "\n",
        "Finally, we use `self.tokenizer.decode` to convert the generated token ids back into a string, and return this string.\n",
        "\n",
        "We also have a `verbose` argument - when this is true you can print your output while it's being sampled.\n",
        "\n",
        "Below is some code which tests your sampling function by performing greedy sampling (which means always choosing the most likely next token at each step).\n",
        "\n",
        "<details>\n",
        "<summary>Why does <code>temperature=0.0</code> correspond to greedy sampling?</summary>\n",
        "\n",
        "To apply a temperature to our sampling (as we'll see later) means to scale all logits by `(1 / temperature)`. The basic intuition here is:\n",
        "\n",
        "* A higher temperature means a smaller scale factor, so the logits all approach zero, i.e. uniform distribution, and the sampling process is a lot more random (producing more diverse and varied outputs)\n",
        "* A lower temperature means a larger scale factor, so the logits all approach infinity, i.e. a dirac delta function, and the sampling process is a lot more deterministic (producing less varied output)\n",
        "\n",
        "As temperature gets close to zero, the difference between the largest logit and second largest logit becomes very large, so the distribution tends to \"probability of 1 on the highest-likelihood token\", i.e. greedy sampling. You can derive this formally if you prefer.\n",
        "</details>\n",
        "\n",
        "A few hints:\n",
        "\n",
        "* Don't forget about tensor shapes! Your model's input should always have a batch dimension, i.e. it should be shape `(1, seq_len)`.\n",
        "* The `sample_next_token` method will return an integer, so make sure you wrap this in a tensor before concatenating it to the end of your input IDs.\n",
        "* Also remember to have your tensors be on the same device (we have a global `device` variable).\n",
        "* Remember to put your model in evaluation mode, using `model.eval()`.\n",
        "\n",
        "To be clear - the idea is for you to implement the `sample` method of the `TransformerSampler` class; you can do this by either editing the class definition directly or (if you want to avoid scrolling) define the `sample` function outside the class and then assign it via `TransformerSampler.sample = sample`."
      ]
    },
    {
      "cell_type": "code",
      "source": [
        "@t.inference_mode()\n",
        "def sample(self, prompt: str, max_tokens_generated=100, verbose=False, **kwargs):\n",
        "    '''\n",
        "    Returns a string of autoregressively generated text, starting from the prompt.\n",
        "\n",
        "    Sampling terminates at max_tokens_generated, or when the model generates an\n",
        "    end-of-sequence token.\n",
        "\n",
        "    kwargs are passed to sample_next_token, to give detailed instructions on how\n",
        "    new tokens are chosen.\n",
        "    '''\n",
        "    self.model.eval()\n",
        "\n",
        "    input_ids = t.tensor(self.tokenizer.encode(prompt), device=device)\n",
        "\n",
        "    for token_count in range(max_tokens_generated):\n",
        "      # Pad to (1, seq_len)\n",
        "      logits = self.model(input_ids[None])[0, -1]\n",
        "      next_token_id = self.sample_next_token(input_ids, logits, **kwargs)\n",
        "      if next_token_id == self.tokenizer.eos_token_id:\n",
        "        break\n",
        "      if verbose == True:\n",
        "        print(self.tokenizer.decode(next_token_id))\n",
        "      input_ids = t.cat((input_ids, t.tensor([next_token_id], device=device)))\n",
        "\n",
        "    return self.tokenizer.decode(input_ids)\n",
        "\n",
        "\n",
        "TransformerSampler.sample = sample"
      ],
      "metadata": {
        "id": "BaXmUAX1mIYS"
      },
      "execution_count": 45,
      "outputs": []
    },
    {
      "cell_type": "code",
      "execution_count": 46,
      "metadata": {
        "id": "loDmpBfmfHN9",
        "colab": {
          "base_uri": "https://localhost:8080/"
        },
        "outputId": "b87ee909-6196-4c12-fb61-7aededc98f84"
      },
      "outputs": [
        {
          "output_type": "stream",
          "name": "stdout",
          "text": [
            "Greedy decoding with prompt: 'Jingle bells, jingle bells, jingle all the way'\n",
            "\n",
            " up\n",
            " to\n",
            " the\n",
            " top\n",
            " of\n",
            " the\n",
            " mountain\n",
            ".\n",
            "Your model said: 'Jingle bells, jingle bells, jingle all the way up to the top of the mountain.'\n",
            "\n",
            "Tests passed!\n"
          ]
        }
      ],
      "source": [
        "sampler = TransformerSampler(model, tokenizer)\n",
        "\n",
        "prompt = \"Jingle bells, jingle bells, jingle all the way\"\n",
        "print(f\"Greedy decoding with prompt: {prompt!r}\\n\")\n",
        "\n",
        "output = sampler.sample(prompt, max_tokens_generated=8, temperature=0.0, verbose=True)\n",
        "print(f\"Your model said: {output!r}\\n\")\n",
        "\n",
        "expected = \"Jingle bells, jingle bells, jingle all the way up to the top of the mountain.\"\n",
        "assert output == expected\n",
        "\n",
        "print(\"Tests passed!\")"
      ]
    },
    {
      "cell_type": "markdown",
      "metadata": {
        "id": "aIx0p0MlfHN-"
      },
      "source": [
        "## Sampling with Categorical\n",
        "\n",
        "Now, we'll move into implementing specific sampling methods.\n",
        "\n",
        "PyTorch provides a [`distributions` package](https://pytorch.org/docs/stable/distributions.html#distribution) with a number of convenient methods for sampling from various distributions.\n",
        "\n",
        "For now, we just need [`t.distributions.categorical.Categorical`](https://pytorch.org/docs/stable/distributions.html#categorical). Use this to implement `sample_basic`, which just samples from the provided logits (which may have already been modified by the temperature and frequency penalties).\n",
        "\n",
        "Note that this will be slow since we aren't batching the samples, but don't worry about speed for now.\n"
      ]
    },
    {
      "cell_type": "markdown",
      "metadata": {
        "id": "DLjEUGqZfHN-"
      },
      "source": [
        "### Exercise - Basic Sampling\n",
        "\n",
        "```c\n",
        "Difficulty: 🔴🔴⚪⚪⚪\n",
        "Importance: 🔵🔵⚪⚪⚪\n",
        "\n",
        "You should spend up to 5-10 minutes on this exercise.\n",
        "```\n",
        "\n",
        "Implement basic sampling in the `TransformerSampler` class above, then run the code below to verify your solution works.\n"
      ]
    },
    {
      "cell_type": "code",
      "source": [
        "@staticmethod\n",
        "def sample_basic(logits: Float[Tensor, \"d_vocab\"]) -> int:\n",
        "    '''\n",
        "    Samples from the distribution defined by the logits.\n",
        "    '''\n",
        "    return t.distributions.categorical.Categorical(logits=logits).sample().item()\n",
        "\n",
        "\n",
        "TransformerSampler.sample_basic = sample_basic"
      ],
      "metadata": {
        "id": "s-bmnq0LjR8d"
      },
      "execution_count": 47,
      "outputs": []
    },
    {
      "cell_type": "code",
      "execution_count": 48,
      "metadata": {
        "id": "cSA2Sr0FfHN-",
        "colab": {
          "base_uri": "https://localhost:8080/",
          "height": 156,
          "referenced_widgets": [
            "e54818aaf9c644cdbd8ec510a92d93ad",
            "ebd6a41a10d54a69bb1beca1750de77d",
            "f28017410c7d456ab19eb78383f3e69f",
            "91f928652f6045ab8a0643f20fc7a8ec",
            "55c9e8cbbaa64d11b6b6e0ef12d8a45a",
            "71144ffba5dc4236aca1b889f77195d7",
            "8b6c041a01204936b4045b64ea896901",
            "7edfe105079f4e93ae51f73ecb80fbb9",
            "55b9d94f548d4e8580597c8b87e8d39e",
            "2ebc9f6511f34cd9aeec5813352218f0",
            "9072e9c989914f26980cd44e98e8b29f"
          ]
        },
        "outputId": "2c0f713d-40cd-4ed4-e059-67b85ddc009d"
      },
      "outputs": [
        {
          "output_type": "display_data",
          "data": {
            "text/plain": [
              "  0%|          | 0/10000 [00:00<?, ?it/s]"
            ],
            "application/vnd.jupyter.widget-view+json": {
              "version_major": 2,
              "version_minor": 0,
              "model_id": "e54818aaf9c644cdbd8ec510a92d93ad"
            }
          },
          "metadata": {}
        },
        {
          "output_type": "stream",
          "name": "stdout",
          "text": [
            "Word: ' church'. Expected freq 0.0648, observed freq 0.0647\n",
            "Word: ' house' . Expected freq 0.0367, observed freq 0.0398\n",
            "Word: ' temple'. Expected freq 0.0145, observed freq 0.0130\n",
            "Word: ' same'  . Expected freq 0.0104, observed freq 0.0098\n",
            "Word: ' Church'. Expected freq 0.0097, observed freq 0.0089\n",
            "Tests passed!\n"
          ]
        }
      ],
      "source": [
        "prompt = \"John and Mary went to the\"\n",
        "input_ids = tokenizer.encode(prompt, return_tensors=\"pt\").to(device)\n",
        "logits = model(input_ids)[0, -1]\n",
        "\n",
        "expected_top_5 = {\n",
        "    \" church\": 0.0648,\n",
        "    \" house\": 0.0367,\n",
        "    \" temple\": 0.0145,\n",
        "    \" same\": 0.0104,\n",
        "    \" Church\": 0.0097\n",
        "}\n",
        "frequency_of_top_5 = defaultdict(int)\n",
        "\n",
        "N = 10_000\n",
        "for _ in tqdm(range(N)):\n",
        "    token = TransformerSampler.sample_next_token(input_ids.squeeze(), logits)\n",
        "    frequency_of_top_5[tokenizer.decode(token)] += 1\n",
        "\n",
        "for word in expected_top_5:\n",
        "    expected_freq = expected_top_5[word]\n",
        "    observed_freq = frequency_of_top_5[word] / N\n",
        "    print(f\"Word: {word!r:<9}. Expected freq {expected_freq:.4f}, observed freq {observed_freq:.4f}\")\n",
        "    assert abs(observed_freq - expected_freq) < 0.01, \"Try increasing N if this fails by a small amount.\"\n",
        "\n",
        "print(\"Tests passed!\")"
      ]
    },
    {
      "cell_type": "markdown",
      "metadata": {
        "id": "lXLHfTYzfHN-"
      },
      "source": [
        "### Exercise - Temperature\n",
        "\n",
        "```c\n",
        "Difficulty: 🔴⚪⚪⚪⚪\n",
        "Importance: 🔵🔵⚪⚪⚪\n",
        "\n",
        "You should spend up to 5-10 minutes on this exercise.\n",
        "```\n",
        "\n",
        "Temperature sounds fancy, but it's literally just dividing the logits by the temperature. You should implement this in your `TransformerSampler` class now.\n"
      ]
    },
    {
      "cell_type": "code",
      "source": [
        "@staticmethod\n",
        "def apply_temperature(logits: Float[Tensor, \"d_vocab\"], temperature: float) -> Float[Tensor, \"d_vocab\"]:\n",
        "    '''\n",
        "    Applies temperature scaling to the logits.\n",
        "    '''\n",
        "    return logits / temperature\n",
        "\n",
        "\n",
        "TransformerSampler.apply_temperature = apply_temperature"
      ],
      "metadata": {
        "id": "3to6ZaV_kI0k"
      },
      "execution_count": 49,
      "outputs": []
    },
    {
      "cell_type": "code",
      "execution_count": 50,
      "metadata": {
        "id": "wph7hgyMfHN-",
        "colab": {
          "base_uri": "https://localhost:8080/"
        },
        "outputId": "f1b7b2f4-5e58-46d2-d97d-a4af57368c38"
      },
      "outputs": [
        {
          "output_type": "stream",
          "name": "stdout",
          "text": [
            "A low temperature \"sharpens\" or \"peaks\" the distribution:  tensor([  0.0000, 693.1472])\n",
            "A high temperature flattens the distribution:  tensor([0.0000, 0.0007])\n",
            "Tests passed!\n"
          ]
        }
      ],
      "source": [
        "logits = t.tensor([1, 2]).log()\n",
        "\n",
        "cold_logits = TransformerSampler.apply_temperature(logits, temperature=0.001)\n",
        "print('A low temperature \"sharpens\" or \"peaks\" the distribution: ', cold_logits)\n",
        "t.testing.assert_close(cold_logits, 1000.0 * logits)\n",
        "\n",
        "hot_logits = TransformerSampler.apply_temperature(logits, temperature=1000.0)\n",
        "print(\"A high temperature flattens the distribution: \", hot_logits)\n",
        "t.testing.assert_close(hot_logits, 0.001 * logits)\n",
        "\n",
        "print(\"Tests passed!\")"
      ]
    },
    {
      "cell_type": "markdown",
      "metadata": {
        "id": "aSf7Ipi1fHN-"
      },
      "source": [
        "<details>\n",
        "<summary>Question - what is the limit of applying 'sample_basic' after adjusting with temperature, when temperature goes to zero? How about when temperature goes to infinity?</summary>\n",
        "\n",
        "The limit when temperature goes to zero is greedy search (because dividing by a small number makes the logits very big, in other words the difference between the maximum logit one and all the others will grow).\n",
        "\n",
        "The limit when temperature goes to infinity is uniform random sampling over all words (because all logits will be pushed towards zero).\")\n",
        "</details>\n"
      ]
    },
    {
      "cell_type": "markdown",
      "metadata": {
        "id": "t8H7_bF-fHN_"
      },
      "source": [
        "### Exercise - Frequency Penalty\n",
        "\n",
        "```c\n",
        "Difficulty: 🔴🔴⚪⚪⚪\n",
        "Importance: 🔵⚪⚪⚪⚪\n",
        "\n",
        "You should spend up to 10-15 minutes on this exercise.\n",
        "```\n",
        "\n",
        "The frequency penalty is simple as well: count the number of occurrences of each token, then subtract `freq_penalty` for each occurrence. Hint: use `t.bincount` (documentation [here](https://pytorch.org/docs/stable/generated/torch.bincount.html)) to do this in a vectorized way.\n",
        "\n",
        "You should implement the `apply_frequency_penalty` method in your `TransformerSampler` class now, then run the cell below to check your solution.\n"
      ]
    },
    {
      "cell_type": "markdown",
      "metadata": {
        "id": "6i5tF4StfHN_"
      },
      "source": [
        "<details>\n",
        "<summary>Help - I'm getting a <code>RuntimeError</code>; my tensor sizes don't match.</summary>\n",
        "\n",
        "Look at the documentation page for `t.bincount`. You might need to use the `minlength` argument - why?\n",
        "</details>\n"
      ]
    },
    {
      "cell_type": "code",
      "source": [
        "@staticmethod\n",
        "def apply_frequency_penalty(input_ids: Int[Tensor, \"seq_len\"], logits: Float[Tensor, \"d_vocab\"], freq_penalty: float) -> Float[Tensor, \"d_vocab\"]:\n",
        "    '''\n",
        "    Applies a frequency penalty to the logits.\n",
        "    '''\n",
        "    return logits - t.bincount(input_ids, minlength=logits.shape[0]) * freq_penalty\n",
        "\n",
        "\n",
        "TransformerSampler.apply_frequency_penalty = apply_frequency_penalty"
      ],
      "metadata": {
        "id": "fMbUbuME1e-h"
      },
      "execution_count": 51,
      "outputs": []
    },
    {
      "cell_type": "code",
      "execution_count": 52,
      "metadata": {
        "id": "y9A7LdixfHN_",
        "colab": {
          "base_uri": "https://localhost:8080/"
        },
        "outputId": "857e5848-ce0f-4478-95fc-711939287711"
      },
      "outputs": [
        {
          "output_type": "stream",
          "name": "stdout",
          "text": [
            "Tests passed!\n"
          ]
        }
      ],
      "source": [
        "bieber_prompt = \"And I was like Baby, baby, baby, oh Like, Baby, baby, baby, no Like, Baby, baby, baby, oh I thought you'd always be mine, mine\"\n",
        "input_ids = tokenizer.encode(bieber_prompt, return_tensors=\"pt\")\n",
        "logits = t.ones(tokenizer.vocab_size)\n",
        "penalized_logits = TransformerSampler.apply_frequency_penalty(input_ids.squeeze(), logits, 2.0)\n",
        "\n",
        "assert penalized_logits[5156].item() == -11, \"Expected 6 occurrences of ' baby' with leading space, 1-2*6=-11\"\n",
        "assert penalized_logits[14801].item() == -5, \"Expected 3 occurrences of ' Baby' with leading space, 1-2*3=-5\"\n",
        "\n",
        "print(\"Tests passed!\")"
      ]
    },
    {
      "cell_type": "markdown",
      "metadata": {
        "id": "PuNpoR3CfHN_"
      },
      "source": [
        "### Sampling - Manual Testing\n",
        "\n",
        "Run the below cell to get a sense for the `temperature` and `freq_penalty` arguments. Play with your own prompt and try other values.\n",
        "\n",
        "Note: your model can generate newlines or non-printing characters, so calling `print` on generated text sometimes looks awkward on screen. You can call `repr` on the string before printing to have the string escaped nicely.\n"
      ]
    },
    {
      "cell_type": "code",
      "execution_count": 53,
      "metadata": {
        "id": "owibsBUjfHN_",
        "colab": {
          "base_uri": "https://localhost:8080/",
          "height": 512
        },
        "outputId": "0608a6df-10b1-4943-940d-e48250713509"
      },
      "outputs": [
        {
          "output_type": "display_data",
          "data": {
            "text/plain": [
              "\u001b[3m                                             Sampling - Manual Testing                                             \u001b[0m\n",
              "┏━━━━━━━━━━━━━━━━━━━━━━━┳━━━━━━━━━━━━━━━━━━━━━━━━━━━━━━┳━━━━━━━━━━━━━━━━━━━━━━━━━━━━━━━━━━━━━━━━━━━━━━━━━━━━━━━━━━┓\n",
              "┃\u001b[1m \u001b[0m\u001b[1mName                 \u001b[0m\u001b[1m \u001b[0m┃\u001b[1m \u001b[0m\u001b[1mKwargs                      \u001b[0m\u001b[1m \u001b[0m┃\u001b[1m \u001b[0m\u001b[1mOutput                                                  \u001b[0m\u001b[1m \u001b[0m┃\n",
              "┡━━━━━━━━━━━━━━━━━━━━━━━╇━━━━━━━━━━━━━━━━━━━━━━━━━━━━━━╇━━━━━━━━━━━━━━━━━━━━━━━━━━━━━━━━━━━━━━━━━━━━━━━━━━━━━━━━━━┩\n",
              "│ High freq penalty     │ {'frequency_penalty': 100.0} │ 'Jingle bells, jingle bells, jingle all the way to it.   │\n",
              "│                       │                              │ Now you can sing them regardless of what sort your body  │\n",
              "│                       │                              │ is helping make sense at any moment–with fast'           │\n",
              "│                       │                              │                                                          │\n",
              "│ Negative freq penalty │ {'frequency_penalty': -3.0}  │ 'Jingle bells, jingle bells, jingle all the way, jingle  │\n",
              "│                       │                              │ bells, jingle bells, jingle bells, jingle, jingle jingle │\n",
              "│                       │                              │ jingle jingle'                                           │\n",
              "│                       │                              │                                                          │\n",
              "│ Too hot!              │ {'temperature': 2.0}         │ 'Jingle bells, jingle bells, jingle all the way          │\n",
              "│                       │                              │ chicks... running abs some championsCorp turn Conc       │\n",
              "│                       │                              │ Handling, STATETest VCudSensor fisher backup irrigation  │\n",
              "│                       │                              │ wanted AMER ********************************Ifucks'      │\n",
              "│                       │                              │                                                          │\n",
              "│ Pleasantly cool       │ {'temperature': 0.7}         │ 'Jingle bells, jingle bells, jingle all the way          │\n",
              "│                       │                              │ down.\\n\\n\"I was trying to get some answers.\"\\n\\n\"Why     │\n",
              "│                       │                              │ don\\'t you go to the hospital'                           │\n",
              "│                       │                              │                                                          │\n",
              "│ Pleasantly warm       │ {'temperature': 0.9}         │ 'Jingle bells, jingle bells, jingle all the way up to    │\n",
              "│                       │                              │ those shelled roundabouts on back roads.\\n\\n\"All you     │\n",
              "│                       │                              │ need to do is run! Go on'                                │\n",
              "│                       │                              │                                                          │\n",
              "│ Too cold!             │ {'temperature': 0.01}        │ 'Jingle bells, jingle bells, jingle all the way up to    │\n",
              "│                       │                              │ the top of the mountain.\\n\\nThe first time I saw the     │\n",
              "│                       │                              │ mountain, I was in the middle of'                        │\n",
              "│                       │                              │                                                          │\n",
              "└───────────────────────┴──────────────────────────────┴──────────────────────────────────────────────────────────┘\n"
            ],
            "text/html": [
              "<pre style=\"white-space:pre;overflow-x:auto;line-height:normal;font-family:Menlo,'DejaVu Sans Mono',consolas,'Courier New',monospace\"><span style=\"font-style: italic\">                                             Sampling - Manual Testing                                             </span>\n",
              "┏━━━━━━━━━━━━━━━━━━━━━━━┳━━━━━━━━━━━━━━━━━━━━━━━━━━━━━━┳━━━━━━━━━━━━━━━━━━━━━━━━━━━━━━━━━━━━━━━━━━━━━━━━━━━━━━━━━━┓\n",
              "┃<span style=\"font-weight: bold\"> Name                  </span>┃<span style=\"font-weight: bold\"> Kwargs                       </span>┃<span style=\"font-weight: bold\"> Output                                                   </span>┃\n",
              "┡━━━━━━━━━━━━━━━━━━━━━━━╇━━━━━━━━━━━━━━━━━━━━━━━━━━━━━━╇━━━━━━━━━━━━━━━━━━━━━━━━━━━━━━━━━━━━━━━━━━━━━━━━━━━━━━━━━━┩\n",
              "│ High freq penalty     │ {'frequency_penalty': 100.0} │ 'Jingle bells, jingle bells, jingle all the way to it.   │\n",
              "│                       │                              │ Now you can sing them regardless of what sort your body  │\n",
              "│                       │                              │ is helping make sense at any moment–with fast'           │\n",
              "│                       │                              │                                                          │\n",
              "│ Negative freq penalty │ {'frequency_penalty': -3.0}  │ 'Jingle bells, jingle bells, jingle all the way, jingle  │\n",
              "│                       │                              │ bells, jingle bells, jingle bells, jingle, jingle jingle │\n",
              "│                       │                              │ jingle jingle'                                           │\n",
              "│                       │                              │                                                          │\n",
              "│ Too hot!              │ {'temperature': 2.0}         │ 'Jingle bells, jingle bells, jingle all the way          │\n",
              "│                       │                              │ chicks... running abs some championsCorp turn Conc       │\n",
              "│                       │                              │ Handling, STATETest VCudSensor fisher backup irrigation  │\n",
              "│                       │                              │ wanted AMER ********************************Ifucks'      │\n",
              "│                       │                              │                                                          │\n",
              "│ Pleasantly cool       │ {'temperature': 0.7}         │ 'Jingle bells, jingle bells, jingle all the way          │\n",
              "│                       │                              │ down.\\n\\n\"I was trying to get some answers.\"\\n\\n\"Why     │\n",
              "│                       │                              │ don\\'t you go to the hospital'                           │\n",
              "│                       │                              │                                                          │\n",
              "│ Pleasantly warm       │ {'temperature': 0.9}         │ 'Jingle bells, jingle bells, jingle all the way up to    │\n",
              "│                       │                              │ those shelled roundabouts on back roads.\\n\\n\"All you     │\n",
              "│                       │                              │ need to do is run! Go on'                                │\n",
              "│                       │                              │                                                          │\n",
              "│ Too cold!             │ {'temperature': 0.01}        │ 'Jingle bells, jingle bells, jingle all the way up to    │\n",
              "│                       │                              │ the top of the mountain.\\n\\nThe first time I saw the     │\n",
              "│                       │                              │ mountain, I was in the middle of'                        │\n",
              "│                       │                              │                                                          │\n",
              "└───────────────────────┴──────────────────────────────┴──────────────────────────────────────────────────────────┘\n",
              "</pre>\n"
            ]
          },
          "metadata": {}
        }
      ],
      "source": [
        "sampler = TransformerSampler(model, tokenizer)\n",
        "\n",
        "N_RUNS = 1\n",
        "your_prompt = \"Jingle bells, jingle bells, jingle all the way\"\n",
        "cases = [\n",
        "    (\"High freq penalty\", dict(frequency_penalty=100.0)),\n",
        "    (\"Negative freq penalty\", dict(frequency_penalty=-3.0)),\n",
        "    (\"Too hot!\", dict(temperature=2.0)),\n",
        "    (\"Pleasantly cool\", dict(temperature=0.7)),\n",
        "    (\"Pleasantly warm\", dict(temperature=0.9)),\n",
        "    (\"Too cold!\", dict(temperature=0.01)),\n",
        "]\n",
        "\n",
        "table = Table(\"Name\", \"Kwargs\", \"Output\", title=\"Sampling - Manual Testing\")\n",
        "\n",
        "for (name, kwargs) in cases:\n",
        "    for i in range(N_RUNS):\n",
        "        output = sampler.sample(your_prompt, max_tokens_generated=24, **kwargs)\n",
        "        table.add_row(name, repr(kwargs), repr(output) + \"\\n\")\n",
        "\n",
        "rprint(table)"
      ]
    },
    {
      "cell_type": "markdown",
      "metadata": {
        "id": "v9fFSMW7fHN_"
      },
      "source": [
        "## Top-K Sampling\n",
        "\n",
        "Conceptually, the steps in top-k sampling are:\n",
        "- Find the `top_k` largest probabilities (you can use [`torch.topk`](https://pytorch.org/docs/stable/generated/torch.topk.html))\n",
        "- Set all other probabilities to zero\n",
        "- Normalize and sample\n"
      ]
    },
    {
      "cell_type": "markdown",
      "metadata": {
        "id": "R0hBDuz4fHN_"
      },
      "source": [
        "### Exercise - implement `sample_top_k`\n",
        "\n",
        "```c\n",
        "Difficulty: 🔴🔴⚪⚪⚪\n",
        "Importance: 🔵⚪⚪⚪⚪\n",
        "\n",
        "You should spend up to 5-10 minutes on this exercise.\n",
        "```\n",
        "\n",
        "Implement the method `sample_top_k` now. Your implementation should stay in log-space throughout (don't exponentiate to obtain probabilities). This means you don't actually need to worry about normalizing, because `Categorical` accepts unnormalised logits.\n"
      ]
    },
    {
      "cell_type": "code",
      "source": [
        "@staticmethod\n",
        "def sample_top_k(logits: Float[Tensor, \"d_vocab\"], k: int) -> int:\n",
        "    '''\n",
        "    Samples from the top k most likely tokens.\n",
        "    '''\n",
        "    top_k_logits, top_k_ids = t.topk(logits, k)\n",
        "    top_k_idx = t.distributions.categorical.Categorical(logits=top_k_logits).sample()\n",
        "    return top_k_ids[top_k_idx]\n",
        "\n",
        "\n",
        "TransformerSampler.sample_top_k = sample_top_k"
      ],
      "metadata": {
        "id": "MFIcCJnn3OoT"
      },
      "execution_count": 54,
      "outputs": []
    },
    {
      "cell_type": "code",
      "execution_count": 55,
      "metadata": {
        "id": "HocllGE0fHN_",
        "colab": {
          "base_uri": "https://localhost:8080/",
          "height": 138,
          "referenced_widgets": [
            "05e0c5a5726d4ab88932a77a1870ab10",
            "01c39bcf710e484a84eab9e4585dbe4e",
            "8c9fdee2a05d4a4391139c0a33358c4e",
            "2947c0811d41469fb860071b28b3fe44",
            "54104fa6517b4a4783795d42b6498bae",
            "d795ba5ac4da4b369bd7ca45451e6679",
            "bd583d2be19d4ffcb501b9bfc0bebee1",
            "f56edd7d019345b8a50bf28ac05266d7",
            "fc65f9132972417b8f8706902a2bd7f2",
            "c0cfdfaf22344b00a95a006dc3f2f640",
            "e90e2f5099af4aedba32a602dd6e08c0"
          ]
        },
        "outputId": "9f54b6ad-b1bf-4221-9d7c-2425de0a2cac"
      },
      "outputs": [
        {
          "output_type": "display_data",
          "data": {
            "text/plain": [
              "  0%|          | 0/10000 [00:00<?, ?it/s]"
            ],
            "application/vnd.jupyter.widget-view+json": {
              "version_major": 2,
              "version_minor": 0,
              "model_id": "05e0c5a5726d4ab88932a77a1870ab10"
            }
          },
          "metadata": {}
        },
        {
          "output_type": "stream",
          "name": "stdout",
          "text": [
            "Word: ' church'. Expected freq = 0.4761, observed freq = 0.4768\n",
            "Word: ' house' . Expected freq = 0.2697, observed freq = 0.2676\n",
            "Word: ' temple'. Expected freq = 0.1065, observed freq = 0.1044\n",
            "Word: ' same'  . Expected freq = 0.0764, observed freq = 0.0798\n",
            "Word: ' Church'. Expected freq = 0.0713, observed freq = 0.0714\n"
          ]
        }
      ],
      "source": [
        "prompt = \"John and Mary went to the\"\n",
        "input_ids = tokenizer.encode(prompt, return_tensors=\"pt\").to(device)\n",
        "logits = model(input_ids)[0, -1]\n",
        "\n",
        "expected_top_5 = {\n",
        "    \" church\": 0.0648,\n",
        "    \" house\": 0.0367,\n",
        "    \" temple\": 0.0145,\n",
        "    \" same\": 0.0104,\n",
        "    \" Church\": 0.0097\n",
        "}\n",
        "topk_5_sum = sum(expected_top_5.values())\n",
        "\n",
        "observed_freqs = defaultdict(int)\n",
        "\n",
        "N = 10000\n",
        "for _ in tqdm(range(N)):\n",
        "    token = TransformerSampler.sample_next_token(input_ids.squeeze(), logits, top_k=5)\n",
        "    observed_freqs[tokenizer.decode(token)] += 1\n",
        "\n",
        "for word in expected_top_5:\n",
        "    expected_freq = expected_top_5[word] / topk_5_sum\n",
        "    observed_freq = observed_freqs[word] / N\n",
        "    print(f\"Word: {word!r:<9}. Expected freq = {expected_freq:.4f}, observed freq = {observed_freq:.4f}\")\n",
        "    assert abs(observed_freq - expected_freq) < 0.015, \"Try increasing N if this fails by a small amount.\""
      ]
    },
    {
      "cell_type": "markdown",
      "metadata": {
        "id": "3HElusTNfHOA"
      },
      "source": [
        "### Top-K Sampling - Example\n",
        "\n",
        "The [GPT-2 paper](https://d4mucfpksywv.cloudfront.net/better-language-models/language_models_are_unsupervised_multitask_learners.pdf) famously included an example prompt about unicorns. Now it's your turn to see just how cherry picked this example was.\n",
        "\n",
        "The paper claims they used `top_k=40` and best of 10 samples.\n"
      ]
    },
    {
      "cell_type": "code",
      "execution_count": 56,
      "metadata": {
        "id": "24dChHZ1fHOA",
        "colab": {
          "base_uri": "https://localhost:8080/",
          "height": 166
        },
        "outputId": "45ad67b2-2d28-4fd4-fb53-abcd4ff4770d"
      },
      "outputs": [
        {
          "output_type": "display_data",
          "data": {
            "text/plain": [
              "Your model said:\n",
              "\n",
              "\u001b[1;38;5;208mIn a shocking finding, scientist discovered a herd of unicorns living in a remote, previously unexplored valley, in\u001b[0m\n",
              "\u001b[1;38;5;208mthe Andes Mountains. Even more surprising to the researchers was the fact that the unicorns spoke perfect English. \u001b[0m\n",
              "\u001b[1;38;5;208mIn fact, they spoke perfect English in almost every language, but in the case of the unicorn, the dialect of their \u001b[0m\n",
              "\u001b[1;38;5;208mspoken language was different from the one they used for their human counterparts.\u001b[0m\n",
              "\n",
              "\u001b[1;38;5;208m\"We can now say we're getting closer to deciphering the evolutionary history of this particular language,\"\u001b[0m\u001b[1;38;5;208m said \u001b[0m\n",
              "\u001b[1;38;5;208mco-author\u001b[0m\n"
            ],
            "text/html": [
              "<pre style=\"white-space:pre;overflow-x:auto;line-height:normal;font-family:Menlo,'DejaVu Sans Mono',consolas,'Courier New',monospace\">Your model said:\n",
              "\n",
              "<span style=\"color: #ff8700; text-decoration-color: #ff8700; font-weight: bold\">In a shocking finding, scientist discovered a herd of unicorns living in a remote, previously unexplored valley, in</span>\n",
              "<span style=\"color: #ff8700; text-decoration-color: #ff8700; font-weight: bold\">the Andes Mountains. Even more surprising to the researchers was the fact that the unicorns spoke perfect English. </span>\n",
              "<span style=\"color: #ff8700; text-decoration-color: #ff8700; font-weight: bold\">In fact, they spoke perfect English in almost every language, but in the case of the unicorn, the dialect of their </span>\n",
              "<span style=\"color: #ff8700; text-decoration-color: #ff8700; font-weight: bold\">spoken language was different from the one they used for their human counterparts.</span>\n",
              "\n",
              "<span style=\"color: #ff8700; text-decoration-color: #ff8700; font-weight: bold\">\"We can now say we're getting closer to deciphering the evolutionary history of this particular language,\"</span><span style=\"color: #ff8700; text-decoration-color: #ff8700; font-weight: bold\"> said </span>\n",
              "<span style=\"color: #ff8700; text-decoration-color: #ff8700; font-weight: bold\">co-author</span>\n",
              "</pre>\n"
            ]
          },
          "metadata": {}
        }
      ],
      "source": [
        "sampler = TransformerSampler(model, tokenizer)\n",
        "\n",
        "your_prompt = \"In a shocking finding, scientist discovered a herd of unicorns living in a remote, previously unexplored valley, in the Andes Mountains. Even more surprising to the researchers was the fact that the unicorns spoke perfect English.\"\n",
        "output = sampler.sample(your_prompt, temperature=0.7, top_k=40, max_tokens_generated=64)\n",
        "rprint(f\"Your model said:\\n\\n[bold dark_orange]{output}\")"
      ]
    },
    {
      "cell_type": "markdown",
      "metadata": {
        "id": "WpaCZmw3yW9X"
      },
      "source": [
        "This is pretty incredible! For some perspective on how much of a paradigm shift even basic models like this represented, we recommend reading [this section from Simulators](https://www.lesswrong.com/posts/vJFdjigzmcXMhNTsx/simulators#The_limit_of_sequence_modeling)."
      ]
    },
    {
      "cell_type": "markdown",
      "metadata": {
        "id": "kEmLBEn9fHOA"
      },
      "source": [
        "## Top-p aka Nucleus Sampling\n",
        "\n",
        "The basic idea is that we choose the most likely words, up until the total probability of words we've chosen crosses some threshold. Then we sample from those chosen words based on their logits.\n",
        "\n",
        "The steps are:\n",
        "\n",
        "- Sort the probabilities from largest to smallest\n",
        "- Find the cutoff point where the cumulative probability first equals or exceeds `top_p`. We do the cutoff inclusively, keeping the first probability above the threshold.\n",
        "- If the number of kept probabilities is less than `min_tokens_to_keep`, keep that many tokens instead.\n",
        "- Set all other probabilities to zero\n",
        "- Normalize and sample\n",
        "\n",
        "Optionally, refer to the paper [The Curious Case of Neural Text Degeneration](https://arxiv.org/pdf/1904.09751.pdf) for some comparison of different methods.\n"
      ]
    },
    {
      "cell_type": "markdown",
      "metadata": {
        "id": "fAJaTvcefHOA"
      },
      "source": [
        "### Exercise - implement `sample_top_p`\n",
        "\n",
        "```c\n",
        "Difficulty: 🔴🔴🔴⚪⚪\n",
        "Importance: 🔵⚪⚪⚪⚪\n",
        "\n",
        "You should spend up to 15-20 minutes on this exercise.\n",
        "```\n",
        "\n",
        "<details>\n",
        "<summary>Example of top-p sampling (if you're confused)</summary>\n",
        "\n",
        "If our probabilities were `(0.4, 0.3, 0.2, 0.1)` and our cutoff was `top_p=0.8`, then we'd sample from the first three elements (because their total probability is `0.9` which is over the threshold, but the first two only have a total prob of `0.7` which is under the threshold). Once we've chosen to sample from those three, we would renormalise them by dividing by their sum (so the probabilities we use when sampling are `(4/9, 3/9, 2/9)`.\n",
        "</details>\n",
        "\n",
        "<details>\n",
        "<summary>Help - I'm stuck on how to implement this function.</summary>\n",
        "\n",
        "First, sort the logits using the `sort(descending=True)` method (this returns values and indices). Then you can get `cumulative_probs` by applying softmax to these logits and taking the cumsum. Then, you can decide how many probabilities to keep by using the `t.searchsorted` function.\n",
        "    \n",
        "Once you've decided which probabilities to keep, it's easiest to sample from them using the original logits (you should have preserved the indices when you called `logits.sort`). This way, you don't need to worry about renormalising like you would if you were using probabilities.\n",
        "</details>\n"
      ]
    },
    {
      "cell_type": "code",
      "source": [
        "@staticmethod\n",
        "def sample_top_p(logits: Float[Tensor, \"d_vocab\"], top_p: float, min_tokens_to_keep: int = 1) -> int:\n",
        "    '''\n",
        "    Samples from the most likely tokens which make up at least p cumulative probability.\n",
        "    '''\n",
        "    logit_values, logit_indices = t.sort(logits, descending=True)\n",
        "    cumulative_probs = t.cumsum(logit_values.softmax(dim=-1), dim=-1)\n",
        "    num_keep = max(t.searchsorted(cumulative_probs, top_p, right=False) + 1, min_tokens_to_keep)\n",
        "    keep_indices = logit_indices[:num_keep]\n",
        "    keep_logits = logits[keep_indices]\n",
        "    top_p_idx = t.distributions.categorical.Categorical(logits=keep_logits).sample()\n",
        "    return keep_indices[top_p_idx].item()\n",
        "\n",
        "\n",
        "TransformerSampler.sample_top_p = sample_top_p"
      ],
      "metadata": {
        "id": "CjaCW1oy5t0v"
      },
      "execution_count": 57,
      "outputs": []
    },
    {
      "cell_type": "code",
      "execution_count": 58,
      "metadata": {
        "id": "ndUIZuRJfHOA",
        "colab": {
          "base_uri": "https://localhost:8080/",
          "height": 85,
          "referenced_widgets": [
            "8ea640d71efc4971a54c8908af65c06f",
            "096cc64f5ea94d5d81995be428af1d3b",
            "0d88dc569e014597a2fa0e2e83bae292",
            "d32bcf957c0d40acb24e1fb2a5cc0025",
            "c07dbf98916d4c5e904ba0391c03332a",
            "6d7cd362bba34d17b666afbc708aa178",
            "2aa30ba645a240cd88445281cc9786fa",
            "461e4087a2aa41548ddf73f953ef39ed",
            "697e5d4ac4fc43c7b350cd201adc2c1a",
            "80b4e42e60bb4e4198d4b16e446b530b",
            "863e0d0792f740aaba2ceed0659d96f7"
          ]
        },
        "outputId": "a5ffacbb-0515-4539-c4f6-3fb592944224"
      },
      "outputs": [
        {
          "output_type": "display_data",
          "data": {
            "text/plain": [
              "  0%|          | 0/10000 [00:00<?, ?it/s]"
            ],
            "application/vnd.jupyter.widget-view+json": {
              "version_major": 2,
              "version_minor": 0,
              "model_id": "8ea640d71efc4971a54c8908af65c06f"
            }
          },
          "metadata": {}
        },
        {
          "output_type": "stream",
          "name": "stdout",
          "text": [
            "Word: ' church'. Expected freq 0.6384, observed freq 0.6414\n",
            "Word: ' house' . Expected freq 0.3616, observed freq 0.3586\n"
          ]
        }
      ],
      "source": [
        "prompt = \"John and Mary went to the\"\n",
        "input_ids = tokenizer.encode(prompt, return_tensors=\"pt\").to(device)\n",
        "logits = model(input_ids)[0, -1]\n",
        "\n",
        "expected_top_10pct = {\n",
        "    \" church\": 0.0648,\n",
        "    \" house\": 0.0367, # These are the two most likely tokens, and add up to >10%\n",
        "}\n",
        "top_10pct_sum = sum(expected_top_10pct.values())\n",
        "\n",
        "observed_freqs = defaultdict(int)\n",
        "\n",
        "N = 10000\n",
        "for _ in tqdm(range(N)):\n",
        "    token = TransformerSampler.sample_next_token(input_ids.squeeze(), logits, top_p=0.1)\n",
        "    observed_freqs[tokenizer.decode(token)] += 1\n",
        "\n",
        "for word in expected_top_10pct:\n",
        "    expected_freq = expected_top_10pct[word] / top_10pct_sum\n",
        "    observed_freq = observed_freqs[word] / N\n",
        "    print(f\"Word: {word!r:<9}. Expected freq {expected_freq:.4f}, observed freq {observed_freq:.4f}\")\n",
        "    assert abs(observed_freq - expected_freq) < 0.01, \"Try increasing N if this fails by a small amount.\""
      ]
    },
    {
      "cell_type": "markdown",
      "metadata": {
        "id": "qhrTvZp6fHOA"
      },
      "source": [
        "### Top-p Sampling - Example\n"
      ]
    },
    {
      "cell_type": "code",
      "execution_count": 59,
      "metadata": {
        "id": "vCBMUxzufHOE",
        "colab": {
          "base_uri": "https://localhost:8080/",
          "height": 116
        },
        "outputId": "f872feea-e33d-4ab0-9d80-7c537c252486"
      },
      "outputs": [
        {
          "output_type": "display_data",
          "data": {
            "text/plain": [
              "Your model said:\n",
              "\n",
              "\u001b[1;38;5;208mEliezer Shlomo Yudkowsky \u001b[0m\u001b[1;38;5;208m(\u001b[0m\u001b[1;38;5;208mborn September \u001b[0m\u001b[1;38;5;208m11\u001b[0m\u001b[1;38;5;208m, \u001b[0m\u001b[1;38;5;208m1979\u001b[0m\u001b[1;38;5;208m)\u001b[0m\u001b[1;38;5;208m is an American decision and artificial intelligence \u001b[0m\u001b[1;38;5;208m(\u001b[0m\u001b[1;38;5;208mAI\u001b[0m\u001b[1;38;5;208m)\u001b[0m\u001b[1;38;5;208m \u001b[0m\n",
              "\u001b[1;38;5;208mtheorist and writer, best known for his landmark book On the Origin of Species. He is a Senior Fellow in the Center\u001b[0m\n",
              "\u001b[1;38;5;208mfor Human-Computer Interaction at the Carnegie Mellon University. He is the co-author of The Big Bang Theory \u001b[0m\n",
              "\u001b[1;38;5;208m(\u001b[0m\u001b[1;38;5;208m2008\u001b[0m\u001b[1;38;5;208m)\u001b[0m\u001b[1;38;5;208m, the first in a series of books on the evolution of the human brain and the theory of the origin of\u001b[0m\n"
            ],
            "text/html": [
              "<pre style=\"white-space:pre;overflow-x:auto;line-height:normal;font-family:Menlo,'DejaVu Sans Mono',consolas,'Courier New',monospace\">Your model said:\n",
              "\n",
              "<span style=\"color: #ff8700; text-decoration-color: #ff8700; font-weight: bold\">Eliezer Shlomo Yudkowsky (born September </span><span style=\"color: #ff8700; text-decoration-color: #ff8700; font-weight: bold\">11</span><span style=\"color: #ff8700; text-decoration-color: #ff8700; font-weight: bold\">, </span><span style=\"color: #ff8700; text-decoration-color: #ff8700; font-weight: bold\">1979</span><span style=\"color: #ff8700; text-decoration-color: #ff8700; font-weight: bold\">) is an American decision and artificial intelligence (AI) </span>\n",
              "<span style=\"color: #ff8700; text-decoration-color: #ff8700; font-weight: bold\">theorist and writer, best known for his landmark book On the Origin of Species. He is a Senior Fellow in the Center</span>\n",
              "<span style=\"color: #ff8700; text-decoration-color: #ff8700; font-weight: bold\">for Human-Computer Interaction at the Carnegie Mellon University. He is the co-author of The Big Bang Theory </span>\n",
              "<span style=\"color: #ff8700; text-decoration-color: #ff8700; font-weight: bold\">(</span><span style=\"color: #ff8700; text-decoration-color: #ff8700; font-weight: bold\">2008</span><span style=\"color: #ff8700; text-decoration-color: #ff8700; font-weight: bold\">), the first in a series of books on the evolution of the human brain and the theory of the origin of</span>\n",
              "</pre>\n"
            ]
          },
          "metadata": {}
        }
      ],
      "source": [
        "sampler = TransformerSampler(model, tokenizer)\n",
        "\n",
        "your_prompt = \"Eliezer Shlomo Yudkowsky (born September 11, 1979) is an American decision and artificial intelligence (AI) theorist and writer, best known for\"\n",
        "output = sampler.sample(your_prompt, temperature=0.7, top_p=0.95, max_tokens_generated=64)\n",
        "rprint(f\"Your model said:\\n\\n[bold dark_orange]{output}\")"
      ]
    },
    {
      "cell_type": "markdown",
      "metadata": {
        "id": "a6PVv6PHfHOE"
      },
      "source": [
        "## Beam search\n",
        "\n",
        "Finally, we'll implement a more advanced way of searching over output: **beam search**. You should read the [HuggingFace page](https://huggingface.co/blog/how-to-generate#beam-search) on beam search before moving on.\n",
        "\n",
        "In beam search, we maintain a list of size `num_beams` completions which are the most likely completions so far as measured by the product of their probabilities. Since this product can become very small, we use the sum of log probabilities instead. Note - log probabilities are *not* the same as your model's output. We get log probabilities by first taking softmax of our output and then taking log. You can do this with the [`log_softmax`](https://pytorch.org/docs/stable/generated/torch.nn.functional.log_softmax.html) function / tensor method.\n"
      ]
    },
    {
      "cell_type": "markdown",
      "metadata": {
        "id": "jsRXQwecfHOE"
      },
      "source": [
        "<details>\n",
        "<summary>Log probabilities are equal to the logit output after being translated by some amount X (where X is a function of the original logit output). Can you prove this?</summary>\n",
        "\n",
        "Suppose our vector of logits is $x$, and we take softmax to get a vector of probabilities $p$, then log again to get a vector of log probabilities $l$. Then the $i$-th element of this vector of logprobs is:\n",
        "\n",
        "$$\n",
        "\\begin{align}\n",
        "l_i &= \\log p_i \\\\\n",
        "&= \\log \\frac{\\exp(x_i)}{\\sum_j \\exp(x_j)} \\\\\n",
        "&= x_i - \\log \\sum_j \\exp(x_j) \\\\\n",
        "&= x_i - C\n",
        "\\end{align}\n",
        "$$\n",
        "\n",
        "where $C = \\log \\sum_j \\exp(x_j)$ is the same for all elements. So we can see that $l_i$ is equal to the logit output $x_i$ after being translated by $C$.\n",
        "\n",
        "It's important not to mix up logits and logprobs!\n",
        "</details>\n",
        "\n",
        "<details>\n",
        "<summary>Why do you think we use log softmax rather than logit output?</summary>\n",
        "\n",
        "Logit output is translation invariant. If we had two different beams and we were generating the next tokens in those beams, there would be no reasonable way to compare the two beams to each other, because we could shift the logit vector for one beam by a constant amount without changing the distribution.\n",
        "\n",
        "</details>\n"
      ]
    },
    {
      "cell_type": "markdown",
      "metadata": {
        "id": "-dQFaVpFfHOE"
      },
      "source": [
        "At each iteration, we run the batch of completions through the model and take the log-softmax to obtain `d_vocab` log-probs for each completion, or `num_beams * d_vocab` possible next completions in total.\n",
        "\n",
        "If we kept all of these, then we would have `num_beams * d_vocab * d_vocab` completions after the next iteration which is way too many, so instead we sort them by their score and loop through from best (highest) log probability to worst (lowest).\n",
        "\n",
        "The illustration below might help (based on real results from this method). Here, we have the following hyperparameters:\n",
        "\n",
        "```python\n",
        "num_beams = 3\n",
        "max_new_tokens = 3\n",
        "num_return_sequences = 2\n",
        "```\n"
      ]
    },
    {
      "cell_type": "markdown",
      "metadata": {
        "id": "JhmYgrg4fHOE"
      },
      "source": [
        "<img src=\"https://raw.githubusercontent.com/callummcdougall/computational-thread-art/master/example_images/misc/beam-search.png\" width=\"1000\">\n"
      ]
    },
    {
      "cell_type": "markdown",
      "metadata": {
        "id": "ZnZQieUBfHOF"
      },
      "source": [
        "Note how after each \"generate\" stage, we have `num_beams ** 2` possible completions, which we then filter down to `num_beams`. Can you see why we need to generate this many (and what might happen if we generated fewer)?\n"
      ]
    },
    {
      "cell_type": "markdown",
      "metadata": {
        "id": "Jn-kjeh8fHOF"
      },
      "source": [
        "How do we deal with sequences that terminate early (i.e. by generating an EOS token)? Answer - we append them to the list of completions which we'll return at the end, and remove them from the generation tree. Our algorithm terminates when either all our sequences have length `max_new_tokens` larger than the initial prompt length, or we've generated `num_returns_sequences` terminating sequences.\n"
      ]
    },
    {
      "cell_type": "markdown",
      "metadata": {
        "id": "ZFiBucEHfHOF"
      },
      "source": [
        "### Exercise - implement `beam_search`\n",
        "\n",
        "```c\n",
        "Difficulty: 🔴🔴🔴🔴⚪\n",
        "Importance: 🔵⚪⚪⚪⚪\n",
        "\n",
        "You should spend up to 30-40 minutes on this exercise.\n",
        "```\n",
        "\n",
        "You should now complete the `beam_search` method in your `TransformerSampler` class.\n",
        "\n",
        "We've provided one possible template for you to use: the class `Beams`, with important methods `generate` and `filter` for you to fit in (which correspond to the two stages in the diagram above). There are also a few of helper functions in this class:\n",
        "\n",
        "* `new_beams`, which creates a new `Beams` object from an old one.\n",
        "* `__getitem__`, which allows you to index into a `Beams` object to get a specific batch of beams.\n",
        "* `logprobs_and_completions`, which turns a `Beams` object into a list of (logprob sum, string completion) tuples (useful for getting your final output).\n",
        "* `print`, which prints out the current state of the beams (useful for debugging, if you run `beam_search` with `verbose=True`).\n",
        "\n",
        "You can then fill in the `beam_search` function, using this class and its methods.\n",
        "\n",
        "We've provided unit tests for the `generate` and `filter` functions, so you can verify that these are correct before moving on to the full `beam_search` function.\n",
        "\n",
        "**Note that using the `Beams` class is not strictly necessary, you could fill in the `beam_search` function directly if you prefer.** The `Beams` class is just meant to provide one example way you might implement this function. Often, modular code like this is easier to write and debug, and easier to extend to cover new use cases (e.g. when we use caching in the bonus exercises).\n",
        "\n",
        "#### Why all the n-gram repetition?\n",
        "\n",
        "You should observe that, while the output of beam search is sometimes more fluent than some of the other sampling methods you implement, it also has an unfortunate tendency to repeat sentences or sequences. This makes sense - if the model produces a sentence with a relatively high logit sum, then it will want to produce the same sentence again even if it doesn't make a lot of sense in context.\n",
        "\n",
        "A common solution is to ban repetition of n-grams. We've provided the argument `no_repeat_ngram_size` in the `generate` method for this purpose. Using this argument should prevent the model from repeating any n-grams of that size. Good values of this parameter to try are 2 or 3.\n",
        "\n",
        "However, first you should focus on getting a working version of beam search *without* using this argument.\n",
        "\n",
        "<details>\n",
        "<summary>Hint (for <code>no_repeat_ngram_size</code>)</summary>\n",
        "\n",
        "It might be helpful to implement the following method first. You can use this rather than `torch.topk` in your `generate` method.\n",
        "\n",
        "```python\n",
        "def get_topk_non_repeating(\n",
        "    self,\n",
        "    logprobs: Float[Tensor, \"batch d_vocab\"],\n",
        "    no_repeat_ngram_size: int,\n",
        "    k: int,\n",
        ") -> Tuple[Float[Tensor, \"k\"], Int[Tensor, \"k\"]]:\n",
        "    '''\n",
        "    logprobs:\n",
        "        tensor of the log-probs for the next token\n",
        "    no_repeat_ngram_size:\n",
        "        size of ngram to avoid repeating\n",
        "    k:\n",
        "        number of top logits to return, for each beam in our collection\n",
        "\n",
        "    Returns:\n",
        "        equivalent to the output of `logprobs.topk(dim=-1)`, but makes sure\n",
        "        that no returned tokens would produce an ngram of size  `no_repeat_ngram_size`\n",
        "        which has already appeared in `self.tokens`.\n",
        "    '''\n",
        "    pass\n",
        "```\n",
        "</details>\n"
      ]
    },
    {
      "cell_type": "code",
      "execution_count": null,
      "metadata": {
        "id": "-RhHI8AyfHOF"
      },
      "outputs": [],
      "source": [
        "@dataclass\n",
        "class Beams:\n",
        "    '''Class to store beams during beam search.'''\n",
        "    model: DemoTransformer\n",
        "    tokenizer: GPT2TokenizerFast\n",
        "    logprob_sums: Float[Tensor, \"batch\"]\n",
        "    tokens: Int[Tensor, \"batch seq\"]\n",
        "\n",
        "    def new_beams(self, logprob_sums, tokens) -> \"Beams\":\n",
        "        '''Creates a new Beams object with the same model and tokenizer.'''\n",
        "        return Beams(self.model, self.tokenizer, logprob_sums, tokens)\n",
        "\n",
        "    def __getitem__(self, idx) -> \"Beams\":\n",
        "        '''Allows you to take a slice of the beams object along the batch dimension.'''\n",
        "        return self.new_beams(self.logprob_sums[idx], self.tokens[idx])\n",
        "\n",
        "    @property\n",
        "    def logprobs_and_completions(self) -> List[Tuple[float, str]]:\n",
        "        '''Returns self as a list of logprob sums and completions (useful for getting final output).'''\n",
        "        return [\n",
        "            (logprob_sum.item(), self.tokenizer.decode(tokens))\n",
        "            for (logprob_sum, tokens) in zip(self.logprob_sums, self.tokens)\n",
        "        ]\n",
        "\n",
        "\n",
        "    def generate(self, toks_per_beam: int, no_repeat_ngram_size: Optional[int] = None) -> \"Beams\":\n",
        "        '''\n",
        "        Starting from the current set of beams (which has length `num_beams`), returns a new\n",
        "        set of `num_beams * toks_per_beam`, containing the best `toks_per_beam` continuations for each\n",
        "        of the original beams.\n",
        "\n",
        "        Optional argument `no_repeat_ngram_size` means your model won't generate any sequences with\n",
        "        a repeating n-gram of this length.\n",
        "        '''\n",
        "        pass\n",
        "\n",
        "    def filter(self, num_beams: int) -> Tuple[\"Beams\", \"Beams\"]:\n",
        "        '''\n",
        "        Returns:\n",
        "            best_beams: Beams\n",
        "                filtered version of self, containing all best `num_beams` which are also not terminated.\n",
        "\n",
        "            early_terminations: Beams\n",
        "                filtered version of self, containing all best `num_beams` which are also terminated.\n",
        "                i.e. the sum of lengths of these two should equal `num_beams`.\n",
        "        '''\n",
        "        pass\n",
        "\n",
        "    def print(self, title=\"Best completions\", max_print_chars=80) -> None:\n",
        "        '''\n",
        "        Prints out a set of sequences with their corresponding logitsums.\n",
        "        '''\n",
        "        if len(self.tokens) == 0:\n",
        "            return\n",
        "        table = Table(\"logitsum\", \"completion\", title=title)\n",
        "        for logprob_sum, tokens in zip(self.logprob_sums, self.tokens):\n",
        "            text = self.tokenizer.decode(tokens)\n",
        "            if len(repr(text)) > max_print_chars:\n",
        "                text = text[:int(0.3 * max_print_chars)] + \" ... \" + text[-int(0.7 * max_print_chars):]\n",
        "            table.add_row(f\"{logprob_sum:>8.3f}\", repr(text))\n",
        "        rprint(table)\n",
        "\n",
        "\n",
        "    def get_topk_non_repeating(\n",
        "        self,\n",
        "        logprobs: Float[Tensor, \"batch d_vocab\"],\n",
        "        no_repeat_ngram_size: Optional[int],\n",
        "        k: int,\n",
        "    ) -> Tuple[Float[Tensor, \"k\"], Int[Tensor, \"k\"]]:\n",
        "        '''\n",
        "        logprobs:\n",
        "            tensor of the log-probs for the next token\n",
        "        no_repeat_ngram_size:\n",
        "            size of ngram to avoid repeating\n",
        "        k:\n",
        "            number of top logits to return, for each beam in our collection\n",
        "\n",
        "        Returns:\n",
        "            equivalent to the output of `logprobs.topk(dim=-1)`, but makes sure\n",
        "            that no returned tokens would produce an ngram of size  `no_repeat_ngram_size`\n",
        "            which has already appeared in `self.tokens`.\n",
        "        '''\n",
        "        batch, seq_len = self.tokens.shape\n",
        "        neg_inf = t.tensor(-1.0e4).to(device)\n",
        "\n",
        "        # If completion isn't long enough for a repetition, or we have no restructions, just return topk\n",
        "        if (no_repeat_ngram_size is not None) and (seq_len > no_repeat_ngram_size-1):\n",
        "            # Otherwise, we need to check for ngram repetitions\n",
        "            # First, get the most recent `no_repeat_ngram_size-1` tokens\n",
        "            last_ngram_prefix = self.tokens[:, seq_len - (no_repeat_ngram_size-1):]\n",
        "            # Next, find all the tokens we're not allowed to generate (by going iterating through past ngrams and seeing if those ngram prefixes match the last one)\n",
        "            for i in range(seq_len - (no_repeat_ngram_size-1)):\n",
        "                ngrams = self.tokens[:, i:i+no_repeat_ngram_size] # (batch, ngram)\n",
        "                ngrams_are_repeated = (ngrams[:, :-1] == last_ngram_prefix).all(-1) # (batch,)\n",
        "                ngram_end_tokens = ngrams[:, [-1]] # (batch, 1)\n",
        "                # Fill logprobs with neginf wherever the ngrams are repeated\n",
        "                logprobs[range(batch), ngram_end_tokens] = t.where(\n",
        "                    ngrams_are_repeated,\n",
        "                    neg_inf,\n",
        "                    logprobs[range(batch), ngram_end_tokens],\n",
        "            )\n",
        "\n",
        "        # Finally, get our actual tokens\n",
        "        return logprobs.topk(k=k, dim=-1)\n",
        "\n",
        "\n",
        "@t.inference_mode()\n",
        "def beam_search(\n",
        "    self: TransformerSampler,\n",
        "    prompt: str,\n",
        "    num_return_sequences: int,\n",
        "    num_beams: int,\n",
        "    max_new_tokens: int,\n",
        "    no_repeat_ngram_size: Optional[int] = None,\n",
        "    verbose=False\n",
        ") -> List[Tuple[float, Tensor]]:\n",
        "    '''\n",
        "    Implements a beam search, by repeatedly performing the `generate` and `filter` steps (starting\n",
        "    from the initial prompt) until either of the two stopping criteria are met:\n",
        "\n",
        "        (1) we've generated `max_new_tokens` tokens, or\n",
        "        (2) we've generated `num_returns_sequences` terminating sequences.\n",
        "\n",
        "    To modularize this function, most of the actual complexity is in the Beams class,\n",
        "    in the `generate` and `filter` methods.\n",
        "    '''\n",
        "\n",
        "    assert num_return_sequences <= num_beams\n",
        "    self.model.eval()\n",
        "\n",
        "        pass"
      ]
    },
    {
      "cell_type": "markdown",
      "metadata": {
        "id": "EYDnDhhAfHOF"
      },
      "source": [
        "Example usage of the `Beams` class, and the `print` method (not the logitsums aren't necessarily accurate, this example is just an illustration):\n"
      ]
    },
    {
      "cell_type": "code",
      "execution_count": null,
      "metadata": {
        "id": "_dIOf4f9fHOF"
      },
      "outputs": [],
      "source": [
        "beams = Beams(\n",
        "    model,\n",
        "    tokenizer,\n",
        "    logprob_sums = t.tensor([-10.0, -15.0, -20.0]).to(device),\n",
        "    tokens = t.tensor([\n",
        "        [5661, 318, 262, 2368],\n",
        "        [5661, 318, 262, 1218],\n",
        "        [5661, 318, 262, 717],\n",
        "    ]).to(device)\n",
        ")\n",
        "\n",
        "beams.print()"
      ]
    },
    {
      "cell_type": "markdown",
      "metadata": {
        "id": "O7ndBImyfHOF"
      },
      "source": [
        "And here are some unit tests for your `generate` and `filter` methods:\n"
      ]
    },
    {
      "cell_type": "code",
      "execution_count": null,
      "metadata": {
        "id": "BxrABZUzfHOF"
      },
      "outputs": [],
      "source": [
        "print(\"Testing generate, without no_repeat_ngram_size argument:\")\n",
        "new_beams = beams.generate(toks_per_beam=2)\n",
        "new_beams.print()\n",
        "assert new_beams.logprobs_and_completions[0][1] == \"this is the third time\""
      ]
    },
    {
      "cell_type": "code",
      "execution_count": null,
      "metadata": {
        "id": "QD1Q7u74fHOG"
      },
      "outputs": [],
      "source": [
        "print(\"Testing generate, with no_repeat_ngram_size argument:\")\n",
        "\n",
        "bigram_beams = Beams(\n",
        "    model,\n",
        "    tokenizer,\n",
        "    logprob_sums = t.tensor([-0.0]).to(device),\n",
        "    tokens = t.tensor([[530, 734, 530, 734]]).to(device)\n",
        "    # tokens are \" one two one two\"\n",
        ")\n",
        "\n",
        "# With no_repeat_ngram_size=1, should not generate the token \" one\" or \" two\"\n",
        "new_bigram_beams = bigram_beams.generate(toks_per_beam=3, no_repeat_ngram_size=1)\n",
        "new_bigram_beams.print()\n",
        "assert all([not (completion[1].endswith(\" one\") or completion[1].endswith(\" two\")) for completion in new_bigram_beams.logprobs_and_completions])\n",
        "\n",
        "# With no_repeat_ngram_size=2, it can generate \" two\" (which it should), but not \" one\"\n",
        "new_bigram_beams = bigram_beams.generate(toks_per_beam=3, no_repeat_ngram_size=2)\n",
        "new_bigram_beams.print()\n",
        "assert all([not completion[1].endswith(\" one\") for completion in new_bigram_beams.logprobs_and_completions])\n",
        "assert any([not completion[1].endswith(\" two\") for completion in new_bigram_beams.logprobs_and_completions])\n",
        "\n",
        "print(\"All tests for `generate` passed!\")"
      ]
    },
    {
      "cell_type": "code",
      "execution_count": null,
      "metadata": {
        "id": "U0NG1ZaqfHOG"
      },
      "outputs": [],
      "source": [
        "logprob_sums = t.tensor([-1.0, -2.0]).to(device)\n",
        "tokens = t.tensor([\n",
        "    [19485, 13],\n",
        "    [19485, tokenizer.eos_token_id]\n",
        "]).to(device)\n",
        "\n",
        "beams_with_eos = Beams(model, tokenizer, logprob_sums, tokens)\n",
        "best_beams, early_terminations = beams_with_eos.filter(2)\n",
        "\n",
        "t.testing.assert_close(best_beams.logprob_sums, logprob_sums[[0]])\n",
        "t.testing.assert_close(best_beams.tokens, tokens[[0]])\n",
        "\n",
        "assert early_terminations.logprobs_and_completions == [(-2.0, \"Stop\" + tokenizer.eos_token)]\n",
        "\n",
        "print(\"All tests for `filter` passed!\")"
      ]
    },
    {
      "cell_type": "markdown",
      "metadata": {
        "id": "Shua7jeTfHOG"
      },
      "source": [
        "<details>\n",
        "<summary>Solutions (for <code>generate</code> and <code>filter</code>)</summary>\n",
        "\n",
        "```python\n",
        "def generate(self, toks_per_beam: int, no_repeat_ngram_size: Optional[int] = None) -> \"Beams\":\n",
        "    '''\n",
        "    Starting from the current set of beams (which has length `num_beams`), returns a new\n",
        "    set of `num_beams * toks_per_beam`, containing the best `toks_per_beam` continuations for each\n",
        "    of the original beams.\n",
        "\n",
        "    Optional argument `no_repeat_ngram_size` means your model won't generate any sequences with\n",
        "    a repeating n-gram of this length (don't worry about implementing this until later).\n",
        "    '''\n",
        "    # SOLUTION\n",
        "\n",
        "    # Get the output logprobs for the next token (for every sequence in current beams)\n",
        "    logprobs: Tensor = self.model(self.tokens)[:, -1, :].log_softmax(-1)\n",
        "\n",
        "    # Get the top `toks_per_beam` tokens for each sequence\n",
        "    topk_logprobs, topk_tokenIDs = logprobs.topk(k=toks_per_beam)\n",
        "\n",
        "    # Get all of the new possible beams, via einops operations\n",
        "    #   Here, we're effectively flattening out the batch dimension and k dimension, to give us tensors\n",
        "    #   with every possible combination of (original sequence, new token) pairs.)\n",
        "    new_logprob_sums = sum([\n",
        "        einops.repeat(self.logprob_sums, \"batch -> batch k\", k=toks_per_beam),\n",
        "        einops.rearrange(topk_logprobs, \"batch k -> (batch k)\")\n",
        "    ])\n",
        "    new_tokens = t.concat([\n",
        "        einops.repeat(self.tokens, \"batch seq -> (batch k) seq\", k=toks_per_beam),\n",
        "        einops.rearrange(topk_tokenIDs, \"batch k -> (batch k) 1\")\n",
        "    ], dim=-1)\n",
        "    return self.new_beams(new_logprob_sums, new_tokens)\n",
        "\n",
        "\n",
        "def filter(self, num_beams: int) -> Tuple[\"Beams\", \"Beams\"]:\n",
        "    '''\n",
        "    Returns:\n",
        "        best_beams: Beams\n",
        "            filtered version of self, containing all best `num_beams` which are also not terminated.\n",
        "\n",
        "        early_terminations: Beams\n",
        "            filtered version of self, containing all best `num_beams` which are also terminated.\n",
        "            i.e. the sum of lengths of these two should equal `num_beams`.\n",
        "    '''\n",
        "    # SOLUTION\n",
        "\n",
        "    # Get the indices of top `num_beams` beams\n",
        "    top_beam_indices = self.logprob_sums.topk(k=num_beams, dim=0).indices.tolist()\n",
        "    # Get the indices of terminated sequences\n",
        "    new_tokens = self.tokens[:, -1]\n",
        "    terminated_indices = t.nonzero(new_tokens == self.tokenizer.eos_token_id)\n",
        "\n",
        "    # Get the indices of the `num_beams` best sequences (some terminated, some not terminated)\n",
        "    best_continuing = [i for i in top_beam_indices if i not in terminated_indices]\n",
        "    best_terminated = [i for i in top_beam_indices if i in terminated_indices]\n",
        "\n",
        "    # Return the beam objects from these indices\n",
        "    best_beams_continuing = self.new_beams(self.logprob_sums[best_continuing], self.tokens[best_continuing])\n",
        "    best_beams_terminated = self.new_beams(self.logprob_sums[best_terminated], self.tokens[best_terminated])\n",
        "    return best_beams_continuing, best_beams_terminated\n",
        "```\n",
        "\n",
        "</details>\n"
      ]
    },
    {
      "cell_type": "markdown",
      "metadata": {
        "id": "jrXHl0GsfHOG"
      },
      "source": [
        "Once you've passed both these unit tests, you can try implementing the full beam search function. It should create a `Beams` object from the initial prompt, and then repeatedly call `generate` and `filter` until the stopping criteria are met.\n"
      ]
    },
    {
      "cell_type": "code",
      "execution_count": null,
      "metadata": {
        "id": "2Uno10GRfHOG"
      },
      "outputs": [],
      "source": [
        "TransformerSampler.beam_search = beam_search\n",
        "\n",
        "sampler = TransformerSampler(model, tokenizer)\n",
        "\n",
        "prompt = \"The ships hung in the sky in much the same way that\"\n",
        "orig_len = len(tokenizer.encode(prompt))\n",
        "\n",
        "final_logitsums_and_completions = sampler.beam_search(\n",
        "    prompt=prompt,\n",
        "    num_return_sequences=3,\n",
        "    num_beams=40,\n",
        "    max_new_tokens=60,\n",
        "    no_repeat_ngram_size=2,\n",
        "    verbose=False\n",
        ")\n",
        "\n",
        "# Print all the best output\n",
        "for logprob_sum, text in final_logitsums_and_completions:\n",
        "    avg_logprob_as_prob = t.tensor(logprob_sum / (len(tokenizer.encode(text)) - orig_len)).exp().item()\n",
        "    print(\"=\" * 25 + f\" Avg logprob (as probability) = {avg_logprob_as_prob:.3f} \" + \"=\" * 25)\n",
        "    rprint(\"Best output:\\n\\n[bold dark_orange]\" + text)"
      ]
    },
    {
      "cell_type": "markdown",
      "metadata": {
        "id": "THgjSPShfHOG"
      },
      "source": [
        "<details>\n",
        "<summary>Solution (full)</summary>\n",
        "\n",
        "A solution for the class method `get_topk_non_repeating`:\n",
        "\n",
        "```python\n",
        "def get_topk_non_repeating(\n",
        "    self,\n",
        "    logprobs: Float[Tensor, \"batch d_vocab\"],\n",
        "    no_repeat_ngram_size: Optional[int],\n",
        "    k: int,\n",
        ") -> Tuple[Float[Tensor, \"k\"], Int[Tensor, \"k\"]]:\n",
        "    '''\n",
        "    logprobs:\n",
        "        tensor of the log-probs for the next token\n",
        "    no_repeat_ngram_size:\n",
        "        size of ngram to avoid repeating\n",
        "    k:\n",
        "        number of top logits to return, for each beam in our collection\n",
        "\n",
        "    Returns:\n",
        "        equivalent to the output of `logprobs.topk(dim=-1)`, but makes sure\n",
        "        that no returned tokens would produce an ngram of size  `no_repeat_ngram_size`\n",
        "        which has already appeared in `self.tokens`.\n",
        "    '''\n",
        "    batch, seq_len = self.tokens.shape\n",
        "    neg_inf = t.tensor(-1.0e4).to(device)\n",
        "\n",
        "    # If completion isn't long enough for a repetition, or we have no restructions, just return topk\n",
        "    if (no_repeat_ngram_size is not None) and (seq_len > no_repeat_ngram_size-1):\n",
        "        # Otherwise, we need to check for ngram repetitions\n",
        "        # First, get the most recent `no_repeat_ngram_size-1` tokens\n",
        "        last_ngram_prefix = self.tokens[:, seq_len - (no_repeat_ngram_size-1):]\n",
        "        # Next, find all the tokens we're not allowed to generate (by going iterating through past ngrams and seeing if those ngram prefixes match the last one)\n",
        "        for i in range(seq_len - (no_repeat_ngram_size-1)):\n",
        "            ngrams = self.tokens[:, i:i+no_repeat_ngram_size] # (batch, ngram)\n",
        "            ngrams_are_repeated = (ngrams[:, :-1] == last_ngram_prefix).all(-1) # (batch,)\n",
        "            ngram_end_tokens = ngrams[:, [-1]] # (batch, 1)\n",
        "            # Fill logprobs with neginf wherever the ngrams are repeated\n",
        "            logprobs[range(batch), ngram_end_tokens] = t.where(\n",
        "                ngrams_are_repeated,\n",
        "                neg_inf,\n",
        "                logprobs[range(batch), ngram_end_tokens],\n",
        "        )\n",
        "\n",
        "    # Finally, get our actual tokens\n",
        "    return logprobs.topk(k=k, dim=-1)\n",
        "```\n",
        "\n",
        "and for the main function:\n",
        "\n",
        "```python\n",
        "@t.inference_mode()\n",
        "def beam_search(\n",
        "    self: TransformerSampler,\n",
        "    prompt: str,\n",
        "    num_return_sequences: int,\n",
        "    num_beams: int,\n",
        "    max_new_tokens: int,\n",
        "    no_repeat_ngram_size: Optional[int] = None,\n",
        "    verbose=False\n",
        ") -> List[Tuple[float, Tensor]]:\n",
        "    '''\n",
        "    Implements a beam search, by repeatedly performing the `generate` and `filter` steps (starting\n",
        "    from the initial prompt) until either of the two stopping criteria are met:\n",
        "\n",
        "        (1) we've generated `max_new_tokens` tokens, or\n",
        "        (2) we've generated `num_returns_sequences` terminating sequences.\n",
        "\n",
        "    To modularize this function, most of the actual complexity is in the Beams class,\n",
        "    in the `generate` and `filter` methods.\n",
        "    '''\n",
        "\n",
        "    assert num_return_sequences <= num_beams\n",
        "    self.model.eval()\n",
        "\n",
        "    # SOLUTION\n",
        "    tokens = self.tokenizer.encode(prompt, return_tensors=\"pt\").to(device)\n",
        "\n",
        "    # List for final beams to return (and early terminations)\n",
        "    final_logprobs_and_completions: List[Tuple[float, str]] = []\n",
        "    # Keep track of all best beams after each step\n",
        "    best_beams = Beams(self.model, self.tokenizer, t.tensor([0.0]).to(device), tokens)\n",
        "\n",
        "    for n in tqdm(range(max_new_tokens)):\n",
        "\n",
        "        # Generation step\n",
        "        best_beams = best_beams.generate(toks_per_beam=num_beams, no_repeat_ngram_size=no_repeat_ngram_size)\n",
        "\n",
        "        # Filtering step\n",
        "        best_beams, best_beams_terminated = best_beams.filter(num_beams=num_beams)\n",
        "        final_logprobs_and_completions.extend(best_beams_terminated.logprobs_and_completions)\n",
        "\n",
        "        # Print output\n",
        "        if verbose:\n",
        "            best_beams.print()\n",
        "\n",
        "        # Check stopping condition\n",
        "        if len(final_logprobs_and_completions) >= num_return_sequences:\n",
        "            return final_logprobs_and_completions[:num_return_sequences]\n",
        "\n",
        "    final_logprobs_and_completions.extend(best_beams.logprobs_and_completions)\n",
        "    final_logprobs_and_completions = final_logprobs_and_completions[:num_return_sequences]\n",
        "    return final_logprobs_and_completions\n",
        "```\n",
        "\n",
        "</details>\n"
      ]
    },
    {
      "cell_type": "markdown",
      "metadata": {
        "id": "J8FpquaGfHOH"
      },
      "source": [
        "## Caching\n"
      ]
    },
    {
      "cell_type": "markdown",
      "metadata": {
        "id": "_myyOt5hfHOH"
      },
      "source": [
        "*This section is also designed to be challenging, and take quite some time. There are many different ways to solve it, and you're expected to try and find your own way (you should think about this for a while before looking at the suggestions in the dropdowns). Additionally, you might not find it as interesting as some of the other sections. In this case, and if you have a lot of extra time, you might want to start on the \"building BERT\" exercises from this chapter.*\n"
      ]
    },
    {
      "cell_type": "markdown",
      "metadata": {
        "id": "vu83LC_4fHOH"
      },
      "source": [
        "### How can caching help us?\n",
        "\n",
        "The text generation we've done so far is needlessly re-computing certain values, which is very noticeable when you try to generate longer sequences.\n",
        "\n",
        "Suppose you're generating text, and you've already run GPT on the sentence \"My life motto:\". Now you want to run the model on the sentence \"My life motto: Always\". Which computations from the first sentence can you reuse?\n",
        "\n",
        "<details>\n",
        "<summary>Answer</summary>\n",
        "\n",
        "At each attention layer, the only things the attention layer needs from the previous sequence positions are the key and value vectors. This is explained in the following diagram:\n",
        "\n",
        "<img src=\"https://raw.githubusercontent.com/callummcdougall/computational-thread-art/master/example_images/misc/tl-cache.png\" width=\"600\">\n",
        "\n",
        "</details>\n"
      ]
    },
    {
      "cell_type": "markdown",
      "metadata": {
        "id": "f7xGpbbZfHOH"
      },
      "source": [
        "### Exercise - implement caching\n",
        "\n",
        "```c\n",
        "Difficulty: 🔴🔴🔴🔴🔴\n",
        "Importance: 🔵⚪⚪⚪⚪\n",
        "\n",
        "You are expected to spend well over an hour on this exercise, if you choose to do it.\n",
        "```\n",
        "\n",
        "Modify your GPT-2 to optionally use a cache. When you run your GPT on `\"My life motto:\"`, it should store the necessary values in the cache. Then in the next forward pass with just `\" Always\"` as input, it should load the cached values instead of recomputing them (and update the cache). This only needs to work with a single input sequence (batch size of 1), and you can assume that after the first forward pass, the input will be just one token.\n",
        "\n",
        "The design of the cache is completely up to you - discuss possible designs with your partner before writing code. It should be possible to have only one GPT2 instance and many different cache instances at one time. Imagine that you want to use one instance to serve multiple users submitting requests for text generation like in [AI Dungeon](https://aidungeon.io/).\n",
        "\n",
        "You'll also need to rewrite parts of your `DemoTransformer` code, in order to get this to work. The tests have been built to accommodate modules which return their output as the first element in a tuple (i.e. `(output, cache)`) rather than just returning the output, so you should use the tests to verify that your modules still work as expected.\n",
        "\n",
        "Some example considerations:\n",
        "\n",
        "* Which GPT-2 classes need to interact with the cache?\n",
        "    * Will you need to change the positional embedding, and if so then how?\n",
        "* Should the cache be mutable and be updated in place, or does updating actually just create a separate instance?\n",
        "    * *(Hint here - think about how you might use the cache during beam search.)*\n",
        "* Is it possible for other programmers to incorrectly use your cache? Is there a way to prevent this failure mode or at least detect this and complain loudly?\n"
      ]
    },
    {
      "cell_type": "markdown",
      "metadata": {
        "id": "vq-Sx8apfHOH"
      },
      "source": [
        "<details>\n",
        "<summary>Cache implentation (example)</summary>\n",
        "\n",
        "This KeyValueCache object is structured as just a fancy tensor (it inherits all the methods from Tensor). The main difference is that it has a few extra helper methods, e.g. constructing an empty cache from a Config object.\n",
        "\n",
        "There are other ways you could do this, e.g. having your `KeyValueCache` class contain list of `KeyValueCacheEntry` objects (where each of these corresponds to a different layer).\n",
        "\n",
        "```python\n",
        "# Define a type for a single layer's cache entry (useful for type checking in later functions)\n",
        "KeyValueCacheTensor = Float[Tensor, \"2 batch seq_len n_heads d_head\"]\n",
        "\n",
        "class KeyValueCache(Tensor):\n",
        "    '''\n",
        "    This class holds tensors of key and value vectors, to be used for caching.\n",
        "\n",
        "    If we define it using cfg and batch then it's initialized as empty, but\n",
        "    we can also define it from kv_cache_entries.\n",
        "    '''\n",
        "    @classmethod\n",
        "    def new_empty(cls, cfg: Config, batch: int = 1) -> \"KeyValueCache\":\n",
        "        '''\n",
        "        Doing a forward pass on a cache created in this way indicates \"we don't\n",
        "        yet have a cache, but we want this forward pass to return a cache\".\n",
        "        Whereas using cache=None in a forward pass indicates we don't want to\n",
        "        return a cache.\n",
        "        '''\n",
        "        shape = (cfg.n_layers, 2, batch, 0, cfg.n_heads, cfg.d_head)\n",
        "        return cls(*shape).to(device)\n",
        "\n",
        "    # Define a handful of properties, so they can be referenced directly rather than\n",
        "    # indexing (which is more likely to lead to mistakes)\n",
        "\n",
        "    @property\n",
        "    def k(self) -> Tensor:\n",
        "        return self[:, 0]\n",
        "\n",
        "    @property\n",
        "    def v(self) -> Tensor:\n",
        "        return self[:, 1]\n",
        "\n",
        "    @property\n",
        "    def batch(self) -> int:\n",
        "        return self.shape[2]\n",
        "    \n",
        "    @property\n",
        "    def seq_len(self) -> int:\n",
        "        return self.shape[3]\n",
        "\n",
        "\n",
        "# Example implementation:\n",
        "cfg = model.cfg\n",
        "batch = 6\n",
        "kv_cache = KeyValueCache.new_empty(cfg, batch)\n",
        "\n",
        "print(f\"Shape of all kv-cache = {tuple(kv_cache.shape)}\")\n",
        "print(f\"Shape of just k-cache = {tuple(kv_cache.k.shape)}\")\n",
        "for kv_cache_entry in kv_cache:\n",
        "    print(f\"Shape of cache entry for one layer = {tuple(kv_cache_entry.shape)}\")\n",
        "    break\n",
        "print(f\"Batch size = {kv_cache.batch}\")\n",
        "print(f\"Current sequence length = {kv_cache.seq_len}\")\n",
        "```\n",
        "\n",
        "</details>\n",
        "\n",
        "<details>\n",
        "<summary>New <code>DemoTransformer</code> components (and testing)</summary>\n",
        "\n",
        "```python\n",
        "# Define new model parts where necessary, and create a new model & test it\n",
        "# Note that sometimes our modules return a tuple of (tensor output, cache) rather than just output. The\n",
        "# tests have been built to accommodate this.\n",
        "\n",
        "\n",
        "class PosEmbed(nn.Module):\n",
        "    def __init__(self, cfg: Config):\n",
        "        super().__init__()\n",
        "        self.cfg = cfg\n",
        "        self.W_pos = nn.Parameter(t.empty((cfg.n_ctx, cfg.d_model)))\n",
        "        nn.init.normal_(self.W_pos, std=self.cfg.init_range)\n",
        "\n",
        "    def forward(\n",
        "        self,\n",
        "        tokens: Int[Tensor, \"batch position\"],\n",
        "        past_kv_pos_offset: int = 0\n",
        "    ) -> Float[Tensor, \"batch position d_model\"]:\n",
        "        \n",
        "        # SOLUTION\n",
        "        batch, seq_len = tokens.shape\n",
        "        return einops.repeat(\n",
        "            self.W_pos[past_kv_pos_offset: seq_len+past_kv_pos_offset],\n",
        "            \"seq d_model -> batch seq d_model\",\n",
        "            batch=batch\n",
        "        )\n",
        "\n",
        "\n",
        "class Attention(nn.Module):\n",
        "    IGNORE: Float[Tensor, \"\"]\n",
        "\n",
        "    def __init__(self, cfg: Config):\n",
        "        super().__init__()\n",
        "        self.cfg = cfg\n",
        "        self.W_Q = nn.Parameter(t.empty((cfg.n_heads, cfg.d_model, cfg.d_head)))\n",
        "        self.W_K = nn.Parameter(t.empty((cfg.n_heads, cfg.d_model, cfg.d_head)))\n",
        "        self.W_V = nn.Parameter(t.empty((cfg.n_heads, cfg.d_model, cfg.d_head)))\n",
        "        self.W_O = nn.Parameter(t.empty((cfg.n_heads, cfg.d_head, cfg.d_model)))\n",
        "        self.b_Q = nn.Parameter(t.zeros((cfg.n_heads, cfg.d_head)))\n",
        "        self.b_K = nn.Parameter(t.zeros((cfg.n_heads, cfg.d_head)))\n",
        "        self.b_V = nn.Parameter(t.zeros((cfg.n_heads, cfg.d_head)))\n",
        "        self.b_O = nn.Parameter(t.zeros((cfg.d_model)))\n",
        "        nn.init.normal_(self.W_Q, std=self.cfg.init_range)\n",
        "        nn.init.normal_(self.W_K, std=self.cfg.init_range)\n",
        "        nn.init.normal_(self.W_V, std=self.cfg.init_range)\n",
        "        nn.init.normal_(self.W_O, std=self.cfg.init_range)\n",
        "        self.register_buffer(\"IGNORE\", t.tensor(-1e5, dtype=t.float32, device=device))\n",
        "\n",
        "    def forward(\n",
        "        self,\n",
        "        normalized_resid_pre: Float[Tensor, \"batch posn d_model\"],\n",
        "        kv_cache_entry: Optional[KeyValueCacheTensor] = None,\n",
        "    ) -> Tuple[\n",
        "        Float[Tensor, \"batch posn d_model\"],\n",
        "        Optional[KeyValueCacheTensor]\n",
        "    ]:\n",
        "        '''\n",
        "        Returns the result of applying attention layer to normlized_resid_pre, as well as\n",
        "        the new cached key and value vectors (which we get from concatenating the old cached\n",
        "        ones with the new key and value vectors).\n",
        "        '''\n",
        "        \n",
        "        # SOLUTION\n",
        "\n",
        "        # Calculate the new query, key and value vectors\n",
        "        q = einops.einsum(\n",
        "            normalized_resid_pre, self.W_Q,\n",
        "            \"batch posn d_model, nheads d_model d_head -> batch posn nheads d_head\"\n",
        "        ) + self.b_Q\n",
        "        k = einops.einsum(\n",
        "            normalized_resid_pre, self.W_K,\n",
        "            \"batch posn d_model, nheads d_model d_head -> batch posn nheads d_head\"\n",
        "        ) + self.b_K\n",
        "        v = einops.einsum(\n",
        "            normalized_resid_pre, self.W_V,\n",
        "            \"batch posn d_model, nheads d_model d_head -> batch posn nheads d_head\"\n",
        "        ) + self.b_V\n",
        "\n",
        "        # If cache_entry is not None, this means we use the previous key and value vectors\n",
        "        # Also we'll need to get a new cache entry which will be used later to construct a new cache\n",
        "        if kv_cache_entry is not None:\n",
        "            k = t.concat([kv_cache_entry[0], k], dim=1)\n",
        "            v = t.concat([kv_cache_entry[1], v], dim=1)\n",
        "            kv_cache_entry = t.stack([k, v])\n",
        "\n",
        "        # Calculate attention scores, then scale and mask, and apply softmax to get probabilities\n",
        "        attn_scores = einops.einsum(\n",
        "            q, k,\n",
        "            \"batch posn_Q nheads d_head, batch posn_K nheads d_head -> batch nheads posn_Q posn_K\"\n",
        "        )\n",
        "        attn_scores_masked = self.apply_causal_mask(attn_scores / self.cfg.d_head ** 0.5)\n",
        "        attn_pattern = attn_scores_masked.softmax(-1)\n",
        "\n",
        "        # Take weighted sum of value vectors, according to attention probabilities\n",
        "        z = einops.einsum(\n",
        "            v, attn_pattern,\n",
        "            \"batch posn_K nheads d_head, batch nheads posn_Q posn_K -> batch posn_Q nheads d_head\"\n",
        "        )\n",
        "\n",
        "        # Calculate output (by applying matrix W_O and summing over heads, then adding bias b_O)\n",
        "        out = einops.einsum(\n",
        "            z, self.W_O,\n",
        "            \"batch posn_Q nheads d_head, nheads d_head d_model -> batch posn_Q d_model\"\n",
        "        ) + self.b_O\n",
        "\n",
        "        return out, kv_cache_entry\n",
        "\n",
        "    def apply_causal_mask(\n",
        "        self, attn_scores: Float[Tensor, \"batch n_heads query_pos key_pos\"]\n",
        "    ) -> Float[Tensor, \"batch n_heads query_pos key_pos\"]:\n",
        "        '''\n",
        "        Here, attn_scores have shape (batch, n_heads, query_pos, key_pos), where query_pos represents the\n",
        "        new (non-cached) positions, and key_pos represent all the positions (cached and non-cached).\n",
        "\n",
        "        So when we create our mask, the query indices and key indices will both go up to the same value\n",
        "        (the full sequence length), but the query indices will start at >0.\n",
        "        '''\n",
        "        new_seq_len, full_seq_len = attn_scores.shape[-2:]\n",
        "        assert new_seq_len <= full_seq_len\n",
        "        q_posn = einops.repeat(attn_scores.new_tensor(range(full_seq_len-new_seq_len, full_seq_len)), \"q -> q k\", k=full_seq_len)\n",
        "        k_posn = einops.repeat(attn_scores.new_tensor(range(full_seq_len)), \"k -> q k\", q=new_seq_len)\n",
        "        mask = q_posn < k_posn\n",
        "        attn_scores = attn_scores.masked_fill(mask, self.IGNORE)\n",
        "        return attn_scores\n",
        "\n",
        "\n",
        "class TransformerBlock(nn.Module):\n",
        "    def __init__(self, cfg: Config):\n",
        "        super().__init__()\n",
        "        self.cfg = cfg\n",
        "        self.ln1 = LayerNorm(cfg)\n",
        "        self.attn = Attention(cfg)\n",
        "        self.ln2 = LayerNorm(cfg)\n",
        "        self.mlp = MLP(cfg)\n",
        "\n",
        "    def forward(\n",
        "        self,\n",
        "        resid_pre: Float[Tensor, \"batch position d_model\"],\n",
        "        kv_cache_entry: Optional[KeyValueCacheTensor] = None,\n",
        "    ) -> Float[Tensor, \"batch position d_model\"]:\n",
        "\n",
        "        # SOLUTION\n",
        "        attn_out, kv_cache_entry = self.attn(self.ln1(resid_pre), kv_cache_entry)\n",
        "        resid_mid = attn_out + resid_pre\n",
        "        resid_post = self.mlp(self.ln2(resid_mid)) + resid_mid\n",
        "        return resid_post, kv_cache_entry\n",
        "\n",
        "\n",
        "\n",
        "class DemoTransformer(nn.Module):\n",
        "    def __init__(self, cfg: Config):\n",
        "        super().__init__()\n",
        "        self.cfg = cfg\n",
        "        self.embed = Embed(cfg)\n",
        "        self.pos_embed = PosEmbed(cfg)\n",
        "        self.blocks = nn.ModuleList([TransformerBlock(cfg) for _ in range(cfg.n_layers)])\n",
        "        self.ln_final = LayerNorm(cfg)\n",
        "        self.unembed = Unembed(cfg)\n",
        "\n",
        "    def forward(\n",
        "        self,\n",
        "        tokens: Int[Tensor, \"batch seq_pos\"],\n",
        "        kv_cache: Optional[KeyValueCache] = None\n",
        "    ) -> Float[Tensor, \"batch position d_vocab\"]:\n",
        "        \n",
        "        using_kv_cache = kv_cache is not None\n",
        "\n",
        "        if using_kv_cache:\n",
        "            # If using kv_cache, then we only need to pass forward the newest tokens\n",
        "            # Remember to add positional offset!\n",
        "            n_cached_tokens = kv_cache.seq_len\n",
        "            tokens = tokens[:, n_cached_tokens:]\n",
        "            residual = self.embed(tokens) + self.pos_embed(tokens, n_cached_tokens)\n",
        "        else:\n",
        "            # If not using cache, turn it into a list of None's (so we can iterate through it)\n",
        "            kv_cache = [None for _ in range(self.cfg.n_layers)]\n",
        "            residual = self.embed(tokens) + self.pos_embed(tokens)\n",
        "        \n",
        "        # Apply all layers, and create a (new) kv_cache from the key & value vectors\n",
        "        new_kv_cache_entries: List[KeyValueCacheTensor] = []\n",
        "        for block, kv_cache_entry in zip(self.blocks, kv_cache):\n",
        "            residual, kv_cache_entry = block(residual, kv_cache_entry)\n",
        "            if using_kv_cache: new_kv_cache_entries.append(kv_cache_entry)\n",
        "        \n",
        "        logits = self.unembed(self.ln_final(residual))\n",
        "        \n",
        "        if using_kv_cache:\n",
        "            return logits, KeyValueCache(t.stack(new_kv_cache_entries))\n",
        "        else:\n",
        "            return logits, None\n",
        "\n",
        "\n",
        "tokens = reference_gpt2.to_tokens(reference_text).to(device)\n",
        "logits, cache = reference_gpt2.run_with_cache(tokens)\n",
        "\n",
        "rand_int_test(PosEmbed, [2, 4])\n",
        "load_gpt2_test(PosEmbed, reference_gpt2.pos_embed, tokens)\n",
        "rand_float_test(Attention, [2, 4, 768])\n",
        "load_gpt2_test(Attention, reference_gpt2.blocks[0].attn, cache[\"normalized\", 0, \"ln1\"])\n",
        "rand_float_test(TransformerBlock, [2, 4, 768])\n",
        "load_gpt2_test(TransformerBlock, reference_gpt2.blocks[0], cache[\"resid_pre\", 0])\n",
        "rand_int_test(DemoTransformer, [2, 4])\n",
        "load_gpt2_test(DemoTransformer, reference_gpt2, tokens)\n",
        "```\n",
        "\n",
        "</details>\n",
        "\n",
        "<details>\n",
        "<summary>New sampling function</summary>\n",
        "\n",
        "```python\n",
        "@t.inference_mode()\n",
        "def sample_with_cache(\n",
        "    self: TransformerSampler,\n",
        "    prompt: str,\n",
        "    max_tokens_generated=100,\n",
        "    kv_cache: Optional[KeyValueCache] = None,\n",
        "    verbose=False,\n",
        "    seed: Optional[int] = None,\n",
        "    **kwargs\n",
        ") -> str:\n",
        "    \n",
        "    # SOLUTION\n",
        "    self.model.eval()\n",
        "    input_ids = self.tokenizer.encode(prompt, return_tensors=\"pt\").to(device)[0]\n",
        "    if seed is not None:\n",
        "        np.random.seed(seed)\n",
        "        t.manual_seed(seed)\n",
        "\n",
        "    for i in tqdm(range(max_tokens_generated)):\n",
        "        # Get new logits (make sure we don't pass in more tokens than the model's context length)\n",
        "        logits, kv_cache = self.model(input_ids[None, -self.cfg.n_ctx:], kv_cache)\n",
        "        # We only take logits for the last token, because this is what we're sampling\n",
        "        logits = logits[0, -1]\n",
        "        # Get next token (as a tensor of size (1, 1) so we can concat it to input_ids)\n",
        "        next_token = t.tensor([TransformerSampler.sample_next_token(input_ids, logits, **kwargs)], device=device)\n",
        "        # Create new input ids string, with shape (1, old_seq_len + 1)\n",
        "        input_ids = t.cat([input_ids, next_token], dim=-1)\n",
        "        # Print out results, if required\n",
        "        if verbose:\n",
        "            print(self.tokenizer.decode(input_ids), end=\"\\r\")\n",
        "        # If our new token was the end-of-text token, stop\n",
        "        if next_token == getattr(self.tokenizer, \"eos_token_id\", None):\n",
        "            break\n",
        "    \n",
        "    return self.tokenizer.decode(input_ids)\n",
        "\n",
        "\n",
        "TransformerSampler.sample = sample_with_cache\n",
        "```\n",
        "</details>\n",
        "\n",
        "<details>\n",
        "<summary>Code to verify that the same output is being produced by cache and no-cache versions (and to compare speeds)</summary>\n",
        "\n",
        "```python\n",
        "device = t.device(\"cuda\") # can also try \"cpu\"\n",
        "\n",
        "model = DemoTransformer(Config()).to(device)\n",
        "model.load_state_dict(reference_gpt2.state_dict(), strict=False);\n",
        "\n",
        "initial_text = \"Eliezer Shlomo Yudkowsky (born September 11, 1979) is an American decision and artificial intelligence (AI) theorist and writer, best known for\"\n",
        "# input_ids = tokenizer.encode(initial_text, return_tensors=\"pt\").squeeze()\n",
        "\n",
        "sampler = TransformerSampler(model, tokenizer)\n",
        "\n",
        "# Run the noncached version\n",
        "t0 = time.time()\n",
        "text = sampler.sample(\n",
        "    initial_text,\n",
        "    temperature=0.7,\n",
        "    top_p=0.95,\n",
        "    seed=0,\n",
        ")\n",
        "print(f\"Time taken (without cache): {time.time() - t0:.2f} seconds\")\n",
        "rprint(f\"Model output:\\n\\n[bold dark_orange]{text}[/]\")\n",
        "\n",
        "# Run the cached version\n",
        "t0 = time.time()\n",
        "text_with_cache = sampler.sample(\n",
        "    initial_text,\n",
        "    temperature=0.7,\n",
        "    top_p=0.95,\n",
        "    seed=0,\n",
        "    kv_cache=KeyValueCache.new_empty(sampler.cfg)\n",
        ")\n",
        "print(f\"Time taken (with cache): {time.time() - t0:.2f} seconds\")\n",
        "rprint(f\"Model output:\\n\\n[bold dark_orange]{text_with_cache}[/]\")\n",
        "\n",
        "# # Check they are the same\n",
        "assert text == text_with_cache, \"Your outputs are different, meaning you've probably made a mistake in your cache implementation (or failed to use random seeds).\"\n",
        "print(\"Tests passed!\")\n",
        "```\n",
        "\n",
        "</details>\n"
      ]
    },
    {
      "cell_type": "markdown",
      "metadata": {
        "id": "FhYU3O6sfHOH"
      },
      "source": [
        "You may find that your cache implementation provides a modest speedup, but probably not close to the `seq_len`-factor speedup you'd expect from the fact that you only compute one additional token at each step rather than all of them. Why is this? The answer is that, much like everything to do with computational and memory costs in deep learning, it's not so simple. There are a host of different factors which might be bottlenecking our model's forward pass speed. If you try this on the CPU, you should get a much more noticeable speedup.\n",
        "\n",
        "For a bit more on these topics, see [here](https://kipp.ly/blog/transformer-inference-arithmetic/#kv-cache).\n"
      ]
    },
    {
      "cell_type": "markdown",
      "metadata": {
        "id": "0S_uxUzRfHOH"
      },
      "source": [
        "## Bonus - cached beam search\n",
        "\n",
        "Can you modify your beam search function to use caching?\n",
        "\n",
        "Depending on how you implemented your cache earlier, you might find that a different form of caching is better suited to beam search.\n",
        "\n",
        "Again, we've provided an example implementation in a dropdown below, which is based on the cache implementation above and the previous solution for `beam_search`.\n",
        "\n",
        "<details>\n",
        "<summary>Cached beam search function</summary>\n",
        "\n",
        "As we touched on earlier, thanks to our modular code, not a lot needs to be changed when adding cache support.\n",
        "\n",
        "```python\n",
        "@dataclass\n",
        "class Beams:\n",
        "    '''Class to store beams during beam search.'''\n",
        "    model: DemoTransformer\n",
        "    tokenizer: GPT2TokenizerFast\n",
        "    logprob_sums: Float[Tensor, \"batch\"]\n",
        "    tokens: Int[Tensor, \"batch seq\"]\n",
        "    kv_cache: Optional[KeyValueCache] = None\n",
        "\n",
        "    def new_beams(self, logprob_sums, tokens, kv_cache) -> \"Beams\":\n",
        "        '''Creates a new Beams object with the same model and tokenizer.'''\n",
        "        return Beams(self.model, self.tokenizer, logprob_sums, tokens, kv_cache)\n",
        "\n",
        "    def __getitem__(self, idx) -> \"Beams\":\n",
        "        '''Helpful function allowing you to take a slice of the beams object along the batch dimension.'''\n",
        "        return self.new_beams(\n",
        "            self.logprob_sums[idx],\n",
        "            self.tokens[idx],\n",
        "            self.kv_cache[:, :, idx] if self.kv_cache is not None else None\n",
        "        )\n",
        "\n",
        "    @property\n",
        "    def logprobs_and_completions(self) -> List[Tuple[float, str]]:\n",
        "        '''Returns self as a list of logprob sums and completions (useful for getting final output).'''\n",
        "        return [\n",
        "            (logprob_sum.item(), self.tokenizer.decode(tokens))\n",
        "            for (logprob_sum, tokens) in zip(self.logprob_sums, self.tokens)\n",
        "        ]\n",
        "    \n",
        "\n",
        "    def generate(self, new_beams: int, no_repeat_ngram_size: Optional[int] = None) -> \"Beams\":\n",
        "        '''\n",
        "        Starting from the current set of beams (which has length `num_beams`), returns a new\n",
        "        set of `num_beams * new_beams`, containing the best `new_beams` continuations for each\n",
        "        of the original beams.\n",
        "\n",
        "        Optional argument `no_repeat_ngram_size` means your model won't generate any sequences with\n",
        "        a repeating n-gram of this length (don't worry about implementing this until later).\n",
        "        '''\n",
        "        # SOLUTION\n",
        "\n",
        "        # Get the output logprobs for the next token (for every sequence in current beams)\n",
        "        logprobs, kv_cache = self.model(self.tokens, self.kv_cache)\n",
        "        logprobs = logprobs[:, -1, :].log_softmax(-1)\n",
        "\n",
        "        # Get the top `new_beams` tokens for each sequence\n",
        "        topk_logprobs, topk_tokenIDs = self.get_topk_non_repeating(logprobs, no_repeat_ngram_size, k=new_beams)\n",
        "\n",
        "        # Get all of the new possible beams, via einops operations\n",
        "        #   Here, we're effectively flattening out the batch dimension and k dimension, to give us tensors\n",
        "        #   with every possible combination of (original sequence, new token) pairs.)\n",
        "        new_logprob_sums = sum([\n",
        "            einops.repeat(self.logprob_sums, \"batch -> (batch k)\", k=new_beams),\n",
        "            einops.rearrange(topk_logprobs, \"batch k -> (batch k)\")\n",
        "        ])\n",
        "        new_tokens = t.concat([\n",
        "            einops.repeat(self.tokens, \"batch seq -> (batch k) seq\", k=new_beams),\n",
        "            einops.rearrange(topk_tokenIDs, \"batch k -> (batch k) 1\")\n",
        "        ], dim=-1)\n",
        "        new_kv_cache = None if (self.kv_cache is None) else einops.repeat(\n",
        "            kv_cache, \"layer k_and_v batch ... -> layer k_and_v (batch k) ...\", k=new_beams\n",
        "        )\n",
        "        return self.new_beams(new_logprob_sums, new_tokens, new_kv_cache)\n",
        "\n",
        "\n",
        "    def filter(self, num_beams: int) -> Tuple[\"Beams\", \"Beams\"]:\n",
        "        '''\n",
        "        Returns:\n",
        "            best_beams: Beams\n",
        "                filtered version of self, containing all best `num_beams` which are also not terminated.\n",
        "\n",
        "            early_terminations: Beams\n",
        "                filtered version of self, containing all best `num_beams` which are also terminated.\n",
        "                i.e. the sum of lengths of these two should equal `num_beams`.\n",
        "        '''\n",
        "        # SOLUTION\n",
        "\n",
        "        # Get the indices of top `num_beams` beams\n",
        "        top_beam_indices = self.logprob_sums.topk(k=num_beams, dim=0).indices.tolist()\n",
        "        # Get the indices of terminated sequences\n",
        "        new_tokens = self.tokens[:, -1]\n",
        "        terminated_indices = t.nonzero(new_tokens == self.tokenizer.eos_token_id)\n",
        "\n",
        "        # Get the indices of the `num_beams` best sequences (some terminated, some not terminated)\n",
        "        best_continuing = [i for i in top_beam_indices if i not in terminated_indices]\n",
        "        best_terminated = [i for i in top_beam_indices if i in terminated_indices]\n",
        "\n",
        "        # Return the beam objects from these indices\n",
        "        return self[best_continuing], self[best_terminated]\n",
        "\n",
        "            \n",
        "    def get_topk_non_repeating(\n",
        "        self,\n",
        "        logprobs: Float[Tensor, \"batch d_vocab\"],\n",
        "        no_repeat_ngram_size: Optional[int],\n",
        "        k: int,\n",
        "    ) -> Tuple[Float[Tensor, \"k\"], Int[Tensor, \"k\"]]:\n",
        "        '''\n",
        "        logprobs:\n",
        "            tensor of the log-probs for the next token\n",
        "        no_repeat_ngram_size:\n",
        "            size of ngram to avoid repeating\n",
        "        k:\n",
        "            number of top logits to return, for each beam in our collection\n",
        "\n",
        "        Returns:\n",
        "            equivalent to the output of `logprobs.topk(dim=-1)`, but makes sure\n",
        "            that no returned tokens would produce an ngram of size  `no_repeat_ngram_size`\n",
        "            which has already appeared in `self.tokens`.\n",
        "        '''\n",
        "        batch, seq_len = self.tokens.shape\n",
        "        neg_inf = t.tensor(-1.0e4).to(device)\n",
        "\n",
        "        # If completion isn't long enough for a repetition, or we have no restructions, just return topk\n",
        "        if (no_repeat_ngram_size is not None) and (seq_len > no_repeat_ngram_size-1):\n",
        "            # Otherwise, we need to check for ngram repetitions\n",
        "            # First, get the most recent `no_repeat_ngram_size-1` tokens\n",
        "            last_ngram_prefix = self.tokens[:, seq_len - (no_repeat_ngram_size-1):]\n",
        "            # Next, find all the tokens we're not allowed to generate (by going iterating through past ngrams and seeing if those ngram prefixes match the last one)\n",
        "            for i in range(seq_len - (no_repeat_ngram_size-1)):\n",
        "                ngrams = self.tokens[:, i:i+no_repeat_ngram_size] # (batch, ngram)\n",
        "                ngrams_are_repeated = (ngrams[:, :-1] == last_ngram_prefix).all(-1) # (batch,)\n",
        "                ngram_end_tokens = ngrams[:, [-1]] # (batch, 1)\n",
        "                # Fill logprobs with neginf wherever the ngrams are repeated\n",
        "                logprobs[range(batch), ngram_end_tokens] = t.where(\n",
        "                    ngrams_are_repeated,\n",
        "                    neg_inf,\n",
        "                    logprobs[range(batch), ngram_end_tokens],\n",
        "            )\n",
        "\n",
        "        # Finally, get our actual tokens\n",
        "        return logprobs.topk(k=k, dim=-1)\n",
        "\n",
        "    def print(self, title=\"Best completions\", max_print_chars=80) -> None:\n",
        "        '''\n",
        "        Prints out a set of sequences with their corresponding logitsums.\n",
        "        '''\n",
        "        if len(self.tokens) == 0:\n",
        "            return\n",
        "        table = Table(\"logitsum\", \"completion\", title=title)\n",
        "        for logprob_sum, tokens in zip(self.logprob_sums, self.tokens):\n",
        "            text = self.tokenizer.decode(tokens)\n",
        "            if len(repr(text)) > max_print_chars:\n",
        "                text = text[:int(0.3 * max_print_chars)] + \" ... \" + text[-int(0.7 * max_print_chars):]\n",
        "            table.add_row(f\"{logprob_sum:>8.3f}\", repr(text))\n",
        "        rprint(table)\n",
        "\n",
        "\n",
        "@t.inference_mode()\n",
        "def beam_search(\n",
        "    self: TransformerSampler,\n",
        "    prompt: str,\n",
        "    num_return_sequences: int,\n",
        "    num_beams: int,\n",
        "    max_new_tokens: int,\n",
        "    no_repeat_ngram_size: Optional[int] = None,\n",
        "    kv_cache: Optional[KeyValueCache] = None,\n",
        "    verbose=False\n",
        ") -> List[Tuple[float, Tensor]]:\n",
        "    '''\n",
        "    Implements a beam search, by repeatedly performing the `generate` and `filter` steps (starting\n",
        "    from the initial prompt) until either of the two stopping criteria are met:\n",
        "\n",
        "        (1) we've generated `max_new_tokens` tokens, or\n",
        "        (2) we've generated `num_returns_sequences` terminating sequences.\n",
        "\n",
        "    To modularize this function, most of the actual complexity is in the Beams class,\n",
        "    in the `generate` and `filter` methods.\n",
        "    '''\n",
        "\n",
        "    assert num_return_sequences <= num_beams\n",
        "    self.model.eval()\n",
        "\n",
        "    # SOLUTION\n",
        "    tokens = self.tokenizer.encode(prompt, return_tensors=\"pt\").to(device)\n",
        "\n",
        "    # List for final beams to return (and early terminations)\n",
        "    final_logprobs_and_completions: List[Tuple[float, str]] = []\n",
        "    # Keep track of all best beams after each step\n",
        "    best_beams = Beams(self.model, self.tokenizer, t.tensor([0.0]).to(device), tokens, kv_cache)\n",
        "\n",
        "    for n in tqdm(range(max_new_tokens)):\n",
        "\n",
        "        # Generation step\n",
        "        best_beams = best_beams.generate(num_beams, no_repeat_ngram_size)\n",
        "\n",
        "        # Filtering step\n",
        "        best_beams, best_beams_terminated = best_beams.filter(num_beams)\n",
        "        final_logprobs_and_completions.extend(best_beams_terminated.logprobs_and_completions)\n",
        "\n",
        "        # Print output\n",
        "        if verbose:\n",
        "            best_beams.print()\n",
        "\n",
        "        # Check stopping condition\n",
        "        if len(final_logprobs_and_completions) >= num_return_sequences:\n",
        "            return final_logprobs_and_completions[:num_return_sequences]\n",
        "\n",
        "    final_logprobs_and_completions.extend(best_beams.logprobs_and_completions)\n",
        "    final_logprobs_and_completions = final_logprobs_and_completions[:num_return_sequences]\n",
        "    return final_logprobs_and_completions\n",
        "\n",
        "\n",
        "TransformerSampler.beam_search = beam_search\n",
        "```\n",
        "\n",
        "</details>\n",
        "\n",
        "<details>\n",
        "<summary>Code to verify that the same output is being produced by cache and no-cache versions (and to compare speeds)</summary>\n",
        "\n",
        "```python\n",
        "prompt = \"For you, the day Bison graced your village was the most important day of your life. But for me, it was\"\n",
        "orig_len = len(tokenizer.encode(prompt))\n",
        "\n",
        "beam_search_kwargs = dict(\n",
        "    prompt=prompt,\n",
        "    num_return_sequences=3,\n",
        "    num_beams=20,\n",
        "    max_new_tokens=60,\n",
        "    no_repeat_ngram_size=2,\n",
        "    verbose=False\n",
        ")\n",
        "\n",
        "sampler = TransformerSampler(model, tokenizer)\n",
        "\n",
        "# Run the noncached version\n",
        "t0 = time.time()\n",
        "final_logitsums_and_completions = sampler.beam_search(**beam_search_kwargs)\n",
        "logprob_sum, text = final_logitsums_and_completions[0]\n",
        "avg_logprob_as_prob = t.tensor(logprob_sum / (len(tokenizer.encode(text)) - orig_len)).exp().item()\n",
        "print(f\"Time (without cache): {time.time() - t0:.2f} seconds\")\n",
        "print(f\"Avg logprob (expressed as a probability) = {avg_logprob_as_prob:.3f}\")\n",
        "rprint(f\"Output:\\n\\n[bold dark_orange]{text}[/]\\n\\n\")\n",
        "\n",
        "# Run the cached version\n",
        "t0 = time.time()\n",
        "beam_search_kwargs[\"kv_cache\"] = KeyValueCache.new_empty(model.cfg)\n",
        "final_logitsums_and_completions = sampler.beam_search(**beam_search_kwargs)\n",
        "logprob_sum, text_with_cache = final_logitsums_and_completions[0]\n",
        "avg_logprob_as_prob = t.tensor(logprob_sum / (len(tokenizer.encode(text)) - orig_len)).exp().item()\n",
        "print(f\"Time (with cache): {time.time() - t0:.2f} seconds\")\n",
        "print(f\"Avg logprob (as probability) = {avg_logprob_as_prob:.3f}\", end=\"\")\n",
        "rprint(f\"Output:\\n\\n[bold dark_orange]{text_with_cache}[/]\\n\\n\")\n",
        "\n",
        "# Check they are the same\n",
        "assert text == text_with_cache, \"Your outputs are different, meaning you've probably made a mistake in your cache implementation.\"\n",
        "print(\"Tests passed!\")\n",
        "```\n",
        "\n",
        "</details>\n"
      ]
    }
  ],
  "metadata": {
    "accelerator": "GPU",
    "colab": {
      "collapsed_sections": [
        "Ny4PdCRf3YPu",
        "QfeyG6NZm4SC",
        "VLJL82W0oWzF",
        "pA0KyYuAvs8g"
      ],
      "gpuType": "T4",
      "provenance": []
    },
    "kernelspec": {
      "display_name": "Python 3",
      "name": "python3"
    },
    "language_info": {
      "codemirror_mode": {
        "name": "ipython",
        "version": 3
      },
      "file_extension": ".py",
      "mimetype": "text/x-python",
      "name": "python",
      "nbconvert_exporter": "python",
      "pygments_lexer": "ipython3",
      "version": "3.10.9"
    },
    "vscode": {
      "interpreter": {
        "hash": "0575d7a87c0e74eddddcbc1a627da1d71db6b89a3121c036174dfb29a1bf0df3"
      }
    },
    "widgets": {
      "application/vnd.jupyter.widget-state+json": {
        "05c41fb7abbc48fb867a55a7f919cee6": {
          "model_module": "@jupyter-widgets/controls",
          "model_name": "HBoxModel",
          "model_module_version": "1.5.0",
          "state": {
            "_dom_classes": [],
            "_model_module": "@jupyter-widgets/controls",
            "_model_module_version": "1.5.0",
            "_model_name": "HBoxModel",
            "_view_count": null,
            "_view_module": "@jupyter-widgets/controls",
            "_view_module_version": "1.5.0",
            "_view_name": "HBoxView",
            "box_style": "",
            "children": [
              "IPY_MODEL_d5667ae980244bd3b457990d0c0f167c",
              "IPY_MODEL_427eb3d5faa74a93b9f0720c9c5e2b2d",
              "IPY_MODEL_1dedb4cf0a644a2eb88b6dcf542f7c98"
            ],
            "layout": "IPY_MODEL_768afeeb5d3c457f870d03377b1fc083"
          }
        },
        "d5667ae980244bd3b457990d0c0f167c": {
          "model_module": "@jupyter-widgets/controls",
          "model_name": "HTMLModel",
          "model_module_version": "1.5.0",
          "state": {
            "_dom_classes": [],
            "_model_module": "@jupyter-widgets/controls",
            "_model_module_version": "1.5.0",
            "_model_name": "HTMLModel",
            "_view_count": null,
            "_view_module": "@jupyter-widgets/controls",
            "_view_module_version": "1.5.0",
            "_view_name": "HTMLView",
            "description": "",
            "description_tooltip": null,
            "layout": "IPY_MODEL_11fb2c47b789459e8ca59ce220c3d9af",
            "placeholder": "​",
            "style": "IPY_MODEL_f94411f132aa435faf782596184b98ae",
            "value": "100%"
          }
        },
        "427eb3d5faa74a93b9f0720c9c5e2b2d": {
          "model_module": "@jupyter-widgets/controls",
          "model_name": "FloatProgressModel",
          "model_module_version": "1.5.0",
          "state": {
            "_dom_classes": [],
            "_model_module": "@jupyter-widgets/controls",
            "_model_module_version": "1.5.0",
            "_model_name": "FloatProgressModel",
            "_view_count": null,
            "_view_module": "@jupyter-widgets/controls",
            "_view_module_version": "1.5.0",
            "_view_name": "ProgressView",
            "bar_style": "success",
            "description": "",
            "description_tooltip": null,
            "layout": "IPY_MODEL_5849389c8a464eff93fdc40b644b28eb",
            "max": 100,
            "min": 0,
            "orientation": "horizontal",
            "style": "IPY_MODEL_fadc7761fae7486bbc6c2b460fe62ee3",
            "value": 100
          }
        },
        "1dedb4cf0a644a2eb88b6dcf542f7c98": {
          "model_module": "@jupyter-widgets/controls",
          "model_name": "HTMLModel",
          "model_module_version": "1.5.0",
          "state": {
            "_dom_classes": [],
            "_model_module": "@jupyter-widgets/controls",
            "_model_module_version": "1.5.0",
            "_model_name": "HTMLModel",
            "_view_count": null,
            "_view_module": "@jupyter-widgets/controls",
            "_view_module_version": "1.5.0",
            "_view_name": "HTMLView",
            "description": "",
            "description_tooltip": null,
            "layout": "IPY_MODEL_f17907e14b6e4cbdb4948c163b426808",
            "placeholder": "​",
            "style": "IPY_MODEL_fb1bbbd4159a4af583e8d99e903a4c04",
            "value": " 100/100 [00:05&lt;00:00, 18.96it/s]"
          }
        },
        "768afeeb5d3c457f870d03377b1fc083": {
          "model_module": "@jupyter-widgets/base",
          "model_name": "LayoutModel",
          "model_module_version": "1.2.0",
          "state": {
            "_model_module": "@jupyter-widgets/base",
            "_model_module_version": "1.2.0",
            "_model_name": "LayoutModel",
            "_view_count": null,
            "_view_module": "@jupyter-widgets/base",
            "_view_module_version": "1.2.0",
            "_view_name": "LayoutView",
            "align_content": null,
            "align_items": null,
            "align_self": null,
            "border": null,
            "bottom": null,
            "display": null,
            "flex": null,
            "flex_flow": null,
            "grid_area": null,
            "grid_auto_columns": null,
            "grid_auto_flow": null,
            "grid_auto_rows": null,
            "grid_column": null,
            "grid_gap": null,
            "grid_row": null,
            "grid_template_areas": null,
            "grid_template_columns": null,
            "grid_template_rows": null,
            "height": null,
            "justify_content": null,
            "justify_items": null,
            "left": null,
            "margin": null,
            "max_height": null,
            "max_width": null,
            "min_height": null,
            "min_width": null,
            "object_fit": null,
            "object_position": null,
            "order": null,
            "overflow": null,
            "overflow_x": null,
            "overflow_y": null,
            "padding": null,
            "right": null,
            "top": null,
            "visibility": null,
            "width": null
          }
        },
        "11fb2c47b789459e8ca59ce220c3d9af": {
          "model_module": "@jupyter-widgets/base",
          "model_name": "LayoutModel",
          "model_module_version": "1.2.0",
          "state": {
            "_model_module": "@jupyter-widgets/base",
            "_model_module_version": "1.2.0",
            "_model_name": "LayoutModel",
            "_view_count": null,
            "_view_module": "@jupyter-widgets/base",
            "_view_module_version": "1.2.0",
            "_view_name": "LayoutView",
            "align_content": null,
            "align_items": null,
            "align_self": null,
            "border": null,
            "bottom": null,
            "display": null,
            "flex": null,
            "flex_flow": null,
            "grid_area": null,
            "grid_auto_columns": null,
            "grid_auto_flow": null,
            "grid_auto_rows": null,
            "grid_column": null,
            "grid_gap": null,
            "grid_row": null,
            "grid_template_areas": null,
            "grid_template_columns": null,
            "grid_template_rows": null,
            "height": null,
            "justify_content": null,
            "justify_items": null,
            "left": null,
            "margin": null,
            "max_height": null,
            "max_width": null,
            "min_height": null,
            "min_width": null,
            "object_fit": null,
            "object_position": null,
            "order": null,
            "overflow": null,
            "overflow_x": null,
            "overflow_y": null,
            "padding": null,
            "right": null,
            "top": null,
            "visibility": null,
            "width": null
          }
        },
        "f94411f132aa435faf782596184b98ae": {
          "model_module": "@jupyter-widgets/controls",
          "model_name": "DescriptionStyleModel",
          "model_module_version": "1.5.0",
          "state": {
            "_model_module": "@jupyter-widgets/controls",
            "_model_module_version": "1.5.0",
            "_model_name": "DescriptionStyleModel",
            "_view_count": null,
            "_view_module": "@jupyter-widgets/base",
            "_view_module_version": "1.2.0",
            "_view_name": "StyleView",
            "description_width": ""
          }
        },
        "5849389c8a464eff93fdc40b644b28eb": {
          "model_module": "@jupyter-widgets/base",
          "model_name": "LayoutModel",
          "model_module_version": "1.2.0",
          "state": {
            "_model_module": "@jupyter-widgets/base",
            "_model_module_version": "1.2.0",
            "_model_name": "LayoutModel",
            "_view_count": null,
            "_view_module": "@jupyter-widgets/base",
            "_view_module_version": "1.2.0",
            "_view_name": "LayoutView",
            "align_content": null,
            "align_items": null,
            "align_self": null,
            "border": null,
            "bottom": null,
            "display": null,
            "flex": null,
            "flex_flow": null,
            "grid_area": null,
            "grid_auto_columns": null,
            "grid_auto_flow": null,
            "grid_auto_rows": null,
            "grid_column": null,
            "grid_gap": null,
            "grid_row": null,
            "grid_template_areas": null,
            "grid_template_columns": null,
            "grid_template_rows": null,
            "height": null,
            "justify_content": null,
            "justify_items": null,
            "left": null,
            "margin": null,
            "max_height": null,
            "max_width": null,
            "min_height": null,
            "min_width": null,
            "object_fit": null,
            "object_position": null,
            "order": null,
            "overflow": null,
            "overflow_x": null,
            "overflow_y": null,
            "padding": null,
            "right": null,
            "top": null,
            "visibility": null,
            "width": null
          }
        },
        "fadc7761fae7486bbc6c2b460fe62ee3": {
          "model_module": "@jupyter-widgets/controls",
          "model_name": "ProgressStyleModel",
          "model_module_version": "1.5.0",
          "state": {
            "_model_module": "@jupyter-widgets/controls",
            "_model_module_version": "1.5.0",
            "_model_name": "ProgressStyleModel",
            "_view_count": null,
            "_view_module": "@jupyter-widgets/base",
            "_view_module_version": "1.2.0",
            "_view_name": "StyleView",
            "bar_color": null,
            "description_width": ""
          }
        },
        "f17907e14b6e4cbdb4948c163b426808": {
          "model_module": "@jupyter-widgets/base",
          "model_name": "LayoutModel",
          "model_module_version": "1.2.0",
          "state": {
            "_model_module": "@jupyter-widgets/base",
            "_model_module_version": "1.2.0",
            "_model_name": "LayoutModel",
            "_view_count": null,
            "_view_module": "@jupyter-widgets/base",
            "_view_module_version": "1.2.0",
            "_view_name": "LayoutView",
            "align_content": null,
            "align_items": null,
            "align_self": null,
            "border": null,
            "bottom": null,
            "display": null,
            "flex": null,
            "flex_flow": null,
            "grid_area": null,
            "grid_auto_columns": null,
            "grid_auto_flow": null,
            "grid_auto_rows": null,
            "grid_column": null,
            "grid_gap": null,
            "grid_row": null,
            "grid_template_areas": null,
            "grid_template_columns": null,
            "grid_template_rows": null,
            "height": null,
            "justify_content": null,
            "justify_items": null,
            "left": null,
            "margin": null,
            "max_height": null,
            "max_width": null,
            "min_height": null,
            "min_width": null,
            "object_fit": null,
            "object_position": null,
            "order": null,
            "overflow": null,
            "overflow_x": null,
            "overflow_y": null,
            "padding": null,
            "right": null,
            "top": null,
            "visibility": null,
            "width": null
          }
        },
        "fb1bbbd4159a4af583e8d99e903a4c04": {
          "model_module": "@jupyter-widgets/controls",
          "model_name": "DescriptionStyleModel",
          "model_module_version": "1.5.0",
          "state": {
            "_model_module": "@jupyter-widgets/controls",
            "_model_module_version": "1.5.0",
            "_model_name": "DescriptionStyleModel",
            "_view_count": null,
            "_view_module": "@jupyter-widgets/base",
            "_view_module_version": "1.2.0",
            "_view_name": "StyleView",
            "description_width": ""
          }
        },
        "8936d518fba2407ab95c9f5e86725f01": {
          "model_module": "@jupyter-widgets/controls",
          "model_name": "HBoxModel",
          "model_module_version": "1.5.0",
          "state": {
            "_dom_classes": [],
            "_model_module": "@jupyter-widgets/controls",
            "_model_module_version": "1.5.0",
            "_model_name": "HBoxModel",
            "_view_count": null,
            "_view_module": "@jupyter-widgets/controls",
            "_view_module_version": "1.5.0",
            "_view_name": "HBoxView",
            "box_style": "",
            "children": [
              "IPY_MODEL_99c1ae8b444e44a4a6adafc4c7f91b09",
              "IPY_MODEL_0c745d36d0834e1ca93bc62d93516d29",
              "IPY_MODEL_b66e1c3c9bb743c3b5cf24755a083616"
            ],
            "layout": "IPY_MODEL_d2964eedb7c045dfb7b5e0c6b899a0b1"
          }
        },
        "99c1ae8b444e44a4a6adafc4c7f91b09": {
          "model_module": "@jupyter-widgets/controls",
          "model_name": "HTMLModel",
          "model_module_version": "1.5.0",
          "state": {
            "_dom_classes": [],
            "_model_module": "@jupyter-widgets/controls",
            "_model_module_version": "1.5.0",
            "_model_name": "HTMLModel",
            "_view_count": null,
            "_view_module": "@jupyter-widgets/controls",
            "_view_module_version": "1.5.0",
            "_view_name": "HTMLView",
            "description": "",
            "description_tooltip": null,
            "layout": "IPY_MODEL_8c755110ca8f4e4bb38046692f4e3ad0",
            "placeholder": "​",
            "style": "IPY_MODEL_b07e33fac0fb4d68842c0580298dd15a",
            "value": "Downloading readme: 100%"
          }
        },
        "0c745d36d0834e1ca93bc62d93516d29": {
          "model_module": "@jupyter-widgets/controls",
          "model_name": "FloatProgressModel",
          "model_module_version": "1.5.0",
          "state": {
            "_dom_classes": [],
            "_model_module": "@jupyter-widgets/controls",
            "_model_module_version": "1.5.0",
            "_model_name": "FloatProgressModel",
            "_view_count": null,
            "_view_module": "@jupyter-widgets/controls",
            "_view_module_version": "1.5.0",
            "_view_name": "ProgressView",
            "bar_style": "success",
            "description": "",
            "description_tooltip": null,
            "layout": "IPY_MODEL_5dd0a2233bf94c638f0b3ae10f856a32",
            "max": 373,
            "min": 0,
            "orientation": "horizontal",
            "style": "IPY_MODEL_39337222cdd744128594e44fd4255385",
            "value": 373
          }
        },
        "b66e1c3c9bb743c3b5cf24755a083616": {
          "model_module": "@jupyter-widgets/controls",
          "model_name": "HTMLModel",
          "model_module_version": "1.5.0",
          "state": {
            "_dom_classes": [],
            "_model_module": "@jupyter-widgets/controls",
            "_model_module_version": "1.5.0",
            "_model_name": "HTMLModel",
            "_view_count": null,
            "_view_module": "@jupyter-widgets/controls",
            "_view_module_version": "1.5.0",
            "_view_name": "HTMLView",
            "description": "",
            "description_tooltip": null,
            "layout": "IPY_MODEL_def802efe7c54fd1944b4e894342064b",
            "placeholder": "​",
            "style": "IPY_MODEL_88ac3178b4bc4c88b67b3ee98cf10076",
            "value": " 373/373 [00:00&lt;00:00, 8.87kB/s]"
          }
        },
        "d2964eedb7c045dfb7b5e0c6b899a0b1": {
          "model_module": "@jupyter-widgets/base",
          "model_name": "LayoutModel",
          "model_module_version": "1.2.0",
          "state": {
            "_model_module": "@jupyter-widgets/base",
            "_model_module_version": "1.2.0",
            "_model_name": "LayoutModel",
            "_view_count": null,
            "_view_module": "@jupyter-widgets/base",
            "_view_module_version": "1.2.0",
            "_view_name": "LayoutView",
            "align_content": null,
            "align_items": null,
            "align_self": null,
            "border": null,
            "bottom": null,
            "display": null,
            "flex": null,
            "flex_flow": null,
            "grid_area": null,
            "grid_auto_columns": null,
            "grid_auto_flow": null,
            "grid_auto_rows": null,
            "grid_column": null,
            "grid_gap": null,
            "grid_row": null,
            "grid_template_areas": null,
            "grid_template_columns": null,
            "grid_template_rows": null,
            "height": null,
            "justify_content": null,
            "justify_items": null,
            "left": null,
            "margin": null,
            "max_height": null,
            "max_width": null,
            "min_height": null,
            "min_width": null,
            "object_fit": null,
            "object_position": null,
            "order": null,
            "overflow": null,
            "overflow_x": null,
            "overflow_y": null,
            "padding": null,
            "right": null,
            "top": null,
            "visibility": null,
            "width": null
          }
        },
        "8c755110ca8f4e4bb38046692f4e3ad0": {
          "model_module": "@jupyter-widgets/base",
          "model_name": "LayoutModel",
          "model_module_version": "1.2.0",
          "state": {
            "_model_module": "@jupyter-widgets/base",
            "_model_module_version": "1.2.0",
            "_model_name": "LayoutModel",
            "_view_count": null,
            "_view_module": "@jupyter-widgets/base",
            "_view_module_version": "1.2.0",
            "_view_name": "LayoutView",
            "align_content": null,
            "align_items": null,
            "align_self": null,
            "border": null,
            "bottom": null,
            "display": null,
            "flex": null,
            "flex_flow": null,
            "grid_area": null,
            "grid_auto_columns": null,
            "grid_auto_flow": null,
            "grid_auto_rows": null,
            "grid_column": null,
            "grid_gap": null,
            "grid_row": null,
            "grid_template_areas": null,
            "grid_template_columns": null,
            "grid_template_rows": null,
            "height": null,
            "justify_content": null,
            "justify_items": null,
            "left": null,
            "margin": null,
            "max_height": null,
            "max_width": null,
            "min_height": null,
            "min_width": null,
            "object_fit": null,
            "object_position": null,
            "order": null,
            "overflow": null,
            "overflow_x": null,
            "overflow_y": null,
            "padding": null,
            "right": null,
            "top": null,
            "visibility": null,
            "width": null
          }
        },
        "b07e33fac0fb4d68842c0580298dd15a": {
          "model_module": "@jupyter-widgets/controls",
          "model_name": "DescriptionStyleModel",
          "model_module_version": "1.5.0",
          "state": {
            "_model_module": "@jupyter-widgets/controls",
            "_model_module_version": "1.5.0",
            "_model_name": "DescriptionStyleModel",
            "_view_count": null,
            "_view_module": "@jupyter-widgets/base",
            "_view_module_version": "1.2.0",
            "_view_name": "StyleView",
            "description_width": ""
          }
        },
        "5dd0a2233bf94c638f0b3ae10f856a32": {
          "model_module": "@jupyter-widgets/base",
          "model_name": "LayoutModel",
          "model_module_version": "1.2.0",
          "state": {
            "_model_module": "@jupyter-widgets/base",
            "_model_module_version": "1.2.0",
            "_model_name": "LayoutModel",
            "_view_count": null,
            "_view_module": "@jupyter-widgets/base",
            "_view_module_version": "1.2.0",
            "_view_name": "LayoutView",
            "align_content": null,
            "align_items": null,
            "align_self": null,
            "border": null,
            "bottom": null,
            "display": null,
            "flex": null,
            "flex_flow": null,
            "grid_area": null,
            "grid_auto_columns": null,
            "grid_auto_flow": null,
            "grid_auto_rows": null,
            "grid_column": null,
            "grid_gap": null,
            "grid_row": null,
            "grid_template_areas": null,
            "grid_template_columns": null,
            "grid_template_rows": null,
            "height": null,
            "justify_content": null,
            "justify_items": null,
            "left": null,
            "margin": null,
            "max_height": null,
            "max_width": null,
            "min_height": null,
            "min_width": null,
            "object_fit": null,
            "object_position": null,
            "order": null,
            "overflow": null,
            "overflow_x": null,
            "overflow_y": null,
            "padding": null,
            "right": null,
            "top": null,
            "visibility": null,
            "width": null
          }
        },
        "39337222cdd744128594e44fd4255385": {
          "model_module": "@jupyter-widgets/controls",
          "model_name": "ProgressStyleModel",
          "model_module_version": "1.5.0",
          "state": {
            "_model_module": "@jupyter-widgets/controls",
            "_model_module_version": "1.5.0",
            "_model_name": "ProgressStyleModel",
            "_view_count": null,
            "_view_module": "@jupyter-widgets/base",
            "_view_module_version": "1.2.0",
            "_view_name": "StyleView",
            "bar_color": null,
            "description_width": ""
          }
        },
        "def802efe7c54fd1944b4e894342064b": {
          "model_module": "@jupyter-widgets/base",
          "model_name": "LayoutModel",
          "model_module_version": "1.2.0",
          "state": {
            "_model_module": "@jupyter-widgets/base",
            "_model_module_version": "1.2.0",
            "_model_name": "LayoutModel",
            "_view_count": null,
            "_view_module": "@jupyter-widgets/base",
            "_view_module_version": "1.2.0",
            "_view_name": "LayoutView",
            "align_content": null,
            "align_items": null,
            "align_self": null,
            "border": null,
            "bottom": null,
            "display": null,
            "flex": null,
            "flex_flow": null,
            "grid_area": null,
            "grid_auto_columns": null,
            "grid_auto_flow": null,
            "grid_auto_rows": null,
            "grid_column": null,
            "grid_gap": null,
            "grid_row": null,
            "grid_template_areas": null,
            "grid_template_columns": null,
            "grid_template_rows": null,
            "height": null,
            "justify_content": null,
            "justify_items": null,
            "left": null,
            "margin": null,
            "max_height": null,
            "max_width": null,
            "min_height": null,
            "min_width": null,
            "object_fit": null,
            "object_position": null,
            "order": null,
            "overflow": null,
            "overflow_x": null,
            "overflow_y": null,
            "padding": null,
            "right": null,
            "top": null,
            "visibility": null,
            "width": null
          }
        },
        "88ac3178b4bc4c88b67b3ee98cf10076": {
          "model_module": "@jupyter-widgets/controls",
          "model_name": "DescriptionStyleModel",
          "model_module_version": "1.5.0",
          "state": {
            "_model_module": "@jupyter-widgets/controls",
            "_model_module_version": "1.5.0",
            "_model_name": "DescriptionStyleModel",
            "_view_count": null,
            "_view_module": "@jupyter-widgets/base",
            "_view_module_version": "1.2.0",
            "_view_name": "StyleView",
            "description_width": ""
          }
        },
        "abafc7f125154c19ac0f9141de02556f": {
          "model_module": "@jupyter-widgets/controls",
          "model_name": "HBoxModel",
          "model_module_version": "1.5.0",
          "state": {
            "_dom_classes": [],
            "_model_module": "@jupyter-widgets/controls",
            "_model_module_version": "1.5.0",
            "_model_name": "HBoxModel",
            "_view_count": null,
            "_view_module": "@jupyter-widgets/controls",
            "_view_module_version": "1.5.0",
            "_view_name": "HBoxView",
            "box_style": "",
            "children": [
              "IPY_MODEL_fac0bbca76e949028e75132e68301a71",
              "IPY_MODEL_54e351635490459cae63c665313d40de",
              "IPY_MODEL_47b30be3c19a41dc8639f5b6d263d861"
            ],
            "layout": "IPY_MODEL_ad3bee949c854a4fb659074254693235"
          }
        },
        "fac0bbca76e949028e75132e68301a71": {
          "model_module": "@jupyter-widgets/controls",
          "model_name": "HTMLModel",
          "model_module_version": "1.5.0",
          "state": {
            "_dom_classes": [],
            "_model_module": "@jupyter-widgets/controls",
            "_model_module_version": "1.5.0",
            "_model_name": "HTMLModel",
            "_view_count": null,
            "_view_module": "@jupyter-widgets/controls",
            "_view_module_version": "1.5.0",
            "_view_name": "HTMLView",
            "description": "",
            "description_tooltip": null,
            "layout": "IPY_MODEL_c06821f195d0430ba26288e2b2e21cd5",
            "placeholder": "​",
            "style": "IPY_MODEL_a00c7720dee44d5da83737c73bad4f7f",
            "value": "Downloading metadata: 100%"
          }
        },
        "54e351635490459cae63c665313d40de": {
          "model_module": "@jupyter-widgets/controls",
          "model_name": "FloatProgressModel",
          "model_module_version": "1.5.0",
          "state": {
            "_dom_classes": [],
            "_model_module": "@jupyter-widgets/controls",
            "_model_module_version": "1.5.0",
            "_model_name": "FloatProgressModel",
            "_view_count": null,
            "_view_module": "@jupyter-widgets/controls",
            "_view_module_version": "1.5.0",
            "_view_name": "ProgressView",
            "bar_style": "success",
            "description": "",
            "description_tooltip": null,
            "layout": "IPY_MODEL_01ec578a481b483892d6bc9364961429",
            "max": 921,
            "min": 0,
            "orientation": "horizontal",
            "style": "IPY_MODEL_3335e20c922344789cfae7fa6672bd65",
            "value": 921
          }
        },
        "47b30be3c19a41dc8639f5b6d263d861": {
          "model_module": "@jupyter-widgets/controls",
          "model_name": "HTMLModel",
          "model_module_version": "1.5.0",
          "state": {
            "_dom_classes": [],
            "_model_module": "@jupyter-widgets/controls",
            "_model_module_version": "1.5.0",
            "_model_name": "HTMLModel",
            "_view_count": null,
            "_view_module": "@jupyter-widgets/controls",
            "_view_module_version": "1.5.0",
            "_view_name": "HTMLView",
            "description": "",
            "description_tooltip": null,
            "layout": "IPY_MODEL_72dad03492194ec6914ebfc774ed5220",
            "placeholder": "​",
            "style": "IPY_MODEL_5364b1a7cf2c4729b7a4d6b0d972714c",
            "value": " 921/921 [00:00&lt;00:00, 66.7kB/s]"
          }
        },
        "ad3bee949c854a4fb659074254693235": {
          "model_module": "@jupyter-widgets/base",
          "model_name": "LayoutModel",
          "model_module_version": "1.2.0",
          "state": {
            "_model_module": "@jupyter-widgets/base",
            "_model_module_version": "1.2.0",
            "_model_name": "LayoutModel",
            "_view_count": null,
            "_view_module": "@jupyter-widgets/base",
            "_view_module_version": "1.2.0",
            "_view_name": "LayoutView",
            "align_content": null,
            "align_items": null,
            "align_self": null,
            "border": null,
            "bottom": null,
            "display": null,
            "flex": null,
            "flex_flow": null,
            "grid_area": null,
            "grid_auto_columns": null,
            "grid_auto_flow": null,
            "grid_auto_rows": null,
            "grid_column": null,
            "grid_gap": null,
            "grid_row": null,
            "grid_template_areas": null,
            "grid_template_columns": null,
            "grid_template_rows": null,
            "height": null,
            "justify_content": null,
            "justify_items": null,
            "left": null,
            "margin": null,
            "max_height": null,
            "max_width": null,
            "min_height": null,
            "min_width": null,
            "object_fit": null,
            "object_position": null,
            "order": null,
            "overflow": null,
            "overflow_x": null,
            "overflow_y": null,
            "padding": null,
            "right": null,
            "top": null,
            "visibility": null,
            "width": null
          }
        },
        "c06821f195d0430ba26288e2b2e21cd5": {
          "model_module": "@jupyter-widgets/base",
          "model_name": "LayoutModel",
          "model_module_version": "1.2.0",
          "state": {
            "_model_module": "@jupyter-widgets/base",
            "_model_module_version": "1.2.0",
            "_model_name": "LayoutModel",
            "_view_count": null,
            "_view_module": "@jupyter-widgets/base",
            "_view_module_version": "1.2.0",
            "_view_name": "LayoutView",
            "align_content": null,
            "align_items": null,
            "align_self": null,
            "border": null,
            "bottom": null,
            "display": null,
            "flex": null,
            "flex_flow": null,
            "grid_area": null,
            "grid_auto_columns": null,
            "grid_auto_flow": null,
            "grid_auto_rows": null,
            "grid_column": null,
            "grid_gap": null,
            "grid_row": null,
            "grid_template_areas": null,
            "grid_template_columns": null,
            "grid_template_rows": null,
            "height": null,
            "justify_content": null,
            "justify_items": null,
            "left": null,
            "margin": null,
            "max_height": null,
            "max_width": null,
            "min_height": null,
            "min_width": null,
            "object_fit": null,
            "object_position": null,
            "order": null,
            "overflow": null,
            "overflow_x": null,
            "overflow_y": null,
            "padding": null,
            "right": null,
            "top": null,
            "visibility": null,
            "width": null
          }
        },
        "a00c7720dee44d5da83737c73bad4f7f": {
          "model_module": "@jupyter-widgets/controls",
          "model_name": "DescriptionStyleModel",
          "model_module_version": "1.5.0",
          "state": {
            "_model_module": "@jupyter-widgets/controls",
            "_model_module_version": "1.5.0",
            "_model_name": "DescriptionStyleModel",
            "_view_count": null,
            "_view_module": "@jupyter-widgets/base",
            "_view_module_version": "1.2.0",
            "_view_name": "StyleView",
            "description_width": ""
          }
        },
        "01ec578a481b483892d6bc9364961429": {
          "model_module": "@jupyter-widgets/base",
          "model_name": "LayoutModel",
          "model_module_version": "1.2.0",
          "state": {
            "_model_module": "@jupyter-widgets/base",
            "_model_module_version": "1.2.0",
            "_model_name": "LayoutModel",
            "_view_count": null,
            "_view_module": "@jupyter-widgets/base",
            "_view_module_version": "1.2.0",
            "_view_name": "LayoutView",
            "align_content": null,
            "align_items": null,
            "align_self": null,
            "border": null,
            "bottom": null,
            "display": null,
            "flex": null,
            "flex_flow": null,
            "grid_area": null,
            "grid_auto_columns": null,
            "grid_auto_flow": null,
            "grid_auto_rows": null,
            "grid_column": null,
            "grid_gap": null,
            "grid_row": null,
            "grid_template_areas": null,
            "grid_template_columns": null,
            "grid_template_rows": null,
            "height": null,
            "justify_content": null,
            "justify_items": null,
            "left": null,
            "margin": null,
            "max_height": null,
            "max_width": null,
            "min_height": null,
            "min_width": null,
            "object_fit": null,
            "object_position": null,
            "order": null,
            "overflow": null,
            "overflow_x": null,
            "overflow_y": null,
            "padding": null,
            "right": null,
            "top": null,
            "visibility": null,
            "width": null
          }
        },
        "3335e20c922344789cfae7fa6672bd65": {
          "model_module": "@jupyter-widgets/controls",
          "model_name": "ProgressStyleModel",
          "model_module_version": "1.5.0",
          "state": {
            "_model_module": "@jupyter-widgets/controls",
            "_model_module_version": "1.5.0",
            "_model_name": "ProgressStyleModel",
            "_view_count": null,
            "_view_module": "@jupyter-widgets/base",
            "_view_module_version": "1.2.0",
            "_view_name": "StyleView",
            "bar_color": null,
            "description_width": ""
          }
        },
        "72dad03492194ec6914ebfc774ed5220": {
          "model_module": "@jupyter-widgets/base",
          "model_name": "LayoutModel",
          "model_module_version": "1.2.0",
          "state": {
            "_model_module": "@jupyter-widgets/base",
            "_model_module_version": "1.2.0",
            "_model_name": "LayoutModel",
            "_view_count": null,
            "_view_module": "@jupyter-widgets/base",
            "_view_module_version": "1.2.0",
            "_view_name": "LayoutView",
            "align_content": null,
            "align_items": null,
            "align_self": null,
            "border": null,
            "bottom": null,
            "display": null,
            "flex": null,
            "flex_flow": null,
            "grid_area": null,
            "grid_auto_columns": null,
            "grid_auto_flow": null,
            "grid_auto_rows": null,
            "grid_column": null,
            "grid_gap": null,
            "grid_row": null,
            "grid_template_areas": null,
            "grid_template_columns": null,
            "grid_template_rows": null,
            "height": null,
            "justify_content": null,
            "justify_items": null,
            "left": null,
            "margin": null,
            "max_height": null,
            "max_width": null,
            "min_height": null,
            "min_width": null,
            "object_fit": null,
            "object_position": null,
            "order": null,
            "overflow": null,
            "overflow_x": null,
            "overflow_y": null,
            "padding": null,
            "right": null,
            "top": null,
            "visibility": null,
            "width": null
          }
        },
        "5364b1a7cf2c4729b7a4d6b0d972714c": {
          "model_module": "@jupyter-widgets/controls",
          "model_name": "DescriptionStyleModel",
          "model_module_version": "1.5.0",
          "state": {
            "_model_module": "@jupyter-widgets/controls",
            "_model_module_version": "1.5.0",
            "_model_name": "DescriptionStyleModel",
            "_view_count": null,
            "_view_module": "@jupyter-widgets/base",
            "_view_module_version": "1.2.0",
            "_view_name": "StyleView",
            "description_width": ""
          }
        },
        "dbf07e3329ff45f784d946782582a537": {
          "model_module": "@jupyter-widgets/controls",
          "model_name": "HBoxModel",
          "model_module_version": "1.5.0",
          "state": {
            "_dom_classes": [],
            "_model_module": "@jupyter-widgets/controls",
            "_model_module_version": "1.5.0",
            "_model_name": "HBoxModel",
            "_view_count": null,
            "_view_module": "@jupyter-widgets/controls",
            "_view_module_version": "1.5.0",
            "_view_name": "HBoxView",
            "box_style": "",
            "children": [
              "IPY_MODEL_68ada5445c6f4067ba8c14b9d458027e",
              "IPY_MODEL_cc2fcec85d76451ab8570f5c6e7e7a2a",
              "IPY_MODEL_f366f598384749379968856f3ab17851"
            ],
            "layout": "IPY_MODEL_07dac388308d4a7789dd652415442ec0"
          }
        },
        "68ada5445c6f4067ba8c14b9d458027e": {
          "model_module": "@jupyter-widgets/controls",
          "model_name": "HTMLModel",
          "model_module_version": "1.5.0",
          "state": {
            "_dom_classes": [],
            "_model_module": "@jupyter-widgets/controls",
            "_model_module_version": "1.5.0",
            "_model_name": "HTMLModel",
            "_view_count": null,
            "_view_module": "@jupyter-widgets/controls",
            "_view_module_version": "1.5.0",
            "_view_name": "HTMLView",
            "description": "",
            "description_tooltip": null,
            "layout": "IPY_MODEL_ce470e6d09104fc2b0ab9af5c73b1336",
            "placeholder": "​",
            "style": "IPY_MODEL_cef1ed12f61349ffa6436a0e620fb7a4",
            "value": "Downloading data: 100%"
          }
        },
        "cc2fcec85d76451ab8570f5c6e7e7a2a": {
          "model_module": "@jupyter-widgets/controls",
          "model_name": "FloatProgressModel",
          "model_module_version": "1.5.0",
          "state": {
            "_dom_classes": [],
            "_model_module": "@jupyter-widgets/controls",
            "_model_module_version": "1.5.0",
            "_model_name": "FloatProgressModel",
            "_view_count": null,
            "_view_module": "@jupyter-widgets/controls",
            "_view_module_version": "1.5.0",
            "_view_name": "ProgressView",
            "bar_style": "success",
            "description": "",
            "description_tooltip": null,
            "layout": "IPY_MODEL_3c35c153ea7c4eba9cb3daf22c879a74",
            "max": 33262901,
            "min": 0,
            "orientation": "horizontal",
            "style": "IPY_MODEL_9823ebd7e80a4ca58353ea3a795e4c3d",
            "value": 33262901
          }
        },
        "f366f598384749379968856f3ab17851": {
          "model_module": "@jupyter-widgets/controls",
          "model_name": "HTMLModel",
          "model_module_version": "1.5.0",
          "state": {
            "_dom_classes": [],
            "_model_module": "@jupyter-widgets/controls",
            "_model_module_version": "1.5.0",
            "_model_name": "HTMLModel",
            "_view_count": null,
            "_view_module": "@jupyter-widgets/controls",
            "_view_module_version": "1.5.0",
            "_view_name": "HTMLView",
            "description": "",
            "description_tooltip": null,
            "layout": "IPY_MODEL_6cdddd0c21ea4cbc8c84232cb26408be",
            "placeholder": "​",
            "style": "IPY_MODEL_a7afb38dae1c48c7bb6179eaae9e390f",
            "value": " 33.3M/33.3M [00:00&lt;00:00, 82.3MB/s]"
          }
        },
        "07dac388308d4a7789dd652415442ec0": {
          "model_module": "@jupyter-widgets/base",
          "model_name": "LayoutModel",
          "model_module_version": "1.2.0",
          "state": {
            "_model_module": "@jupyter-widgets/base",
            "_model_module_version": "1.2.0",
            "_model_name": "LayoutModel",
            "_view_count": null,
            "_view_module": "@jupyter-widgets/base",
            "_view_module_version": "1.2.0",
            "_view_name": "LayoutView",
            "align_content": null,
            "align_items": null,
            "align_self": null,
            "border": null,
            "bottom": null,
            "display": null,
            "flex": null,
            "flex_flow": null,
            "grid_area": null,
            "grid_auto_columns": null,
            "grid_auto_flow": null,
            "grid_auto_rows": null,
            "grid_column": null,
            "grid_gap": null,
            "grid_row": null,
            "grid_template_areas": null,
            "grid_template_columns": null,
            "grid_template_rows": null,
            "height": null,
            "justify_content": null,
            "justify_items": null,
            "left": null,
            "margin": null,
            "max_height": null,
            "max_width": null,
            "min_height": null,
            "min_width": null,
            "object_fit": null,
            "object_position": null,
            "order": null,
            "overflow": null,
            "overflow_x": null,
            "overflow_y": null,
            "padding": null,
            "right": null,
            "top": null,
            "visibility": null,
            "width": null
          }
        },
        "ce470e6d09104fc2b0ab9af5c73b1336": {
          "model_module": "@jupyter-widgets/base",
          "model_name": "LayoutModel",
          "model_module_version": "1.2.0",
          "state": {
            "_model_module": "@jupyter-widgets/base",
            "_model_module_version": "1.2.0",
            "_model_name": "LayoutModel",
            "_view_count": null,
            "_view_module": "@jupyter-widgets/base",
            "_view_module_version": "1.2.0",
            "_view_name": "LayoutView",
            "align_content": null,
            "align_items": null,
            "align_self": null,
            "border": null,
            "bottom": null,
            "display": null,
            "flex": null,
            "flex_flow": null,
            "grid_area": null,
            "grid_auto_columns": null,
            "grid_auto_flow": null,
            "grid_auto_rows": null,
            "grid_column": null,
            "grid_gap": null,
            "grid_row": null,
            "grid_template_areas": null,
            "grid_template_columns": null,
            "grid_template_rows": null,
            "height": null,
            "justify_content": null,
            "justify_items": null,
            "left": null,
            "margin": null,
            "max_height": null,
            "max_width": null,
            "min_height": null,
            "min_width": null,
            "object_fit": null,
            "object_position": null,
            "order": null,
            "overflow": null,
            "overflow_x": null,
            "overflow_y": null,
            "padding": null,
            "right": null,
            "top": null,
            "visibility": null,
            "width": null
          }
        },
        "cef1ed12f61349ffa6436a0e620fb7a4": {
          "model_module": "@jupyter-widgets/controls",
          "model_name": "DescriptionStyleModel",
          "model_module_version": "1.5.0",
          "state": {
            "_model_module": "@jupyter-widgets/controls",
            "_model_module_version": "1.5.0",
            "_model_name": "DescriptionStyleModel",
            "_view_count": null,
            "_view_module": "@jupyter-widgets/base",
            "_view_module_version": "1.2.0",
            "_view_name": "StyleView",
            "description_width": ""
          }
        },
        "3c35c153ea7c4eba9cb3daf22c879a74": {
          "model_module": "@jupyter-widgets/base",
          "model_name": "LayoutModel",
          "model_module_version": "1.2.0",
          "state": {
            "_model_module": "@jupyter-widgets/base",
            "_model_module_version": "1.2.0",
            "_model_name": "LayoutModel",
            "_view_count": null,
            "_view_module": "@jupyter-widgets/base",
            "_view_module_version": "1.2.0",
            "_view_name": "LayoutView",
            "align_content": null,
            "align_items": null,
            "align_self": null,
            "border": null,
            "bottom": null,
            "display": null,
            "flex": null,
            "flex_flow": null,
            "grid_area": null,
            "grid_auto_columns": null,
            "grid_auto_flow": null,
            "grid_auto_rows": null,
            "grid_column": null,
            "grid_gap": null,
            "grid_row": null,
            "grid_template_areas": null,
            "grid_template_columns": null,
            "grid_template_rows": null,
            "height": null,
            "justify_content": null,
            "justify_items": null,
            "left": null,
            "margin": null,
            "max_height": null,
            "max_width": null,
            "min_height": null,
            "min_width": null,
            "object_fit": null,
            "object_position": null,
            "order": null,
            "overflow": null,
            "overflow_x": null,
            "overflow_y": null,
            "padding": null,
            "right": null,
            "top": null,
            "visibility": null,
            "width": null
          }
        },
        "9823ebd7e80a4ca58353ea3a795e4c3d": {
          "model_module": "@jupyter-widgets/controls",
          "model_name": "ProgressStyleModel",
          "model_module_version": "1.5.0",
          "state": {
            "_model_module": "@jupyter-widgets/controls",
            "_model_module_version": "1.5.0",
            "_model_name": "ProgressStyleModel",
            "_view_count": null,
            "_view_module": "@jupyter-widgets/base",
            "_view_module_version": "1.2.0",
            "_view_name": "StyleView",
            "bar_color": null,
            "description_width": ""
          }
        },
        "6cdddd0c21ea4cbc8c84232cb26408be": {
          "model_module": "@jupyter-widgets/base",
          "model_name": "LayoutModel",
          "model_module_version": "1.2.0",
          "state": {
            "_model_module": "@jupyter-widgets/base",
            "_model_module_version": "1.2.0",
            "_model_name": "LayoutModel",
            "_view_count": null,
            "_view_module": "@jupyter-widgets/base",
            "_view_module_version": "1.2.0",
            "_view_name": "LayoutView",
            "align_content": null,
            "align_items": null,
            "align_self": null,
            "border": null,
            "bottom": null,
            "display": null,
            "flex": null,
            "flex_flow": null,
            "grid_area": null,
            "grid_auto_columns": null,
            "grid_auto_flow": null,
            "grid_auto_rows": null,
            "grid_column": null,
            "grid_gap": null,
            "grid_row": null,
            "grid_template_areas": null,
            "grid_template_columns": null,
            "grid_template_rows": null,
            "height": null,
            "justify_content": null,
            "justify_items": null,
            "left": null,
            "margin": null,
            "max_height": null,
            "max_width": null,
            "min_height": null,
            "min_width": null,
            "object_fit": null,
            "object_position": null,
            "order": null,
            "overflow": null,
            "overflow_x": null,
            "overflow_y": null,
            "padding": null,
            "right": null,
            "top": null,
            "visibility": null,
            "width": null
          }
        },
        "a7afb38dae1c48c7bb6179eaae9e390f": {
          "model_module": "@jupyter-widgets/controls",
          "model_name": "DescriptionStyleModel",
          "model_module_version": "1.5.0",
          "state": {
            "_model_module": "@jupyter-widgets/controls",
            "_model_module_version": "1.5.0",
            "_model_name": "DescriptionStyleModel",
            "_view_count": null,
            "_view_module": "@jupyter-widgets/base",
            "_view_module_version": "1.2.0",
            "_view_name": "StyleView",
            "description_width": ""
          }
        },
        "09e7dcd9762f4ea193c5eb7fd28b3849": {
          "model_module": "@jupyter-widgets/controls",
          "model_name": "HBoxModel",
          "model_module_version": "1.5.0",
          "state": {
            "_dom_classes": [],
            "_model_module": "@jupyter-widgets/controls",
            "_model_module_version": "1.5.0",
            "_model_name": "HBoxModel",
            "_view_count": null,
            "_view_module": "@jupyter-widgets/controls",
            "_view_module_version": "1.5.0",
            "_view_name": "HBoxView",
            "box_style": "",
            "children": [
              "IPY_MODEL_6a269610c2014e569e587802a7e50c5c",
              "IPY_MODEL_6ef88dd19d7f43399fbe60decedf1238",
              "IPY_MODEL_407dfaeb304a4984b9089166928a6502"
            ],
            "layout": "IPY_MODEL_8d557fa429144e6f913de6125710b8b5"
          }
        },
        "6a269610c2014e569e587802a7e50c5c": {
          "model_module": "@jupyter-widgets/controls",
          "model_name": "HTMLModel",
          "model_module_version": "1.5.0",
          "state": {
            "_dom_classes": [],
            "_model_module": "@jupyter-widgets/controls",
            "_model_module_version": "1.5.0",
            "_model_name": "HTMLModel",
            "_view_count": null,
            "_view_module": "@jupyter-widgets/controls",
            "_view_module_version": "1.5.0",
            "_view_name": "HTMLView",
            "description": "",
            "description_tooltip": null,
            "layout": "IPY_MODEL_dd5aa12a59d9428781a394e701c9b69b",
            "placeholder": "​",
            "style": "IPY_MODEL_442b83a658254ee5bffea52b4f32f4fe",
            "value": "Generating train split: 100%"
          }
        },
        "6ef88dd19d7f43399fbe60decedf1238": {
          "model_module": "@jupyter-widgets/controls",
          "model_name": "FloatProgressModel",
          "model_module_version": "1.5.0",
          "state": {
            "_dom_classes": [],
            "_model_module": "@jupyter-widgets/controls",
            "_model_module_version": "1.5.0",
            "_model_name": "FloatProgressModel",
            "_view_count": null,
            "_view_module": "@jupyter-widgets/controls",
            "_view_module_version": "1.5.0",
            "_view_name": "ProgressView",
            "bar_style": "success",
            "description": "",
            "description_tooltip": null,
            "layout": "IPY_MODEL_6bfcbe699a79435894bbec8e0d59de33",
            "max": 10000,
            "min": 0,
            "orientation": "horizontal",
            "style": "IPY_MODEL_2b35a9f887f341a7a2c04955843c1205",
            "value": 10000
          }
        },
        "407dfaeb304a4984b9089166928a6502": {
          "model_module": "@jupyter-widgets/controls",
          "model_name": "HTMLModel",
          "model_module_version": "1.5.0",
          "state": {
            "_dom_classes": [],
            "_model_module": "@jupyter-widgets/controls",
            "_model_module_version": "1.5.0",
            "_model_name": "HTMLModel",
            "_view_count": null,
            "_view_module": "@jupyter-widgets/controls",
            "_view_module_version": "1.5.0",
            "_view_name": "HTMLView",
            "description": "",
            "description_tooltip": null,
            "layout": "IPY_MODEL_28395ff326ff47ff9b074fb625679903",
            "placeholder": "​",
            "style": "IPY_MODEL_618ba7e43d784143ad7d67ad0c0718b6",
            "value": " 10000/10000 [00:00&lt;00:00, 24820.67 examples/s]"
          }
        },
        "8d557fa429144e6f913de6125710b8b5": {
          "model_module": "@jupyter-widgets/base",
          "model_name": "LayoutModel",
          "model_module_version": "1.2.0",
          "state": {
            "_model_module": "@jupyter-widgets/base",
            "_model_module_version": "1.2.0",
            "_model_name": "LayoutModel",
            "_view_count": null,
            "_view_module": "@jupyter-widgets/base",
            "_view_module_version": "1.2.0",
            "_view_name": "LayoutView",
            "align_content": null,
            "align_items": null,
            "align_self": null,
            "border": null,
            "bottom": null,
            "display": null,
            "flex": null,
            "flex_flow": null,
            "grid_area": null,
            "grid_auto_columns": null,
            "grid_auto_flow": null,
            "grid_auto_rows": null,
            "grid_column": null,
            "grid_gap": null,
            "grid_row": null,
            "grid_template_areas": null,
            "grid_template_columns": null,
            "grid_template_rows": null,
            "height": null,
            "justify_content": null,
            "justify_items": null,
            "left": null,
            "margin": null,
            "max_height": null,
            "max_width": null,
            "min_height": null,
            "min_width": null,
            "object_fit": null,
            "object_position": null,
            "order": null,
            "overflow": null,
            "overflow_x": null,
            "overflow_y": null,
            "padding": null,
            "right": null,
            "top": null,
            "visibility": null,
            "width": null
          }
        },
        "dd5aa12a59d9428781a394e701c9b69b": {
          "model_module": "@jupyter-widgets/base",
          "model_name": "LayoutModel",
          "model_module_version": "1.2.0",
          "state": {
            "_model_module": "@jupyter-widgets/base",
            "_model_module_version": "1.2.0",
            "_model_name": "LayoutModel",
            "_view_count": null,
            "_view_module": "@jupyter-widgets/base",
            "_view_module_version": "1.2.0",
            "_view_name": "LayoutView",
            "align_content": null,
            "align_items": null,
            "align_self": null,
            "border": null,
            "bottom": null,
            "display": null,
            "flex": null,
            "flex_flow": null,
            "grid_area": null,
            "grid_auto_columns": null,
            "grid_auto_flow": null,
            "grid_auto_rows": null,
            "grid_column": null,
            "grid_gap": null,
            "grid_row": null,
            "grid_template_areas": null,
            "grid_template_columns": null,
            "grid_template_rows": null,
            "height": null,
            "justify_content": null,
            "justify_items": null,
            "left": null,
            "margin": null,
            "max_height": null,
            "max_width": null,
            "min_height": null,
            "min_width": null,
            "object_fit": null,
            "object_position": null,
            "order": null,
            "overflow": null,
            "overflow_x": null,
            "overflow_y": null,
            "padding": null,
            "right": null,
            "top": null,
            "visibility": null,
            "width": null
          }
        },
        "442b83a658254ee5bffea52b4f32f4fe": {
          "model_module": "@jupyter-widgets/controls",
          "model_name": "DescriptionStyleModel",
          "model_module_version": "1.5.0",
          "state": {
            "_model_module": "@jupyter-widgets/controls",
            "_model_module_version": "1.5.0",
            "_model_name": "DescriptionStyleModel",
            "_view_count": null,
            "_view_module": "@jupyter-widgets/base",
            "_view_module_version": "1.2.0",
            "_view_name": "StyleView",
            "description_width": ""
          }
        },
        "6bfcbe699a79435894bbec8e0d59de33": {
          "model_module": "@jupyter-widgets/base",
          "model_name": "LayoutModel",
          "model_module_version": "1.2.0",
          "state": {
            "_model_module": "@jupyter-widgets/base",
            "_model_module_version": "1.2.0",
            "_model_name": "LayoutModel",
            "_view_count": null,
            "_view_module": "@jupyter-widgets/base",
            "_view_module_version": "1.2.0",
            "_view_name": "LayoutView",
            "align_content": null,
            "align_items": null,
            "align_self": null,
            "border": null,
            "bottom": null,
            "display": null,
            "flex": null,
            "flex_flow": null,
            "grid_area": null,
            "grid_auto_columns": null,
            "grid_auto_flow": null,
            "grid_auto_rows": null,
            "grid_column": null,
            "grid_gap": null,
            "grid_row": null,
            "grid_template_areas": null,
            "grid_template_columns": null,
            "grid_template_rows": null,
            "height": null,
            "justify_content": null,
            "justify_items": null,
            "left": null,
            "margin": null,
            "max_height": null,
            "max_width": null,
            "min_height": null,
            "min_width": null,
            "object_fit": null,
            "object_position": null,
            "order": null,
            "overflow": null,
            "overflow_x": null,
            "overflow_y": null,
            "padding": null,
            "right": null,
            "top": null,
            "visibility": null,
            "width": null
          }
        },
        "2b35a9f887f341a7a2c04955843c1205": {
          "model_module": "@jupyter-widgets/controls",
          "model_name": "ProgressStyleModel",
          "model_module_version": "1.5.0",
          "state": {
            "_model_module": "@jupyter-widgets/controls",
            "_model_module_version": "1.5.0",
            "_model_name": "ProgressStyleModel",
            "_view_count": null,
            "_view_module": "@jupyter-widgets/base",
            "_view_module_version": "1.2.0",
            "_view_name": "StyleView",
            "bar_color": null,
            "description_width": ""
          }
        },
        "28395ff326ff47ff9b074fb625679903": {
          "model_module": "@jupyter-widgets/base",
          "model_name": "LayoutModel",
          "model_module_version": "1.2.0",
          "state": {
            "_model_module": "@jupyter-widgets/base",
            "_model_module_version": "1.2.0",
            "_model_name": "LayoutModel",
            "_view_count": null,
            "_view_module": "@jupyter-widgets/base",
            "_view_module_version": "1.2.0",
            "_view_name": "LayoutView",
            "align_content": null,
            "align_items": null,
            "align_self": null,
            "border": null,
            "bottom": null,
            "display": null,
            "flex": null,
            "flex_flow": null,
            "grid_area": null,
            "grid_auto_columns": null,
            "grid_auto_flow": null,
            "grid_auto_rows": null,
            "grid_column": null,
            "grid_gap": null,
            "grid_row": null,
            "grid_template_areas": null,
            "grid_template_columns": null,
            "grid_template_rows": null,
            "height": null,
            "justify_content": null,
            "justify_items": null,
            "left": null,
            "margin": null,
            "max_height": null,
            "max_width": null,
            "min_height": null,
            "min_width": null,
            "object_fit": null,
            "object_position": null,
            "order": null,
            "overflow": null,
            "overflow_x": null,
            "overflow_y": null,
            "padding": null,
            "right": null,
            "top": null,
            "visibility": null,
            "width": null
          }
        },
        "618ba7e43d784143ad7d67ad0c0718b6": {
          "model_module": "@jupyter-widgets/controls",
          "model_name": "DescriptionStyleModel",
          "model_module_version": "1.5.0",
          "state": {
            "_model_module": "@jupyter-widgets/controls",
            "_model_module_version": "1.5.0",
            "_model_name": "DescriptionStyleModel",
            "_view_count": null,
            "_view_module": "@jupyter-widgets/base",
            "_view_module_version": "1.2.0",
            "_view_name": "StyleView",
            "description_width": ""
          }
        },
        "cc8a3caf3b9b43d0aa617ce24b298429": {
          "model_module": "@jupyter-widgets/controls",
          "model_name": "HBoxModel",
          "model_module_version": "1.5.0",
          "state": {
            "_dom_classes": [],
            "_model_module": "@jupyter-widgets/controls",
            "_model_module_version": "1.5.0",
            "_model_name": "HBoxModel",
            "_view_count": null,
            "_view_module": "@jupyter-widgets/controls",
            "_view_module_version": "1.5.0",
            "_view_name": "HBoxView",
            "box_style": "",
            "children": [
              "IPY_MODEL_285ca21e9e994e49a48e225fb4da5d48",
              "IPY_MODEL_ff4d090202644aeaa22c1caf68720c89",
              "IPY_MODEL_9727530de7414c50854df502e6482beb"
            ],
            "layout": "IPY_MODEL_4cd520096e384f1893246537105ba07c"
          }
        },
        "285ca21e9e994e49a48e225fb4da5d48": {
          "model_module": "@jupyter-widgets/controls",
          "model_name": "HTMLModel",
          "model_module_version": "1.5.0",
          "state": {
            "_dom_classes": [],
            "_model_module": "@jupyter-widgets/controls",
            "_model_module_version": "1.5.0",
            "_model_name": "HTMLModel",
            "_view_count": null,
            "_view_module": "@jupyter-widgets/controls",
            "_view_module_version": "1.5.0",
            "_view_name": "HTMLView",
            "description": "",
            "description_tooltip": null,
            "layout": "IPY_MODEL_106e4358ab8b4ae089048b4e2a66e6b4",
            "placeholder": "​",
            "style": "IPY_MODEL_aeb3cac855f74a5cb2d6491c1a378209",
            "value": "Map (num_proc=4): 100%"
          }
        },
        "ff4d090202644aeaa22c1caf68720c89": {
          "model_module": "@jupyter-widgets/controls",
          "model_name": "FloatProgressModel",
          "model_module_version": "1.5.0",
          "state": {
            "_dom_classes": [],
            "_model_module": "@jupyter-widgets/controls",
            "_model_module_version": "1.5.0",
            "_model_name": "FloatProgressModel",
            "_view_count": null,
            "_view_module": "@jupyter-widgets/controls",
            "_view_module_version": "1.5.0",
            "_view_name": "ProgressView",
            "bar_style": "success",
            "description": "",
            "description_tooltip": null,
            "layout": "IPY_MODEL_9a10d921d70047c8b8aaf9b8cf93cfd0",
            "max": 10000,
            "min": 0,
            "orientation": "horizontal",
            "style": "IPY_MODEL_08d88459561741b3a2fedc134eef2f0c",
            "value": 10000
          }
        },
        "9727530de7414c50854df502e6482beb": {
          "model_module": "@jupyter-widgets/controls",
          "model_name": "HTMLModel",
          "model_module_version": "1.5.0",
          "state": {
            "_dom_classes": [],
            "_model_module": "@jupyter-widgets/controls",
            "_model_module_version": "1.5.0",
            "_model_name": "HTMLModel",
            "_view_count": null,
            "_view_module": "@jupyter-widgets/controls",
            "_view_module_version": "1.5.0",
            "_view_name": "HTMLView",
            "description": "",
            "description_tooltip": null,
            "layout": "IPY_MODEL_d1c5a3310daf4c9297d66ebd2651528d",
            "placeholder": "​",
            "style": "IPY_MODEL_d8509740b55c40fcb1ee6b6b8d7652dc",
            "value": " 10000/10000 [01:03&lt;00:00, 246.22 examples/s]"
          }
        },
        "4cd520096e384f1893246537105ba07c": {
          "model_module": "@jupyter-widgets/base",
          "model_name": "LayoutModel",
          "model_module_version": "1.2.0",
          "state": {
            "_model_module": "@jupyter-widgets/base",
            "_model_module_version": "1.2.0",
            "_model_name": "LayoutModel",
            "_view_count": null,
            "_view_module": "@jupyter-widgets/base",
            "_view_module_version": "1.2.0",
            "_view_name": "LayoutView",
            "align_content": null,
            "align_items": null,
            "align_self": null,
            "border": null,
            "bottom": null,
            "display": null,
            "flex": null,
            "flex_flow": null,
            "grid_area": null,
            "grid_auto_columns": null,
            "grid_auto_flow": null,
            "grid_auto_rows": null,
            "grid_column": null,
            "grid_gap": null,
            "grid_row": null,
            "grid_template_areas": null,
            "grid_template_columns": null,
            "grid_template_rows": null,
            "height": null,
            "justify_content": null,
            "justify_items": null,
            "left": null,
            "margin": null,
            "max_height": null,
            "max_width": null,
            "min_height": null,
            "min_width": null,
            "object_fit": null,
            "object_position": null,
            "order": null,
            "overflow": null,
            "overflow_x": null,
            "overflow_y": null,
            "padding": null,
            "right": null,
            "top": null,
            "visibility": null,
            "width": null
          }
        },
        "106e4358ab8b4ae089048b4e2a66e6b4": {
          "model_module": "@jupyter-widgets/base",
          "model_name": "LayoutModel",
          "model_module_version": "1.2.0",
          "state": {
            "_model_module": "@jupyter-widgets/base",
            "_model_module_version": "1.2.0",
            "_model_name": "LayoutModel",
            "_view_count": null,
            "_view_module": "@jupyter-widgets/base",
            "_view_module_version": "1.2.0",
            "_view_name": "LayoutView",
            "align_content": null,
            "align_items": null,
            "align_self": null,
            "border": null,
            "bottom": null,
            "display": null,
            "flex": null,
            "flex_flow": null,
            "grid_area": null,
            "grid_auto_columns": null,
            "grid_auto_flow": null,
            "grid_auto_rows": null,
            "grid_column": null,
            "grid_gap": null,
            "grid_row": null,
            "grid_template_areas": null,
            "grid_template_columns": null,
            "grid_template_rows": null,
            "height": null,
            "justify_content": null,
            "justify_items": null,
            "left": null,
            "margin": null,
            "max_height": null,
            "max_width": null,
            "min_height": null,
            "min_width": null,
            "object_fit": null,
            "object_position": null,
            "order": null,
            "overflow": null,
            "overflow_x": null,
            "overflow_y": null,
            "padding": null,
            "right": null,
            "top": null,
            "visibility": null,
            "width": null
          }
        },
        "aeb3cac855f74a5cb2d6491c1a378209": {
          "model_module": "@jupyter-widgets/controls",
          "model_name": "DescriptionStyleModel",
          "model_module_version": "1.5.0",
          "state": {
            "_model_module": "@jupyter-widgets/controls",
            "_model_module_version": "1.5.0",
            "_model_name": "DescriptionStyleModel",
            "_view_count": null,
            "_view_module": "@jupyter-widgets/base",
            "_view_module_version": "1.2.0",
            "_view_name": "StyleView",
            "description_width": ""
          }
        },
        "9a10d921d70047c8b8aaf9b8cf93cfd0": {
          "model_module": "@jupyter-widgets/base",
          "model_name": "LayoutModel",
          "model_module_version": "1.2.0",
          "state": {
            "_model_module": "@jupyter-widgets/base",
            "_model_module_version": "1.2.0",
            "_model_name": "LayoutModel",
            "_view_count": null,
            "_view_module": "@jupyter-widgets/base",
            "_view_module_version": "1.2.0",
            "_view_name": "LayoutView",
            "align_content": null,
            "align_items": null,
            "align_self": null,
            "border": null,
            "bottom": null,
            "display": null,
            "flex": null,
            "flex_flow": null,
            "grid_area": null,
            "grid_auto_columns": null,
            "grid_auto_flow": null,
            "grid_auto_rows": null,
            "grid_column": null,
            "grid_gap": null,
            "grid_row": null,
            "grid_template_areas": null,
            "grid_template_columns": null,
            "grid_template_rows": null,
            "height": null,
            "justify_content": null,
            "justify_items": null,
            "left": null,
            "margin": null,
            "max_height": null,
            "max_width": null,
            "min_height": null,
            "min_width": null,
            "object_fit": null,
            "object_position": null,
            "order": null,
            "overflow": null,
            "overflow_x": null,
            "overflow_y": null,
            "padding": null,
            "right": null,
            "top": null,
            "visibility": null,
            "width": null
          }
        },
        "08d88459561741b3a2fedc134eef2f0c": {
          "model_module": "@jupyter-widgets/controls",
          "model_name": "ProgressStyleModel",
          "model_module_version": "1.5.0",
          "state": {
            "_model_module": "@jupyter-widgets/controls",
            "_model_module_version": "1.5.0",
            "_model_name": "ProgressStyleModel",
            "_view_count": null,
            "_view_module": "@jupyter-widgets/base",
            "_view_module_version": "1.2.0",
            "_view_name": "StyleView",
            "bar_color": null,
            "description_width": ""
          }
        },
        "d1c5a3310daf4c9297d66ebd2651528d": {
          "model_module": "@jupyter-widgets/base",
          "model_name": "LayoutModel",
          "model_module_version": "1.2.0",
          "state": {
            "_model_module": "@jupyter-widgets/base",
            "_model_module_version": "1.2.0",
            "_model_name": "LayoutModel",
            "_view_count": null,
            "_view_module": "@jupyter-widgets/base",
            "_view_module_version": "1.2.0",
            "_view_name": "LayoutView",
            "align_content": null,
            "align_items": null,
            "align_self": null,
            "border": null,
            "bottom": null,
            "display": null,
            "flex": null,
            "flex_flow": null,
            "grid_area": null,
            "grid_auto_columns": null,
            "grid_auto_flow": null,
            "grid_auto_rows": null,
            "grid_column": null,
            "grid_gap": null,
            "grid_row": null,
            "grid_template_areas": null,
            "grid_template_columns": null,
            "grid_template_rows": null,
            "height": null,
            "justify_content": null,
            "justify_items": null,
            "left": null,
            "margin": null,
            "max_height": null,
            "max_width": null,
            "min_height": null,
            "min_width": null,
            "object_fit": null,
            "object_position": null,
            "order": null,
            "overflow": null,
            "overflow_x": null,
            "overflow_y": null,
            "padding": null,
            "right": null,
            "top": null,
            "visibility": null,
            "width": null
          }
        },
        "d8509740b55c40fcb1ee6b6b8d7652dc": {
          "model_module": "@jupyter-widgets/controls",
          "model_name": "DescriptionStyleModel",
          "model_module_version": "1.5.0",
          "state": {
            "_model_module": "@jupyter-widgets/controls",
            "_model_module_version": "1.5.0",
            "_model_name": "DescriptionStyleModel",
            "_view_count": null,
            "_view_module": "@jupyter-widgets/base",
            "_view_module_version": "1.2.0",
            "_view_name": "StyleView",
            "description_width": ""
          }
        },
        "7083bb1ecd49485c83b34f42ad6ad7dc": {
          "model_module": "@jupyter-widgets/controls",
          "model_name": "HBoxModel",
          "model_module_version": "1.5.0",
          "state": {
            "_dom_classes": [],
            "_model_module": "@jupyter-widgets/controls",
            "_model_module_version": "1.5.0",
            "_model_name": "HBoxModel",
            "_view_count": null,
            "_view_module": "@jupyter-widgets/controls",
            "_view_module_version": "1.5.0",
            "_view_name": "HBoxView",
            "box_style": "",
            "children": [
              "IPY_MODEL_516dc77881db42d9a21f6dd0472c80ee",
              "IPY_MODEL_5f2a260908cd4f25a9f81feb8c1fe255",
              "IPY_MODEL_73642d78ca1a47f7b24be37f7756f77b"
            ],
            "layout": "IPY_MODEL_e90f114e603b42be99a90554dd755623"
          }
        },
        "516dc77881db42d9a21f6dd0472c80ee": {
          "model_module": "@jupyter-widgets/controls",
          "model_name": "HTMLModel",
          "model_module_version": "1.5.0",
          "state": {
            "_dom_classes": [],
            "_model_module": "@jupyter-widgets/controls",
            "_model_module_version": "1.5.0",
            "_model_name": "HTMLModel",
            "_view_count": null,
            "_view_module": "@jupyter-widgets/controls",
            "_view_module_version": "1.5.0",
            "_view_name": "HTMLView",
            "description": "",
            "description_tooltip": null,
            "layout": "IPY_MODEL_8acd637f49f441d2a10c24e32570041b",
            "placeholder": "​",
            "style": "IPY_MODEL_aa5be6b9959d403b82e28eb3a28342c2",
            "value": "100%"
          }
        },
        "5f2a260908cd4f25a9f81feb8c1fe255": {
          "model_module": "@jupyter-widgets/controls",
          "model_name": "FloatProgressModel",
          "model_module_version": "1.5.0",
          "state": {
            "_dom_classes": [],
            "_model_module": "@jupyter-widgets/controls",
            "_model_module_version": "1.5.0",
            "_model_name": "FloatProgressModel",
            "_view_count": null,
            "_view_module": "@jupyter-widgets/controls",
            "_view_module_version": "1.5.0",
            "_view_name": "ProgressView",
            "bar_style": "success",
            "description": "",
            "description_tooltip": null,
            "layout": "IPY_MODEL_5165a75bf9c44c4aa02cbce4ed395458",
            "max": 10,
            "min": 0,
            "orientation": "horizontal",
            "style": "IPY_MODEL_75d111899c9a4f4087cd6e25f479a3cc",
            "value": 10
          }
        },
        "73642d78ca1a47f7b24be37f7756f77b": {
          "model_module": "@jupyter-widgets/controls",
          "model_name": "HTMLModel",
          "model_module_version": "1.5.0",
          "state": {
            "_dom_classes": [],
            "_model_module": "@jupyter-widgets/controls",
            "_model_module_version": "1.5.0",
            "_model_name": "HTMLModel",
            "_view_count": null,
            "_view_module": "@jupyter-widgets/controls",
            "_view_module_version": "1.5.0",
            "_view_name": "HTMLView",
            "description": "",
            "description_tooltip": null,
            "layout": "IPY_MODEL_7f8fc50f8878478bbd90abcd4b38dda4",
            "placeholder": "​",
            "style": "IPY_MODEL_35c0edb4bfd44c8db976f6e75bf0276b",
            "value": " 10/10 [06:25&lt;00:00, 38.62s/it]"
          }
        },
        "e90f114e603b42be99a90554dd755623": {
          "model_module": "@jupyter-widgets/base",
          "model_name": "LayoutModel",
          "model_module_version": "1.2.0",
          "state": {
            "_model_module": "@jupyter-widgets/base",
            "_model_module_version": "1.2.0",
            "_model_name": "LayoutModel",
            "_view_count": null,
            "_view_module": "@jupyter-widgets/base",
            "_view_module_version": "1.2.0",
            "_view_name": "LayoutView",
            "align_content": null,
            "align_items": null,
            "align_self": null,
            "border": null,
            "bottom": null,
            "display": null,
            "flex": null,
            "flex_flow": null,
            "grid_area": null,
            "grid_auto_columns": null,
            "grid_auto_flow": null,
            "grid_auto_rows": null,
            "grid_column": null,
            "grid_gap": null,
            "grid_row": null,
            "grid_template_areas": null,
            "grid_template_columns": null,
            "grid_template_rows": null,
            "height": null,
            "justify_content": null,
            "justify_items": null,
            "left": null,
            "margin": null,
            "max_height": null,
            "max_width": null,
            "min_height": null,
            "min_width": null,
            "object_fit": null,
            "object_position": null,
            "order": null,
            "overflow": null,
            "overflow_x": null,
            "overflow_y": null,
            "padding": null,
            "right": null,
            "top": null,
            "visibility": null,
            "width": null
          }
        },
        "8acd637f49f441d2a10c24e32570041b": {
          "model_module": "@jupyter-widgets/base",
          "model_name": "LayoutModel",
          "model_module_version": "1.2.0",
          "state": {
            "_model_module": "@jupyter-widgets/base",
            "_model_module_version": "1.2.0",
            "_model_name": "LayoutModel",
            "_view_count": null,
            "_view_module": "@jupyter-widgets/base",
            "_view_module_version": "1.2.0",
            "_view_name": "LayoutView",
            "align_content": null,
            "align_items": null,
            "align_self": null,
            "border": null,
            "bottom": null,
            "display": null,
            "flex": null,
            "flex_flow": null,
            "grid_area": null,
            "grid_auto_columns": null,
            "grid_auto_flow": null,
            "grid_auto_rows": null,
            "grid_column": null,
            "grid_gap": null,
            "grid_row": null,
            "grid_template_areas": null,
            "grid_template_columns": null,
            "grid_template_rows": null,
            "height": null,
            "justify_content": null,
            "justify_items": null,
            "left": null,
            "margin": null,
            "max_height": null,
            "max_width": null,
            "min_height": null,
            "min_width": null,
            "object_fit": null,
            "object_position": null,
            "order": null,
            "overflow": null,
            "overflow_x": null,
            "overflow_y": null,
            "padding": null,
            "right": null,
            "top": null,
            "visibility": null,
            "width": null
          }
        },
        "aa5be6b9959d403b82e28eb3a28342c2": {
          "model_module": "@jupyter-widgets/controls",
          "model_name": "DescriptionStyleModel",
          "model_module_version": "1.5.0",
          "state": {
            "_model_module": "@jupyter-widgets/controls",
            "_model_module_version": "1.5.0",
            "_model_name": "DescriptionStyleModel",
            "_view_count": null,
            "_view_module": "@jupyter-widgets/base",
            "_view_module_version": "1.2.0",
            "_view_name": "StyleView",
            "description_width": ""
          }
        },
        "5165a75bf9c44c4aa02cbce4ed395458": {
          "model_module": "@jupyter-widgets/base",
          "model_name": "LayoutModel",
          "model_module_version": "1.2.0",
          "state": {
            "_model_module": "@jupyter-widgets/base",
            "_model_module_version": "1.2.0",
            "_model_name": "LayoutModel",
            "_view_count": null,
            "_view_module": "@jupyter-widgets/base",
            "_view_module_version": "1.2.0",
            "_view_name": "LayoutView",
            "align_content": null,
            "align_items": null,
            "align_self": null,
            "border": null,
            "bottom": null,
            "display": null,
            "flex": null,
            "flex_flow": null,
            "grid_area": null,
            "grid_auto_columns": null,
            "grid_auto_flow": null,
            "grid_auto_rows": null,
            "grid_column": null,
            "grid_gap": null,
            "grid_row": null,
            "grid_template_areas": null,
            "grid_template_columns": null,
            "grid_template_rows": null,
            "height": null,
            "justify_content": null,
            "justify_items": null,
            "left": null,
            "margin": null,
            "max_height": null,
            "max_width": null,
            "min_height": null,
            "min_width": null,
            "object_fit": null,
            "object_position": null,
            "order": null,
            "overflow": null,
            "overflow_x": null,
            "overflow_y": null,
            "padding": null,
            "right": null,
            "top": null,
            "visibility": null,
            "width": null
          }
        },
        "75d111899c9a4f4087cd6e25f479a3cc": {
          "model_module": "@jupyter-widgets/controls",
          "model_name": "ProgressStyleModel",
          "model_module_version": "1.5.0",
          "state": {
            "_model_module": "@jupyter-widgets/controls",
            "_model_module_version": "1.5.0",
            "_model_name": "ProgressStyleModel",
            "_view_count": null,
            "_view_module": "@jupyter-widgets/base",
            "_view_module_version": "1.2.0",
            "_view_name": "StyleView",
            "bar_color": null,
            "description_width": ""
          }
        },
        "7f8fc50f8878478bbd90abcd4b38dda4": {
          "model_module": "@jupyter-widgets/base",
          "model_name": "LayoutModel",
          "model_module_version": "1.2.0",
          "state": {
            "_model_module": "@jupyter-widgets/base",
            "_model_module_version": "1.2.0",
            "_model_name": "LayoutModel",
            "_view_count": null,
            "_view_module": "@jupyter-widgets/base",
            "_view_module_version": "1.2.0",
            "_view_name": "LayoutView",
            "align_content": null,
            "align_items": null,
            "align_self": null,
            "border": null,
            "bottom": null,
            "display": null,
            "flex": null,
            "flex_flow": null,
            "grid_area": null,
            "grid_auto_columns": null,
            "grid_auto_flow": null,
            "grid_auto_rows": null,
            "grid_column": null,
            "grid_gap": null,
            "grid_row": null,
            "grid_template_areas": null,
            "grid_template_columns": null,
            "grid_template_rows": null,
            "height": null,
            "justify_content": null,
            "justify_items": null,
            "left": null,
            "margin": null,
            "max_height": null,
            "max_width": null,
            "min_height": null,
            "min_width": null,
            "object_fit": null,
            "object_position": null,
            "order": null,
            "overflow": null,
            "overflow_x": null,
            "overflow_y": null,
            "padding": null,
            "right": null,
            "top": null,
            "visibility": null,
            "width": null
          }
        },
        "35c0edb4bfd44c8db976f6e75bf0276b": {
          "model_module": "@jupyter-widgets/controls",
          "model_name": "DescriptionStyleModel",
          "model_module_version": "1.5.0",
          "state": {
            "_model_module": "@jupyter-widgets/controls",
            "_model_module_version": "1.5.0",
            "_model_name": "DescriptionStyleModel",
            "_view_count": null,
            "_view_module": "@jupyter-widgets/base",
            "_view_module_version": "1.2.0",
            "_view_name": "StyleView",
            "description_width": ""
          }
        },
        "e54818aaf9c644cdbd8ec510a92d93ad": {
          "model_module": "@jupyter-widgets/controls",
          "model_name": "HBoxModel",
          "model_module_version": "1.5.0",
          "state": {
            "_dom_classes": [],
            "_model_module": "@jupyter-widgets/controls",
            "_model_module_version": "1.5.0",
            "_model_name": "HBoxModel",
            "_view_count": null,
            "_view_module": "@jupyter-widgets/controls",
            "_view_module_version": "1.5.0",
            "_view_name": "HBoxView",
            "box_style": "",
            "children": [
              "IPY_MODEL_ebd6a41a10d54a69bb1beca1750de77d",
              "IPY_MODEL_f28017410c7d456ab19eb78383f3e69f",
              "IPY_MODEL_91f928652f6045ab8a0643f20fc7a8ec"
            ],
            "layout": "IPY_MODEL_55c9e8cbbaa64d11b6b6e0ef12d8a45a"
          }
        },
        "ebd6a41a10d54a69bb1beca1750de77d": {
          "model_module": "@jupyter-widgets/controls",
          "model_name": "HTMLModel",
          "model_module_version": "1.5.0",
          "state": {
            "_dom_classes": [],
            "_model_module": "@jupyter-widgets/controls",
            "_model_module_version": "1.5.0",
            "_model_name": "HTMLModel",
            "_view_count": null,
            "_view_module": "@jupyter-widgets/controls",
            "_view_module_version": "1.5.0",
            "_view_name": "HTMLView",
            "description": "",
            "description_tooltip": null,
            "layout": "IPY_MODEL_71144ffba5dc4236aca1b889f77195d7",
            "placeholder": "​",
            "style": "IPY_MODEL_8b6c041a01204936b4045b64ea896901",
            "value": "100%"
          }
        },
        "f28017410c7d456ab19eb78383f3e69f": {
          "model_module": "@jupyter-widgets/controls",
          "model_name": "FloatProgressModel",
          "model_module_version": "1.5.0",
          "state": {
            "_dom_classes": [],
            "_model_module": "@jupyter-widgets/controls",
            "_model_module_version": "1.5.0",
            "_model_name": "FloatProgressModel",
            "_view_count": null,
            "_view_module": "@jupyter-widgets/controls",
            "_view_module_version": "1.5.0",
            "_view_name": "ProgressView",
            "bar_style": "success",
            "description": "",
            "description_tooltip": null,
            "layout": "IPY_MODEL_7edfe105079f4e93ae51f73ecb80fbb9",
            "max": 10000,
            "min": 0,
            "orientation": "horizontal",
            "style": "IPY_MODEL_55b9d94f548d4e8580597c8b87e8d39e",
            "value": 10000
          }
        },
        "91f928652f6045ab8a0643f20fc7a8ec": {
          "model_module": "@jupyter-widgets/controls",
          "model_name": "HTMLModel",
          "model_module_version": "1.5.0",
          "state": {
            "_dom_classes": [],
            "_model_module": "@jupyter-widgets/controls",
            "_model_module_version": "1.5.0",
            "_model_name": "HTMLModel",
            "_view_count": null,
            "_view_module": "@jupyter-widgets/controls",
            "_view_module_version": "1.5.0",
            "_view_name": "HTMLView",
            "description": "",
            "description_tooltip": null,
            "layout": "IPY_MODEL_2ebc9f6511f34cd9aeec5813352218f0",
            "placeholder": "​",
            "style": "IPY_MODEL_9072e9c989914f26980cd44e98e8b29f",
            "value": " 10000/10000 [00:06&lt;00:00, 1500.14it/s]"
          }
        },
        "55c9e8cbbaa64d11b6b6e0ef12d8a45a": {
          "model_module": "@jupyter-widgets/base",
          "model_name": "LayoutModel",
          "model_module_version": "1.2.0",
          "state": {
            "_model_module": "@jupyter-widgets/base",
            "_model_module_version": "1.2.0",
            "_model_name": "LayoutModel",
            "_view_count": null,
            "_view_module": "@jupyter-widgets/base",
            "_view_module_version": "1.2.0",
            "_view_name": "LayoutView",
            "align_content": null,
            "align_items": null,
            "align_self": null,
            "border": null,
            "bottom": null,
            "display": null,
            "flex": null,
            "flex_flow": null,
            "grid_area": null,
            "grid_auto_columns": null,
            "grid_auto_flow": null,
            "grid_auto_rows": null,
            "grid_column": null,
            "grid_gap": null,
            "grid_row": null,
            "grid_template_areas": null,
            "grid_template_columns": null,
            "grid_template_rows": null,
            "height": null,
            "justify_content": null,
            "justify_items": null,
            "left": null,
            "margin": null,
            "max_height": null,
            "max_width": null,
            "min_height": null,
            "min_width": null,
            "object_fit": null,
            "object_position": null,
            "order": null,
            "overflow": null,
            "overflow_x": null,
            "overflow_y": null,
            "padding": null,
            "right": null,
            "top": null,
            "visibility": null,
            "width": null
          }
        },
        "71144ffba5dc4236aca1b889f77195d7": {
          "model_module": "@jupyter-widgets/base",
          "model_name": "LayoutModel",
          "model_module_version": "1.2.0",
          "state": {
            "_model_module": "@jupyter-widgets/base",
            "_model_module_version": "1.2.0",
            "_model_name": "LayoutModel",
            "_view_count": null,
            "_view_module": "@jupyter-widgets/base",
            "_view_module_version": "1.2.0",
            "_view_name": "LayoutView",
            "align_content": null,
            "align_items": null,
            "align_self": null,
            "border": null,
            "bottom": null,
            "display": null,
            "flex": null,
            "flex_flow": null,
            "grid_area": null,
            "grid_auto_columns": null,
            "grid_auto_flow": null,
            "grid_auto_rows": null,
            "grid_column": null,
            "grid_gap": null,
            "grid_row": null,
            "grid_template_areas": null,
            "grid_template_columns": null,
            "grid_template_rows": null,
            "height": null,
            "justify_content": null,
            "justify_items": null,
            "left": null,
            "margin": null,
            "max_height": null,
            "max_width": null,
            "min_height": null,
            "min_width": null,
            "object_fit": null,
            "object_position": null,
            "order": null,
            "overflow": null,
            "overflow_x": null,
            "overflow_y": null,
            "padding": null,
            "right": null,
            "top": null,
            "visibility": null,
            "width": null
          }
        },
        "8b6c041a01204936b4045b64ea896901": {
          "model_module": "@jupyter-widgets/controls",
          "model_name": "DescriptionStyleModel",
          "model_module_version": "1.5.0",
          "state": {
            "_model_module": "@jupyter-widgets/controls",
            "_model_module_version": "1.5.0",
            "_model_name": "DescriptionStyleModel",
            "_view_count": null,
            "_view_module": "@jupyter-widgets/base",
            "_view_module_version": "1.2.0",
            "_view_name": "StyleView",
            "description_width": ""
          }
        },
        "7edfe105079f4e93ae51f73ecb80fbb9": {
          "model_module": "@jupyter-widgets/base",
          "model_name": "LayoutModel",
          "model_module_version": "1.2.0",
          "state": {
            "_model_module": "@jupyter-widgets/base",
            "_model_module_version": "1.2.0",
            "_model_name": "LayoutModel",
            "_view_count": null,
            "_view_module": "@jupyter-widgets/base",
            "_view_module_version": "1.2.0",
            "_view_name": "LayoutView",
            "align_content": null,
            "align_items": null,
            "align_self": null,
            "border": null,
            "bottom": null,
            "display": null,
            "flex": null,
            "flex_flow": null,
            "grid_area": null,
            "grid_auto_columns": null,
            "grid_auto_flow": null,
            "grid_auto_rows": null,
            "grid_column": null,
            "grid_gap": null,
            "grid_row": null,
            "grid_template_areas": null,
            "grid_template_columns": null,
            "grid_template_rows": null,
            "height": null,
            "justify_content": null,
            "justify_items": null,
            "left": null,
            "margin": null,
            "max_height": null,
            "max_width": null,
            "min_height": null,
            "min_width": null,
            "object_fit": null,
            "object_position": null,
            "order": null,
            "overflow": null,
            "overflow_x": null,
            "overflow_y": null,
            "padding": null,
            "right": null,
            "top": null,
            "visibility": null,
            "width": null
          }
        },
        "55b9d94f548d4e8580597c8b87e8d39e": {
          "model_module": "@jupyter-widgets/controls",
          "model_name": "ProgressStyleModel",
          "model_module_version": "1.5.0",
          "state": {
            "_model_module": "@jupyter-widgets/controls",
            "_model_module_version": "1.5.0",
            "_model_name": "ProgressStyleModel",
            "_view_count": null,
            "_view_module": "@jupyter-widgets/base",
            "_view_module_version": "1.2.0",
            "_view_name": "StyleView",
            "bar_color": null,
            "description_width": ""
          }
        },
        "2ebc9f6511f34cd9aeec5813352218f0": {
          "model_module": "@jupyter-widgets/base",
          "model_name": "LayoutModel",
          "model_module_version": "1.2.0",
          "state": {
            "_model_module": "@jupyter-widgets/base",
            "_model_module_version": "1.2.0",
            "_model_name": "LayoutModel",
            "_view_count": null,
            "_view_module": "@jupyter-widgets/base",
            "_view_module_version": "1.2.0",
            "_view_name": "LayoutView",
            "align_content": null,
            "align_items": null,
            "align_self": null,
            "border": null,
            "bottom": null,
            "display": null,
            "flex": null,
            "flex_flow": null,
            "grid_area": null,
            "grid_auto_columns": null,
            "grid_auto_flow": null,
            "grid_auto_rows": null,
            "grid_column": null,
            "grid_gap": null,
            "grid_row": null,
            "grid_template_areas": null,
            "grid_template_columns": null,
            "grid_template_rows": null,
            "height": null,
            "justify_content": null,
            "justify_items": null,
            "left": null,
            "margin": null,
            "max_height": null,
            "max_width": null,
            "min_height": null,
            "min_width": null,
            "object_fit": null,
            "object_position": null,
            "order": null,
            "overflow": null,
            "overflow_x": null,
            "overflow_y": null,
            "padding": null,
            "right": null,
            "top": null,
            "visibility": null,
            "width": null
          }
        },
        "9072e9c989914f26980cd44e98e8b29f": {
          "model_module": "@jupyter-widgets/controls",
          "model_name": "DescriptionStyleModel",
          "model_module_version": "1.5.0",
          "state": {
            "_model_module": "@jupyter-widgets/controls",
            "_model_module_version": "1.5.0",
            "_model_name": "DescriptionStyleModel",
            "_view_count": null,
            "_view_module": "@jupyter-widgets/base",
            "_view_module_version": "1.2.0",
            "_view_name": "StyleView",
            "description_width": ""
          }
        },
        "05e0c5a5726d4ab88932a77a1870ab10": {
          "model_module": "@jupyter-widgets/controls",
          "model_name": "HBoxModel",
          "model_module_version": "1.5.0",
          "state": {
            "_dom_classes": [],
            "_model_module": "@jupyter-widgets/controls",
            "_model_module_version": "1.5.0",
            "_model_name": "HBoxModel",
            "_view_count": null,
            "_view_module": "@jupyter-widgets/controls",
            "_view_module_version": "1.5.0",
            "_view_name": "HBoxView",
            "box_style": "",
            "children": [
              "IPY_MODEL_01c39bcf710e484a84eab9e4585dbe4e",
              "IPY_MODEL_8c9fdee2a05d4a4391139c0a33358c4e",
              "IPY_MODEL_2947c0811d41469fb860071b28b3fe44"
            ],
            "layout": "IPY_MODEL_54104fa6517b4a4783795d42b6498bae"
          }
        },
        "01c39bcf710e484a84eab9e4585dbe4e": {
          "model_module": "@jupyter-widgets/controls",
          "model_name": "HTMLModel",
          "model_module_version": "1.5.0",
          "state": {
            "_dom_classes": [],
            "_model_module": "@jupyter-widgets/controls",
            "_model_module_version": "1.5.0",
            "_model_name": "HTMLModel",
            "_view_count": null,
            "_view_module": "@jupyter-widgets/controls",
            "_view_module_version": "1.5.0",
            "_view_name": "HTMLView",
            "description": "",
            "description_tooltip": null,
            "layout": "IPY_MODEL_d795ba5ac4da4b369bd7ca45451e6679",
            "placeholder": "​",
            "style": "IPY_MODEL_bd583d2be19d4ffcb501b9bfc0bebee1",
            "value": "100%"
          }
        },
        "8c9fdee2a05d4a4391139c0a33358c4e": {
          "model_module": "@jupyter-widgets/controls",
          "model_name": "FloatProgressModel",
          "model_module_version": "1.5.0",
          "state": {
            "_dom_classes": [],
            "_model_module": "@jupyter-widgets/controls",
            "_model_module_version": "1.5.0",
            "_model_name": "FloatProgressModel",
            "_view_count": null,
            "_view_module": "@jupyter-widgets/controls",
            "_view_module_version": "1.5.0",
            "_view_name": "ProgressView",
            "bar_style": "success",
            "description": "",
            "description_tooltip": null,
            "layout": "IPY_MODEL_f56edd7d019345b8a50bf28ac05266d7",
            "max": 10000,
            "min": 0,
            "orientation": "horizontal",
            "style": "IPY_MODEL_fc65f9132972417b8f8706902a2bd7f2",
            "value": 10000
          }
        },
        "2947c0811d41469fb860071b28b3fe44": {
          "model_module": "@jupyter-widgets/controls",
          "model_name": "HTMLModel",
          "model_module_version": "1.5.0",
          "state": {
            "_dom_classes": [],
            "_model_module": "@jupyter-widgets/controls",
            "_model_module_version": "1.5.0",
            "_model_name": "HTMLModel",
            "_view_count": null,
            "_view_module": "@jupyter-widgets/controls",
            "_view_module_version": "1.5.0",
            "_view_name": "HTMLView",
            "description": "",
            "description_tooltip": null,
            "layout": "IPY_MODEL_c0cfdfaf22344b00a95a006dc3f2f640",
            "placeholder": "​",
            "style": "IPY_MODEL_e90e2f5099af4aedba32a602dd6e08c0",
            "value": " 10000/10000 [00:08&lt;00:00, 1228.53it/s]"
          }
        },
        "54104fa6517b4a4783795d42b6498bae": {
          "model_module": "@jupyter-widgets/base",
          "model_name": "LayoutModel",
          "model_module_version": "1.2.0",
          "state": {
            "_model_module": "@jupyter-widgets/base",
            "_model_module_version": "1.2.0",
            "_model_name": "LayoutModel",
            "_view_count": null,
            "_view_module": "@jupyter-widgets/base",
            "_view_module_version": "1.2.0",
            "_view_name": "LayoutView",
            "align_content": null,
            "align_items": null,
            "align_self": null,
            "border": null,
            "bottom": null,
            "display": null,
            "flex": null,
            "flex_flow": null,
            "grid_area": null,
            "grid_auto_columns": null,
            "grid_auto_flow": null,
            "grid_auto_rows": null,
            "grid_column": null,
            "grid_gap": null,
            "grid_row": null,
            "grid_template_areas": null,
            "grid_template_columns": null,
            "grid_template_rows": null,
            "height": null,
            "justify_content": null,
            "justify_items": null,
            "left": null,
            "margin": null,
            "max_height": null,
            "max_width": null,
            "min_height": null,
            "min_width": null,
            "object_fit": null,
            "object_position": null,
            "order": null,
            "overflow": null,
            "overflow_x": null,
            "overflow_y": null,
            "padding": null,
            "right": null,
            "top": null,
            "visibility": null,
            "width": null
          }
        },
        "d795ba5ac4da4b369bd7ca45451e6679": {
          "model_module": "@jupyter-widgets/base",
          "model_name": "LayoutModel",
          "model_module_version": "1.2.0",
          "state": {
            "_model_module": "@jupyter-widgets/base",
            "_model_module_version": "1.2.0",
            "_model_name": "LayoutModel",
            "_view_count": null,
            "_view_module": "@jupyter-widgets/base",
            "_view_module_version": "1.2.0",
            "_view_name": "LayoutView",
            "align_content": null,
            "align_items": null,
            "align_self": null,
            "border": null,
            "bottom": null,
            "display": null,
            "flex": null,
            "flex_flow": null,
            "grid_area": null,
            "grid_auto_columns": null,
            "grid_auto_flow": null,
            "grid_auto_rows": null,
            "grid_column": null,
            "grid_gap": null,
            "grid_row": null,
            "grid_template_areas": null,
            "grid_template_columns": null,
            "grid_template_rows": null,
            "height": null,
            "justify_content": null,
            "justify_items": null,
            "left": null,
            "margin": null,
            "max_height": null,
            "max_width": null,
            "min_height": null,
            "min_width": null,
            "object_fit": null,
            "object_position": null,
            "order": null,
            "overflow": null,
            "overflow_x": null,
            "overflow_y": null,
            "padding": null,
            "right": null,
            "top": null,
            "visibility": null,
            "width": null
          }
        },
        "bd583d2be19d4ffcb501b9bfc0bebee1": {
          "model_module": "@jupyter-widgets/controls",
          "model_name": "DescriptionStyleModel",
          "model_module_version": "1.5.0",
          "state": {
            "_model_module": "@jupyter-widgets/controls",
            "_model_module_version": "1.5.0",
            "_model_name": "DescriptionStyleModel",
            "_view_count": null,
            "_view_module": "@jupyter-widgets/base",
            "_view_module_version": "1.2.0",
            "_view_name": "StyleView",
            "description_width": ""
          }
        },
        "f56edd7d019345b8a50bf28ac05266d7": {
          "model_module": "@jupyter-widgets/base",
          "model_name": "LayoutModel",
          "model_module_version": "1.2.0",
          "state": {
            "_model_module": "@jupyter-widgets/base",
            "_model_module_version": "1.2.0",
            "_model_name": "LayoutModel",
            "_view_count": null,
            "_view_module": "@jupyter-widgets/base",
            "_view_module_version": "1.2.0",
            "_view_name": "LayoutView",
            "align_content": null,
            "align_items": null,
            "align_self": null,
            "border": null,
            "bottom": null,
            "display": null,
            "flex": null,
            "flex_flow": null,
            "grid_area": null,
            "grid_auto_columns": null,
            "grid_auto_flow": null,
            "grid_auto_rows": null,
            "grid_column": null,
            "grid_gap": null,
            "grid_row": null,
            "grid_template_areas": null,
            "grid_template_columns": null,
            "grid_template_rows": null,
            "height": null,
            "justify_content": null,
            "justify_items": null,
            "left": null,
            "margin": null,
            "max_height": null,
            "max_width": null,
            "min_height": null,
            "min_width": null,
            "object_fit": null,
            "object_position": null,
            "order": null,
            "overflow": null,
            "overflow_x": null,
            "overflow_y": null,
            "padding": null,
            "right": null,
            "top": null,
            "visibility": null,
            "width": null
          }
        },
        "fc65f9132972417b8f8706902a2bd7f2": {
          "model_module": "@jupyter-widgets/controls",
          "model_name": "ProgressStyleModel",
          "model_module_version": "1.5.0",
          "state": {
            "_model_module": "@jupyter-widgets/controls",
            "_model_module_version": "1.5.0",
            "_model_name": "ProgressStyleModel",
            "_view_count": null,
            "_view_module": "@jupyter-widgets/base",
            "_view_module_version": "1.2.0",
            "_view_name": "StyleView",
            "bar_color": null,
            "description_width": ""
          }
        },
        "c0cfdfaf22344b00a95a006dc3f2f640": {
          "model_module": "@jupyter-widgets/base",
          "model_name": "LayoutModel",
          "model_module_version": "1.2.0",
          "state": {
            "_model_module": "@jupyter-widgets/base",
            "_model_module_version": "1.2.0",
            "_model_name": "LayoutModel",
            "_view_count": null,
            "_view_module": "@jupyter-widgets/base",
            "_view_module_version": "1.2.0",
            "_view_name": "LayoutView",
            "align_content": null,
            "align_items": null,
            "align_self": null,
            "border": null,
            "bottom": null,
            "display": null,
            "flex": null,
            "flex_flow": null,
            "grid_area": null,
            "grid_auto_columns": null,
            "grid_auto_flow": null,
            "grid_auto_rows": null,
            "grid_column": null,
            "grid_gap": null,
            "grid_row": null,
            "grid_template_areas": null,
            "grid_template_columns": null,
            "grid_template_rows": null,
            "height": null,
            "justify_content": null,
            "justify_items": null,
            "left": null,
            "margin": null,
            "max_height": null,
            "max_width": null,
            "min_height": null,
            "min_width": null,
            "object_fit": null,
            "object_position": null,
            "order": null,
            "overflow": null,
            "overflow_x": null,
            "overflow_y": null,
            "padding": null,
            "right": null,
            "top": null,
            "visibility": null,
            "width": null
          }
        },
        "e90e2f5099af4aedba32a602dd6e08c0": {
          "model_module": "@jupyter-widgets/controls",
          "model_name": "DescriptionStyleModel",
          "model_module_version": "1.5.0",
          "state": {
            "_model_module": "@jupyter-widgets/controls",
            "_model_module_version": "1.5.0",
            "_model_name": "DescriptionStyleModel",
            "_view_count": null,
            "_view_module": "@jupyter-widgets/base",
            "_view_module_version": "1.2.0",
            "_view_name": "StyleView",
            "description_width": ""
          }
        },
        "8ea640d71efc4971a54c8908af65c06f": {
          "model_module": "@jupyter-widgets/controls",
          "model_name": "HBoxModel",
          "model_module_version": "1.5.0",
          "state": {
            "_dom_classes": [],
            "_model_module": "@jupyter-widgets/controls",
            "_model_module_version": "1.5.0",
            "_model_name": "HBoxModel",
            "_view_count": null,
            "_view_module": "@jupyter-widgets/controls",
            "_view_module_version": "1.5.0",
            "_view_name": "HBoxView",
            "box_style": "",
            "children": [
              "IPY_MODEL_096cc64f5ea94d5d81995be428af1d3b",
              "IPY_MODEL_0d88dc569e014597a2fa0e2e83bae292",
              "IPY_MODEL_d32bcf957c0d40acb24e1fb2a5cc0025"
            ],
            "layout": "IPY_MODEL_c07dbf98916d4c5e904ba0391c03332a"
          }
        },
        "096cc64f5ea94d5d81995be428af1d3b": {
          "model_module": "@jupyter-widgets/controls",
          "model_name": "HTMLModel",
          "model_module_version": "1.5.0",
          "state": {
            "_dom_classes": [],
            "_model_module": "@jupyter-widgets/controls",
            "_model_module_version": "1.5.0",
            "_model_name": "HTMLModel",
            "_view_count": null,
            "_view_module": "@jupyter-widgets/controls",
            "_view_module_version": "1.5.0",
            "_view_name": "HTMLView",
            "description": "",
            "description_tooltip": null,
            "layout": "IPY_MODEL_6d7cd362bba34d17b666afbc708aa178",
            "placeholder": "​",
            "style": "IPY_MODEL_2aa30ba645a240cd88445281cc9786fa",
            "value": "100%"
          }
        },
        "0d88dc569e014597a2fa0e2e83bae292": {
          "model_module": "@jupyter-widgets/controls",
          "model_name": "FloatProgressModel",
          "model_module_version": "1.5.0",
          "state": {
            "_dom_classes": [],
            "_model_module": "@jupyter-widgets/controls",
            "_model_module_version": "1.5.0",
            "_model_name": "FloatProgressModel",
            "_view_count": null,
            "_view_module": "@jupyter-widgets/controls",
            "_view_module_version": "1.5.0",
            "_view_name": "ProgressView",
            "bar_style": "success",
            "description": "",
            "description_tooltip": null,
            "layout": "IPY_MODEL_461e4087a2aa41548ddf73f953ef39ed",
            "max": 10000,
            "min": 0,
            "orientation": "horizontal",
            "style": "IPY_MODEL_697e5d4ac4fc43c7b350cd201adc2c1a",
            "value": 10000
          }
        },
        "d32bcf957c0d40acb24e1fb2a5cc0025": {
          "model_module": "@jupyter-widgets/controls",
          "model_name": "HTMLModel",
          "model_module_version": "1.5.0",
          "state": {
            "_dom_classes": [],
            "_model_module": "@jupyter-widgets/controls",
            "_model_module_version": "1.5.0",
            "_model_name": "HTMLModel",
            "_view_count": null,
            "_view_module": "@jupyter-widgets/controls",
            "_view_module_version": "1.5.0",
            "_view_name": "HTMLView",
            "description": "",
            "description_tooltip": null,
            "layout": "IPY_MODEL_80b4e42e60bb4e4198d4b16e446b530b",
            "placeholder": "​",
            "style": "IPY_MODEL_863e0d0792f740aaba2ceed0659d96f7",
            "value": " 10000/10000 [00:11&lt;00:00, 908.89it/s]"
          }
        },
        "c07dbf98916d4c5e904ba0391c03332a": {
          "model_module": "@jupyter-widgets/base",
          "model_name": "LayoutModel",
          "model_module_version": "1.2.0",
          "state": {
            "_model_module": "@jupyter-widgets/base",
            "_model_module_version": "1.2.0",
            "_model_name": "LayoutModel",
            "_view_count": null,
            "_view_module": "@jupyter-widgets/base",
            "_view_module_version": "1.2.0",
            "_view_name": "LayoutView",
            "align_content": null,
            "align_items": null,
            "align_self": null,
            "border": null,
            "bottom": null,
            "display": null,
            "flex": null,
            "flex_flow": null,
            "grid_area": null,
            "grid_auto_columns": null,
            "grid_auto_flow": null,
            "grid_auto_rows": null,
            "grid_column": null,
            "grid_gap": null,
            "grid_row": null,
            "grid_template_areas": null,
            "grid_template_columns": null,
            "grid_template_rows": null,
            "height": null,
            "justify_content": null,
            "justify_items": null,
            "left": null,
            "margin": null,
            "max_height": null,
            "max_width": null,
            "min_height": null,
            "min_width": null,
            "object_fit": null,
            "object_position": null,
            "order": null,
            "overflow": null,
            "overflow_x": null,
            "overflow_y": null,
            "padding": null,
            "right": null,
            "top": null,
            "visibility": null,
            "width": null
          }
        },
        "6d7cd362bba34d17b666afbc708aa178": {
          "model_module": "@jupyter-widgets/base",
          "model_name": "LayoutModel",
          "model_module_version": "1.2.0",
          "state": {
            "_model_module": "@jupyter-widgets/base",
            "_model_module_version": "1.2.0",
            "_model_name": "LayoutModel",
            "_view_count": null,
            "_view_module": "@jupyter-widgets/base",
            "_view_module_version": "1.2.0",
            "_view_name": "LayoutView",
            "align_content": null,
            "align_items": null,
            "align_self": null,
            "border": null,
            "bottom": null,
            "display": null,
            "flex": null,
            "flex_flow": null,
            "grid_area": null,
            "grid_auto_columns": null,
            "grid_auto_flow": null,
            "grid_auto_rows": null,
            "grid_column": null,
            "grid_gap": null,
            "grid_row": null,
            "grid_template_areas": null,
            "grid_template_columns": null,
            "grid_template_rows": null,
            "height": null,
            "justify_content": null,
            "justify_items": null,
            "left": null,
            "margin": null,
            "max_height": null,
            "max_width": null,
            "min_height": null,
            "min_width": null,
            "object_fit": null,
            "object_position": null,
            "order": null,
            "overflow": null,
            "overflow_x": null,
            "overflow_y": null,
            "padding": null,
            "right": null,
            "top": null,
            "visibility": null,
            "width": null
          }
        },
        "2aa30ba645a240cd88445281cc9786fa": {
          "model_module": "@jupyter-widgets/controls",
          "model_name": "DescriptionStyleModel",
          "model_module_version": "1.5.0",
          "state": {
            "_model_module": "@jupyter-widgets/controls",
            "_model_module_version": "1.5.0",
            "_model_name": "DescriptionStyleModel",
            "_view_count": null,
            "_view_module": "@jupyter-widgets/base",
            "_view_module_version": "1.2.0",
            "_view_name": "StyleView",
            "description_width": ""
          }
        },
        "461e4087a2aa41548ddf73f953ef39ed": {
          "model_module": "@jupyter-widgets/base",
          "model_name": "LayoutModel",
          "model_module_version": "1.2.0",
          "state": {
            "_model_module": "@jupyter-widgets/base",
            "_model_module_version": "1.2.0",
            "_model_name": "LayoutModel",
            "_view_count": null,
            "_view_module": "@jupyter-widgets/base",
            "_view_module_version": "1.2.0",
            "_view_name": "LayoutView",
            "align_content": null,
            "align_items": null,
            "align_self": null,
            "border": null,
            "bottom": null,
            "display": null,
            "flex": null,
            "flex_flow": null,
            "grid_area": null,
            "grid_auto_columns": null,
            "grid_auto_flow": null,
            "grid_auto_rows": null,
            "grid_column": null,
            "grid_gap": null,
            "grid_row": null,
            "grid_template_areas": null,
            "grid_template_columns": null,
            "grid_template_rows": null,
            "height": null,
            "justify_content": null,
            "justify_items": null,
            "left": null,
            "margin": null,
            "max_height": null,
            "max_width": null,
            "min_height": null,
            "min_width": null,
            "object_fit": null,
            "object_position": null,
            "order": null,
            "overflow": null,
            "overflow_x": null,
            "overflow_y": null,
            "padding": null,
            "right": null,
            "top": null,
            "visibility": null,
            "width": null
          }
        },
        "697e5d4ac4fc43c7b350cd201adc2c1a": {
          "model_module": "@jupyter-widgets/controls",
          "model_name": "ProgressStyleModel",
          "model_module_version": "1.5.0",
          "state": {
            "_model_module": "@jupyter-widgets/controls",
            "_model_module_version": "1.5.0",
            "_model_name": "ProgressStyleModel",
            "_view_count": null,
            "_view_module": "@jupyter-widgets/base",
            "_view_module_version": "1.2.0",
            "_view_name": "StyleView",
            "bar_color": null,
            "description_width": ""
          }
        },
        "80b4e42e60bb4e4198d4b16e446b530b": {
          "model_module": "@jupyter-widgets/base",
          "model_name": "LayoutModel",
          "model_module_version": "1.2.0",
          "state": {
            "_model_module": "@jupyter-widgets/base",
            "_model_module_version": "1.2.0",
            "_model_name": "LayoutModel",
            "_view_count": null,
            "_view_module": "@jupyter-widgets/base",
            "_view_module_version": "1.2.0",
            "_view_name": "LayoutView",
            "align_content": null,
            "align_items": null,
            "align_self": null,
            "border": null,
            "bottom": null,
            "display": null,
            "flex": null,
            "flex_flow": null,
            "grid_area": null,
            "grid_auto_columns": null,
            "grid_auto_flow": null,
            "grid_auto_rows": null,
            "grid_column": null,
            "grid_gap": null,
            "grid_row": null,
            "grid_template_areas": null,
            "grid_template_columns": null,
            "grid_template_rows": null,
            "height": null,
            "justify_content": null,
            "justify_items": null,
            "left": null,
            "margin": null,
            "max_height": null,
            "max_width": null,
            "min_height": null,
            "min_width": null,
            "object_fit": null,
            "object_position": null,
            "order": null,
            "overflow": null,
            "overflow_x": null,
            "overflow_y": null,
            "padding": null,
            "right": null,
            "top": null,
            "visibility": null,
            "width": null
          }
        },
        "863e0d0792f740aaba2ceed0659d96f7": {
          "model_module": "@jupyter-widgets/controls",
          "model_name": "DescriptionStyleModel",
          "model_module_version": "1.5.0",
          "state": {
            "_model_module": "@jupyter-widgets/controls",
            "_model_module_version": "1.5.0",
            "_model_name": "DescriptionStyleModel",
            "_view_count": null,
            "_view_module": "@jupyter-widgets/base",
            "_view_module_version": "1.2.0",
            "_view_name": "StyleView",
            "description_width": ""
          }
        }
      }
    }
  },
  "nbformat": 4,
  "nbformat_minor": 0
}